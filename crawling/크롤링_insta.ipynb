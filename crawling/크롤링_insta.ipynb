{
 "cells": [
  {
   "cell_type": "code",
   "execution_count": 1,
   "id": "dominican-interview",
   "metadata": {},
   "outputs": [],
   "source": [
    "from selenium import webdriver\n",
    "import time \n",
    "import pandas as pd \n",
    "\n",
    "import re\n",
    "from bs4 import BeautifulSoup"
   ]
  },
  {
   "cell_type": "code",
   "execution_count": 2,
   "id": "loose-grammar",
   "metadata": {
    "scrolled": true
   },
   "outputs": [
    {
     "name": "stderr",
     "output_type": "stream",
     "text": [
      "<ipython-input-2-4a8c5fa8fbd9>:1: DeprecationWarning: executable_path has been deprecated, please pass in a Service object\n",
      "  driver = webdriver.Chrome('/Users/parkjuhyeon/chromedriver')\n"
     ]
    }
   ],
   "source": [
    "driver = webdriver.Chrome('/Users/parkjuhyeon/chromedriver')\n",
    "driver.get(\"https://www.instagram.com/accounts/login/\")"
   ]
  },
  {
   "cell_type": "code",
   "execution_count": 3,
   "id": "complete-potential",
   "metadata": {
    "scrolled": true
   },
   "outputs": [
    {
     "name": "stderr",
     "output_type": "stream",
     "text": [
      "<ipython-input-3-82f03cf89ec5>:6: DeprecationWarning: find_element_by_* commands are deprecated. Please use find_element() instead\n",
      "  _id = driver.find_element_by_name('username')  #페이지에서 'username'이라는 곳을 찾아옴\n",
      "<ipython-input-3-82f03cf89ec5>:10: DeprecationWarning: find_element_by_* commands are deprecated. Please use find_element() instead\n",
      "  _password = driver.find_element_by_name('password')  #페이지에서 'password'라는 곳을 찾아옴\n",
      "<ipython-input-3-82f03cf89ec5>:14: DeprecationWarning: find_element_by_* commands are deprecated. Please use find_element() instead\n",
      "  login_button = driver.find_element_by_css_selector('.sqdOP.L3NKy.y3zKF').click()  # 로그인 버튼 누르기\n"
     ]
    }
   ],
   "source": [
    "#입력된 아이디와 비밀번호 입력\n",
    "\n",
    "instagram_id = 'pjh87668766@daum.net' #로그인할 아이디\n",
    "instagram_pw = 'jh74347055'  #로그인할 비밀번호\n",
    "\n",
    "_id = driver.find_element_by_name('username')  #페이지에서 'username'이라는 곳을 찾아옴\n",
    "_id.send_keys(instagram_id)\n",
    "time.sleep(2)\n",
    "\n",
    "_password = driver.find_element_by_name('password')  #페이지에서 'password'라는 곳을 찾아옴\n",
    "_password.send_keys(instagram_pw)\n",
    "time.sleep(2)\n",
    "\n",
    "login_button = driver.find_element_by_css_selector('.sqdOP.L3NKy.y3zKF').click()  # 로그인 버튼 누르기\n",
    "time.sleep(3) "
   ]
  },
  {
   "cell_type": "code",
   "execution_count": 4,
   "id": "veterinary-greeting",
   "metadata": {},
   "outputs": [],
   "source": [
    "#원하는 키워드를 검색하고, 해당 태그를 검색해서 페이지 출력\n",
    "\n",
    "_keyword = '공예'  #검색할 키워드 입력\n",
    "driver.get('https://www.instagram.com/explore/tags/' + _keyword + '/')"
   ]
  },
  {
   "cell_type": "code",
   "execution_count": 5,
   "id": "suspected-madison",
   "metadata": {
    "scrolled": true
   },
   "outputs": [
    {
     "name": "stderr",
     "output_type": "stream",
     "text": [
      "<ipython-input-5-7d6af0b44f96>:9: DeprecationWarning: find_element_by_* commands are deprecated. Please use find_element() instead\n",
      "  first_post = driver.find_element_by_css_selector('div.v1Nh3.kIKUG._bz0w')\n"
     ]
    }
   ],
   "source": [
    "#데이터를 저장할 Dictionary 생성하고, 검색결과 중 처음 게시물 열기\n",
    "insta_dict = {'id':[],\n",
    "              'date': [],\n",
    "              'like': [],\n",
    "              'text': [],\n",
    "              'hashtag':[]}\n",
    "\n",
    "\n",
    "first_post = driver.find_element_by_css_selector('div.v1Nh3.kIKUG._bz0w')\n",
    "first_post.click()\n",
    "time.sleep(5)"
   ]
  },
  {
   "cell_type": "code",
   "execution_count": 6,
   "id": "revised-arthritis",
   "metadata": {
    "scrolled": true
   },
   "outputs": [
    {
     "name": "stderr",
     "output_type": "stream",
     "text": [
      "<ipython-input-6-b97a959244b2>:6: DeprecationWarning: find_element_by_* commands are deprecated. Please use find_element() instead\n",
      "  if driver.find_element_by_css_selector('body > div._2dDPU.QPGbb.CkGkG > div.EfHg9 > div > div > div.l8mY4.feth3 > button'):\n",
      "<ipython-input-6-b97a959244b2>:13: DeprecationWarning: find_element_by_* commands are deprecated. Please use find_element() instead\n",
      "  info_id = driver.find_element_by_css_selector('h2._6lAjh').text\n",
      "<ipython-input-6-b97a959244b2>:21: DeprecationWarning: find_element_by_* commands are deprecated. Please use find_element() instead\n",
      "  time_raw = driver.find_element_by_css_selector('time.FH9sR.Nzb55')\n",
      "<ipython-input-6-b97a959244b2>:28: DeprecationWarning: find_element_by_* commands are deprecated. Please use find_element() instead\n",
      "  driver.find_element_by_css_selector('body > div._2dDPU.QPGbb.CkGkG > div._32yJO > div > article > div > div.HP0qD > div > div > div.eo2As > section.EDfFK.ygqzn > div > div > a > span')\n",
      "<ipython-input-6-b97a959244b2>:29: DeprecationWarning: find_element_by_* commands are deprecated. Please use find_element() instead\n",
      "  like = driver.find_element_by_css_selector('body > div._2dDPU.QPGbb.CkGkG > div._32yJO > div > article > div > div.HP0qD > div > div > div.eo2As > section.EDfFK.ygqzn > div > div > a > span').text\n",
      "<ipython-input-6-b97a959244b2>:36: DeprecationWarning: find_element_by_* commands are deprecated. Please use find_element() instead\n",
      "  raw_info = driver.find_element_by_css_selector('div.C4VMK').text.split()\n",
      "<ipython-input-6-b97a959244b2>:53: DeprecationWarning: find_elements_by_* commands are deprecated. Please use find_elements() instead\n",
      "  raw_tags = driver.find_elements_by_css_selector('a.xil3i')\n"
     ]
    },
    {
     "name": "stdout",
     "output_type": "stream",
     "text": [
      "0번째 수집 중\t0.020776987075805664\n"
     ]
    },
    {
     "name": "stderr",
     "output_type": "stream",
     "text": [
      "<ipython-input-6-b97a959244b2>:68: DeprecationWarning: find_element_by_* commands are deprecated. Please use find_element() instead\n",
      "  driver.find_element_by_css_selector('body > div._2dDPU.QPGbb.CkGkG > div.EfHg9 > div > div > div.l8mY4.feth3 > button').click()\n"
     ]
    },
    {
     "name": "stdout",
     "output_type": "stream",
     "text": [
      "20번째 수집 중\t85.4074649810791\n",
      "40번째 수집 중\t173.11183619499207\n"
     ]
    },
    {
     "name": "stderr",
     "output_type": "stream",
     "text": [
      "<ipython-input-6-b97a959244b2>:16: DeprecationWarning: find_element_by_* commands are deprecated. Please use find_element() instead\n",
      "  info_id = driver.find_element_by_css_selector('div.C4VMK').text.split()[0]\n"
     ]
    },
    {
     "name": "stdout",
     "output_type": "stream",
     "text": [
      "60번째 수집 중\t261.2785999774933\n",
      "80번째 수집 중\t344.99824619293213\n",
      "100번째 수집 중\t432.01802682876587\n",
      "120번째 수집 중\t520.8203067779541\n",
      "140번째 수집 중\t607.26016497612\n",
      "160번째 수집 중\t695.1152710914612\n"
     ]
    },
    {
     "name": "stderr",
     "output_type": "stream",
     "text": [
      "<ipython-input-6-b97a959244b2>:76: DeprecationWarning: find_element_by_* commands are deprecated. Please use find_element() instead\n",
      "  driver.find_element_by_css_selector('body > div._2dDPU.QPGbb.CkGkG > div.EfHg9 > div > div > div.l8mY4.feth3 > button').click()\n"
     ]
    },
    {
     "ename": "NoSuchElementException",
     "evalue": "Message: no such element: Unable to locate element: {\"method\":\"css selector\",\"selector\":\"body > div._2dDPU.QPGbb.CkGkG > div.EfHg9 > div > div > div.l8mY4.feth3 > button\"}\n  (Session info: chrome=96.0.4664.55)\nStacktrace:\n0   chromedriver                        0x000000010053fff9 __gxx_personality_v0 + 584201\n1   chromedriver                        0x00000001004cb403 __gxx_personality_v0 + 106003\n2   chromedriver                        0x0000000100087e38 chromedriver + 171576\n3   chromedriver                        0x00000001000bd532 chromedriver + 390450\n4   chromedriver                        0x00000001000bd6f1 chromedriver + 390897\n5   chromedriver                        0x00000001000ef824 chromedriver + 596004\n6   chromedriver                        0x00000001000dab3d chromedriver + 510781\n7   chromedriver                        0x00000001000ed5d2 chromedriver + 587218\n8   chromedriver                        0x00000001000dad63 chromedriver + 511331\n9   chromedriver                        0x00000001000b082e chromedriver + 337966\n10  chromedriver                        0x00000001000b1b65 chromedriver + 342885\n11  chromedriver                        0x00000001004fbf1b __gxx_personality_v0 + 305451\n12  chromedriver                        0x0000000100512e23 __gxx_personality_v0 + 399411\n13  chromedriver                        0x00000001005188df __gxx_personality_v0 + 422639\n14  chromedriver                        0x000000010051417a __gxx_personality_v0 + 404362\n15  chromedriver                        0x00000001004f0541 __gxx_personality_v0 + 257873\n16  chromedriver                        0x000000010052ff28 __gxx_personality_v0 + 518456\n17  chromedriver                        0x00000001005300b1 __gxx_personality_v0 + 518849\n18  chromedriver                        0x0000000100547498 __gxx_personality_v0 + 614056\n19  libsystem_pthread.dylib             0x00007fffacecd93b _pthread_body + 180\n20  libsystem_pthread.dylib             0x00007fffacecd887 _pthread_body + 0\n21  libsystem_pthread.dylib             0x00007fffacecd08d thread_start + 13\n",
     "output_type": "error",
     "traceback": [
      "\u001b[0;31m---------------------------------------------------------------------------\u001b[0m",
      "\u001b[0;31mNoSuchElementException\u001b[0m                    Traceback (most recent call last)",
      "\u001b[0;32m<ipython-input-6-b97a959244b2>\u001b[0m in \u001b[0;36m<module>\u001b[0;34m\u001b[0m\n\u001b[1;32m      5\u001b[0m     \u001b[0;32mtry\u001b[0m\u001b[0;34m:\u001b[0m\u001b[0;34m\u001b[0m\u001b[0;34m\u001b[0m\u001b[0m\n\u001b[0;32m----> 6\u001b[0;31m         \u001b[0;32mif\u001b[0m \u001b[0mdriver\u001b[0m\u001b[0;34m.\u001b[0m\u001b[0mfind_element_by_css_selector\u001b[0m\u001b[0;34m(\u001b[0m\u001b[0;34m'body > div._2dDPU.QPGbb.CkGkG > div.EfHg9 > div > div > div.l8mY4.feth3 > button'\u001b[0m\u001b[0;34m)\u001b[0m\u001b[0;34m:\u001b[0m\u001b[0;34m\u001b[0m\u001b[0;34m\u001b[0m\u001b[0m\n\u001b[0m\u001b[1;32m      7\u001b[0m             \u001b[0;32mif\u001b[0m \u001b[0mseq\u001b[0m \u001b[0;34m%\u001b[0m \u001b[0;36m20\u001b[0m \u001b[0;34m==\u001b[0m \u001b[0;36m0\u001b[0m\u001b[0;34m:\u001b[0m\u001b[0;34m\u001b[0m\u001b[0;34m\u001b[0m\u001b[0m\n",
      "\u001b[0;32m/Library/Frameworks/Python.framework/Versions/3.9/lib/python3.9/site-packages/selenium/webdriver/remote/webdriver.py\u001b[0m in \u001b[0;36mfind_element_by_css_selector\u001b[0;34m(self, css_selector)\u001b[0m\n\u001b[1;32m    801\u001b[0m         )\n\u001b[0;32m--> 802\u001b[0;31m         \u001b[0;32mreturn\u001b[0m \u001b[0mself\u001b[0m\u001b[0;34m.\u001b[0m\u001b[0mfind_element\u001b[0m\u001b[0;34m(\u001b[0m\u001b[0mby\u001b[0m\u001b[0;34m=\u001b[0m\u001b[0mBy\u001b[0m\u001b[0;34m.\u001b[0m\u001b[0mCSS_SELECTOR\u001b[0m\u001b[0;34m,\u001b[0m \u001b[0mvalue\u001b[0m\u001b[0;34m=\u001b[0m\u001b[0mcss_selector\u001b[0m\u001b[0;34m)\u001b[0m\u001b[0;34m\u001b[0m\u001b[0;34m\u001b[0m\u001b[0m\n\u001b[0m\u001b[1;32m    803\u001b[0m \u001b[0;34m\u001b[0m\u001b[0m\n",
      "\u001b[0;32m/Library/Frameworks/Python.framework/Versions/3.9/lib/python3.9/site-packages/selenium/webdriver/remote/webdriver.py\u001b[0m in \u001b[0;36mfind_element\u001b[0;34m(self, by, value)\u001b[0m\n\u001b[1;32m   1237\u001b[0m \u001b[0;34m\u001b[0m\u001b[0m\n\u001b[0;32m-> 1238\u001b[0;31m         return self.execute(Command.FIND_ELEMENT, {\n\u001b[0m\u001b[1;32m   1239\u001b[0m             \u001b[0;34m'using'\u001b[0m\u001b[0;34m:\u001b[0m \u001b[0mby\u001b[0m\u001b[0;34m,\u001b[0m\u001b[0;34m\u001b[0m\u001b[0;34m\u001b[0m\u001b[0m\n",
      "\u001b[0;32m/Library/Frameworks/Python.framework/Versions/3.9/lib/python3.9/site-packages/selenium/webdriver/remote/webdriver.py\u001b[0m in \u001b[0;36mexecute\u001b[0;34m(self, driver_command, params)\u001b[0m\n\u001b[1;32m    417\u001b[0m         \u001b[0;32mif\u001b[0m \u001b[0mresponse\u001b[0m\u001b[0;34m:\u001b[0m\u001b[0;34m\u001b[0m\u001b[0;34m\u001b[0m\u001b[0m\n\u001b[0;32m--> 418\u001b[0;31m             \u001b[0mself\u001b[0m\u001b[0;34m.\u001b[0m\u001b[0merror_handler\u001b[0m\u001b[0;34m.\u001b[0m\u001b[0mcheck_response\u001b[0m\u001b[0;34m(\u001b[0m\u001b[0mresponse\u001b[0m\u001b[0;34m)\u001b[0m\u001b[0;34m\u001b[0m\u001b[0;34m\u001b[0m\u001b[0m\n\u001b[0m\u001b[1;32m    419\u001b[0m             response['value'] = self._unwrap_value(\n",
      "\u001b[0;32m/Library/Frameworks/Python.framework/Versions/3.9/lib/python3.9/site-packages/selenium/webdriver/remote/errorhandler.py\u001b[0m in \u001b[0;36mcheck_response\u001b[0;34m(self, response)\u001b[0m\n\u001b[1;32m    242\u001b[0m             \u001b[0;32mraise\u001b[0m \u001b[0mexception_class\u001b[0m\u001b[0;34m(\u001b[0m\u001b[0mmessage\u001b[0m\u001b[0;34m,\u001b[0m \u001b[0mscreen\u001b[0m\u001b[0;34m,\u001b[0m \u001b[0mstacktrace\u001b[0m\u001b[0;34m,\u001b[0m \u001b[0malert_text\u001b[0m\u001b[0;34m)\u001b[0m  \u001b[0;31m# type: ignore[call-arg]  # mypy is not smart enough here\u001b[0m\u001b[0;34m\u001b[0m\u001b[0;34m\u001b[0m\u001b[0m\n\u001b[0;32m--> 243\u001b[0;31m         \u001b[0;32mraise\u001b[0m \u001b[0mexception_class\u001b[0m\u001b[0;34m(\u001b[0m\u001b[0mmessage\u001b[0m\u001b[0;34m,\u001b[0m \u001b[0mscreen\u001b[0m\u001b[0;34m,\u001b[0m \u001b[0mstacktrace\u001b[0m\u001b[0;34m)\u001b[0m\u001b[0;34m\u001b[0m\u001b[0;34m\u001b[0m\u001b[0m\n\u001b[0m\u001b[1;32m    244\u001b[0m \u001b[0;34m\u001b[0m\u001b[0m\n",
      "\u001b[0;31mNoSuchElementException\u001b[0m: Message: no such element: Unable to locate element: {\"method\":\"css selector\",\"selector\":\"body > div._2dDPU.QPGbb.CkGkG > div.EfHg9 > div > div > div.l8mY4.feth3 > button\"}\n  (Session info: chrome=96.0.4664.55)\nStacktrace:\n0   chromedriver                        0x000000010053fff9 __gxx_personality_v0 + 584201\n1   chromedriver                        0x00000001004cb403 __gxx_personality_v0 + 106003\n2   chromedriver                        0x0000000100087e38 chromedriver + 171576\n3   chromedriver                        0x00000001000bd532 chromedriver + 390450\n4   chromedriver                        0x00000001000bd6f1 chromedriver + 390897\n5   chromedriver                        0x00000001000ef824 chromedriver + 596004\n6   chromedriver                        0x00000001000dab3d chromedriver + 510781\n7   chromedriver                        0x00000001000ed5d2 chromedriver + 587218\n8   chromedriver                        0x00000001000dad63 chromedriver + 511331\n9   chromedriver                        0x00000001000b082e chromedriver + 337966\n10  chromedriver                        0x00000001000b1b65 chromedriver + 342885\n11  chromedriver                        0x00000001004fbf1b __gxx_personality_v0 + 305451\n12  chromedriver                        0x0000000100512e23 __gxx_personality_v0 + 399411\n13  chromedriver                        0x00000001005188df __gxx_personality_v0 + 422639\n14  chromedriver                        0x000000010051417a __gxx_personality_v0 + 404362\n15  chromedriver                        0x00000001004f0541 __gxx_personality_v0 + 257873\n16  chromedriver                        0x000000010052ff28 __gxx_personality_v0 + 518456\n17  chromedriver                        0x00000001005300b1 __gxx_personality_v0 + 518849\n18  chromedriver                        0x0000000100547498 __gxx_personality_v0 + 614056\n19  libsystem_pthread.dylib             0x00007fffacecd93b _pthread_body + 180\n20  libsystem_pthread.dylib             0x00007fffacecd887 _pthread_body + 0\n21  libsystem_pthread.dylib             0x00007fffacecd08d thread_start + 13\n",
      "\nDuring handling of the above exception, another exception occurred:\n",
      "\u001b[0;31mNoSuchElementException\u001b[0m                    Traceback (most recent call last)",
      "\u001b[0;32m<ipython-input-6-b97a959244b2>\u001b[0m in \u001b[0;36m<module>\u001b[0;34m\u001b[0m\n\u001b[1;32m     74\u001b[0m \u001b[0;34m\u001b[0m\u001b[0m\n\u001b[1;32m     75\u001b[0m     \u001b[0;32mexcept\u001b[0m\u001b[0;34m:\u001b[0m\u001b[0;34m\u001b[0m\u001b[0;34m\u001b[0m\u001b[0m\n\u001b[0;32m---> 76\u001b[0;31m         \u001b[0mdriver\u001b[0m\u001b[0;34m.\u001b[0m\u001b[0mfind_element_by_css_selector\u001b[0m\u001b[0;34m(\u001b[0m\u001b[0;34m'body > div._2dDPU.QPGbb.CkGkG > div.EfHg9 > div > div > div.l8mY4.feth3 > button'\u001b[0m\u001b[0;34m)\u001b[0m\u001b[0;34m.\u001b[0m\u001b[0mclick\u001b[0m\u001b[0;34m(\u001b[0m\u001b[0;34m)\u001b[0m\u001b[0;34m\u001b[0m\u001b[0;34m\u001b[0m\u001b[0m\n\u001b[0m\u001b[1;32m     77\u001b[0m         \u001b[0mtime\u001b[0m\u001b[0;34m.\u001b[0m\u001b[0msleep\u001b[0m\u001b[0;34m(\u001b[0m\u001b[0;36m3.6\u001b[0m\u001b[0;34m)\u001b[0m\u001b[0;34m\u001b[0m\u001b[0;34m\u001b[0m\u001b[0m\n",
      "\u001b[0;32m/Library/Frameworks/Python.framework/Versions/3.9/lib/python3.9/site-packages/selenium/webdriver/remote/webdriver.py\u001b[0m in \u001b[0;36mfind_element_by_css_selector\u001b[0;34m(self, css_selector)\u001b[0m\n\u001b[1;32m    800\u001b[0m             \u001b[0mstacklevel\u001b[0m\u001b[0;34m=\u001b[0m\u001b[0;36m2\u001b[0m\u001b[0;34m,\u001b[0m\u001b[0;34m\u001b[0m\u001b[0;34m\u001b[0m\u001b[0m\n\u001b[1;32m    801\u001b[0m         )\n\u001b[0;32m--> 802\u001b[0;31m         \u001b[0;32mreturn\u001b[0m \u001b[0mself\u001b[0m\u001b[0;34m.\u001b[0m\u001b[0mfind_element\u001b[0m\u001b[0;34m(\u001b[0m\u001b[0mby\u001b[0m\u001b[0;34m=\u001b[0m\u001b[0mBy\u001b[0m\u001b[0;34m.\u001b[0m\u001b[0mCSS_SELECTOR\u001b[0m\u001b[0;34m,\u001b[0m \u001b[0mvalue\u001b[0m\u001b[0;34m=\u001b[0m\u001b[0mcss_selector\u001b[0m\u001b[0;34m)\u001b[0m\u001b[0;34m\u001b[0m\u001b[0;34m\u001b[0m\u001b[0m\n\u001b[0m\u001b[1;32m    803\u001b[0m \u001b[0;34m\u001b[0m\u001b[0m\n\u001b[1;32m    804\u001b[0m     \u001b[0;32mdef\u001b[0m \u001b[0mfind_elements_by_css_selector\u001b[0m\u001b[0;34m(\u001b[0m\u001b[0mself\u001b[0m\u001b[0;34m,\u001b[0m \u001b[0mcss_selector\u001b[0m\u001b[0;34m)\u001b[0m \u001b[0;34m->\u001b[0m \u001b[0mWebElement\u001b[0m\u001b[0;34m:\u001b[0m\u001b[0;34m\u001b[0m\u001b[0;34m\u001b[0m\u001b[0m\n",
      "\u001b[0;32m/Library/Frameworks/Python.framework/Versions/3.9/lib/python3.9/site-packages/selenium/webdriver/remote/webdriver.py\u001b[0m in \u001b[0;36mfind_element\u001b[0;34m(self, by, value)\u001b[0m\n\u001b[1;32m   1236\u001b[0m             \u001b[0mvalue\u001b[0m \u001b[0;34m=\u001b[0m \u001b[0;34m'[name=\"%s\"]'\u001b[0m \u001b[0;34m%\u001b[0m \u001b[0mvalue\u001b[0m\u001b[0;34m\u001b[0m\u001b[0;34m\u001b[0m\u001b[0m\n\u001b[1;32m   1237\u001b[0m \u001b[0;34m\u001b[0m\u001b[0m\n\u001b[0;32m-> 1238\u001b[0;31m         return self.execute(Command.FIND_ELEMENT, {\n\u001b[0m\u001b[1;32m   1239\u001b[0m             \u001b[0;34m'using'\u001b[0m\u001b[0;34m:\u001b[0m \u001b[0mby\u001b[0m\u001b[0;34m,\u001b[0m\u001b[0;34m\u001b[0m\u001b[0;34m\u001b[0m\u001b[0m\n\u001b[1;32m   1240\u001b[0m             'value': value})['value']\n",
      "\u001b[0;32m/Library/Frameworks/Python.framework/Versions/3.9/lib/python3.9/site-packages/selenium/webdriver/remote/webdriver.py\u001b[0m in \u001b[0;36mexecute\u001b[0;34m(self, driver_command, params)\u001b[0m\n\u001b[1;32m    416\u001b[0m         \u001b[0mresponse\u001b[0m \u001b[0;34m=\u001b[0m \u001b[0mself\u001b[0m\u001b[0;34m.\u001b[0m\u001b[0mcommand_executor\u001b[0m\u001b[0;34m.\u001b[0m\u001b[0mexecute\u001b[0m\u001b[0;34m(\u001b[0m\u001b[0mdriver_command\u001b[0m\u001b[0;34m,\u001b[0m \u001b[0mparams\u001b[0m\u001b[0;34m)\u001b[0m\u001b[0;34m\u001b[0m\u001b[0;34m\u001b[0m\u001b[0m\n\u001b[1;32m    417\u001b[0m         \u001b[0;32mif\u001b[0m \u001b[0mresponse\u001b[0m\u001b[0;34m:\u001b[0m\u001b[0;34m\u001b[0m\u001b[0;34m\u001b[0m\u001b[0m\n\u001b[0;32m--> 418\u001b[0;31m             \u001b[0mself\u001b[0m\u001b[0;34m.\u001b[0m\u001b[0merror_handler\u001b[0m\u001b[0;34m.\u001b[0m\u001b[0mcheck_response\u001b[0m\u001b[0;34m(\u001b[0m\u001b[0mresponse\u001b[0m\u001b[0;34m)\u001b[0m\u001b[0;34m\u001b[0m\u001b[0;34m\u001b[0m\u001b[0m\n\u001b[0m\u001b[1;32m    419\u001b[0m             response['value'] = self._unwrap_value(\n\u001b[1;32m    420\u001b[0m                 response.get('value', None))\n",
      "\u001b[0;32m/Library/Frameworks/Python.framework/Versions/3.9/lib/python3.9/site-packages/selenium/webdriver/remote/errorhandler.py\u001b[0m in \u001b[0;36mcheck_response\u001b[0;34m(self, response)\u001b[0m\n\u001b[1;32m    241\u001b[0m                 \u001b[0malert_text\u001b[0m \u001b[0;34m=\u001b[0m \u001b[0mvalue\u001b[0m\u001b[0;34m[\u001b[0m\u001b[0;34m'alert'\u001b[0m\u001b[0;34m]\u001b[0m\u001b[0;34m.\u001b[0m\u001b[0mget\u001b[0m\u001b[0;34m(\u001b[0m\u001b[0;34m'text'\u001b[0m\u001b[0;34m)\u001b[0m\u001b[0;34m\u001b[0m\u001b[0;34m\u001b[0m\u001b[0m\n\u001b[1;32m    242\u001b[0m             \u001b[0;32mraise\u001b[0m \u001b[0mexception_class\u001b[0m\u001b[0;34m(\u001b[0m\u001b[0mmessage\u001b[0m\u001b[0;34m,\u001b[0m \u001b[0mscreen\u001b[0m\u001b[0;34m,\u001b[0m \u001b[0mstacktrace\u001b[0m\u001b[0;34m,\u001b[0m \u001b[0malert_text\u001b[0m\u001b[0;34m)\u001b[0m  \u001b[0;31m# type: ignore[call-arg]  # mypy is not smart enough here\u001b[0m\u001b[0;34m\u001b[0m\u001b[0;34m\u001b[0m\u001b[0m\n\u001b[0;32m--> 243\u001b[0;31m         \u001b[0;32mraise\u001b[0m \u001b[0mexception_class\u001b[0m\u001b[0;34m(\u001b[0m\u001b[0mmessage\u001b[0m\u001b[0;34m,\u001b[0m \u001b[0mscreen\u001b[0m\u001b[0;34m,\u001b[0m \u001b[0mstacktrace\u001b[0m\u001b[0;34m)\u001b[0m\u001b[0;34m\u001b[0m\u001b[0;34m\u001b[0m\u001b[0m\n\u001b[0m\u001b[1;32m    244\u001b[0m \u001b[0;34m\u001b[0m\u001b[0m\n\u001b[1;32m    245\u001b[0m     \u001b[0;32mdef\u001b[0m \u001b[0m_value_or_default\u001b[0m\u001b[0;34m(\u001b[0m\u001b[0mself\u001b[0m\u001b[0;34m,\u001b[0m \u001b[0mobj\u001b[0m\u001b[0;34m:\u001b[0m \u001b[0mMapping\u001b[0m\u001b[0;34m[\u001b[0m\u001b[0m_KT\u001b[0m\u001b[0;34m,\u001b[0m \u001b[0m_VT\u001b[0m\u001b[0;34m]\u001b[0m\u001b[0;34m,\u001b[0m \u001b[0mkey\u001b[0m\u001b[0;34m:\u001b[0m \u001b[0m_KT\u001b[0m\u001b[0;34m,\u001b[0m \u001b[0mdefault\u001b[0m\u001b[0;34m:\u001b[0m \u001b[0m_VT\u001b[0m\u001b[0;34m)\u001b[0m \u001b[0;34m->\u001b[0m \u001b[0m_VT\u001b[0m\u001b[0;34m:\u001b[0m\u001b[0;34m\u001b[0m\u001b[0;34m\u001b[0m\u001b[0m\n",
      "\u001b[0;31mNoSuchElementException\u001b[0m: Message: no such element: Unable to locate element: {\"method\":\"css selector\",\"selector\":\"body > div._2dDPU.QPGbb.CkGkG > div.EfHg9 > div > div > div.l8mY4.feth3 > button\"}\n  (Session info: chrome=96.0.4664.55)\nStacktrace:\n0   chromedriver                        0x000000010053fff9 __gxx_personality_v0 + 584201\n1   chromedriver                        0x00000001004cb403 __gxx_personality_v0 + 106003\n2   chromedriver                        0x0000000100087e38 chromedriver + 171576\n3   chromedriver                        0x00000001000bd532 chromedriver + 390450\n4   chromedriver                        0x00000001000bd6f1 chromedriver + 390897\n5   chromedriver                        0x00000001000ef824 chromedriver + 596004\n6   chromedriver                        0x00000001000dab3d chromedriver + 510781\n7   chromedriver                        0x00000001000ed5d2 chromedriver + 587218\n8   chromedriver                        0x00000001000dad63 chromedriver + 511331\n9   chromedriver                        0x00000001000b082e chromedriver + 337966\n10  chromedriver                        0x00000001000b1b65 chromedriver + 342885\n11  chromedriver                        0x00000001004fbf1b __gxx_personality_v0 + 305451\n12  chromedriver                        0x0000000100512e23 __gxx_personality_v0 + 399411\n13  chromedriver                        0x00000001005188df __gxx_personality_v0 + 422639\n14  chromedriver                        0x000000010051417a __gxx_personality_v0 + 404362\n15  chromedriver                        0x00000001004f0541 __gxx_personality_v0 + 257873\n16  chromedriver                        0x000000010052ff28 __gxx_personality_v0 + 518456\n17  chromedriver                        0x00000001005300b1 __gxx_personality_v0 + 518849\n18  chromedriver                        0x0000000100547498 __gxx_personality_v0 + 614056\n19  libsystem_pthread.dylib             0x00007fffacecd93b _pthread_body + 180\n20  libsystem_pthread.dylib             0x00007fffacecd887 _pthread_body + 0\n21  libsystem_pthread.dylib             0x00007fffacecd08d thread_start + 13\n"
     ]
    }
   ],
   "source": [
    "seq = 0\n",
    "start = time.time()\n",
    " \n",
    "while True:\n",
    "    try:\n",
    "        if driver.find_element_by_css_selector('body > div._2dDPU.QPGbb.CkGkG > div.EfHg9 > div > div > div.l8mY4.feth3 > button'):\n",
    "            if seq % 20 == 0:\n",
    "                print('{}번째 수집 중'.format(seq), time.time() - start, sep = '\\t')\n",
    " \n",
    " \n",
    "            ## id 정보 수집\n",
    "            try:\n",
    "                info_id = driver.find_element_by_css_selector('h2._6lAjh').text\n",
    "                insta_dict['id'].append(info_id)\n",
    "            except:\n",
    "                info_id = driver.find_element_by_css_selector('div.C4VMK').text.split()[0]\n",
    "                insta_dict['id'].append(info_id)\n",
    " \n",
    " \n",
    "            ## 시간정보 수집 \n",
    "            time_raw = driver.find_element_by_css_selector('time.FH9sR.Nzb55')\n",
    "            time_info = pd.to_datetime(time_raw.get_attribute('datetime')).normalize()\n",
    "            insta_dict['date'].append(time_info)\n",
    " \n",
    "\n",
    "            ## like 정보 수집\n",
    "            try:\n",
    "                driver.find_element_by_css_selector('body > div._2dDPU.QPGbb.CkGkG > div._32yJO > div > article > div > div.HP0qD > div > div > div.eo2As > section.EDfFK.ygqzn > div > div > a > span')\n",
    "                like = driver.find_element_by_css_selector('body > div._2dDPU.QPGbb.CkGkG > div._32yJO > div > article > div > div.HP0qD > div > div > div.eo2As > section.EDfFK.ygqzn > div > div > a > span').text\n",
    "                insta_dict['like'].append(like)\n",
    "            except:\n",
    "                insta_dict['like'].append('영상')\n",
    " \n",
    " \n",
    "            ##text 정보수집\n",
    "            raw_info = driver.find_element_by_css_selector('div.C4VMK').text.split()\n",
    "            text = []\n",
    "            for i in range(len(raw_info)):\n",
    "                ## 첫번째 text는 아이디니까 제외 \n",
    "                if i == 0:\n",
    "                    pass\n",
    "                ## 두번째부터 시작 \n",
    "                else:\n",
    "                    if '#' in raw_info[i]:\n",
    "                        pass\n",
    "                    else:\n",
    "                        text.append(raw_info[i])\n",
    "            clean_text = ' '.join(text)\n",
    "            insta_dict['text'].append(clean_text)\n",
    " \n",
    "\n",
    "            ##hashtag 수집\n",
    "            raw_tags = driver.find_elements_by_css_selector('a.xil3i')\n",
    "            hash_tag = []\n",
    "            for i in range(len(raw_tags)):\n",
    "                if raw_tags[i].text == '':\n",
    "                    pass\n",
    "                else:\n",
    "                    hash_tag.append(raw_tags[i].text)\n",
    " \n",
    "            insta_dict['hashtag'].append(hash_tag)\n",
    " \n",
    "            seq += 1\n",
    " \n",
    "            if seq == 400:\n",
    "                break\n",
    " \n",
    "            driver.find_element_by_css_selector('body > div._2dDPU.QPGbb.CkGkG > div.EfHg9 > div > div > div.l8mY4.feth3 > button').click()\n",
    "            time.sleep(3.7)\n",
    "            \n",
    " \n",
    "        else:\n",
    "            break\n",
    "            \n",
    "    except:\n",
    "        driver.find_element_by_css_selector('body > div._2dDPU.QPGbb.CkGkG > div.EfHg9 > div > div > div.l8mY4.feth3 > button').click()\n",
    "        time.sleep(3.6)"
   ]
  },
  {
   "cell_type": "code",
   "execution_count": 7,
   "id": "endangered-behavior",
   "metadata": {},
   "outputs": [],
   "source": [
    "test = pd.DataFrame.from_dict(insta_dict)\n",
    "test.to_csv(\"insta_dict_공예_1.csv\", mode='w')"
   ]
  },
  {
   "cell_type": "code",
   "execution_count": 9,
   "id": "mathematical-sheffield",
   "metadata": {
    "scrolled": false
   },
   "outputs": [
    {
     "data": {
      "text/html": [
       "<div>\n",
       "<style scoped>\n",
       "    .dataframe tbody tr th:only-of-type {\n",
       "        vertical-align: middle;\n",
       "    }\n",
       "\n",
       "    .dataframe tbody tr th {\n",
       "        vertical-align: top;\n",
       "    }\n",
       "\n",
       "    .dataframe thead th {\n",
       "        text-align: right;\n",
       "    }\n",
       "</style>\n",
       "<table border=\"1\" class=\"dataframe\">\n",
       "  <thead>\n",
       "    <tr style=\"text-align: right;\">\n",
       "      <th></th>\n",
       "      <th>id</th>\n",
       "      <th>date</th>\n",
       "      <th>like</th>\n",
       "      <th>text</th>\n",
       "      <th>hashtag</th>\n",
       "    </tr>\n",
       "  </thead>\n",
       "  <tbody>\n",
       "    <tr>\n",
       "      <th>0</th>\n",
       "      <td>kafka8</td>\n",
       "      <td>2021-11-29 00:00:00+00:00</td>\n",
       "      <td>556</td>\n",
       "      <td>연리지에서 선보일 저의 4개의 노리개는 모두 브로치로 따로 달 수 있습니다! :-)...</td>\n",
       "      <td>[#아름지기, #노리개, #연리지, #현대장신구, #공예, #현대공예, #경복궁, ...</td>\n",
       "    </tr>\n",
       "    <tr>\n",
       "      <th>1</th>\n",
       "      <td>kyounghyun.work</td>\n",
       "      <td>2021-12-02 00:00:00+00:00</td>\n",
       "      <td>109</td>\n",
       "      <td>2021.12.03 . . ‘원뿔, 원’ 가로 타입 ‘Cone,Circle’ . ....</td>\n",
       "      <td>[#design, #designwork, #lamp, #lampdesign, #cr...</td>\n",
       "    </tr>\n",
       "    <tr>\n",
       "      <th>2</th>\n",
       "      <td>ouglasswork</td>\n",
       "      <td>2021-11-24 00:00:00+00:00</td>\n",
       "      <td>1,455</td>\n",
       "      <td>⠀ 유리작업은 빛 그림자가 진리지만 반짝반짝 햇살 없이도 참 예쁘다 💚 ⠀ 을 상상...</td>\n",
       "      <td>[#트리숲, #2021, #오유트리, #만년트리, #유리공예, #공예, #핸드메이드]</td>\n",
       "    </tr>\n",
       "    <tr>\n",
       "      <th>3</th>\n",
       "      <td>kim_eung_chul</td>\n",
       "      <td>2021-11-30 00:00:00+00:00</td>\n",
       "      <td>211</td>\n",
       "      <td>. . . . 연리문 다관, 차판 침탄 소성. 은은한 나무결 느낌입니다. 굽기전 원...</td>\n",
       "      <td>[#연리문, #교태, #marbling, #neriage, #teaware, #te...</td>\n",
       "    </tr>\n",
       "    <tr>\n",
       "      <th>4</th>\n",
       "      <td>life_a_live</td>\n",
       "      <td>2021-11-24 00:00:00+00:00</td>\n",
       "      <td>1,028</td>\n",
       "      <td>그리고 내일 목요일, 금요일은 한섬 vvip 서울 클래스 출강으로 협회 업무가 중단...</td>\n",
       "      <td>[#낭만라이프, #낭만마크라메, #라이프어라이브, #마크라메, #모던마크라메, #m...</td>\n",
       "    </tr>\n",
       "    <tr>\n",
       "      <th>...</th>\n",
       "      <td>...</td>\n",
       "      <td>...</td>\n",
       "      <td>...</td>\n",
       "      <td>...</td>\n",
       "      <td>...</td>\n",
       "    </tr>\n",
       "    <tr>\n",
       "      <th>173</th>\n",
       "      <td>azure._.cloud</td>\n",
       "      <td>2021-12-02 00:00:00+00:00</td>\n",
       "      <td>영상</td>\n",
       "      <td>펀치니들 처음 해봤는데 재미있었어요!!! 13시간</td>\n",
       "      <td>[#펀치니들, #하늘, #구름, #실, #공예]</td>\n",
       "    </tr>\n",
       "    <tr>\n",
       "      <th>174</th>\n",
       "      <td>joorassic_park</td>\n",
       "      <td>2021-12-02 00:00:00+00:00</td>\n",
       "      <td>211</td>\n",
       "      <td>일심동체 / Oneness 호두나무, 옻칠, 정은 (Walnut wood, ottc...</td>\n",
       "      <td>[#craft, #art, #design, #공예, #공예전시, #아트주얼리, #주...</td>\n",
       "    </tr>\n",
       "    <tr>\n",
       "      <th>175</th>\n",
       "      <td>sunset_breeze_leather</td>\n",
       "      <td>2021-12-02 00:00:00+00:00</td>\n",
       "      <td>117</td>\n",
       "      <td>선셋 브리즈 레더 카키 조합 Sunset Breeze Leather Olive Gr...</td>\n",
       "      <td>[#가죽공예, #가죽공방, #가죽지갑, #수제지갑, #지갑, #공방, #카키, #빈...</td>\n",
       "    </tr>\n",
       "    <tr>\n",
       "      <th>176</th>\n",
       "      <td>jung_zz.z</td>\n",
       "      <td>2021-12-02 00:00:00+00:00</td>\n",
       "      <td>영상</td>\n",
       "      <td>청국장 향이 구수하다옹 🐾 13시간</td>\n",
       "      <td>[]</td>\n",
       "    </tr>\n",
       "    <tr>\n",
       "      <th>177</th>\n",
       "      <td>kpca1986</td>\n",
       "      <td>2021-12-02 00:00:00+00:00</td>\n",
       "      <td>61</td>\n",
       "      <td>작가님의 제43회 입상작입니다. 멋진 작품 출품 진심으로 감사드립니다👏🏻👍😊 팔로우...</td>\n",
       "      <td>[#한국서화협회, #황인민, #PCAF_2021, #한국서화협회, #공모전, #시상...</td>\n",
       "    </tr>\n",
       "  </tbody>\n",
       "</table>\n",
       "<p>178 rows × 5 columns</p>\n",
       "</div>"
      ],
      "text/plain": [
       "                        id                      date   like  \\\n",
       "0                   kafka8 2021-11-29 00:00:00+00:00    556   \n",
       "1          kyounghyun.work 2021-12-02 00:00:00+00:00    109   \n",
       "2              ouglasswork 2021-11-24 00:00:00+00:00  1,455   \n",
       "3            kim_eung_chul 2021-11-30 00:00:00+00:00    211   \n",
       "4              life_a_live 2021-11-24 00:00:00+00:00  1,028   \n",
       "..                     ...                       ...    ...   \n",
       "173          azure._.cloud 2021-12-02 00:00:00+00:00     영상   \n",
       "174         joorassic_park 2021-12-02 00:00:00+00:00    211   \n",
       "175  sunset_breeze_leather 2021-12-02 00:00:00+00:00    117   \n",
       "176              jung_zz.z 2021-12-02 00:00:00+00:00     영상   \n",
       "177               kpca1986 2021-12-02 00:00:00+00:00     61   \n",
       "\n",
       "                                                  text  \\\n",
       "0    연리지에서 선보일 저의 4개의 노리개는 모두 브로치로 따로 달 수 있습니다! :-)...   \n",
       "1    2021.12.03 . . ‘원뿔, 원’ 가로 타입 ‘Cone,Circle’ . ....   \n",
       "2    ⠀ 유리작업은 빛 그림자가 진리지만 반짝반짝 햇살 없이도 참 예쁘다 💚 ⠀ 을 상상...   \n",
       "3    . . . . 연리문 다관, 차판 침탄 소성. 은은한 나무결 느낌입니다. 굽기전 원...   \n",
       "4    그리고 내일 목요일, 금요일은 한섬 vvip 서울 클래스 출강으로 협회 업무가 중단...   \n",
       "..                                                 ...   \n",
       "173                        펀치니들 처음 해봤는데 재미있었어요!!! 13시간   \n",
       "174  일심동체 / Oneness 호두나무, 옻칠, 정은 (Walnut wood, ottc...   \n",
       "175  선셋 브리즈 레더 카키 조합 Sunset Breeze Leather Olive Gr...   \n",
       "176                                청국장 향이 구수하다옹 🐾 13시간   \n",
       "177  작가님의 제43회 입상작입니다. 멋진 작품 출품 진심으로 감사드립니다👏🏻👍😊 팔로우...   \n",
       "\n",
       "                                               hashtag  \n",
       "0    [#아름지기, #노리개, #연리지, #현대장신구, #공예, #현대공예, #경복궁, ...  \n",
       "1    [#design, #designwork, #lamp, #lampdesign, #cr...  \n",
       "2      [#트리숲, #2021, #오유트리, #만년트리, #유리공예, #공예, #핸드메이드]  \n",
       "3    [#연리문, #교태, #marbling, #neriage, #teaware, #te...  \n",
       "4    [#낭만라이프, #낭만마크라메, #라이프어라이브, #마크라메, #모던마크라메, #m...  \n",
       "..                                                 ...  \n",
       "173                         [#펀치니들, #하늘, #구름, #실, #공예]  \n",
       "174  [#craft, #art, #design, #공예, #공예전시, #아트주얼리, #주...  \n",
       "175  [#가죽공예, #가죽공방, #가죽지갑, #수제지갑, #지갑, #공방, #카키, #빈...  \n",
       "176                                                 []  \n",
       "177  [#한국서화협회, #황인민, #PCAF_2021, #한국서화협회, #공모전, #시상...  \n",
       "\n",
       "[178 rows x 5 columns]"
      ]
     },
     "execution_count": 9,
     "metadata": {},
     "output_type": "execute_result"
    }
   ],
   "source": [
    "test.head(178)"
   ]
  },
  {
   "cell_type": "code",
   "execution_count": 10,
   "id": "continent-drove",
   "metadata": {
    "scrolled": true
   },
   "outputs": [
    {
     "data": {
      "text/plain": [
       "0      [#아름지기, #노리개, #연리지, #현대장신구, #공예, #현대공예, #경복궁, ...\n",
       "1      [#design, #designwork, #lamp, #lampdesign, #cr...\n",
       "2        [#트리숲, #2021, #오유트리, #만년트리, #유리공예, #공예, #핸드메이드]\n",
       "3      [#연리문, #교태, #marbling, #neriage, #teaware, #te...\n",
       "4      [#낭만라이프, #낭만마크라메, #라이프어라이브, #마크라메, #모던마크라메, #m...\n",
       "                             ...                        \n",
       "174    [#craft, #art, #design, #공예, #공예전시, #아트주얼리, #주...\n",
       "175    [#가죽공예, #가죽공방, #가죽지갑, #수제지갑, #지갑, #공방, #카키, #빈...\n",
       "176                                                   []\n",
       "177    [#한국서화협회, #황인민, #PCAF_2021, #한국서화협회, #공모전, #시상...\n",
       "178                    [#국립아시아문화전당, #노플라스틱선데이, #라이프어라이브]\n",
       "Name: hashtag, Length: 179, dtype: object"
      ]
     },
     "execution_count": 10,
     "metadata": {},
     "output_type": "execute_result"
    }
   ],
   "source": [
    "test.hashtag"
   ]
  },
  {
   "cell_type": "code",
   "execution_count": 11,
   "id": "damaged-ladder",
   "metadata": {
    "scrolled": true
   },
   "outputs": [
    {
     "name": "stdout",
     "output_type": "stream",
     "text": [
      "                        id                       date   like  \\\n",
      "0                   kafka8  2021-11-29 00:00:00+00:00    556   \n",
      "1          kyounghyun.work  2021-12-02 00:00:00+00:00    109   \n",
      "2              ouglasswork  2021-11-24 00:00:00+00:00  1,455   \n",
      "3            kim_eung_chul  2021-11-30 00:00:00+00:00    211   \n",
      "4              life_a_live  2021-11-24 00:00:00+00:00  1,028   \n",
      "..                     ...                        ...    ...   \n",
      "174         joorassic_park  2021-12-02 00:00:00+00:00    211   \n",
      "175  sunset_breeze_leather  2021-12-02 00:00:00+00:00    117   \n",
      "176              jung_zz.z  2021-12-02 00:00:00+00:00     영상   \n",
      "177               kpca1986  2021-12-02 00:00:00+00:00     61   \n",
      "178            life_a_live  2021-12-02 00:00:00+00:00    357   \n",
      "\n",
      "                                                  text  \\\n",
      "0    연리지에서 선보일 저의 4개의 노리개는 모두 브로치로 따로 달 수 있습니다! :-)...   \n",
      "1    2021.12.03 . . ‘원뿔, 원’ 가로 타입 ‘Cone,Circle’ . ....   \n",
      "2    ⠀ 유리작업은 빛 그림자가 진리지만 반짝반짝 햇살 없이도 참 예쁘다 💚 ⠀ 을 상상...   \n",
      "3    . . . . 연리문 다관, 차판 침탄 소성. 은은한 나무결 느낌입니다. 굽기전 원...   \n",
      "4    그리고 내일 목요일, 금요일은 한섬 vvip 서울 클래스 출강으로 협회 업무가 중단...   \n",
      "..                                                 ...   \n",
      "174  일심동체 / Oneness 호두나무, 옻칠, 정은 (Walnut wood, ottc...   \n",
      "175  선셋 브리즈 레더 카키 조합 Sunset Breeze Leather Olive Gr...   \n",
      "176                                청국장 향이 구수하다옹 🐾 13시간   \n",
      "177  작가님의 제43회 입상작입니다. 멋진 작품 출품 진심으로 감사드립니다👏🏻👍😊 팔로우...   \n",
      "178  첫번째 사진은 기존에 많이 사용했던 우드 손잡이링입니다. 그리고 두번째 사진부터 이...   \n",
      "\n",
      "                                               hashtag  \n",
      "0    ['#아름지기', '#노리개', '#연리지', '#현대장신구', '#공예', '#현...  \n",
      "1    ['#design', '#designwork', '#lamp', '#lampdesi...  \n",
      "2    ['#트리숲', '#2021', '#오유트리', '#만년트리', '#유리공예', '...  \n",
      "3    ['#연리문', '#교태', '#marbling', '#neriage', '#tea...  \n",
      "4    ['#낭만라이프', '#낭만마크라메', '#라이프어라이브', '#마크라메', '#모...  \n",
      "..                                                 ...  \n",
      "174  ['#craft', '#art', '#design', '#공예', '#공예전시', ...  \n",
      "175  ['#가죽공예', '#가죽공방', '#가죽지갑', '#수제지갑', '#지갑', '#...  \n",
      "176                                                 []  \n",
      "177  ['#한국서화협회', '#황인민', '#PCAF_2021', '#한국서화협회', '...  \n",
      "178            ['#국립아시아문화전당', '#노플라스틱선데이', '#라이프어라이브']  \n",
      "\n",
      "[179 rows x 5 columns]\n"
     ]
    }
   ],
   "source": [
    "dataset = pd.read_csv(\"insta_dict_공예_1.csv\", index_col=0)\n",
    "print(dataset)"
   ]
  }
 ],
 "metadata": {
  "kernelspec": {
   "display_name": "Python 3",
   "language": "python",
   "name": "python3"
  },
  "language_info": {
   "codemirror_mode": {
    "name": "ipython",
    "version": 3
   },
   "file_extension": ".py",
   "mimetype": "text/x-python",
   "name": "python",
   "nbconvert_exporter": "python",
   "pygments_lexer": "ipython3",
   "version": "3.9.2"
  }
 },
 "nbformat": 4,
 "nbformat_minor": 5
}
