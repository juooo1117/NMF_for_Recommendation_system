{
 "cells": [
  {
   "cell_type": "code",
   "execution_count": 2,
   "id": "dbdc0c37",
   "metadata": {},
   "outputs": [
    {
     "name": "stdout",
     "output_type": "stream",
     "text": [
      "Collecting tweepy\n",
      "  Downloading tweepy-4.3.0-py2.py3-none-any.whl (64 kB)\n",
      "Collecting requests-oauthlib<2,>=1.0.0\n",
      "  Downloading requests_oauthlib-1.3.0-py2.py3-none-any.whl (23 kB)\n",
      "Requirement already satisfied: requests<3,>=2.11.1 in c:\\users\\user\\anaconda3\\lib\\site-packages (from tweepy) (2.25.1)\n",
      "Requirement already satisfied: idna<3,>=2.5 in c:\\users\\user\\anaconda3\\lib\\site-packages (from requests<3,>=2.11.1->tweepy) (2.10)\n",
      "Requirement already satisfied: chardet<5,>=3.0.2 in c:\\users\\user\\anaconda3\\lib\\site-packages (from requests<3,>=2.11.1->tweepy) (4.0.0)\n",
      "Requirement already satisfied: urllib3<1.27,>=1.21.1 in c:\\users\\user\\anaconda3\\lib\\site-packages (from requests<3,>=2.11.1->tweepy) (1.26.4)\n",
      "Requirement already satisfied: certifi>=2017.4.17 in c:\\users\\user\\anaconda3\\lib\\site-packages (from requests<3,>=2.11.1->tweepy) (2020.12.5)\n",
      "Collecting oauthlib>=3.0.0\n",
      "  Downloading oauthlib-3.1.1-py2.py3-none-any.whl (146 kB)\n",
      "Installing collected packages: oauthlib, requests-oauthlib, tweepy\n",
      "Successfully installed oauthlib-3.1.1 requests-oauthlib-1.3.0 tweepy-4.3.0\n",
      "Note: you may need to restart the kernel to use updated packages.\n"
     ]
    }
   ],
   "source": [
    "pip install tweepy"
   ]
  },
  {
   "cell_type": "code",
   "execution_count": 244,
   "id": "863860b4",
   "metadata": {},
   "outputs": [],
   "source": [
    "import tweepy\n",
    "import pandas as pd\n",
    "import numpy as np"
   ]
  },
  {
   "cell_type": "code",
   "execution_count": 245,
   "id": "29c777d8",
   "metadata": {},
   "outputs": [
    {
     "name": "stdout",
     "output_type": "stream",
     "text": [
      "<tweepy.api.API object at 0x00000244A4A49370>\n"
     ]
    }
   ],
   "source": [
    "## 트위터 api와 연결\n",
    "\n",
    "def connect_api():\n",
    "\n",
    "    consumer_key = 'kLT03JBWXZ2pPL66raMLxno4D'\n",
    "    consumer_secret = 'ktsvyddQGBmmIeQVNmaULbrj3KzDOasNjV4TtkzBCtoiY2joUV'\n",
    "    access_token = '1458387969703047169-ViBmqxkhvquqQWabJ5kWRnJZF6kRjH'\n",
    "    access_token_secret = 'w9wQH4kBsZGSO1WADqCTmdR7whfqsnCkkTg9Aiqm1d2TW'\n",
    "\n",
    "    auth = tweepy.OAuthHandler(consumer_key, consumer_secret)\n",
    "    auth.set_access_token(access_token, access_token_secret)\n",
    "\n",
    "    api = tweepy.API(auth)\n",
    "\n",
    "    return api\n",
    "\n",
    "print(connect_api())"
   ]
  },
  {
   "cell_type": "code",
   "execution_count": 246,
   "id": "37af36bf",
   "metadata": {},
   "outputs": [],
   "source": [
    "api = connect_api()"
   ]
  },
  {
   "cell_type": "code",
   "execution_count": 258,
   "id": "24d60304",
   "metadata": {},
   "outputs": [],
   "source": [
    "keyword = \"#드로잉\"  #검색하고 싶은 해시태그 또는 키워드\n",
    "result = [] # 크롤링 텍스트를 저장할 리스트 변수"
   ]
  },
  {
   "cell_type": "code",
   "execution_count": 259,
   "id": "ebe921ba",
   "metadata": {},
   "outputs": [],
   "source": [
    "tweets = api.search_tweets(keyword) "
   ]
  },
  {
   "cell_type": "code",
   "execution_count": 260,
   "id": "7f556a71",
   "metadata": {},
   "outputs": [
    {
     "data": {
      "text/plain": [
       "tweepy.models.SearchResults"
      ]
     },
     "execution_count": 260,
     "metadata": {},
     "output_type": "execute_result"
    }
   ],
   "source": [
    "type(tweets)"
   ]
  },
  {
   "cell_type": "code",
   "execution_count": 271,
   "id": "d681605a",
   "metadata": {
    "scrolled": true
   },
   "outputs": [
    {
     "name": "stdout",
     "output_type": "stream",
     "text": [
      "                 id_str                                               text\n",
      "0   1460304145945010184  E. G. 러츠의 세상에서 가장 쉬운 그림 그리기 월트 디즈니 등 수많은 작가가 따...\n",
      "1   1460301623511556098  E. G. 러츠의 세상에서 가장 쉬운 그림 그리기 직선, 원, 작은 도형 등 기본 ...\n",
      "2   1460301232279781376  #웹툰 #일상 #만화 #일러스트 #데일리 #일상툰 #webtoon #drawing ...\n",
      "3   1460266038419853312  Summoning ceremony and a dried tangerine\\n2021...\n",
      "4   1460258771012251652  RT @HANTOGRAPH_: https://t.co/NnppWtXOfH\\n\\n잘 ...\n",
      "..                  ...                                                ...\n",
      "85  1460242232917643269  RT @HANTOGRAPH_: 🇰🇷 조선 쎄비지.. @aespa_official \\...\n",
      "86  1460241786920574977  RT @REVINCI09: ✨Revinci_Cat#8\\n🐱0.004 ETH\\n\\nT...\n",
      "87  1460236976217460737                                    #드로잉 #그림러 #일러스트\n",
      "88  1460235343332925446  #illustration #drawing #inkdrawing #sketch #in...\n",
      "89  1460230347480711168  RT @HANTOGRAPH_: https://t.co/NnppWtXOfH\\n\\n잘 ...\n",
      "\n",
      "[90 rows x 2 columns]\n"
     ]
    }
   ],
   "source": [
    "# 키워드: 드로잉 검색 및 결과\n",
    "\n",
    "for tweet in tweets:\n",
    "    result.append([tweet.id_str, tweet.text])\n",
    "\n",
    "\n",
    "df = pd.DataFrame(result, columns = ['id_str', 'text'])\n",
    "print(df)"
   ]
  },
  {
   "cell_type": "code",
   "execution_count": 274,
   "id": "b3954d0b",
   "metadata": {},
   "outputs": [
    {
     "data": {
      "text/html": [
       "<div>\n",
       "<style scoped>\n",
       "    .dataframe tbody tr th:only-of-type {\n",
       "        vertical-align: middle;\n",
       "    }\n",
       "\n",
       "    .dataframe tbody tr th {\n",
       "        vertical-align: top;\n",
       "    }\n",
       "\n",
       "    .dataframe thead th {\n",
       "        text-align: right;\n",
       "    }\n",
       "</style>\n",
       "<table border=\"1\" class=\"dataframe\">\n",
       "  <thead>\n",
       "    <tr style=\"text-align: right;\">\n",
       "      <th></th>\n",
       "      <th>id_str</th>\n",
       "      <th>text</th>\n",
       "    </tr>\n",
       "  </thead>\n",
       "  <tbody>\n",
       "    <tr>\n",
       "      <th>0</th>\n",
       "      <td>1460304145945010184</td>\n",
       "      <td>E. G. 러츠의 세상에서 가장 쉬운 그림 그리기 월트 디즈니 등 수많은 작가가 따...</td>\n",
       "    </tr>\n",
       "    <tr>\n",
       "      <th>1</th>\n",
       "      <td>1460301623511556098</td>\n",
       "      <td>E. G. 러츠의 세상에서 가장 쉬운 그림 그리기 직선, 원, 작은 도형 등 기본 ...</td>\n",
       "    </tr>\n",
       "    <tr>\n",
       "      <th>2</th>\n",
       "      <td>1460301232279781376</td>\n",
       "      <td>#웹툰 #일상 #만화 #일러스트 #데일리 #일상툰 #webtoon #drawing ...</td>\n",
       "    </tr>\n",
       "    <tr>\n",
       "      <th>3</th>\n",
       "      <td>1460266038419853312</td>\n",
       "      <td>Summoning ceremony and a dried tangerine\\n2021...</td>\n",
       "    </tr>\n",
       "    <tr>\n",
       "      <th>4</th>\n",
       "      <td>1460258771012251652</td>\n",
       "      <td>RT @HANTOGRAPH_: https://t.co/NnppWtXOfH\\n\\n잘 ...</td>\n",
       "    </tr>\n",
       "    <tr>\n",
       "      <th>6</th>\n",
       "      <td>1460255782369304577</td>\n",
       "      <td>RT @REVINCI09: ✨Revinci_Cat#8\\n🐱0.004 ETH\\n\\nT...</td>\n",
       "    </tr>\n",
       "    <tr>\n",
       "      <th>7</th>\n",
       "      <td>1460247679439540230</td>\n",
       "      <td>독 뱉는 몬스터. 턱부분에 독을모아 가래처럼 토해냄.\\n#digital2d #dig...</td>\n",
       "    </tr>\n",
       "    <tr>\n",
       "      <th>8</th>\n",
       "      <td>1460246956597727232</td>\n",
       "      <td>#웹툰 #일상 #만화 #일러스트 #데일리 #일상툰 #webtoon #drawing ...</td>\n",
       "    </tr>\n",
       "    <tr>\n",
       "      <th>9</th>\n",
       "      <td>1460242785068470272</td>\n",
       "      <td>#드로잉 연습 #자화상 #나 #헤헤 https://t.co/Gzf8hAYCwJ</td>\n",
       "    </tr>\n",
       "    <tr>\n",
       "      <th>10</th>\n",
       "      <td>1460242232917643269</td>\n",
       "      <td>RT @HANTOGRAPH_: 🇰🇷 조선 쎄비지.. @aespa_official \\...</td>\n",
       "    </tr>\n",
       "    <tr>\n",
       "      <th>12</th>\n",
       "      <td>1460236976217460737</td>\n",
       "      <td>#드로잉 #그림러 #일러스트</td>\n",
       "    </tr>\n",
       "    <tr>\n",
       "      <th>13</th>\n",
       "      <td>1460235343332925446</td>\n",
       "      <td>#illustration #drawing #inkdrawing #sketch #in...</td>\n",
       "    </tr>\n",
       "  </tbody>\n",
       "</table>\n",
       "</div>"
      ],
      "text/plain": [
       "                 id_str                                               text\n",
       "0   1460304145945010184  E. G. 러츠의 세상에서 가장 쉬운 그림 그리기 월트 디즈니 등 수많은 작가가 따...\n",
       "1   1460301623511556098  E. G. 러츠의 세상에서 가장 쉬운 그림 그리기 직선, 원, 작은 도형 등 기본 ...\n",
       "2   1460301232279781376  #웹툰 #일상 #만화 #일러스트 #데일리 #일상툰 #webtoon #drawing ...\n",
       "3   1460266038419853312  Summoning ceremony and a dried tangerine\\n2021...\n",
       "4   1460258771012251652  RT @HANTOGRAPH_: https://t.co/NnppWtXOfH\\n\\n잘 ...\n",
       "6   1460255782369304577  RT @REVINCI09: ✨Revinci_Cat#8\\n🐱0.004 ETH\\n\\nT...\n",
       "7   1460247679439540230  독 뱉는 몬스터. 턱부분에 독을모아 가래처럼 토해냄.\\n#digital2d #dig...\n",
       "8   1460246956597727232  #웹툰 #일상 #만화 #일러스트 #데일리 #일상툰 #webtoon #drawing ...\n",
       "9   1460242785068470272        #드로잉 연습 #자화상 #나 #헤헤 https://t.co/Gzf8hAYCwJ\n",
       "10  1460242232917643269  RT @HANTOGRAPH_: 🇰🇷 조선 쎄비지.. @aespa_official \\...\n",
       "12  1460236976217460737                                    #드로잉 #그림러 #일러스트\n",
       "13  1460235343332925446  #illustration #drawing #inkdrawing #sketch #in..."
      ]
     },
     "execution_count": 274,
     "metadata": {},
     "output_type": "execute_result"
    }
   ],
   "source": [
    "# 내용 중복제거 \n",
    "\n",
    "df.drop_duplicates(['text'])"
   ]
  },
  {
   "cell_type": "code",
   "execution_count": 272,
   "id": "9497227f",
   "metadata": {},
   "outputs": [],
   "source": [
    "id_list_dr = df['id_str'].values.tolist()\n",
    "\n",
    "id_list_dr = list(set(id_list_dr)) ## 필요없는 아이디 리스트로 변환 후 중복 제거"
   ]
  },
  {
   "cell_type": "code",
   "execution_count": 273,
   "id": "9ba3f472",
   "metadata": {},
   "outputs": [],
   "source": [
    "id_list_dr[-1]=\"\""
   ]
  },
  {
   "cell_type": "code",
   "execution_count": 268,
   "id": "a053b84d",
   "metadata": {},
   "outputs": [
    {
     "name": "stdout",
     "output_type": "stream",
     "text": [
      "                 id_str                                               text\n",
      "4   1460258771012251652  RT @HANTOGRAPH_: https://t.co/NnppWtXOfH\\n\\n잘 ...\n",
      "19  1460258771012251652  RT @HANTOGRAPH_: https://t.co/NnppWtXOfH\\n\\n잘 ...\n",
      "34  1460258771012251652  RT @HANTOGRAPH_: https://t.co/NnppWtXOfH\\n\\n잘 ...\n"
     ]
    }
   ],
   "source": [
    "# 키워드 검색 및 결과\n",
    "\n",
    "for tweet in tweets:\n",
    "    result.append([tweet.id_str, tweet.text])\n",
    "\n",
    "\n",
    "df = pd.DataFrame(result, columns = ['id_str', 'text'])\n",
    "\n",
    "mask = df['id_str'].isin(id_list_dr)\n",
    "print(df[~mask])"
   ]
  },
  {
   "cell_type": "code",
   "execution_count": null,
   "id": "0b20e7d1",
   "metadata": {},
   "outputs": [],
   "source": []
  },
  {
   "cell_type": "code",
   "execution_count": null,
   "id": "4b2c7ef5",
   "metadata": {},
   "outputs": [],
   "source": []
  },
  {
   "cell_type": "code",
   "execution_count": null,
   "id": "1680c5c4",
   "metadata": {},
   "outputs": [],
   "source": []
  },
  {
   "cell_type": "code",
   "execution_count": 250,
   "id": "d8b4eeff",
   "metadata": {},
   "outputs": [
    {
     "ename": "AttributeError",
     "evalue": "'str' object has no attribute 'text'",
     "output_type": "error",
     "traceback": [
      "\u001b[1;31m---------------------------------------------------------------------------\u001b[0m",
      "\u001b[1;31mAttributeError\u001b[0m                            Traceback (most recent call last)",
      "\u001b[1;32m<ipython-input-250-6a14d37c3b68>\u001b[0m in \u001b[0;36m<module>\u001b[1;34m\u001b[0m\n\u001b[0;32m      2\u001b[0m \u001b[1;33m\u001b[0m\u001b[0m\n\u001b[0;32m      3\u001b[0m \u001b[1;32mfor\u001b[0m \u001b[0mtweet\u001b[0m \u001b[1;32min\u001b[0m \u001b[0mtweets\u001b[0m\u001b[1;33m:\u001b[0m\u001b[1;33m\u001b[0m\u001b[1;33m\u001b[0m\u001b[0m\n\u001b[1;32m----> 4\u001b[1;33m     \u001b[1;32mif\u001b[0m \u001b[0mtweet\u001b[0m\u001b[1;33m.\u001b[0m\u001b[0mid_str\u001b[0m\u001b[1;33m.\u001b[0m\u001b[0mtext\u001b[0m \u001b[1;32mnot\u001b[0m \u001b[1;32min\u001b[0m \u001b[0mid_list_2\u001b[0m\u001b[1;33m:\u001b[0m\u001b[1;33m\u001b[0m\u001b[1;33m\u001b[0m\u001b[0m\n\u001b[0m\u001b[0;32m      5\u001b[0m         \u001b[0mresult\u001b[0m\u001b[1;33m.\u001b[0m\u001b[0mappend\u001b[0m\u001b[1;33m(\u001b[0m\u001b[1;33m[\u001b[0m\u001b[0mtweet\u001b[0m\u001b[1;33m.\u001b[0m\u001b[0mcreated_at\u001b[0m\u001b[1;33m,\u001b[0m \u001b[0mtweet\u001b[0m\u001b[1;33m.\u001b[0m\u001b[0mid_str\u001b[0m\u001b[1;33m,\u001b[0m \u001b[0mtweet\u001b[0m\u001b[1;33m.\u001b[0m\u001b[0mtext\u001b[0m\u001b[1;33m,\u001b[0m \u001b[0mtweet\u001b[0m\u001b[1;33m.\u001b[0m\u001b[0mfavorite_count\u001b[0m\u001b[1;33m,\u001b[0m \u001b[0mtweet\u001b[0m\u001b[1;33m.\u001b[0m\u001b[0mretweet_count\u001b[0m\u001b[1;33m]\u001b[0m\u001b[1;33m)\u001b[0m\u001b[1;33m\u001b[0m\u001b[1;33m\u001b[0m\u001b[0m\n\u001b[0;32m      6\u001b[0m \u001b[1;33m\u001b[0m\u001b[0m\n",
      "\u001b[1;31mAttributeError\u001b[0m: 'str' object has no attribute 'text'"
     ]
    }
   ],
   "source": [
    "# 키워드 검색 및 결과\n",
    "\n",
    "for tweet in tweets:\n",
    "    if tweet.id_str.text not in id_list_2:\n",
    "        result.append([tweet.created_at, tweet.id_str, tweet.text, tweet.favorite_count, tweet.retweet_count])\n",
    " \n",
    "df = pd.DataFrame(result, columns = ['time', 'id', 'text', 'likely', 'retweet'])\n",
    "\n",
    "print(len(result)) #크롤링하여 가져온 트윗 개수\n",
    "print(df) #크롤링 결과 확인"
   ]
  },
  {
   "cell_type": "code",
   "execution_count": null,
   "id": "1dece15f",
   "metadata": {},
   "outputs": [],
   "source": []
  },
  {
   "cell_type": "code",
   "execution_count": null,
   "id": "a2bb0c1e",
   "metadata": {},
   "outputs": [],
   "source": []
  },
  {
   "cell_type": "code",
   "execution_count": 219,
   "id": "0c33d2ef",
   "metadata": {
    "scrolled": true
   },
   "outputs": [
    {
     "name": "stdout",
     "output_type": "stream",
     "text": [
      "29970\n",
      "                           time                   id  \\\n",
      "0     2021-11-15 15:21:17+00:00  1460266662754598917   \n",
      "1     2021-11-15 15:20:56+00:00  1460266575487848451   \n",
      "2     2021-11-15 15:20:20+00:00  1460266425067524099   \n",
      "3     2021-11-15 15:20:04+00:00  1460266355475681287   \n",
      "4     2021-11-15 15:18:35+00:00  1460265984850202637   \n",
      "...                         ...                  ...   \n",
      "29965 2021-11-15 15:10:20+00:00  1460263908673871873   \n",
      "29966 2021-11-15 15:10:14+00:00  1460263883357102086   \n",
      "29967 2021-11-15 15:09:15+00:00  1460263633351430144   \n",
      "29968 2021-11-15 15:08:40+00:00  1460263486311833601   \n",
      "29969 2021-11-15 15:06:54+00:00  1460263044739571720   \n",
      "\n",
      "                                                    text  likely  retweet  \n",
      "0      24살 지호에요~좋은인연되길 봐래요~21\\n카톳 qoqo666 선톳부탁드려용~\\n#...       0        0  \n",
      "1      카톡:young898\\n외로울때 만나서 데이트나 술한잔하실분 톡주세용~\\n#취미 #...       0        0  \n",
      "2      11월 16일 봄봄스쿨 도서판매순위 153위 (↓140) 월드 퍼즐 150 스도쿠 ...       0        0  \n",
      "3      11월 16일 봄봄스쿨 도서판매순위 72위 (↑116) 젠탱글 아트 컬러링북, 봄봄...       0        0  \n",
      "4      카톡:young898\\n외로울때 만나서 데이트나 술한잔하실분 톡주세용~\\n#취미 #...       0        0  \n",
      "...                                                  ...     ...      ...  \n",
      "29965  11월 16일 스도쿠365 도서판매순위 28위 (↑17) 하루 15분 두뇌훈련 브레...       0        0  \n",
      "29966  아키텍쳐 아트 컬러링북 여러 색을 써서 음영을 내면 한층 생생한 느낌을 줄 수 있습...       0        0  \n",
      "29967  카톡:young898\\n외로울때 만나서 데이트나 술한잔하실분 톡주세용~\\n#취미 #...       0        0  \n",
      "29968  ⭐🐤日本最大級になる予定の相互フォロー支援アカウント🐤⭐\\n私のフォロワーをみんなでフォロー...       0        0  \n",
      "29969  카톡:young898\\n외로울때 만나서 데이트나 술한잔하실분 톡주세용~\\n#취미 #...       0        0  \n",
      "\n",
      "[29970 rows x 5 columns]\n"
     ]
    }
   ],
   "source": [
    "# 키워드 검색 및 결과\n",
    "\n",
    "for i in range(1,1000) :\n",
    "    for tweet in tweets:\n",
    "        result.append([tweet.created_at, tweet.id_str, tweet.text, tweet.favorite_count, tweet.retweet_count])\n",
    "\n",
    "result = sorted(result, key=lambda x : -x[-2]) #좋아요 수 기준으로 정렬\n",
    "    \n",
    "df = pd.DataFrame(result, columns = ['time', 'id', 'text', 'likely', 'retweet'])\n",
    "\n",
    "print(len(result)) #크롤링하여 가져온 트윗 개수\n",
    "print(df) #크롤링 결과 확인"
   ]
  },
  {
   "cell_type": "code",
   "execution_count": 220,
   "id": "5ad7b3f6",
   "metadata": {},
   "outputs": [
    {
     "data": {
      "text/html": [
       "<div>\n",
       "<style scoped>\n",
       "    .dataframe tbody tr th:only-of-type {\n",
       "        vertical-align: middle;\n",
       "    }\n",
       "\n",
       "    .dataframe tbody tr th {\n",
       "        vertical-align: top;\n",
       "    }\n",
       "\n",
       "    .dataframe thead th {\n",
       "        text-align: right;\n",
       "    }\n",
       "</style>\n",
       "<table border=\"1\" class=\"dataframe\">\n",
       "  <thead>\n",
       "    <tr style=\"text-align: right;\">\n",
       "      <th></th>\n",
       "      <th>time</th>\n",
       "      <th>id</th>\n",
       "      <th>text</th>\n",
       "      <th>likely</th>\n",
       "      <th>retweet</th>\n",
       "    </tr>\n",
       "  </thead>\n",
       "  <tbody>\n",
       "    <tr>\n",
       "      <th>0</th>\n",
       "      <td>2021-11-15 15:21:17+00:00</td>\n",
       "      <td>1460266662754598917</td>\n",
       "      <td>24살 지호에요~좋은인연되길 봐래요~21\\n카톳 qoqo666 선톳부탁드려용~\\n#...</td>\n",
       "      <td>0</td>\n",
       "      <td>0</td>\n",
       "    </tr>\n",
       "    <tr>\n",
       "      <th>1</th>\n",
       "      <td>2021-11-15 15:20:56+00:00</td>\n",
       "      <td>1460266575487848451</td>\n",
       "      <td>카톡:young898\\n외로울때 만나서 데이트나 술한잔하실분 톡주세용~\\n#취미 #...</td>\n",
       "      <td>0</td>\n",
       "      <td>0</td>\n",
       "    </tr>\n",
       "    <tr>\n",
       "      <th>2</th>\n",
       "      <td>2021-11-15 15:20:20+00:00</td>\n",
       "      <td>1460266425067524099</td>\n",
       "      <td>11월 16일 봄봄스쿨 도서판매순위 153위 (↓140) 월드 퍼즐 150 스도쿠 ...</td>\n",
       "      <td>0</td>\n",
       "      <td>0</td>\n",
       "    </tr>\n",
       "    <tr>\n",
       "      <th>3</th>\n",
       "      <td>2021-11-15 15:20:04+00:00</td>\n",
       "      <td>1460266355475681287</td>\n",
       "      <td>11월 16일 봄봄스쿨 도서판매순위 72위 (↑116) 젠탱글 아트 컬러링북, 봄봄...</td>\n",
       "      <td>0</td>\n",
       "      <td>0</td>\n",
       "    </tr>\n",
       "    <tr>\n",
       "      <th>4</th>\n",
       "      <td>2021-11-15 15:18:35+00:00</td>\n",
       "      <td>1460265984850202637</td>\n",
       "      <td>카톡:young898\\n외로울때 만나서 데이트나 술한잔하실분 톡주세용~\\n#취미 #...</td>\n",
       "      <td>0</td>\n",
       "      <td>0</td>\n",
       "    </tr>\n",
       "    <tr>\n",
       "      <th>5</th>\n",
       "      <td>2021-11-15 15:18:21+00:00</td>\n",
       "      <td>1460265922845884429</td>\n",
       "      <td>💞😍相互フォロー支援アカウントです😍💞\\nこのアカウントをフォローしている人をみんなでフォロ...</td>\n",
       "      <td>0</td>\n",
       "      <td>0</td>\n",
       "    </tr>\n",
       "    <tr>\n",
       "      <th>6</th>\n",
       "      <td>2021-11-15 15:16:16+00:00</td>\n",
       "      <td>1460265399753199620</td>\n",
       "      <td>카톡:young898\\n외로울때 만나서 데이트나 술한잔하실분 톡주세용~\\n#취미 #...</td>\n",
       "      <td>0</td>\n",
       "      <td>0</td>\n",
       "    </tr>\n",
       "    <tr>\n",
       "      <th>7</th>\n",
       "      <td>2021-11-15 15:13:55+00:00</td>\n",
       "      <td>1460264810503753731</td>\n",
       "      <td>카톡:young898\\n외로울때 만나서 데이트나 술한잔하실분 톡주세용~\\n#취미 #...</td>\n",
       "      <td>0</td>\n",
       "      <td>0</td>\n",
       "    </tr>\n",
       "    <tr>\n",
       "      <th>8</th>\n",
       "      <td>2021-11-15 15:11:35+00:00</td>\n",
       "      <td>1460264221686386694</td>\n",
       "      <td>카톡:young898\\n외로울때 만나서 데이트나 술한잔하실분 톡주세용~\\n#취미 #...</td>\n",
       "      <td>0</td>\n",
       "      <td>0</td>\n",
       "    </tr>\n",
       "    <tr>\n",
       "      <th>9</th>\n",
       "      <td>2021-11-15 15:10:21+00:00</td>\n",
       "      <td>1460263909835763712</td>\n",
       "      <td>11월 16일 봄봄스쿨 도서판매순위 120위 (NEW) 인기 손바느질 소품 (핸드메...</td>\n",
       "      <td>0</td>\n",
       "      <td>0</td>\n",
       "    </tr>\n",
       "    <tr>\n",
       "      <th>10</th>\n",
       "      <td>2021-11-15 15:10:20+00:00</td>\n",
       "      <td>1460263908673871873</td>\n",
       "      <td>11월 16일 스도쿠365 도서판매순위 28위 (↑17) 하루 15분 두뇌훈련 브레...</td>\n",
       "      <td>0</td>\n",
       "      <td>0</td>\n",
       "    </tr>\n",
       "    <tr>\n",
       "      <th>11</th>\n",
       "      <td>2021-11-15 15:10:14+00:00</td>\n",
       "      <td>1460263883357102086</td>\n",
       "      <td>아키텍쳐 아트 컬러링북 여러 색을 써서 음영을 내면 한층 생생한 느낌을 줄 수 있습...</td>\n",
       "      <td>0</td>\n",
       "      <td>0</td>\n",
       "    </tr>\n",
       "    <tr>\n",
       "      <th>12</th>\n",
       "      <td>2021-11-15 15:09:15+00:00</td>\n",
       "      <td>1460263633351430144</td>\n",
       "      <td>카톡:young898\\n외로울때 만나서 데이트나 술한잔하실분 톡주세용~\\n#취미 #...</td>\n",
       "      <td>0</td>\n",
       "      <td>0</td>\n",
       "    </tr>\n",
       "    <tr>\n",
       "      <th>13</th>\n",
       "      <td>2021-11-15 15:08:40+00:00</td>\n",
       "      <td>1460263486311833601</td>\n",
       "      <td>⭐🐤日本最大級になる予定の相互フォロー支援アカウント🐤⭐\\n私のフォロワーをみんなでフォロー...</td>\n",
       "      <td>0</td>\n",
       "      <td>0</td>\n",
       "    </tr>\n",
       "    <tr>\n",
       "      <th>14</th>\n",
       "      <td>2021-11-15 15:06:54+00:00</td>\n",
       "      <td>1460263044739571720</td>\n",
       "      <td>카톡:young898\\n외로울때 만나서 데이트나 술한잔하실분 톡주세용~\\n#취미 #...</td>\n",
       "      <td>0</td>\n",
       "      <td>0</td>\n",
       "    </tr>\n",
       "  </tbody>\n",
       "</table>\n",
       "</div>"
      ],
      "text/plain": [
       "                        time                   id  \\\n",
       "0  2021-11-15 15:21:17+00:00  1460266662754598917   \n",
       "1  2021-11-15 15:20:56+00:00  1460266575487848451   \n",
       "2  2021-11-15 15:20:20+00:00  1460266425067524099   \n",
       "3  2021-11-15 15:20:04+00:00  1460266355475681287   \n",
       "4  2021-11-15 15:18:35+00:00  1460265984850202637   \n",
       "5  2021-11-15 15:18:21+00:00  1460265922845884429   \n",
       "6  2021-11-15 15:16:16+00:00  1460265399753199620   \n",
       "7  2021-11-15 15:13:55+00:00  1460264810503753731   \n",
       "8  2021-11-15 15:11:35+00:00  1460264221686386694   \n",
       "9  2021-11-15 15:10:21+00:00  1460263909835763712   \n",
       "10 2021-11-15 15:10:20+00:00  1460263908673871873   \n",
       "11 2021-11-15 15:10:14+00:00  1460263883357102086   \n",
       "12 2021-11-15 15:09:15+00:00  1460263633351430144   \n",
       "13 2021-11-15 15:08:40+00:00  1460263486311833601   \n",
       "14 2021-11-15 15:06:54+00:00  1460263044739571720   \n",
       "\n",
       "                                                 text  likely  retweet  \n",
       "0   24살 지호에요~좋은인연되길 봐래요~21\\n카톳 qoqo666 선톳부탁드려용~\\n#...       0        0  \n",
       "1   카톡:young898\\n외로울때 만나서 데이트나 술한잔하실분 톡주세용~\\n#취미 #...       0        0  \n",
       "2   11월 16일 봄봄스쿨 도서판매순위 153위 (↓140) 월드 퍼즐 150 스도쿠 ...       0        0  \n",
       "3   11월 16일 봄봄스쿨 도서판매순위 72위 (↑116) 젠탱글 아트 컬러링북, 봄봄...       0        0  \n",
       "4   카톡:young898\\n외로울때 만나서 데이트나 술한잔하실분 톡주세용~\\n#취미 #...       0        0  \n",
       "5   💞😍相互フォロー支援アカウントです😍💞\\nこのアカウントをフォローしている人をみんなでフォロ...       0        0  \n",
       "6   카톡:young898\\n외로울때 만나서 데이트나 술한잔하실분 톡주세용~\\n#취미 #...       0        0  \n",
       "7   카톡:young898\\n외로울때 만나서 데이트나 술한잔하실분 톡주세용~\\n#취미 #...       0        0  \n",
       "8   카톡:young898\\n외로울때 만나서 데이트나 술한잔하실분 톡주세용~\\n#취미 #...       0        0  \n",
       "9   11월 16일 봄봄스쿨 도서판매순위 120위 (NEW) 인기 손바느질 소품 (핸드메...       0        0  \n",
       "10  11월 16일 스도쿠365 도서판매순위 28위 (↑17) 하루 15분 두뇌훈련 브레...       0        0  \n",
       "11  아키텍쳐 아트 컬러링북 여러 색을 써서 음영을 내면 한층 생생한 느낌을 줄 수 있습...       0        0  \n",
       "12  카톡:young898\\n외로울때 만나서 데이트나 술한잔하실분 톡주세용~\\n#취미 #...       0        0  \n",
       "13  ⭐🐤日本最大級になる予定の相互フォロー支援アカウント🐤⭐\\n私のフォロワーをみんなでフォロー...       0        0  \n",
       "14  카톡:young898\\n외로울때 만나서 데이트나 술한잔하실분 톡주세용~\\n#취미 #...       0        0  "
      ]
     },
     "execution_count": 220,
     "metadata": {},
     "output_type": "execute_result"
    }
   ],
   "source": [
    "df.drop_duplicates(['text'])"
   ]
  },
  {
   "cell_type": "code",
   "execution_count": 221,
   "id": "8f2110be",
   "metadata": {
    "scrolled": true
   },
   "outputs": [],
   "source": [
    "df.to_csv('result_drawing.csv', encoding='utf-8-sig')"
   ]
  },
  {
   "cell_type": "code",
   "execution_count": 222,
   "id": "24cdd34a",
   "metadata": {
    "scrolled": true
   },
   "outputs": [
    {
     "data": {
      "text/plain": [
       "pandas.core.series.Series"
      ]
     },
     "execution_count": 222,
     "metadata": {},
     "output_type": "execute_result"
    }
   ],
   "source": [
    "type(df['id'])"
   ]
  },
  {
   "cell_type": "code",
   "execution_count": 138,
   "id": "edce8531",
   "metadata": {},
   "outputs": [],
   "source": [
    "import numpy as np"
   ]
  },
  {
   "cell_type": "code",
   "execution_count": 224,
   "id": "08e72f29",
   "metadata": {},
   "outputs": [],
   "source": [
    "id_list = df['id'].values.tolist()\n",
    "\n",
    "id_list = list(set(id_list)) ## 필요없는 아이디 리스트로 변환 후 중복 제거"
   ]
  },
  {
   "cell_type": "code",
   "execution_count": 225,
   "id": "9e610d9d",
   "metadata": {},
   "outputs": [
    {
     "name": "stdout",
     "output_type": "stream",
     "text": [
      "['1460266355475681287', '1460263633351430144', '1460266575487848451', '1460263909835763712', '1460265399753199620', '1460263883357102086', '1460266662754598917', '1460264221686386694', '1460265984850202637', '1460264810503753731', '1460266425067524099', '1460263908673871873', '1460263486311833601', '1460265922845884429', '1460263044739571720']\n"
     ]
    }
   ],
   "source": [
    "print(id_list)  ## 제외하고 싶은 id"
   ]
  },
  {
   "cell_type": "code",
   "execution_count": 238,
   "id": "51b01fe7",
   "metadata": {},
   "outputs": [
    {
     "name": "stdout",
     "output_type": "stream",
     "text": [
      "['1460266355475681287', '1460263633351430144', '1460266575487848451', '1460263909835763712', '1460265399753199620', '1460263883357102086', '1460266662754598917', '1460264221686386694', '1460265984850202637', '1460264810503753731', '1460266425067524099', '1460263908673871873', '1460263486311833601']\n"
     ]
    }
   ],
   "source": [
    "id_list_2 = ['1460266355475681287', '1460263633351430144', '1460266575487848451', '1460263909835763712', '1460265399753199620', '1460263883357102086', '1460266662754598917', '1460264221686386694', '1460265984850202637', '1460264810503753731', '1460266425067524099', '1460263908673871873', '1460263486311833601']\n",
    "print(id_list_2)"
   ]
  },
  {
   "cell_type": "code",
   "execution_count": 243,
   "id": "4d275019",
   "metadata": {},
   "outputs": [
    {
     "ename": "AttributeError",
     "evalue": "'str' object has no attribute 'text'",
     "output_type": "error",
     "traceback": [
      "\u001b[1;31m---------------------------------------------------------------------------\u001b[0m",
      "\u001b[1;31mAttributeError\u001b[0m                            Traceback (most recent call last)",
      "\u001b[1;32m<ipython-input-243-6a14d37c3b68>\u001b[0m in \u001b[0;36m<module>\u001b[1;34m\u001b[0m\n\u001b[0;32m      2\u001b[0m \u001b[1;33m\u001b[0m\u001b[0m\n\u001b[0;32m      3\u001b[0m \u001b[1;32mfor\u001b[0m \u001b[0mtweet\u001b[0m \u001b[1;32min\u001b[0m \u001b[0mtweets\u001b[0m\u001b[1;33m:\u001b[0m\u001b[1;33m\u001b[0m\u001b[1;33m\u001b[0m\u001b[0m\n\u001b[1;32m----> 4\u001b[1;33m     \u001b[1;32mif\u001b[0m \u001b[0mtweet\u001b[0m\u001b[1;33m.\u001b[0m\u001b[0mid_str\u001b[0m\u001b[1;33m.\u001b[0m\u001b[0mtext\u001b[0m \u001b[1;32mnot\u001b[0m \u001b[1;32min\u001b[0m \u001b[0mid_list_2\u001b[0m\u001b[1;33m:\u001b[0m\u001b[1;33m\u001b[0m\u001b[1;33m\u001b[0m\u001b[0m\n\u001b[0m\u001b[0;32m      5\u001b[0m         \u001b[0mresult\u001b[0m\u001b[1;33m.\u001b[0m\u001b[0mappend\u001b[0m\u001b[1;33m(\u001b[0m\u001b[1;33m[\u001b[0m\u001b[0mtweet\u001b[0m\u001b[1;33m.\u001b[0m\u001b[0mcreated_at\u001b[0m\u001b[1;33m,\u001b[0m \u001b[0mtweet\u001b[0m\u001b[1;33m.\u001b[0m\u001b[0mid_str\u001b[0m\u001b[1;33m,\u001b[0m \u001b[0mtweet\u001b[0m\u001b[1;33m.\u001b[0m\u001b[0mtext\u001b[0m\u001b[1;33m,\u001b[0m \u001b[0mtweet\u001b[0m\u001b[1;33m.\u001b[0m\u001b[0mfavorite_count\u001b[0m\u001b[1;33m,\u001b[0m \u001b[0mtweet\u001b[0m\u001b[1;33m.\u001b[0m\u001b[0mretweet_count\u001b[0m\u001b[1;33m]\u001b[0m\u001b[1;33m)\u001b[0m\u001b[1;33m\u001b[0m\u001b[1;33m\u001b[0m\u001b[0m\n\u001b[0;32m      6\u001b[0m \u001b[1;33m\u001b[0m\u001b[0m\n",
      "\u001b[1;31mAttributeError\u001b[0m: 'str' object has no attribute 'text'"
     ]
    }
   ],
   "source": [
    "# 키워드 검색 및 결과\n",
    "\n",
    "for tweet in tweets:\n",
    "    if tweet.id_str.text not in id_list_2:\n",
    "        result.append([tweet.created_at, tweet.id_str, tweet.text, tweet.favorite_count, tweet.retweet_count])\n",
    " \n",
    "df = pd.DataFrame(result, columns = ['time', 'id', 'text', 'likely', 'retweet'])\n",
    "\n",
    "print(len(result)) #크롤링하여 가져온 트윗 개수\n",
    "print(df) #크롤링 결과 확인"
   ]
  },
  {
   "cell_type": "code",
   "execution_count": 223,
   "id": "a41e75b3",
   "metadata": {
    "scrolled": true
   },
   "outputs": [
    {
     "data": {
      "text/html": [
       "<div>\n",
       "<style scoped>\n",
       "    .dataframe tbody tr th:only-of-type {\n",
       "        vertical-align: middle;\n",
       "    }\n",
       "\n",
       "    .dataframe tbody tr th {\n",
       "        vertical-align: top;\n",
       "    }\n",
       "\n",
       "    .dataframe thead th {\n",
       "        text-align: right;\n",
       "    }\n",
       "</style>\n",
       "<table border=\"1\" class=\"dataframe\">\n",
       "  <thead>\n",
       "    <tr style=\"text-align: right;\">\n",
       "      <th></th>\n",
       "      <th>time</th>\n",
       "      <th>id</th>\n",
       "      <th>text</th>\n",
       "      <th>likely</th>\n",
       "      <th>retweet</th>\n",
       "    </tr>\n",
       "  </thead>\n",
       "  <tbody>\n",
       "    <tr>\n",
       "      <th>0</th>\n",
       "      <td>2021-11-15 15:21:17+00:00</td>\n",
       "      <td>1460266662754598917</td>\n",
       "      <td>24살 지호에요~좋은인연되길 봐래요~21\\n카톳 qoqo666 선톳부탁드려용~\\n#...</td>\n",
       "      <td>0</td>\n",
       "      <td>0</td>\n",
       "    </tr>\n",
       "    <tr>\n",
       "      <th>1</th>\n",
       "      <td>2021-11-15 15:20:56+00:00</td>\n",
       "      <td>1460266575487848451</td>\n",
       "      <td>카톡:young898\\n외로울때 만나서 데이트나 술한잔하실분 톡주세용~\\n#취미 #...</td>\n",
       "      <td>0</td>\n",
       "      <td>0</td>\n",
       "    </tr>\n",
       "    <tr>\n",
       "      <th>2</th>\n",
       "      <td>2021-11-15 15:20:20+00:00</td>\n",
       "      <td>1460266425067524099</td>\n",
       "      <td>11월 16일 봄봄스쿨 도서판매순위 153위 (↓140) 월드 퍼즐 150 스도쿠 ...</td>\n",
       "      <td>0</td>\n",
       "      <td>0</td>\n",
       "    </tr>\n",
       "    <tr>\n",
       "      <th>3</th>\n",
       "      <td>2021-11-15 15:20:04+00:00</td>\n",
       "      <td>1460266355475681287</td>\n",
       "      <td>11월 16일 봄봄스쿨 도서판매순위 72위 (↑116) 젠탱글 아트 컬러링북, 봄봄...</td>\n",
       "      <td>0</td>\n",
       "      <td>0</td>\n",
       "    </tr>\n",
       "    <tr>\n",
       "      <th>4</th>\n",
       "      <td>2021-11-15 15:18:35+00:00</td>\n",
       "      <td>1460265984850202637</td>\n",
       "      <td>카톡:young898\\n외로울때 만나서 데이트나 술한잔하실분 톡주세용~\\n#취미 #...</td>\n",
       "      <td>0</td>\n",
       "      <td>0</td>\n",
       "    </tr>\n",
       "    <tr>\n",
       "      <th>5</th>\n",
       "      <td>2021-11-15 15:18:21+00:00</td>\n",
       "      <td>1460265922845884429</td>\n",
       "      <td>💞😍相互フォロー支援アカウントです😍💞\\nこのアカウントをフォローしている人をみんなでフォロ...</td>\n",
       "      <td>0</td>\n",
       "      <td>0</td>\n",
       "    </tr>\n",
       "    <tr>\n",
       "      <th>6</th>\n",
       "      <td>2021-11-15 15:16:16+00:00</td>\n",
       "      <td>1460265399753199620</td>\n",
       "      <td>카톡:young898\\n외로울때 만나서 데이트나 술한잔하실분 톡주세용~\\n#취미 #...</td>\n",
       "      <td>0</td>\n",
       "      <td>0</td>\n",
       "    </tr>\n",
       "    <tr>\n",
       "      <th>7</th>\n",
       "      <td>2021-11-15 15:13:55+00:00</td>\n",
       "      <td>1460264810503753731</td>\n",
       "      <td>카톡:young898\\n외로울때 만나서 데이트나 술한잔하실분 톡주세용~\\n#취미 #...</td>\n",
       "      <td>0</td>\n",
       "      <td>0</td>\n",
       "    </tr>\n",
       "    <tr>\n",
       "      <th>8</th>\n",
       "      <td>2021-11-15 15:11:35+00:00</td>\n",
       "      <td>1460264221686386694</td>\n",
       "      <td>카톡:young898\\n외로울때 만나서 데이트나 술한잔하실분 톡주세용~\\n#취미 #...</td>\n",
       "      <td>0</td>\n",
       "      <td>0</td>\n",
       "    </tr>\n",
       "    <tr>\n",
       "      <th>9</th>\n",
       "      <td>2021-11-15 15:10:21+00:00</td>\n",
       "      <td>1460263909835763712</td>\n",
       "      <td>11월 16일 봄봄스쿨 도서판매순위 120위 (NEW) 인기 손바느질 소품 (핸드메...</td>\n",
       "      <td>0</td>\n",
       "      <td>0</td>\n",
       "    </tr>\n",
       "    <tr>\n",
       "      <th>10</th>\n",
       "      <td>2021-11-15 15:10:20+00:00</td>\n",
       "      <td>1460263908673871873</td>\n",
       "      <td>11월 16일 스도쿠365 도서판매순위 28위 (↑17) 하루 15분 두뇌훈련 브레...</td>\n",
       "      <td>0</td>\n",
       "      <td>0</td>\n",
       "    </tr>\n",
       "    <tr>\n",
       "      <th>11</th>\n",
       "      <td>2021-11-15 15:10:14+00:00</td>\n",
       "      <td>1460263883357102086</td>\n",
       "      <td>아키텍쳐 아트 컬러링북 여러 색을 써서 음영을 내면 한층 생생한 느낌을 줄 수 있습...</td>\n",
       "      <td>0</td>\n",
       "      <td>0</td>\n",
       "    </tr>\n",
       "    <tr>\n",
       "      <th>12</th>\n",
       "      <td>2021-11-15 15:09:15+00:00</td>\n",
       "      <td>1460263633351430144</td>\n",
       "      <td>카톡:young898\\n외로울때 만나서 데이트나 술한잔하실분 톡주세용~\\n#취미 #...</td>\n",
       "      <td>0</td>\n",
       "      <td>0</td>\n",
       "    </tr>\n",
       "    <tr>\n",
       "      <th>13</th>\n",
       "      <td>2021-11-15 15:08:40+00:00</td>\n",
       "      <td>1460263486311833601</td>\n",
       "      <td>⭐🐤日本最大級になる予定の相互フォロー支援アカウント🐤⭐\\n私のフォロワーをみんなでフォロー...</td>\n",
       "      <td>0</td>\n",
       "      <td>0</td>\n",
       "    </tr>\n",
       "    <tr>\n",
       "      <th>14</th>\n",
       "      <td>2021-11-15 15:06:54+00:00</td>\n",
       "      <td>1460263044739571720</td>\n",
       "      <td>카톡:young898\\n외로울때 만나서 데이트나 술한잔하실분 톡주세용~\\n#취미 #...</td>\n",
       "      <td>0</td>\n",
       "      <td>0</td>\n",
       "    </tr>\n",
       "  </tbody>\n",
       "</table>\n",
       "</div>"
      ],
      "text/plain": [
       "                        time                   id  \\\n",
       "0  2021-11-15 15:21:17+00:00  1460266662754598917   \n",
       "1  2021-11-15 15:20:56+00:00  1460266575487848451   \n",
       "2  2021-11-15 15:20:20+00:00  1460266425067524099   \n",
       "3  2021-11-15 15:20:04+00:00  1460266355475681287   \n",
       "4  2021-11-15 15:18:35+00:00  1460265984850202637   \n",
       "5  2021-11-15 15:18:21+00:00  1460265922845884429   \n",
       "6  2021-11-15 15:16:16+00:00  1460265399753199620   \n",
       "7  2021-11-15 15:13:55+00:00  1460264810503753731   \n",
       "8  2021-11-15 15:11:35+00:00  1460264221686386694   \n",
       "9  2021-11-15 15:10:21+00:00  1460263909835763712   \n",
       "10 2021-11-15 15:10:20+00:00  1460263908673871873   \n",
       "11 2021-11-15 15:10:14+00:00  1460263883357102086   \n",
       "12 2021-11-15 15:09:15+00:00  1460263633351430144   \n",
       "13 2021-11-15 15:08:40+00:00  1460263486311833601   \n",
       "14 2021-11-15 15:06:54+00:00  1460263044739571720   \n",
       "\n",
       "                                                 text  likely  retweet  \n",
       "0   24살 지호에요~좋은인연되길 봐래요~21\\n카톳 qoqo666 선톳부탁드려용~\\n#...       0        0  \n",
       "1   카톡:young898\\n외로울때 만나서 데이트나 술한잔하실분 톡주세용~\\n#취미 #...       0        0  \n",
       "2   11월 16일 봄봄스쿨 도서판매순위 153위 (↓140) 월드 퍼즐 150 스도쿠 ...       0        0  \n",
       "3   11월 16일 봄봄스쿨 도서판매순위 72위 (↑116) 젠탱글 아트 컬러링북, 봄봄...       0        0  \n",
       "4   카톡:young898\\n외로울때 만나서 데이트나 술한잔하실분 톡주세용~\\n#취미 #...       0        0  \n",
       "5   💞😍相互フォロー支援アカウントです😍💞\\nこのアカウントをフォローしている人をみんなでフォロ...       0        0  \n",
       "6   카톡:young898\\n외로울때 만나서 데이트나 술한잔하실분 톡주세용~\\n#취미 #...       0        0  \n",
       "7   카톡:young898\\n외로울때 만나서 데이트나 술한잔하실분 톡주세용~\\n#취미 #...       0        0  \n",
       "8   카톡:young898\\n외로울때 만나서 데이트나 술한잔하실분 톡주세용~\\n#취미 #...       0        0  \n",
       "9   11월 16일 봄봄스쿨 도서판매순위 120위 (NEW) 인기 손바느질 소품 (핸드메...       0        0  \n",
       "10  11월 16일 스도쿠365 도서판매순위 28위 (↑17) 하루 15분 두뇌훈련 브레...       0        0  \n",
       "11  아키텍쳐 아트 컬러링북 여러 색을 써서 음영을 내면 한층 생생한 느낌을 줄 수 있습...       0        0  \n",
       "12  카톡:young898\\n외로울때 만나서 데이트나 술한잔하실분 톡주세용~\\n#취미 #...       0        0  \n",
       "13  ⭐🐤日本最大級になる予定の相互フォロー支援アカウント🐤⭐\\n私のフォロワーをみんなでフォロー...       0        0  \n",
       "14  카톡:young898\\n외로울때 만나서 데이트나 술한잔하실분 톡주세용~\\n#취미 #...       0        0  "
      ]
     },
     "execution_count": 223,
     "metadata": {},
     "output_type": "execute_result"
    }
   ],
   "source": [
    "df.drop_duplicates(['text'])"
   ]
  },
  {
   "cell_type": "code",
   "execution_count": 232,
   "id": "759b4fa0",
   "metadata": {},
   "outputs": [
    {
     "ename": "KeyError",
     "evalue": "'id_str'",
     "output_type": "error",
     "traceback": [
      "\u001b[1;31m---------------------------------------------------------------------------\u001b[0m",
      "\u001b[1;31mKeyError\u001b[0m                                  Traceback (most recent call last)",
      "\u001b[1;32m~\\anaconda3\\lib\\site-packages\\pandas\\core\\indexes\\base.py\u001b[0m in \u001b[0;36mget_loc\u001b[1;34m(self, key, method, tolerance)\u001b[0m\n\u001b[0;32m   3079\u001b[0m             \u001b[1;32mtry\u001b[0m\u001b[1;33m:\u001b[0m\u001b[1;33m\u001b[0m\u001b[1;33m\u001b[0m\u001b[0m\n\u001b[1;32m-> 3080\u001b[1;33m                 \u001b[1;32mreturn\u001b[0m \u001b[0mself\u001b[0m\u001b[1;33m.\u001b[0m\u001b[0m_engine\u001b[0m\u001b[1;33m.\u001b[0m\u001b[0mget_loc\u001b[0m\u001b[1;33m(\u001b[0m\u001b[0mcasted_key\u001b[0m\u001b[1;33m)\u001b[0m\u001b[1;33m\u001b[0m\u001b[1;33m\u001b[0m\u001b[0m\n\u001b[0m\u001b[0;32m   3081\u001b[0m             \u001b[1;32mexcept\u001b[0m \u001b[0mKeyError\u001b[0m \u001b[1;32mas\u001b[0m \u001b[0merr\u001b[0m\u001b[1;33m:\u001b[0m\u001b[1;33m\u001b[0m\u001b[1;33m\u001b[0m\u001b[0m\n",
      "\u001b[1;32mpandas\\_libs\\index.pyx\u001b[0m in \u001b[0;36mpandas._libs.index.IndexEngine.get_loc\u001b[1;34m()\u001b[0m\n",
      "\u001b[1;32mpandas\\_libs\\index.pyx\u001b[0m in \u001b[0;36mpandas._libs.index.IndexEngine.get_loc\u001b[1;34m()\u001b[0m\n",
      "\u001b[1;32mpandas\\_libs\\hashtable_class_helper.pxi\u001b[0m in \u001b[0;36mpandas._libs.hashtable.PyObjectHashTable.get_item\u001b[1;34m()\u001b[0m\n",
      "\u001b[1;32mpandas\\_libs\\hashtable_class_helper.pxi\u001b[0m in \u001b[0;36mpandas._libs.hashtable.PyObjectHashTable.get_item\u001b[1;34m()\u001b[0m\n",
      "\u001b[1;31mKeyError\u001b[0m: 'id_str'",
      "\nThe above exception was the direct cause of the following exception:\n",
      "\u001b[1;31mKeyError\u001b[0m                                  Traceback (most recent call last)",
      "\u001b[1;32m<ipython-input-232-0f068ce1a3a7>\u001b[0m in \u001b[0;36m<module>\u001b[1;34m\u001b[0m\n\u001b[1;32m----> 1\u001b[1;33m \u001b[0mmask\u001b[0m \u001b[1;33m=\u001b[0m \u001b[0mdf\u001b[0m\u001b[1;33m[\u001b[0m\u001b[1;34m'id_str'\u001b[0m\u001b[1;33m]\u001b[0m\u001b[1;33m.\u001b[0m\u001b[0misin\u001b[0m\u001b[1;33m(\u001b[0m\u001b[1;33m[\u001b[0m\u001b[1;34m'1460266355475681287'\u001b[0m\u001b[1;33m,\u001b[0m \u001b[1;34m'1460263633351430144'\u001b[0m\u001b[1;33m,\u001b[0m \u001b[1;34m'1460266575487848451'\u001b[0m\u001b[1;33m,\u001b[0m \u001b[1;34m'1460263909835763712'\u001b[0m\u001b[1;33m,\u001b[0m \u001b[1;34m'1460265399753199620'\u001b[0m\u001b[1;33m,\u001b[0m \u001b[1;34m'1460263883357102086'\u001b[0m\u001b[1;33m,\u001b[0m \u001b[1;34m'1460266662754598917'\u001b[0m\u001b[1;33m,\u001b[0m \u001b[1;34m'1460264221686386694'\u001b[0m\u001b[1;33m,\u001b[0m \u001b[1;34m'1460265984850202637'\u001b[0m\u001b[1;33m,\u001b[0m \u001b[1;34m'1460264810503753731'\u001b[0m\u001b[1;33m,\u001b[0m \u001b[1;34m'1460266425067524099'\u001b[0m\u001b[1;33m,\u001b[0m \u001b[1;34m'1460263908673871873'\u001b[0m\u001b[1;33m,\u001b[0m \u001b[1;34m'1460263486311833601'\u001b[0m\u001b[1;33m,\u001b[0m \u001b[1;34m'1460265922845884429'\u001b[0m\u001b[1;33m]\u001b[0m\u001b[1;33m)\u001b[0m\u001b[1;33m\u001b[0m\u001b[1;33m\u001b[0m\u001b[0m\n\u001b[0m",
      "\u001b[1;32m~\\anaconda3\\lib\\site-packages\\pandas\\core\\frame.py\u001b[0m in \u001b[0;36m__getitem__\u001b[1;34m(self, key)\u001b[0m\n\u001b[0;32m   3022\u001b[0m             \u001b[1;32mif\u001b[0m \u001b[0mself\u001b[0m\u001b[1;33m.\u001b[0m\u001b[0mcolumns\u001b[0m\u001b[1;33m.\u001b[0m\u001b[0mnlevels\u001b[0m \u001b[1;33m>\u001b[0m \u001b[1;36m1\u001b[0m\u001b[1;33m:\u001b[0m\u001b[1;33m\u001b[0m\u001b[1;33m\u001b[0m\u001b[0m\n\u001b[0;32m   3023\u001b[0m                 \u001b[1;32mreturn\u001b[0m \u001b[0mself\u001b[0m\u001b[1;33m.\u001b[0m\u001b[0m_getitem_multilevel\u001b[0m\u001b[1;33m(\u001b[0m\u001b[0mkey\u001b[0m\u001b[1;33m)\u001b[0m\u001b[1;33m\u001b[0m\u001b[1;33m\u001b[0m\u001b[0m\n\u001b[1;32m-> 3024\u001b[1;33m             \u001b[0mindexer\u001b[0m \u001b[1;33m=\u001b[0m \u001b[0mself\u001b[0m\u001b[1;33m.\u001b[0m\u001b[0mcolumns\u001b[0m\u001b[1;33m.\u001b[0m\u001b[0mget_loc\u001b[0m\u001b[1;33m(\u001b[0m\u001b[0mkey\u001b[0m\u001b[1;33m)\u001b[0m\u001b[1;33m\u001b[0m\u001b[1;33m\u001b[0m\u001b[0m\n\u001b[0m\u001b[0;32m   3025\u001b[0m             \u001b[1;32mif\u001b[0m \u001b[0mis_integer\u001b[0m\u001b[1;33m(\u001b[0m\u001b[0mindexer\u001b[0m\u001b[1;33m)\u001b[0m\u001b[1;33m:\u001b[0m\u001b[1;33m\u001b[0m\u001b[1;33m\u001b[0m\u001b[0m\n\u001b[0;32m   3026\u001b[0m                 \u001b[0mindexer\u001b[0m \u001b[1;33m=\u001b[0m \u001b[1;33m[\u001b[0m\u001b[0mindexer\u001b[0m\u001b[1;33m]\u001b[0m\u001b[1;33m\u001b[0m\u001b[1;33m\u001b[0m\u001b[0m\n",
      "\u001b[1;32m~\\anaconda3\\lib\\site-packages\\pandas\\core\\indexes\\base.py\u001b[0m in \u001b[0;36mget_loc\u001b[1;34m(self, key, method, tolerance)\u001b[0m\n\u001b[0;32m   3080\u001b[0m                 \u001b[1;32mreturn\u001b[0m \u001b[0mself\u001b[0m\u001b[1;33m.\u001b[0m\u001b[0m_engine\u001b[0m\u001b[1;33m.\u001b[0m\u001b[0mget_loc\u001b[0m\u001b[1;33m(\u001b[0m\u001b[0mcasted_key\u001b[0m\u001b[1;33m)\u001b[0m\u001b[1;33m\u001b[0m\u001b[1;33m\u001b[0m\u001b[0m\n\u001b[0;32m   3081\u001b[0m             \u001b[1;32mexcept\u001b[0m \u001b[0mKeyError\u001b[0m \u001b[1;32mas\u001b[0m \u001b[0merr\u001b[0m\u001b[1;33m:\u001b[0m\u001b[1;33m\u001b[0m\u001b[1;33m\u001b[0m\u001b[0m\n\u001b[1;32m-> 3082\u001b[1;33m                 \u001b[1;32mraise\u001b[0m \u001b[0mKeyError\u001b[0m\u001b[1;33m(\u001b[0m\u001b[0mkey\u001b[0m\u001b[1;33m)\u001b[0m \u001b[1;32mfrom\u001b[0m \u001b[0merr\u001b[0m\u001b[1;33m\u001b[0m\u001b[1;33m\u001b[0m\u001b[0m\n\u001b[0m\u001b[0;32m   3083\u001b[0m \u001b[1;33m\u001b[0m\u001b[0m\n\u001b[0;32m   3084\u001b[0m         \u001b[1;32mif\u001b[0m \u001b[0mtolerance\u001b[0m \u001b[1;32mis\u001b[0m \u001b[1;32mnot\u001b[0m \u001b[1;32mNone\u001b[0m\u001b[1;33m:\u001b[0m\u001b[1;33m\u001b[0m\u001b[1;33m\u001b[0m\u001b[0m\n",
      "\u001b[1;31mKeyError\u001b[0m: 'id_str'"
     ]
    }
   ],
   "source": [
    "mask = df['id_str'].isin(['1460266355475681287', '1460263633351430144', '1460266575487848451', '1460263909835763712', '1460265399753199620', '1460263883357102086', '1460266662754598917', '1460264221686386694', '1460265984850202637', '1460264810503753731', '1460266425067524099', '1460263908673871873', '1460263486311833601', '1460265922845884429'])"
   ]
  },
  {
   "cell_type": "code",
   "execution_count": 231,
   "id": "28551e85",
   "metadata": {},
   "outputs": [],
   "source": [
    "for tweet in tweets:\n",
    "    if tweet.id_str not in id_list:\n",
    "        print(tweet.id_str)"
   ]
  },
  {
   "cell_type": "code",
   "execution_count": null,
   "id": "e17f96c7",
   "metadata": {},
   "outputs": [],
   "source": []
  }
 ],
 "metadata": {
  "kernelspec": {
   "display_name": "Python 3",
   "language": "python",
   "name": "python3"
  },
  "language_info": {
   "codemirror_mode": {
    "name": "ipython",
    "version": 3
   },
   "file_extension": ".py",
   "mimetype": "text/x-python",
   "name": "python",
   "nbconvert_exporter": "python",
   "pygments_lexer": "ipython3",
   "version": "3.8.8"
  }
 },
 "nbformat": 4,
 "nbformat_minor": 5
}
