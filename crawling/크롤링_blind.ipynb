{
 "cells": [
  {
   "cell_type": "code",
   "execution_count": 1,
   "id": "established-bunny",
   "metadata": {},
   "outputs": [
    {
     "name": "stderr",
     "output_type": "stream",
     "text": [
      "<ipython-input-1-d81bf7df025c>:9: FutureWarning: Passing a negative integer is deprecated in version 1.0 and will not be supported in future version. Instead, use None to not limit the column width.\n",
      "  pd.set_option('display.max_colwidth', -1)\n"
     ]
    }
   ],
   "source": [
    "#step1.selenium 패키지와 time 모듈 import\n",
    "from selenium import webdriver\n",
    "from selenium.webdriver.common.keys import Keys\n",
    "import time\n",
    "import numpy as np\n",
    "import pandas as pd\n",
    "\n",
    "### DataFrame 행 넓이 최대 \n",
    "pd.set_option('display.max_colwidth', -1)"
   ]
  },
  {
   "cell_type": "code",
   "execution_count": 2,
   "id": "according-freedom",
   "metadata": {},
   "outputs": [
    {
     "name": "stderr",
     "output_type": "stream",
     "text": [
      "<ipython-input-2-0b7233a77bdd>:3: DeprecationWarning: executable_path has been deprecated, please pass in a Service object\n",
      "  driver = webdriver.Chrome('/Users/parkjuhyeon/chromedriver') ##크롬드라이버가 설치된 위치\n"
     ]
    }
   ],
   "source": [
    "#step2.크롬드라이버로 url로 접속\n",
    "url = 'https://www.teamblind.com/kr/'\n",
    "driver = webdriver.Chrome('/Users/parkjuhyeon/chromedriver') ##크롬드라이버가 설치된 위치\n",
    "driver.get(url)\n",
    "time.sleep(3)\n",
    "\n",
    "\n",
    "\n",
    "## 웹페이지 높이를 가져오기 위함\n",
    "driver.maximize_window()"
   ]
  },
  {
   "cell_type": "code",
   "execution_count": 3,
   "id": "according-canyon",
   "metadata": {},
   "outputs": [
    {
     "name": "stdout",
     "output_type": "stream",
     "text": [
      "22\n",
      "['창업', '외국어', '언어', '디자인', '음료', '운동', '금융', '영상', '데이터', '음악', '사진', '개발', '요리', '재테크', '부업', '베이킹', '글쓰기', '직무교육', '공예', '드로잉', '성공 마인드', '아동 교육']\n"
     ]
    }
   ],
   "source": [
    "#step3.키워드 전처리 '·' 포함된 단어 모두 분할하여 키워드 리스트 재정리\n",
    "\n",
    "keyword_list = ['창업', '외국어', '언어', '디자인', '음료', '운동', '금융', '영상', '데이터', '음악', '사진', '개발', '요리', '재테크', '부업', '베이킹', '글쓰기', '직무교육', '공예', '드로잉', '성공 마인드', '아동 교육']\n",
    "    \n",
    "print(len(keyword_list))\n",
    "print(keyword_list)"
   ]
  },
  {
   "cell_type": "code",
   "execution_count": 4,
   "id": "placed-edition",
   "metadata": {},
   "outputs": [],
   "source": [
    "### 스크롤 다운 시간 설정 함수 \n",
    "\n",
    "import datetime\n",
    "    \n",
    "def doScrollDown(whileSeconds):\n",
    "    start = datetime.datetime.now()\n",
    "    end = start + datetime.timedelta(seconds=whileSeconds)\n",
    "    while True:\n",
    "        driver.execute_script('window.scrollTo(0, document.body.scrollHeight);')\n",
    "        time.sleep(1)\n",
    "        if datetime.datetime.now() > end:\n",
    "            break"
   ]
  },
  {
   "cell_type": "code",
   "execution_count": 5,
   "id": "figured-modification",
   "metadata": {},
   "outputs": [],
   "source": [
    "## 필요한 리스트 선언 \n",
    "txt_list =[]      ### 내용\n",
    "past_list =[]     ### 날짜\n",
    "keywords =[]      ### 키워드"
   ]
  },
  {
   "cell_type": "code",
   "execution_count": 6,
   "id": "located-request",
   "metadata": {},
   "outputs": [
    {
     "name": "stderr",
     "output_type": "stream",
     "text": [
      "<ipython-input-6-900b3ed56824>:6: DeprecationWarning: find_element_by_* commands are deprecated. Please use find_element() instead\n",
      "  search_box = driver.find_element_by_css_selector(\".inp-srch\")\n",
      "<ipython-input-6-900b3ed56824>:17: DeprecationWarning: find_elements_by_* commands are deprecated. Please use find_elements() instead\n",
      "  pre_txt = driver.find_elements_by_class_name('pre-txt')  ### 웹페이지 상에 내용 경로 지정\n",
      "<ipython-input-6-900b3ed56824>:18: DeprecationWarning: find_elements_by_* commands are deprecated. Please use find_elements() instead\n",
      "  pasts = driver.find_elements_by_class_name('past')       ### 웹페이지 상에 시간 경로 지정\n"
     ]
    }
   ],
   "source": [
    "### keyword_list에 있는 키워드를 하나씩 가져와서 스롤링\n",
    "\n",
    "for k in range(len(keyword_list)):\n",
    "\n",
    "    query = keyword_list[k]\n",
    "    search_box = driver.find_element_by_css_selector(\".inp-srch\")\n",
    "    search_box.clear()\n",
    "    search_box.send_keys(query)\n",
    "    search_box.send_keys(Keys.RETURN)\n",
    "    time.sleep(2)\n",
    "    \n",
    "    doScrollDown(70) ### 스크롤 다운 시간 (초 단위)\n",
    "    \n",
    "    \n",
    "    \n",
    "    \n",
    "    pre_txt = driver.find_elements_by_class_name('pre-txt')  ### 웹페이지 상에 내용 경로 지정\n",
    "    pasts = driver.find_elements_by_class_name('past')       ### 웹페이지 상에 시간 경로 지정\n",
    "    a = 0\n",
    "    cnt = 0\n",
    "    \n",
    "    for i in pre_txt:\n",
    "        txt = i.text\n",
    "        txt_list.append(txt)\n",
    "        keywords.append(query)\n",
    "        past = pasts[a].text\n",
    "        past_list.append(past)\n",
    "        a= a+1\n",
    "        cnt = cnt +1\n",
    "        #if(cnt == 500) :\n",
    "            #break"
   ]
  },
  {
   "cell_type": "code",
   "execution_count": 7,
   "id": "related-flavor",
   "metadata": {},
   "outputs": [],
   "source": [
    "### 리스트를 딕셔너리형태로 만들어 DataFrame으로 변환\n",
    "\n",
    "data = {\"contents\" : txt_list,\n",
    "       \"time\" : past_list,\n",
    "       \"keyword\" : keywords}  ## 출력된 데이터 양과 통일"
   ]
  },
  {
   "cell_type": "code",
   "execution_count": 8,
   "id": "based-gender",
   "metadata": {},
   "outputs": [
    {
     "name": "stdout",
     "output_type": "stream",
     "text": [
      "21372 21372 21372\n"
     ]
    }
   ],
   "source": [
    "### 리스트별 저장 데이터 개수 확인\n",
    "\n",
    "print(len(txt_list), len(past_list), len(keywords))"
   ]
  },
  {
   "cell_type": "code",
   "execution_count": 9,
   "id": "bright-break",
   "metadata": {},
   "outputs": [
    {
     "data": {
      "text/html": [
       "<div>\n",
       "<style scoped>\n",
       "    .dataframe tbody tr th:only-of-type {\n",
       "        vertical-align: middle;\n",
       "    }\n",
       "\n",
       "    .dataframe tbody tr th {\n",
       "        vertical-align: top;\n",
       "    }\n",
       "\n",
       "    .dataframe thead th {\n",
       "        text-align: right;\n",
       "    }\n",
       "</style>\n",
       "<table border=\"1\" class=\"dataframe\">\n",
       "  <thead>\n",
       "    <tr style=\"text-align: right;\">\n",
       "      <th></th>\n",
       "      <th>contents</th>\n",
       "      <th>time</th>\n",
       "      <th>keyword</th>\n",
       "    </tr>\n",
       "  </thead>\n",
       "  <tbody>\n",
       "    <tr>\n",
       "      <th>0</th>\n",
       "      <td>1억 미만으로 엄마 혼자서 할만한 창업 있을까..? 알바 안써서 인건비 없는쪽으로~ 코인노래방, 무인독서실..? 아니면 건강원? 이런쪽으로 빠삭한 사람!! 아님 이런쪽으로 공부할만한 인터넷 정보나 상담해볼만한 곳 있어??</td>\n",
       "      <td>작성시간\\n2019.11.06.</td>\n",
       "      <td>창업</td>\n",
       "    </tr>\n",
       "    <tr>\n",
       "      <th>1</th>\n",
       "      <td>직원수 8명 31살 10개월차 스타트업.. 대표 직장생활 할 때 그렇게 회사 그만 두고 싶었는데 지금은 그때가 그립다 돈은 많이 버는데 건강도 확 나빠지고 의지할때도 없고 너무힘들다 ㅠ 어학연수나 가고싶다</td>\n",
       "      <td>작성시간\\n06.24</td>\n",
       "      <td>창업</td>\n",
       "    </tr>\n",
       "    <tr>\n",
       "      <th>2</th>\n",
       "      <td>이제 며칠만 지나면 한달 이 되어간다. 좌충우돌 투잡 자영업 후기라고나 할까? 이제 슬슬 개업 빨 빠질려나...하는 기분도 들고 카페 개업은 역시 목이 중요하므로, 부동산 토픽에 적음. 지난번 후기 이후로, 기계도 고장 한번 내보고, 고정 비용 좀 아껴보겠다고 싼 컵으로 바꿨다가, 컵이 막혀서 2시간 매출이 줄어 오히려 손해더라. 기계에 쓰는 고정 비용은 함부로 아끼려 하면 안된다 라는 것도 배웠고, (프랜차이즈가 아니여서, 몇 몇 가지는 아껴서 구매가 가능하다. 단 재료는 종속이 될수 밖에 없음) 아... 바퀴벌</td>\n",
       "      <td>작성시간\\n05.13</td>\n",
       "      <td>창업</td>\n",
       "    </tr>\n",
       "    <tr>\n",
       "      <th>3</th>\n",
       "      <td>스타벅스 창업은 조건이 까다로운걸로 알고 있는데 현재 운영중인 매장 매매하는 방법 말고 창업하는거 힘들어?? 얼핏 듣기론 자기건물 잇어야하고 조건이 있는걸로 아는데..</td>\n",
       "      <td>작성시간\\n2020.11.07.</td>\n",
       "      <td>창업</td>\n",
       "    </tr>\n",
       "    <tr>\n",
       "      <th>4</th>\n",
       "      <td>낮에만 할만한 가게가 뭐가 있을까?</td>\n",
       "      <td>작성시간\\n2018.07.17.</td>\n",
       "      <td>창업</td>\n",
       "    </tr>\n",
       "    <tr>\n",
       "      <th>...</th>\n",
       "      <td>...</td>\n",
       "      <td>...</td>\n",
       "      <td>...</td>\n",
       "    </tr>\n",
       "    <tr>\n",
       "      <th>21367</th>\n",
       "      <td>이렇게 많이 글을 쓰게 될줄 몰랐네요. 많은 분들이 쪽지주셔서 어딘지 물어보시고, 지금 놀이학교 보내는 분들도 불안하실것 같아 마지막으로 글 남깁니다. 일단, 놀이학교명은 밝히지 않겠습니다. 그곳에 잘 다니는 아이들도 있고 그곳에 계신 선생님들께도 피해 드리고 싶지는 않습니다. 결론은 오늘 cctv 확인했고, 어제 이미 원장님께서 한번 다 확인해보시느라 저에게 봐도 된다는 답을 늦게 주신것 같다는 개인적인 생각입니다. Cctv 보시며 중간중간 아이가 안보이면 어디 갔는지 다 알고 계시고 설명해 주시더라고요. 등원한 기간 다</td>\n",
       "      <td>작성시간\\n03.17</td>\n",
       "      <td>아동 교육</td>\n",
       "    </tr>\n",
       "    <tr>\n",
       "      <th>21368</th>\n",
       "      <td>(펌) 고발장 피고발인 경찰청장 김창룡 죄명 직무유기 살인방조 고 발 취 지 고발인은 위 피고발인에 대하여 아래와 같은 사실로 형법 제122조 및 제250조 제1항, 제32조 제1항 위반 등의 죄로 고발을 제기하오니, 엄중히 조사하시어 처벌하여 주시기 바랍니다. 고 발 이 유 1. 당사자 간의 관계 고발인 대한소아청소년과의사회는 대한민국 영유아소아청소년의 건강을 책임지는 막중한 사명을 지고 학술교류와 소아의료에 대한 전문가적 견해 표명과 대국민교육을 목적으로 설립된 전문가집단입니다. 피고발인 김창룡은</td>\n",
       "      <td>작성시간\\n01.09</td>\n",
       "      <td>아동 교육</td>\n",
       "    </tr>\n",
       "    <tr>\n",
       "      <th>21369</th>\n",
       "      <td>어느날, 별거없는 초등학생 고아 몇 명 앞에 책임감이 투철한 교사가 무릎꿇고 빌게 된 사건이 발생했다. 엄청나게 큰 일같이 느껴지겠지만 그 일은 같은 고아였던 내 귀에서만 크게 울렸고 곧 아무 일도 아니게 되었다. 그 선생님은 마산에서 온 마선생님이었다. 당시 마산은 매우 부자가 많은 지역이라 몹시 교육열이 높았는데 어떠한 사명감을 갖고 우리 시설에서 운영하는 학교에 부임하게 되었다고 한다. 우리 시설은 원생들을 별도의 교육시설에서 교육을 받게 했다. 즉 전교생이 원생이라는 것이다. 그렇게 된 이유를 나중에야 알게 되었는데,</td>\n",
       "      <td>작성시간\\n2019.06.16.</td>\n",
       "      <td>아동 교육</td>\n",
       "    </tr>\n",
       "    <tr>\n",
       "      <th>21370</th>\n",
       "      <td>#오늘의뉴스 2020년 9월7일 1. 당정청, 7조원대 4차 추경 합의 → 전 국민 50%가량 지원 받을 듯. 특수고용직 등 고용 취약계층, 매출 감소 소상공인, 저소득층 긴급생계비, 통신비 지원 등 2500만명선.(국민) 2. 전체 범죄 감소하는데 사기 범죄는 늘어 → 2018년 전체 범죄는 4.8% 감소... 민생형 범죄인 온라인 거래, 부동산 사기등 사기범죄는 오히려 15.2% 늘어. &lt;2019 범죄백서&gt; 발표. 솜방이이 처벌도 원인. (세계) 3. ‘테스 형!’ → 나훈아 신곡 제목. 여기서 ‘테스 형’은 소크</td>\n",
       "      <td>작성시간\\n2020.09.07.</td>\n",
       "      <td>아동 교육</td>\n",
       "    </tr>\n",
       "    <tr>\n",
       "      <th>21371</th>\n",
       "      <td>생각의 흐름대로 편하게 적기 위해 간단체로 쓰니 양해바랍니다. ---------------------------------- 우연히 아래와 같이 너무 걱정되어 잠이 안온다는 하소연 글을 보게 되었다. 본문 이미지 나도 저런 신혼부부시절이 있었는데 벌써 시간이 많이 흘렀다. 세월 참 빠르다. 대학 시험 볼때, 결혼할 때, 아이 낳을 때가 어제 같은데 말이다. 위 글을 읽으면서 그 시간을 지나온 평범한 한 아빠로서 몇 생각이 들어 적어본다. 1. 아직 젊은데 너무 걱정할 것 없다. 언론에서 집값 상승한다고 너무 떠들기는 한</td>\n",
       "      <td>작성시간\\n2020.07.02.</td>\n",
       "      <td>아동 교육</td>\n",
       "    </tr>\n",
       "  </tbody>\n",
       "</table>\n",
       "<p>21372 rows × 3 columns</p>\n",
       "</div>"
      ],
      "text/plain": [
       "                                                                                                                                                                                                                                                                                                       contents  \\\n",
       "0      1억 미만으로 엄마 혼자서 할만한 창업 있을까..? 알바 안써서 인건비 없는쪽으로~ 코인노래방, 무인독서실..? 아니면 건강원? 이런쪽으로 빠삭한 사람!! 아님 이런쪽으로 공부할만한 인터넷 정보나 상담해볼만한 곳 있어??                                                                                                                                                                                \n",
       "1      직원수 8명 31살 10개월차 스타트업.. 대표 직장생활 할 때 그렇게 회사 그만 두고 싶었는데 지금은 그때가 그립다 돈은 많이 버는데 건강도 확 나빠지고 의지할때도 없고 너무힘들다 ㅠ 어학연수나 가고싶다                                                                                                                                                                                         \n",
       "2      이제 며칠만 지나면 한달 이 되어간다. 좌충우돌 투잡 자영업 후기라고나 할까? 이제 슬슬 개업 빨 빠질려나...하는 기분도 들고 카페 개업은 역시 목이 중요하므로, 부동산 토픽에 적음. 지난번 후기 이후로, 기계도 고장 한번 내보고, 고정 비용 좀 아껴보겠다고 싼 컵으로 바꿨다가, 컵이 막혀서 2시간 매출이 줄어 오히려 손해더라. 기계에 쓰는 고정 비용은 함부로 아끼려 하면 안된다 라는 것도 배웠고, (프랜차이즈가 아니여서, 몇 몇 가지는 아껴서 구매가 가능하다. 단 재료는 종속이 될수 밖에 없음) 아... 바퀴벌         \n",
       "3      스타벅스 창업은 조건이 까다로운걸로 알고 있는데 현재 운영중인 매장 매매하는 방법 말고 창업하는거 힘들어?? 얼핏 듣기론 자기건물 잇어야하고 조건이 있는걸로 아는데..                                                                                                                                                                                                              \n",
       "4      낮에만 할만한 가게가 뭐가 있을까?                                                                                                                                                                                                                                                                                        \n",
       "...                    ...                                                                                                                                                                                                                                                                                        \n",
       "21367  이렇게 많이 글을 쓰게 될줄 몰랐네요. 많은 분들이 쪽지주셔서 어딘지 물어보시고, 지금 놀이학교 보내는 분들도 불안하실것 같아 마지막으로 글 남깁니다. 일단, 놀이학교명은 밝히지 않겠습니다. 그곳에 잘 다니는 아이들도 있고 그곳에 계신 선생님들께도 피해 드리고 싶지는 않습니다. 결론은 오늘 cctv 확인했고, 어제 이미 원장님께서 한번 다 확인해보시느라 저에게 봐도 된다는 답을 늦게 주신것 같다는 개인적인 생각입니다. Cctv 보시며 중간중간 아이가 안보이면 어디 갔는지 다 알고 계시고 설명해 주시더라고요. 등원한 기간 다    \n",
       "21368  (펌) 고발장 피고발인 경찰청장 김창룡 죄명 직무유기 살인방조 고 발 취 지 고발인은 위 피고발인에 대하여 아래와 같은 사실로 형법 제122조 및 제250조 제1항, 제32조 제1항 위반 등의 죄로 고발을 제기하오니, 엄중히 조사하시어 처벌하여 주시기 바랍니다. 고 발 이 유 1. 당사자 간의 관계 고발인 대한소아청소년과의사회는 대한민국 영유아소아청소년의 건강을 책임지는 막중한 사명을 지고 학술교류와 소아의료에 대한 전문가적 견해 표명과 대국민교육을 목적으로 설립된 전문가집단입니다. 피고발인 김창룡은                 \n",
       "21369  어느날, 별거없는 초등학생 고아 몇 명 앞에 책임감이 투철한 교사가 무릎꿇고 빌게 된 사건이 발생했다. 엄청나게 큰 일같이 느껴지겠지만 그 일은 같은 고아였던 내 귀에서만 크게 울렸고 곧 아무 일도 아니게 되었다. 그 선생님은 마산에서 온 마선생님이었다. 당시 마산은 매우 부자가 많은 지역이라 몹시 교육열이 높았는데 어떠한 사명감을 갖고 우리 시설에서 운영하는 학교에 부임하게 되었다고 한다. 우리 시설은 원생들을 별도의 교육시설에서 교육을 받게 했다. 즉 전교생이 원생이라는 것이다. 그렇게 된 이유를 나중에야 알게 되었는데,   \n",
       "21370  #오늘의뉴스 2020년 9월7일 1. 당정청, 7조원대 4차 추경 합의 → 전 국민 50%가량 지원 받을 듯. 특수고용직 등 고용 취약계층, 매출 감소 소상공인, 저소득층 긴급생계비, 통신비 지원 등 2500만명선.(국민) 2. 전체 범죄 감소하는데 사기 범죄는 늘어 → 2018년 전체 범죄는 4.8% 감소... 민생형 범죄인 온라인 거래, 부동산 사기등 사기범죄는 오히려 15.2% 늘어. <2019 범죄백서> 발표. 솜방이이 처벌도 원인. (세계) 3. ‘테스 형!’ → 나훈아 신곡 제목. 여기서 ‘테스 형’은 소크       \n",
       "21371  생각의 흐름대로 편하게 적기 위해 간단체로 쓰니 양해바랍니다. ---------------------------------- 우연히 아래와 같이 너무 걱정되어 잠이 안온다는 하소연 글을 보게 되었다. 본문 이미지 나도 저런 신혼부부시절이 있었는데 벌써 시간이 많이 흘렀다. 세월 참 빠르다. 대학 시험 볼때, 결혼할 때, 아이 낳을 때가 어제 같은데 말이다. 위 글을 읽으면서 그 시간을 지나온 평범한 한 아빠로서 몇 생각이 들어 적어본다. 1. 아직 젊은데 너무 걱정할 것 없다. 언론에서 집값 상승한다고 너무 떠들기는 한      \n",
       "\n",
       "                    time keyword  \n",
       "0      작성시간\\n2019.11.06.  창업      \n",
       "1      작성시간\\n06.24        창업      \n",
       "2      작성시간\\n05.13        창업      \n",
       "3      작성시간\\n2020.11.07.  창업      \n",
       "4      작성시간\\n2018.07.17.  창업      \n",
       "...                  ...  ..      \n",
       "21367  작성시간\\n03.17        아동 교육   \n",
       "21368  작성시간\\n01.09        아동 교육   \n",
       "21369  작성시간\\n2019.06.16.  아동 교육   \n",
       "21370  작성시간\\n2020.09.07.  아동 교육   \n",
       "21371  작성시간\\n2020.07.02.  아동 교육   \n",
       "\n",
       "[21372 rows x 3 columns]"
      ]
     },
     "execution_count": 9,
     "metadata": {},
     "output_type": "execute_result"
    }
   ],
   "source": [
    "### DataFrame형태로 변환\n",
    "\n",
    "df = pd.DataFrame(data)\n",
    "df"
   ]
  },
  {
   "cell_type": "code",
   "execution_count": 10,
   "id": "continent-comfort",
   "metadata": {},
   "outputs": [
    {
     "data": {
      "text/plain": [
       "(21372, 3)"
      ]
     },
     "execution_count": 10,
     "metadata": {},
     "output_type": "execute_result"
    }
   ],
   "source": [
    "df.shape"
   ]
  },
  {
   "cell_type": "code",
   "execution_count": 11,
   "id": "domestic-sterling",
   "metadata": {},
   "outputs": [
    {
     "name": "stdout",
     "output_type": "stream",
     "text": [
      "데이터       1390\n",
      "개발        1350\n",
      "금융        1330\n",
      "운동        1330\n",
      "디자인       1330\n",
      "요리        1310\n",
      "사진        1290\n",
      "외국어       1270\n",
      "영상        1270\n",
      "음료        1270\n",
      "부업        1250\n",
      "음악        1230\n",
      "언어        1230\n",
      "재테크       1190\n",
      "창업        1170\n",
      "베이킹       624 \n",
      "글쓰기       548 \n",
      "직무교육      325 \n",
      "공예        264 \n",
      "드로잉       210 \n",
      "성공 마인드    129 \n",
      "아동 교육     62  \n",
      "Name: keyword, dtype: int64\n"
     ]
    }
   ],
   "source": [
    "#### 키워드별 수집한 데이터 개수\n",
    "\n",
    "freq = df['keyword'].value_counts() \n",
    "print(freq) "
   ]
  },
  {
   "cell_type": "code",
   "execution_count": 12,
   "id": "piano-aquarium",
   "metadata": {},
   "outputs": [],
   "source": [
    "df.to_csv('blind_70s.csv')"
   ]
  },
  {
   "cell_type": "code",
   "execution_count": 13,
   "id": "foster-destination",
   "metadata": {},
   "outputs": [],
   "source": [
    "df.to_csv('blind_70s_2.csv',index=False)"
   ]
  },
  {
   "cell_type": "code",
   "execution_count": null,
   "id": "anticipated-upset",
   "metadata": {},
   "outputs": [],
   "source": []
  }
 ],
 "metadata": {
  "kernelspec": {
   "display_name": "Python 3",
   "language": "python",
   "name": "python3"
  },
  "language_info": {
   "codemirror_mode": {
    "name": "ipython",
    "version": 3
   },
   "file_extension": ".py",
   "mimetype": "text/x-python",
   "name": "python",
   "nbconvert_exporter": "python",
   "pygments_lexer": "ipython3",
   "version": "3.9.2"
  }
 },
 "nbformat": 4,
 "nbformat_minor": 5
}
