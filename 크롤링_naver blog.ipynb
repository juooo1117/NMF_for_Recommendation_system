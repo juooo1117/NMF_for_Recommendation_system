{
 "cells": [
  {
   "cell_type": "code",
   "execution_count": 1,
   "id": "likely-bryan",
   "metadata": {},
   "outputs": [],
   "source": [
    "import sys    # 시스템\n",
    "import os     # 시스템\n",
    "\n",
    "import pandas as pd    # 판다스 : 데이터분석 라이브러리\n",
    "import numpy as np     # 넘파이 : 숫자, 행렬 데이터 라이브러리\n",
    "\n",
    "from bs4 import BeautifulSoup     # html 데이터 전처리\n",
    "from selenium import webdriver    # 웹 브라우저 자동화\n",
    "import time                       # 시간 지연\n",
    "from tqdm import tqdm_notebook    # 진행상황 표시"
   ]
  },
  {
   "cell_type": "code",
   "execution_count": 2,
   "id": "common-resistance",
   "metadata": {},
   "outputs": [
    {
     "name": "stdout",
     "output_type": "stream",
     "text": [
      "1. 크롤링할 키워드를 입력하세요: 취미\n"
     ]
    },
    {
     "name": "stderr",
     "output_type": "stream",
     "text": [
      "<ipython-input-2-fa4139b793cc>:6: DeprecationWarning: executable_path has been deprecated, please pass in a Service object\n",
      "  driver = webdriver.Chrome('/Users/parkjuhyeon/chromedriver')\n",
      "<ipython-input-2-fa4139b793cc>:11: DeprecationWarning: find_element_by_* commands are deprecated. Please use find_element() instead\n",
      "  element = driver.find_element_by_id(\"query\") #f12눌러서 확인\n"
     ]
    }
   ],
   "source": [
    "### Step 1. 크롤링할 블로그 url 수집\n",
    "\n",
    "# 검색어\n",
    "keyword1 = input(\"1. 크롤링할 키워드를 입력하세요: \")\n",
    "\n",
    "driver = webdriver.Chrome('/Users/parkjuhyeon/chromedriver')\n",
    "driver.get(\"http://www.naver.com\")\n",
    "time.sleep(2)\n",
    "\n",
    "# 검색창에 '검색어' 검색\n",
    "element = driver.find_element_by_id(\"query\") #f12눌러서 확인\n",
    "element.send_keys(keyword1)\n",
    "element.submit()\n",
    "time.sleep(1)"
   ]
  },
  {
   "cell_type": "code",
   "execution_count": 3,
   "id": "single-moderator",
   "metadata": {},
   "outputs": [
    {
     "name": "stderr",
     "output_type": "stream",
     "text": [
      "<ipython-input-3-13cf99a2e50b>:2: DeprecationWarning: find_element_by_* commands are deprecated. Please use find_element() instead\n",
      "  driver.find_element_by_link_text(\"VIEW\").click()\n",
      "<ipython-input-3-13cf99a2e50b>:5: DeprecationWarning: find_element_by_* commands are deprecated. Please use find_element() instead\n",
      "  driver.find_element_by_link_text(\"블로그\").click()\n",
      "<ipython-input-3-13cf99a2e50b>:9: DeprecationWarning: find_element_by_* commands are deprecated. Please use find_element() instead\n",
      "  driver.find_element_by_link_text(\"옵션\").click()\n",
      "<ipython-input-3-13cf99a2e50b>:13: DeprecationWarning: find_elements_by_* commands are deprecated. Please use find_elements() instead\n",
      "  item_li = driver.find_elements_by_css_selector(\".option .txt\")\n"
     ]
    },
    {
     "name": "stdout",
     "output_type": "stream",
     "text": [
      "전체\n",
      "블로그\n",
      "카페\n",
      "관련도순\n",
      "최신순\n",
      "전체\n",
      "1시간\n",
      "1일\n",
      "1주\n",
      "1개월\n",
      "3개월\n",
      "6개월\n",
      "1년\n",
      "직접입력옵션펼치기\n",
      "3개월\n"
     ]
    }
   ],
   "source": [
    "# 'VIEW' 클릭\n",
    "driver.find_element_by_link_text(\"VIEW\").click()\n",
    "\n",
    "# '블로그' 클릭\n",
    "driver.find_element_by_link_text(\"블로그\").click()\n",
    "time.sleep(1)\n",
    "\n",
    "# '옵션' 클릭\n",
    "driver.find_element_by_link_text(\"옵션\").click()\n",
    "time.sleep(0.5)\n",
    "\n",
    "# 검색옵션 확인\n",
    "item_li = driver.find_elements_by_css_selector(\".option .txt\")\n",
    "\n",
    "for i in range(0, len(item_li)):\n",
    "    print(item_li[i].text)\n",
    "\n",
    "# 검색기간 '3개월' 클릭\n",
    "print(item_li[10].text)\n",
    "\n",
    "item_li[10].click()"
   ]
  },
  {
   "cell_type": "code",
   "execution_count": 4,
   "id": "quarterly-mineral",
   "metadata": {},
   "outputs": [],
   "source": [
    "# 스크롤 다운\n",
    "def scroll_down(driver):\n",
    "    driver.execute_script(\"window.scrollTo(0, 99999999)\")\n",
    "    time.sleep(1)\n",
    "\n",
    "# n: 스크롤할 횟수 설정\n",
    "n = 0\n",
    "i = 0\n",
    "while i < n:\n",
    "    scroll_down(driver)\n",
    "    i = i+1\n",
    "\n",
    "# 블로그 글 url들 수집\n",
    "url_list = []\n",
    "title_list = []"
   ]
  },
  {
   "cell_type": "code",
   "execution_count": 5,
   "id": "potential-cream",
   "metadata": {
    "scrolled": true
   },
   "outputs": [
    {
     "name": "stderr",
     "output_type": "stream",
     "text": [
      "<ipython-input-5-fba5bbc5dff8>:2: DeprecationWarning: find_elements_by_* commands are deprecated. Please use find_elements() instead\n",
      "  article_raw = driver.find_elements_by_css_selector(\".api_txt_lines.total_tit\")\n"
     ]
    },
    {
     "name": "stdout",
     "output_type": "stream",
     "text": [
      "url개수:  30\n",
      "title개수:  30\n"
     ]
    }
   ],
   "source": [
    "# URL_raw 크롤링 시작\n",
    "article_raw = driver.find_elements_by_css_selector(\".api_txt_lines.total_tit\")\n",
    "article_raw[0]\n",
    "\n",
    "# 크롤링한 url 정제 시작\n",
    "for article in article_raw:\n",
    "    url = article.get_attribute('href')   \n",
    "    url_list.append(url)\n",
    "\n",
    "time.sleep(1)\n",
    "    \n",
    "# 제목 크롤링 시작    \n",
    "for article in article_raw:\n",
    "    title = article.text\n",
    "    title_list.append(title)\n",
    "\n",
    "print(\"url개수: \", len(url_list))\n",
    "print(\"title개수: \", len(title_list))\n",
    "\n",
    "df = pd.DataFrame({'url':url_list, 'title':title_list})"
   ]
  },
  {
   "cell_type": "code",
   "execution_count": 6,
   "id": "combined-closure",
   "metadata": {},
   "outputs": [
    {
     "name": "stdout",
     "output_type": "stream",
     "text": [
      "https://blog.naver.com/ihsboy?Redirect=Log&logNo=222576659071\n",
      "https://blog.naver.com/el512?Redirect=Log&logNo=222556237234\n",
      "https://blog.naver.com/arang1981?Redirect=Log&logNo=222575765116\n",
      "https://blog.naver.com/sunken09?Redirect=Log&logNo=222576571283\n",
      "https://blog.naver.com/hohuk212?Redirect=Log&logNo=222573981788\n",
      "https://blog.naver.com/tameones?Redirect=Log&logNo=222542507504\n",
      "https://blog.naver.com/cupcolor?Redirect=Log&logNo=222576173709\n",
      "https://blog.naver.com/kke5825?Redirect=Log&logNo=222519536560\n",
      "https://blog.naver.com/wcw2070?Redirect=Log&logNo=222576766594\n",
      "https://blog.naver.com/onlyeunah?Redirect=Log&logNo=222575396709\n",
      "https://blog.naver.com/morgunlee?Redirect=Log&logNo=222538100299\n",
      "https://blog.naver.com/star_296?Redirect=Log&logNo=222552368204\n",
      "https://blog.naver.com/gluck317?Redirect=Log&logNo=222577106943\n",
      "https://blog.naver.com/fayefaye79?Redirect=Log&logNo=222574499695\n",
      "https://blog.naver.com/pukka1004?Redirect=Log&logNo=222548521418\n",
      "https://blog.naver.com/powerppodea?Redirect=Log&logNo=222515664850\n",
      "https://blog.naver.com/choisoonkil?Redirect=Log&logNo=222564169939\n",
      "https://blog.naver.com/mym3878?Redirect=Log&logNo=222575941565\n",
      "https://blog.naver.com/thesangmi?Redirect=Log&logNo=222573782343\n",
      "https://blog.naver.com/whoabc?Redirect=Log&logNo=222576702492\n",
      "https://blog.naver.com/el512?Redirect=Log&logNo=222481618725\n",
      "https://blog.naver.com/jun0457?Redirect=Log&logNo=222559178245\n",
      "https://blog.naver.com/tameones?Redirect=Log&logNo=222574328748\n",
      "https://blog.naver.com/nth2k?Redirect=Log&logNo=222575271410\n",
      "https://blog.naver.com/ehdgmlgusghk?Redirect=Log&logNo=222504264105\n",
      "https://blog.naver.com/dmsco3233?Redirect=Log&logNo=222571772309\n",
      "https://blog.naver.com/gluck317?Redirect=Log&logNo=222573077873\n",
      "https://blog.naver.com/hwgi01?Redirect=Log&logNo=222565180977\n",
      "https://blog.naver.com/kia9861?Redirect=Log&logNo=222575849701\n",
      "https://blog.naver.com/djlrf?Redirect=Log&logNo=222575210391\n",
      "수집한 url 개수: \n",
      "30\n"
     ]
    }
   ],
   "source": [
    "### Step 2. 블로그 내용 크롤링\n",
    "\n",
    "# URL이 저장된 리스트 불러오기\n",
    "for url_load in url_list:\n",
    "        print(url_load)\n",
    "        \n",
    "print(\"수집한 url 개수: \")\n",
    "print(len(url_list))"
   ]
  },
  {
   "cell_type": "code",
   "execution_count": 21,
   "id": "unavailable-treaty",
   "metadata": {},
   "outputs": [
    {
     "name": "stderr",
     "output_type": "stream",
     "text": [
      "<ipython-input-21-f144feeea589>:6: TqdmDeprecationWarning: This function will be removed in tqdm==5.0.0\n",
      "Please use `tqdm.notebook.tqdm` instead of `tqdm.tqdm_notebook`\n",
      "  for i in tqdm_notebook(range(0, number)):\n"
     ]
    },
    {
     "data": {
      "application/vnd.jupyter.widget-view+json": {
       "model_id": "041c2ba70a71438190f54f91b3ee9885",
       "version_major": 2,
       "version_minor": 0
      },
      "text/plain": [
       "  0%|          | 0/30 [00:00<?, ?it/s]"
      ]
     },
     "metadata": {},
     "output_type": "display_data"
    },
    {
     "name": "stderr",
     "output_type": "stream",
     "text": [
      "<ipython-input-21-f144feeea589>:9: DeprecationWarning: executable_path has been deprecated, please pass in a Service object\n",
      "  driver = webdriver.Chrome('/Users/parkjuhyeon/chromedriver')\n",
      "<ipython-input-21-f144feeea589>:22: DeprecationWarning: find_element_by_* commands are deprecated. Please use find_element() instead\n",
      "  tit = driver.find_element_by_css_selector(overlays)\n",
      "<ipython-input-21-f144feeea589>:27: DeprecationWarning: find_element_by_* commands are deprecated. Please use find_element() instead\n",
      "  nick = driver.find_element_by_css_selector(overlays)\n",
      "<ipython-input-21-f144feeea589>:32: DeprecationWarning: find_element_by_* commands are deprecated. Please use find_element() instead\n",
      "  date = driver.find_element_by_css_selector(overlays)\n",
      "<ipython-input-21-f144feeea589>:37: DeprecationWarning: find_elements_by_* commands are deprecated. Please use find_elements() instead\n",
      "  tag = driver.find_elements_by_css_selector(overlays)\n"
     ]
    },
    {
     "ename": "NoSuchWindowException",
     "evalue": "Message: no such window: target window already closed\nfrom unknown error: web view not found\n  (Session info: chrome=96.0.4664.55)\nStacktrace:\n0   chromedriver                        0x0000000106af9ff9 __gxx_personality_v0 + 584201\n1   chromedriver                        0x0000000106a85403 __gxx_personality_v0 + 106003\n2   chromedriver                        0x0000000106641e38 chromedriver + 171576\n3   chromedriver                        0x00000001066230fe chromedriver + 45310\n4   chromedriver                        0x000000010669831c chromedriver + 525084\n5   chromedriver                        0x000000010669c74e chromedriver + 542542\n6   chromedriver                        0x00000001066949f8 chromedriver + 510456\n7   chromedriver                        0x000000010666a82e chromedriver + 337966\n8   chromedriver                        0x000000010666bb65 chromedriver + 342885\n9   chromedriver                        0x0000000106ab5f1b __gxx_personality_v0 + 305451\n10  chromedriver                        0x0000000106acce23 __gxx_personality_v0 + 399411\n11  chromedriver                        0x0000000106ad28df __gxx_personality_v0 + 422639\n12  chromedriver                        0x0000000106ace17a __gxx_personality_v0 + 404362\n13  chromedriver                        0x0000000106aaa541 __gxx_personality_v0 + 257873\n14  chromedriver                        0x0000000106ae9f28 __gxx_personality_v0 + 518456\n15  chromedriver                        0x0000000106aea0b1 __gxx_personality_v0 + 518849\n16  chromedriver                        0x0000000106b01498 __gxx_personality_v0 + 614056\n17  libsystem_pthread.dylib             0x00007fffacecd93b _pthread_body + 180\n18  libsystem_pthread.dylib             0x00007fffacecd887 _pthread_body + 0\n19  libsystem_pthread.dylib             0x00007fffacecd08d thread_start + 13\n",
     "output_type": "error",
     "traceback": [
      "\u001b[0;31m---------------------------------------------------------------------------\u001b[0m",
      "\u001b[0;31mNoSuchWindowException\u001b[0m                     Traceback (most recent call last)",
      "\u001b[0;32m<ipython-input-21-f144feeea589>\u001b[0m in \u001b[0;36m<module>\u001b[0;34m\u001b[0m\n\u001b[1;32m     15\u001b[0m         \u001b[0;31m# 글의 iframe 접근\u001b[0m\u001b[0;34m\u001b[0m\u001b[0;34m\u001b[0m\u001b[0;34m\u001b[0m\u001b[0m\n\u001b[0;32m---> 16\u001b[0;31m         \u001b[0mdriver\u001b[0m\u001b[0;34m.\u001b[0m\u001b[0mswitch_to\u001b[0m\u001b[0;34m.\u001b[0m\u001b[0mframe\u001b[0m\u001b[0;34m(\u001b[0m\u001b[0;34m\"mainFrame\"\u001b[0m\u001b[0;34m)\u001b[0m\u001b[0;34m\u001b[0m\u001b[0;34m\u001b[0m\u001b[0m\n\u001b[0m\u001b[1;32m     17\u001b[0m \u001b[0;34m\u001b[0m\u001b[0m\n",
      "\u001b[0;32m/Library/Frameworks/Python.framework/Versions/3.9/lib/python3.9/site-packages/selenium/webdriver/remote/switch_to.py\u001b[0m in \u001b[0;36mframe\u001b[0;34m(self, frame_reference)\u001b[0m\n\u001b[1;32m     93\u001b[0m \u001b[0;34m\u001b[0m\u001b[0m\n\u001b[0;32m---> 94\u001b[0;31m         \u001b[0mself\u001b[0m\u001b[0;34m.\u001b[0m\u001b[0m_driver\u001b[0m\u001b[0;34m.\u001b[0m\u001b[0mexecute\u001b[0m\u001b[0;34m(\u001b[0m\u001b[0mCommand\u001b[0m\u001b[0;34m.\u001b[0m\u001b[0mSWITCH_TO_FRAME\u001b[0m\u001b[0;34m,\u001b[0m \u001b[0;34m{\u001b[0m\u001b[0;34m'id'\u001b[0m\u001b[0;34m:\u001b[0m \u001b[0mframe_reference\u001b[0m\u001b[0;34m}\u001b[0m\u001b[0;34m)\u001b[0m\u001b[0;34m\u001b[0m\u001b[0;34m\u001b[0m\u001b[0m\n\u001b[0m\u001b[1;32m     95\u001b[0m \u001b[0;34m\u001b[0m\u001b[0m\n",
      "\u001b[0;32m/Library/Frameworks/Python.framework/Versions/3.9/lib/python3.9/site-packages/selenium/webdriver/remote/webdriver.py\u001b[0m in \u001b[0;36mexecute\u001b[0;34m(self, driver_command, params)\u001b[0m\n\u001b[1;32m    417\u001b[0m         \u001b[0;32mif\u001b[0m \u001b[0mresponse\u001b[0m\u001b[0;34m:\u001b[0m\u001b[0;34m\u001b[0m\u001b[0;34m\u001b[0m\u001b[0m\n\u001b[0;32m--> 418\u001b[0;31m             \u001b[0mself\u001b[0m\u001b[0;34m.\u001b[0m\u001b[0merror_handler\u001b[0m\u001b[0;34m.\u001b[0m\u001b[0mcheck_response\u001b[0m\u001b[0;34m(\u001b[0m\u001b[0mresponse\u001b[0m\u001b[0;34m)\u001b[0m\u001b[0;34m\u001b[0m\u001b[0;34m\u001b[0m\u001b[0m\n\u001b[0m\u001b[1;32m    419\u001b[0m             response['value'] = self._unwrap_value(\n",
      "\u001b[0;32m/Library/Frameworks/Python.framework/Versions/3.9/lib/python3.9/site-packages/selenium/webdriver/remote/errorhandler.py\u001b[0m in \u001b[0;36mcheck_response\u001b[0;34m(self, response)\u001b[0m\n\u001b[1;32m    242\u001b[0m             \u001b[0;32mraise\u001b[0m \u001b[0mexception_class\u001b[0m\u001b[0;34m(\u001b[0m\u001b[0mmessage\u001b[0m\u001b[0;34m,\u001b[0m \u001b[0mscreen\u001b[0m\u001b[0;34m,\u001b[0m \u001b[0mstacktrace\u001b[0m\u001b[0;34m,\u001b[0m \u001b[0malert_text\u001b[0m\u001b[0;34m)\u001b[0m  \u001b[0;31m# type: ignore[call-arg]  # mypy is not smart enough here\u001b[0m\u001b[0;34m\u001b[0m\u001b[0;34m\u001b[0m\u001b[0m\n\u001b[0;32m--> 243\u001b[0;31m         \u001b[0;32mraise\u001b[0m \u001b[0mexception_class\u001b[0m\u001b[0;34m(\u001b[0m\u001b[0mmessage\u001b[0m\u001b[0;34m,\u001b[0m \u001b[0mscreen\u001b[0m\u001b[0;34m,\u001b[0m \u001b[0mstacktrace\u001b[0m\u001b[0;34m)\u001b[0m\u001b[0;34m\u001b[0m\u001b[0;34m\u001b[0m\u001b[0m\n\u001b[0m\u001b[1;32m    244\u001b[0m \u001b[0;34m\u001b[0m\u001b[0m\n",
      "\u001b[0;31mNoSuchWindowException\u001b[0m: Message: no such window: target window already closed\nfrom unknown error: web view not found\n  (Session info: chrome=96.0.4664.55)\nStacktrace:\n0   chromedriver                        0x0000000106af9ff9 __gxx_personality_v0 + 584201\n1   chromedriver                        0x0000000106a85403 __gxx_personality_v0 + 106003\n2   chromedriver                        0x0000000106641e38 chromedriver + 171576\n3   chromedriver                        0x00000001066230fe chromedriver + 45310\n4   chromedriver                        0x000000010669831c chromedriver + 525084\n5   chromedriver                        0x00000001066a6c2f chromedriver + 584751\n6   chromedriver                        0x0000000106694d63 chromedriver + 511331\n7   chromedriver                        0x000000010666a82e chromedriver + 337966\n8   chromedriver                        0x000000010666bb65 chromedriver + 342885\n9   chromedriver                        0x0000000106ab5f1b __gxx_personality_v0 + 305451\n10  chromedriver                        0x0000000106acce23 __gxx_personality_v0 + 399411\n11  chromedriver                        0x0000000106ad28df __gxx_personality_v0 + 422639\n12  chromedriver                        0x0000000106ace17a __gxx_personality_v0 + 404362\n13  chromedriver                        0x0000000106aaa541 __gxx_personality_v0 + 257873\n14  chromedriver                        0x0000000106ae9f28 __gxx_personality_v0 + 518456\n15  chromedriver                        0x0000000106aea0b1 __gxx_personality_v0 + 518849\n16  chromedriver                        0x0000000106b01498 __gxx_personality_v0 + 614056\n17  libsystem_pthread.dylib             0x00007fffacecd93b _pthread_body + 180\n18  libsystem_pthread.dylib             0x00007fffacecd887 _pthread_body + 0\n19  libsystem_pthread.dylib             0x00007fffacecd08d thread_start + 13\n",
      "\nDuring handling of the above exception, another exception occurred:\n",
      "\u001b[0;31mNoSuchWindowException\u001b[0m                     Traceback (most recent call last)",
      "\u001b[0;32m<ipython-input-21-f144feeea589>\u001b[0m in \u001b[0;36m<module>\u001b[0;34m\u001b[0m\n\u001b[1;32m     57\u001b[0m     \u001b[0;31m# 에러나면 현재 크롬창을 닫고 다음 글(i+1)로 이동\u001b[0m\u001b[0;34m\u001b[0m\u001b[0;34m\u001b[0m\u001b[0;34m\u001b[0m\u001b[0m\n\u001b[1;32m     58\u001b[0m     \u001b[0;32mexcept\u001b[0m\u001b[0;34m:\u001b[0m\u001b[0;34m\u001b[0m\u001b[0;34m\u001b[0m\u001b[0m\n\u001b[0;32m---> 59\u001b[0;31m         \u001b[0mdriver\u001b[0m\u001b[0;34m.\u001b[0m\u001b[0mclose\u001b[0m\u001b[0;34m(\u001b[0m\u001b[0;34m)\u001b[0m\u001b[0;34m\u001b[0m\u001b[0;34m\u001b[0m\u001b[0m\n\u001b[0m\u001b[1;32m     60\u001b[0m         \u001b[0mtime\u001b[0m\u001b[0;34m.\u001b[0m\u001b[0msleep\u001b[0m\u001b[0;34m(\u001b[0m\u001b[0;36m1\u001b[0m\u001b[0;34m)\u001b[0m\u001b[0;34m\u001b[0m\u001b[0;34m\u001b[0m\u001b[0m\n\u001b[1;32m     61\u001b[0m         \u001b[0;32mcontinue\u001b[0m\u001b[0;34m\u001b[0m\u001b[0;34m\u001b[0m\u001b[0m\n",
      "\u001b[0;32m/Library/Frameworks/Python.framework/Versions/3.9/lib/python3.9/site-packages/selenium/webdriver/remote/webdriver.py\u001b[0m in \u001b[0;36mclose\u001b[0;34m(self)\u001b[0m\n\u001b[1;32m    929\u001b[0m                 \u001b[0mdriver\u001b[0m\u001b[0;34m.\u001b[0m\u001b[0mclose\u001b[0m\u001b[0;34m(\u001b[0m\u001b[0;34m)\u001b[0m\u001b[0;34m\u001b[0m\u001b[0;34m\u001b[0m\u001b[0m\n\u001b[1;32m    930\u001b[0m         \"\"\"\n\u001b[0;32m--> 931\u001b[0;31m         \u001b[0mself\u001b[0m\u001b[0;34m.\u001b[0m\u001b[0mexecute\u001b[0m\u001b[0;34m(\u001b[0m\u001b[0mCommand\u001b[0m\u001b[0;34m.\u001b[0m\u001b[0mCLOSE\u001b[0m\u001b[0;34m)\u001b[0m\u001b[0;34m\u001b[0m\u001b[0;34m\u001b[0m\u001b[0m\n\u001b[0m\u001b[1;32m    932\u001b[0m \u001b[0;34m\u001b[0m\u001b[0m\n\u001b[1;32m    933\u001b[0m     \u001b[0;32mdef\u001b[0m \u001b[0mquit\u001b[0m\u001b[0;34m(\u001b[0m\u001b[0mself\u001b[0m\u001b[0;34m)\u001b[0m \u001b[0;34m->\u001b[0m \u001b[0;32mNone\u001b[0m\u001b[0;34m:\u001b[0m\u001b[0;34m\u001b[0m\u001b[0;34m\u001b[0m\u001b[0m\n",
      "\u001b[0;32m/Library/Frameworks/Python.framework/Versions/3.9/lib/python3.9/site-packages/selenium/webdriver/remote/webdriver.py\u001b[0m in \u001b[0;36mexecute\u001b[0;34m(self, driver_command, params)\u001b[0m\n\u001b[1;32m    416\u001b[0m         \u001b[0mresponse\u001b[0m \u001b[0;34m=\u001b[0m \u001b[0mself\u001b[0m\u001b[0;34m.\u001b[0m\u001b[0mcommand_executor\u001b[0m\u001b[0;34m.\u001b[0m\u001b[0mexecute\u001b[0m\u001b[0;34m(\u001b[0m\u001b[0mdriver_command\u001b[0m\u001b[0;34m,\u001b[0m \u001b[0mparams\u001b[0m\u001b[0;34m)\u001b[0m\u001b[0;34m\u001b[0m\u001b[0;34m\u001b[0m\u001b[0m\n\u001b[1;32m    417\u001b[0m         \u001b[0;32mif\u001b[0m \u001b[0mresponse\u001b[0m\u001b[0;34m:\u001b[0m\u001b[0;34m\u001b[0m\u001b[0;34m\u001b[0m\u001b[0m\n\u001b[0;32m--> 418\u001b[0;31m             \u001b[0mself\u001b[0m\u001b[0;34m.\u001b[0m\u001b[0merror_handler\u001b[0m\u001b[0;34m.\u001b[0m\u001b[0mcheck_response\u001b[0m\u001b[0;34m(\u001b[0m\u001b[0mresponse\u001b[0m\u001b[0;34m)\u001b[0m\u001b[0;34m\u001b[0m\u001b[0;34m\u001b[0m\u001b[0m\n\u001b[0m\u001b[1;32m    419\u001b[0m             response['value'] = self._unwrap_value(\n\u001b[1;32m    420\u001b[0m                 response.get('value', None))\n",
      "\u001b[0;32m/Library/Frameworks/Python.framework/Versions/3.9/lib/python3.9/site-packages/selenium/webdriver/remote/errorhandler.py\u001b[0m in \u001b[0;36mcheck_response\u001b[0;34m(self, response)\u001b[0m\n\u001b[1;32m    241\u001b[0m                 \u001b[0malert_text\u001b[0m \u001b[0;34m=\u001b[0m \u001b[0mvalue\u001b[0m\u001b[0;34m[\u001b[0m\u001b[0;34m'alert'\u001b[0m\u001b[0;34m]\u001b[0m\u001b[0;34m.\u001b[0m\u001b[0mget\u001b[0m\u001b[0;34m(\u001b[0m\u001b[0;34m'text'\u001b[0m\u001b[0;34m)\u001b[0m\u001b[0;34m\u001b[0m\u001b[0;34m\u001b[0m\u001b[0m\n\u001b[1;32m    242\u001b[0m             \u001b[0;32mraise\u001b[0m \u001b[0mexception_class\u001b[0m\u001b[0;34m(\u001b[0m\u001b[0mmessage\u001b[0m\u001b[0;34m,\u001b[0m \u001b[0mscreen\u001b[0m\u001b[0;34m,\u001b[0m \u001b[0mstacktrace\u001b[0m\u001b[0;34m,\u001b[0m \u001b[0malert_text\u001b[0m\u001b[0;34m)\u001b[0m  \u001b[0;31m# type: ignore[call-arg]  # mypy is not smart enough here\u001b[0m\u001b[0;34m\u001b[0m\u001b[0;34m\u001b[0m\u001b[0m\n\u001b[0;32m--> 243\u001b[0;31m         \u001b[0;32mraise\u001b[0m \u001b[0mexception_class\u001b[0m\u001b[0;34m(\u001b[0m\u001b[0mmessage\u001b[0m\u001b[0;34m,\u001b[0m \u001b[0mscreen\u001b[0m\u001b[0;34m,\u001b[0m \u001b[0mstacktrace\u001b[0m\u001b[0;34m)\u001b[0m\u001b[0;34m\u001b[0m\u001b[0;34m\u001b[0m\u001b[0m\n\u001b[0m\u001b[1;32m    244\u001b[0m \u001b[0;34m\u001b[0m\u001b[0m\n\u001b[1;32m    245\u001b[0m     \u001b[0;32mdef\u001b[0m \u001b[0m_value_or_default\u001b[0m\u001b[0;34m(\u001b[0m\u001b[0mself\u001b[0m\u001b[0;34m,\u001b[0m \u001b[0mobj\u001b[0m\u001b[0;34m:\u001b[0m \u001b[0mMapping\u001b[0m\u001b[0;34m[\u001b[0m\u001b[0m_KT\u001b[0m\u001b[0;34m,\u001b[0m \u001b[0m_VT\u001b[0m\u001b[0;34m]\u001b[0m\u001b[0;34m,\u001b[0m \u001b[0mkey\u001b[0m\u001b[0;34m:\u001b[0m \u001b[0m_KT\u001b[0m\u001b[0;34m,\u001b[0m \u001b[0mdefault\u001b[0m\u001b[0;34m:\u001b[0m \u001b[0m_VT\u001b[0m\u001b[0;34m)\u001b[0m \u001b[0;34m->\u001b[0m \u001b[0m_VT\u001b[0m\u001b[0;34m:\u001b[0m\u001b[0;34m\u001b[0m\u001b[0;34m\u001b[0m\u001b[0m\n",
      "\u001b[0;31mNoSuchWindowException\u001b[0m: Message: no such window: target window already closed\nfrom unknown error: web view not found\n  (Session info: chrome=96.0.4664.55)\nStacktrace:\n0   chromedriver                        0x0000000106af9ff9 __gxx_personality_v0 + 584201\n1   chromedriver                        0x0000000106a85403 __gxx_personality_v0 + 106003\n2   chromedriver                        0x0000000106641e38 chromedriver + 171576\n3   chromedriver                        0x00000001066230fe chromedriver + 45310\n4   chromedriver                        0x000000010669831c chromedriver + 525084\n5   chromedriver                        0x000000010669c74e chromedriver + 542542\n6   chromedriver                        0x00000001066949f8 chromedriver + 510456\n7   chromedriver                        0x000000010666a82e chromedriver + 337966\n8   chromedriver                        0x000000010666bb65 chromedriver + 342885\n9   chromedriver                        0x0000000106ab5f1b __gxx_personality_v0 + 305451\n10  chromedriver                        0x0000000106acce23 __gxx_personality_v0 + 399411\n11  chromedriver                        0x0000000106ad28df __gxx_personality_v0 + 422639\n12  chromedriver                        0x0000000106ace17a __gxx_personality_v0 + 404362\n13  chromedriver                        0x0000000106aaa541 __gxx_personality_v0 + 257873\n14  chromedriver                        0x0000000106ae9f28 __gxx_personality_v0 + 518456\n15  chromedriver                        0x0000000106aea0b1 __gxx_personality_v0 + 518849\n16  chromedriver                        0x0000000106b01498 __gxx_personality_v0 + 614056\n17  libsystem_pthread.dylib             0x00007fffacecd93b _pthread_body + 180\n18  libsystem_pthread.dylib             0x00007fffacecd887 _pthread_body + 0\n19  libsystem_pthread.dylib             0x00007fffacecd08d thread_start + 13\n"
     ]
    }
   ],
   "source": [
    "dict = {}    # 전체 크롤링 데이터를 담을 그릇 선언\n",
    "number = len(url_list)    # 수집할 글 갯수\n",
    "\n",
    "\n",
    "# 수집한 url 돌면서 데이터 수집\n",
    "for i in tqdm_notebook(range(0, number)):\n",
    "    # 글 띄우기\n",
    "    url = url_list[i]\n",
    "    driver = webdriver.Chrome('/Users/parkjuhyeon/chromedriver')\n",
    "    driver.get(url)\n",
    "    \n",
    "    \n",
    "    # 크롤링\n",
    "    try : \n",
    "        # 글의 iframe 접근\n",
    "        driver.switch_to.frame(\"mainFrame\")\n",
    "\n",
    "        target_info = {}  # 개별 블로그 내용을 담을 딕셔너리 생성\n",
    "\n",
    "        # 제목 크롤링\n",
    "        overlays = \".se-module.se-module-text.se-title-text\"                        \n",
    "        tit = driver.find_element_by_css_selector(overlays)\n",
    "        title = tit.text\n",
    "\n",
    "        # 글쓴이 크롤링\n",
    "        overlays = \".nick\"                                 \n",
    "        nick = driver.find_element_by_css_selector(overlays)\n",
    "        nickname = nick.text\n",
    "\n",
    "        # 날짜 크롤링\n",
    "        overlays = \".se_publishDate.pcol2\"    \n",
    "        date = driver.find_element_by_css_selector(overlays)\n",
    "        datetime = date.text\n",
    "        \n",
    "        # 해쉬태그 크롤링 \n",
    "           #overlays = \"#tagList_222556237234 > a:nth-child(2) > span\"\n",
    "           #tag = driver.find_elements_by_css_selector(overlays)\n",
    "           #hashtag = tag.text\n",
    "    \n",
    "        # 크롤링한 글은 target_info라는 딕셔너리에 담음\n",
    "        target_info['title'] = title\n",
    "        target_info['nickname'] = nickname\n",
    "        target_info['datetime'] = datetime\n",
    "           #target_info['hashtag'] = hashtag\n",
    "        \n",
    "\n",
    "        # 각각의 글은 dict라는 딕셔너리에 담음\n",
    "        dict[i] = target_info\n",
    "        time.sleep(1)\n",
    "        \n",
    "        # 크롤링 성공하면 글 제목을 출력\n",
    "        print(i, title)\n",
    "\n",
    "        # 글 하나 크롤링 후 크롬 창 닫기\n",
    "        driver.close()       \n",
    "    \n",
    "    # 에러나면 현재 크롬창을 닫고 다음 글(i+1)로 이동\n",
    "    except:\n",
    "        driver.close()\n",
    "        time.sleep(1)\n",
    "        continue\n"
   ]
  },
  {
   "cell_type": "code",
   "execution_count": 10,
   "id": "corrected-slovenia",
   "metadata": {},
   "outputs": [
    {
     "name": "stdout",
     "output_type": "stream",
     "text": [
      "수집한 글 갯수:  0\n"
     ]
    },
    {
     "ename": "KeyError",
     "evalue": "0",
     "output_type": "error",
     "traceback": [
      "\u001b[0;31m---------------------------------------------------------------------------\u001b[0m",
      "\u001b[0;31mKeyError\u001b[0m                                  Traceback (most recent call last)",
      "\u001b[0;32m<ipython-input-10-164893be84c1>\u001b[0m in \u001b[0;36m<module>\u001b[0;34m\u001b[0m\n\u001b[1;32m      1\u001b[0m \u001b[0mprint\u001b[0m\u001b[0;34m(\u001b[0m\u001b[0;34m'수집한 글 갯수: '\u001b[0m\u001b[0;34m,\u001b[0m \u001b[0mlen\u001b[0m\u001b[0;34m(\u001b[0m\u001b[0mdict\u001b[0m\u001b[0;34m)\u001b[0m\u001b[0;34m)\u001b[0m\u001b[0;34m\u001b[0m\u001b[0;34m\u001b[0m\u001b[0m\n\u001b[1;32m      2\u001b[0m \u001b[0;34m\u001b[0m\u001b[0m\n\u001b[0;32m----> 3\u001b[0;31m \u001b[0mdict\u001b[0m\u001b[0;34m[\u001b[0m\u001b[0;36m0\u001b[0m\u001b[0;34m]\u001b[0m\u001b[0;34m\u001b[0m\u001b[0;34m\u001b[0m\u001b[0m\n\u001b[0m\u001b[1;32m      4\u001b[0m \u001b[0;34m\u001b[0m\u001b[0m\n\u001b[1;32m      5\u001b[0m \u001b[0;31m# 판다스화\u001b[0m\u001b[0;34m\u001b[0m\u001b[0;34m\u001b[0m\u001b[0;34m\u001b[0m\u001b[0m\n",
      "\u001b[0;31mKeyError\u001b[0m: 0"
     ]
    }
   ],
   "source": [
    "print('수집한 글 갯수: ', len(dict))\n",
    "\n",
    "dict[0]\n",
    "\n",
    "# 판다스화\n",
    "result_df = pd.DataFrame.from_dict(dict, 'index')\n",
    "result_df"
   ]
  },
  {
   "cell_type": "code",
   "execution_count": null,
   "id": "extra-chance",
   "metadata": {},
   "outputs": [],
   "source": []
  }
 ],
 "metadata": {
  "kernelspec": {
   "display_name": "Python 3",
   "language": "python",
   "name": "python3"
  },
  "language_info": {
   "codemirror_mode": {
    "name": "ipython",
    "version": 3
   },
   "file_extension": ".py",
   "mimetype": "text/x-python",
   "name": "python",
   "nbconvert_exporter": "python",
   "pygments_lexer": "ipython3",
   "version": "3.9.2"
  }
 },
 "nbformat": 4,
 "nbformat_minor": 5
}
