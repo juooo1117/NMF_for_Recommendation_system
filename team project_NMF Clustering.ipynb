{
 "cells": [
  {
   "cell_type": "code",
   "execution_count": 1,
   "id": "appreciated-nebraska",
   "metadata": {},
   "outputs": [],
   "source": [
    "import matplotlib\n",
    "import numpy as np\n",
    "import matplotlib.pyplot as plt\n",
    "import pandas as pd\n",
    "import string\n",
    "from nltk.corpus import stopwords\n",
    "from sklearn.feature_extraction.text import CountVectorizer\n",
    "from sklearn.feature_extraction.text import TfidfVectorizer"
   ]
  },
  {
   "cell_type": "markdown",
   "id": "wicked-victor",
   "metadata": {},
   "source": [
    "# 데이터 그냥 확인절차"
   ]
  },
  {
   "cell_type": "code",
   "execution_count": 2,
   "id": "decent-camping",
   "metadata": {},
   "outputs": [],
   "source": [
    "df = pd.read_csv(\"blind_50s.csv\", delimiter=\",\")"
   ]
  },
  {
   "cell_type": "code",
   "execution_count": 3,
   "id": "understood-filename",
   "metadata": {
    "scrolled": true
   },
   "outputs": [
    {
     "name": "stdout",
     "output_type": "stream",
     "text": [
      "<class 'pandas.core.frame.DataFrame'>\n",
      "RangeIndex: 18554 entries, 0 to 18553\n",
      "Data columns (total 4 columns):\n",
      " #   Column      Non-Null Count  Dtype \n",
      "---  ------      --------------  ----- \n",
      " 0   Unnamed: 0  18554 non-null  int64 \n",
      " 1   contents    18554 non-null  object\n",
      " 2   time        18554 non-null  object\n",
      " 3   keyword     18554 non-null  object\n",
      "dtypes: int64(1), object(3)\n",
      "memory usage: 579.9+ KB\n"
     ]
    }
   ],
   "source": [
    "df.info()"
   ]
  },
  {
   "cell_type": "code",
   "execution_count": 4,
   "id": "proper-custody",
   "metadata": {},
   "outputs": [
    {
     "data": {
      "text/html": [
       "<div>\n",
       "<style scoped>\n",
       "    .dataframe tbody tr th:only-of-type {\n",
       "        vertical-align: middle;\n",
       "    }\n",
       "\n",
       "    .dataframe tbody tr th {\n",
       "        vertical-align: top;\n",
       "    }\n",
       "\n",
       "    .dataframe thead th {\n",
       "        text-align: right;\n",
       "    }\n",
       "</style>\n",
       "<table border=\"1\" class=\"dataframe\">\n",
       "  <thead>\n",
       "    <tr style=\"text-align: right;\">\n",
       "      <th></th>\n",
       "      <th>Unnamed: 0</th>\n",
       "      <th>contents</th>\n",
       "      <th>time</th>\n",
       "      <th>keyword</th>\n",
       "    </tr>\n",
       "  </thead>\n",
       "  <tbody>\n",
       "    <tr>\n",
       "      <th>0</th>\n",
       "      <td>0</td>\n",
       "      <td>라고 하기엔 3개 뿐이지만...😅 배우기 시작한지는 얼마 안되서 아직은 기초단계...</td>\n",
       "      <td>작성시간\\n2020.08.27.</td>\n",
       "      <td>디지털 드로잉</td>\n",
       "    </tr>\n",
       "    <tr>\n",
       "      <th>1</th>\n",
       "      <td>1</td>\n",
       "      <td>아이패드 vs 타블렛 뭐가 나을까?? 클래스 101 인가 그거 들을만 할까 들어본 ...</td>\n",
       "      <td>작성시간\\n2020.07.08.</td>\n",
       "      <td>디지털 드로잉</td>\n",
       "    </tr>\n",
       "    <tr>\n",
       "      <th>2</th>\n",
       "      <td>2</td>\n",
       "      <td>손으로 그리는 강의 추천하는 거 있나요?</td>\n",
       "      <td>작성시간\\n2020.08.29.</td>\n",
       "      <td>디지털 드로잉</td>\n",
       "    </tr>\n",
       "    <tr>\n",
       "      <th>3</th>\n",
       "      <td>3</td>\n",
       "      <td>그림 그리는 모임 경험해보고 싶어요 혼자 그리고 보니 발전이 좀 없는거 같아서 스터...</td>\n",
       "      <td>작성시간\\n04.12</td>\n",
       "      <td>디지털 드로잉</td>\n",
       "    </tr>\n",
       "    <tr>\n",
       "      <th>4</th>\n",
       "      <td>4</td>\n",
       "      <td>요즘 반복되는 업무에 치이다보니 취미(좀 정적인것) 도전해보고 싶은데요 혹시 일산&amp;...</td>\n",
       "      <td>작성시간\\n2019.06.12.</td>\n",
       "      <td>디지털 드로잉</td>\n",
       "    </tr>\n",
       "  </tbody>\n",
       "</table>\n",
       "</div>"
      ],
      "text/plain": [
       "   Unnamed: 0                                           contents  \\\n",
       "0           0    라고 하기엔 3개 뿐이지만...😅 배우기 시작한지는 얼마 안되서 아직은 기초단계...   \n",
       "1           1  아이패드 vs 타블렛 뭐가 나을까?? 클래스 101 인가 그거 들을만 할까 들어본 ...   \n",
       "2           2                             손으로 그리는 강의 추천하는 거 있나요?   \n",
       "3           3  그림 그리는 모임 경험해보고 싶어요 혼자 그리고 보니 발전이 좀 없는거 같아서 스터...   \n",
       "4           4  요즘 반복되는 업무에 치이다보니 취미(좀 정적인것) 도전해보고 싶은데요 혹시 일산&...   \n",
       "\n",
       "                time  keyword  \n",
       "0  작성시간\\n2020.08.27.  디지털 드로잉  \n",
       "1  작성시간\\n2020.07.08.  디지털 드로잉  \n",
       "2  작성시간\\n2020.08.29.  디지털 드로잉  \n",
       "3        작성시간\\n04.12  디지털 드로잉  \n",
       "4  작성시간\\n2019.06.12.  디지털 드로잉  "
      ]
     },
     "execution_count": 4,
     "metadata": {},
     "output_type": "execute_result"
    }
   ],
   "source": [
    "df.head()"
   ]
  },
  {
   "cell_type": "code",
   "execution_count": 5,
   "id": "rotary-serbia",
   "metadata": {},
   "outputs": [
    {
     "data": {
      "text/plain": [
       "['라고 하기엔 3개 뿐이지만...😅 배우기 시작한지는 얼마 안되서 아직은 기초단계...',\n",
       " '아이패드 vs 타블렛 뭐가 나을까?? 클래스 101 인가 그거 들을만 할까 들어본 형 누나들??',\n",
       " '손으로 그리는 강의 추천하는 거 있나요?',\n",
       " '그림 그리는 모임 경험해보고 싶어요 혼자 그리고 보니 발전이 좀 없는거 같아서 스터디 식으로 크로키나 인체 연습 과제처럼 하는 그런 모임 없을까요~?',\n",
       " '요즘 반복되는 업무에 치이다보니 취미(좀 정적인것) 도전해보고 싶은데요 혹시 일산&합정&DMC 쪽에 취미로 해볼 수 있는 디지털드로잉 수업이나 강좌 있나요? 한번도 안해봐서 아직 장비는 없고 검색해봐두 전문학원이나 입시학원밖에 없어서요ㅠㅠ 이번에 D뮤지엄갔다가 디지털 드로잉에 꽂혀서 꼭 배워보고싶네요!! 취미로 하시는 분들 계시면 댓글 부탁드려요!^^']"
      ]
     },
     "execution_count": 5,
     "metadata": {},
     "output_type": "execute_result"
    }
   ],
   "source": [
    "list(df[\"contents\"][:5])"
   ]
  },
  {
   "cell_type": "code",
   "execution_count": 6,
   "id": "scheduled-workplace",
   "metadata": {},
   "outputs": [
    {
     "name": "stdout",
     "output_type": "stream",
     "text": [
      "<class 'pandas.core.frame.DataFrame'>\n",
      "RangeIndex: 6185 entries, 0 to 18552\n",
      "Data columns (total 4 columns):\n",
      " #   Column      Non-Null Count  Dtype \n",
      "---  ------      --------------  ----- \n",
      " 0   Unnamed: 0  6185 non-null   int64 \n",
      " 1   contents    6185 non-null   object\n",
      " 2   time        6185 non-null   object\n",
      " 3   keyword     6185 non-null   object\n",
      "dtypes: int64(1), object(3)\n",
      "memory usage: 193.4+ KB\n"
     ]
    }
   ],
   "source": [
    "#df2 = df[::3]  #3번째 지나면 1개씩 뽑기 (0, 3, 6...)\n",
    "#df2.info()"
   ]
  },
  {
   "cell_type": "code",
   "execution_count": 7,
   "id": "combined-borough",
   "metadata": {},
   "outputs": [
    {
     "data": {
      "text/html": [
       "<div>\n",
       "<style scoped>\n",
       "    .dataframe tbody tr th:only-of-type {\n",
       "        vertical-align: middle;\n",
       "    }\n",
       "\n",
       "    .dataframe tbody tr th {\n",
       "        vertical-align: top;\n",
       "    }\n",
       "\n",
       "    .dataframe thead th {\n",
       "        text-align: right;\n",
       "    }\n",
       "</style>\n",
       "<table border=\"1\" class=\"dataframe\">\n",
       "  <thead>\n",
       "    <tr style=\"text-align: right;\">\n",
       "      <th></th>\n",
       "      <th>Unnamed: 0</th>\n",
       "      <th>contents</th>\n",
       "      <th>time</th>\n",
       "      <th>keyword</th>\n",
       "    </tr>\n",
       "  </thead>\n",
       "  <tbody>\n",
       "    <tr>\n",
       "      <th>0</th>\n",
       "      <td>0</td>\n",
       "      <td>라고 하기엔 3개 뿐이지만...😅 배우기 시작한지는 얼마 안되서 아직은 기초단계...</td>\n",
       "      <td>작성시간\\n2020.08.27.</td>\n",
       "      <td>디지털 드로잉</td>\n",
       "    </tr>\n",
       "    <tr>\n",
       "      <th>3</th>\n",
       "      <td>3</td>\n",
       "      <td>그림 그리는 모임 경험해보고 싶어요 혼자 그리고 보니 발전이 좀 없는거 같아서 스터...</td>\n",
       "      <td>작성시간\\n04.12</td>\n",
       "      <td>디지털 드로잉</td>\n",
       "    </tr>\n",
       "    <tr>\n",
       "      <th>6</th>\n",
       "      <td>6</td>\n",
       "      <td>갤럭시탭 최신형으로 있어서 다른건 다필요없고 디지털 드로잉좀 배워보고싶어서 아이패드...</td>\n",
       "      <td>작성시간\\n10.22</td>\n",
       "      <td>디지털 드로잉</td>\n",
       "    </tr>\n",
       "    <tr>\n",
       "      <th>9</th>\n",
       "      <td>9</td>\n",
       "      <td>보통 아이패드 많이 쓰더라구? 나는 갤탭뿐이고... 갤탭으로 한번 해보고싶은데 어디...</td>\n",
       "      <td>작성시간\\n10.12</td>\n",
       "      <td>디지털 드로잉</td>\n",
       "    </tr>\n",
       "    <tr>\n",
       "      <th>12</th>\n",
       "      <td>12</td>\n",
       "      <td>재밌닷</td>\n",
       "      <td>작성시간\\n07.31</td>\n",
       "      <td>드로잉</td>\n",
       "    </tr>\n",
       "  </tbody>\n",
       "</table>\n",
       "</div>"
      ],
      "text/plain": [
       "    Unnamed: 0                                           contents  \\\n",
       "0            0    라고 하기엔 3개 뿐이지만...😅 배우기 시작한지는 얼마 안되서 아직은 기초단계...   \n",
       "3            3  그림 그리는 모임 경험해보고 싶어요 혼자 그리고 보니 발전이 좀 없는거 같아서 스터...   \n",
       "6            6  갤럭시탭 최신형으로 있어서 다른건 다필요없고 디지털 드로잉좀 배워보고싶어서 아이패드...   \n",
       "9            9  보통 아이패드 많이 쓰더라구? 나는 갤탭뿐이고... 갤탭으로 한번 해보고싶은데 어디...   \n",
       "12          12                                                재밌닷   \n",
       "\n",
       "                 time  keyword  \n",
       "0   작성시간\\n2020.08.27.  디지털 드로잉  \n",
       "3         작성시간\\n04.12  디지털 드로잉  \n",
       "6         작성시간\\n10.22  디지털 드로잉  \n",
       "9         작성시간\\n10.12  디지털 드로잉  \n",
       "12        작성시간\\n07.31      드로잉  "
      ]
     },
     "execution_count": 7,
     "metadata": {},
     "output_type": "execute_result"
    }
   ],
   "source": [
    "df2.head()   "
   ]
  },
  {
   "cell_type": "markdown",
   "id": "fallen-occupation",
   "metadata": {},
   "source": [
    "# 데이터 전처리 (url,숫자,영어,#,특수문자제거, 정규화 )"
   ]
  },
  {
   "cell_type": "code",
   "execution_count": 8,
   "id": "unique-liabilities",
   "metadata": {
    "scrolled": true
   },
   "outputs": [],
   "source": [
    "df = pd.read_csv(\"blind_50s.csv\", delimiter=\",\")"
   ]
  },
  {
   "cell_type": "code",
   "execution_count": 9,
   "id": "breeding-bottle",
   "metadata": {
    "scrolled": true
   },
   "outputs": [],
   "source": [
    "data = df.drop(columns=['Unnamed: 0'], axis=1)"
   ]
  },
  {
   "cell_type": "code",
   "execution_count": 10,
   "id": "established-officer",
   "metadata": {},
   "outputs": [
    {
     "data": {
      "text/html": [
       "<div>\n",
       "<style scoped>\n",
       "    .dataframe tbody tr th:only-of-type {\n",
       "        vertical-align: middle;\n",
       "    }\n",
       "\n",
       "    .dataframe tbody tr th {\n",
       "        vertical-align: top;\n",
       "    }\n",
       "\n",
       "    .dataframe thead th {\n",
       "        text-align: right;\n",
       "    }\n",
       "</style>\n",
       "<table border=\"1\" class=\"dataframe\">\n",
       "  <thead>\n",
       "    <tr style=\"text-align: right;\">\n",
       "      <th></th>\n",
       "      <th>contents</th>\n",
       "      <th>time</th>\n",
       "      <th>keyword</th>\n",
       "    </tr>\n",
       "  </thead>\n",
       "  <tbody>\n",
       "    <tr>\n",
       "      <th>0</th>\n",
       "      <td>라고 하기엔 3개 뿐이지만...😅 배우기 시작한지는 얼마 안되서 아직은 기초단계...</td>\n",
       "      <td>작성시간\\n2020.08.27.</td>\n",
       "      <td>디지털 드로잉</td>\n",
       "    </tr>\n",
       "    <tr>\n",
       "      <th>1</th>\n",
       "      <td>아이패드 vs 타블렛 뭐가 나을까?? 클래스 101 인가 그거 들을만 할까 들어본 ...</td>\n",
       "      <td>작성시간\\n2020.07.08.</td>\n",
       "      <td>디지털 드로잉</td>\n",
       "    </tr>\n",
       "    <tr>\n",
       "      <th>2</th>\n",
       "      <td>손으로 그리는 강의 추천하는 거 있나요?</td>\n",
       "      <td>작성시간\\n2020.08.29.</td>\n",
       "      <td>디지털 드로잉</td>\n",
       "    </tr>\n",
       "    <tr>\n",
       "      <th>3</th>\n",
       "      <td>그림 그리는 모임 경험해보고 싶어요 혼자 그리고 보니 발전이 좀 없는거 같아서 스터...</td>\n",
       "      <td>작성시간\\n04.12</td>\n",
       "      <td>디지털 드로잉</td>\n",
       "    </tr>\n",
       "    <tr>\n",
       "      <th>4</th>\n",
       "      <td>요즘 반복되는 업무에 치이다보니 취미(좀 정적인것) 도전해보고 싶은데요 혹시 일산&amp;...</td>\n",
       "      <td>작성시간\\n2019.06.12.</td>\n",
       "      <td>디지털 드로잉</td>\n",
       "    </tr>\n",
       "  </tbody>\n",
       "</table>\n",
       "</div>"
      ],
      "text/plain": [
       "                                            contents               time  \\\n",
       "0    라고 하기엔 3개 뿐이지만...😅 배우기 시작한지는 얼마 안되서 아직은 기초단계...  작성시간\\n2020.08.27.   \n",
       "1  아이패드 vs 타블렛 뭐가 나을까?? 클래스 101 인가 그거 들을만 할까 들어본 ...  작성시간\\n2020.07.08.   \n",
       "2                             손으로 그리는 강의 추천하는 거 있나요?  작성시간\\n2020.08.29.   \n",
       "3  그림 그리는 모임 경험해보고 싶어요 혼자 그리고 보니 발전이 좀 없는거 같아서 스터...        작성시간\\n04.12   \n",
       "4  요즘 반복되는 업무에 치이다보니 취미(좀 정적인것) 도전해보고 싶은데요 혹시 일산&...  작성시간\\n2019.06.12.   \n",
       "\n",
       "   keyword  \n",
       "0  디지털 드로잉  \n",
       "1  디지털 드로잉  \n",
       "2  디지털 드로잉  \n",
       "3  디지털 드로잉  \n",
       "4  디지털 드로잉  "
      ]
     },
     "execution_count": 10,
     "metadata": {},
     "output_type": "execute_result"
    }
   ],
   "source": [
    "data.head()"
   ]
  },
  {
   "cell_type": "code",
   "execution_count": 11,
   "id": "engaging-resort",
   "metadata": {},
   "outputs": [
    {
     "name": "stdout",
     "output_type": "stream",
     "text": [
      "<class 'pandas.core.frame.DataFrame'>\n",
      "RangeIndex: 18554 entries, 0 to 18553\n",
      "Data columns (total 3 columns):\n",
      " #   Column    Non-Null Count  Dtype \n",
      "---  ------    --------------  ----- \n",
      " 0   contents  18554 non-null  object\n",
      " 1   time      18554 non-null  object\n",
      " 2   keyword   18554 non-null  object\n",
      "dtypes: object(3)\n",
      "memory usage: 435.0+ KB\n"
     ]
    }
   ],
   "source": [
    "data.info()"
   ]
  },
  {
   "cell_type": "code",
   "execution_count": 12,
   "id": "frequent-mechanics",
   "metadata": {},
   "outputs": [],
   "source": [
    "#conents에 해당하는 부분만 'docs'라는 리스트로 만듦\n",
    "\n",
    "docs = list(data['contents'])"
   ]
  },
  {
   "cell_type": "code",
   "execution_count": null,
   "id": "experimental-better",
   "metadata": {},
   "outputs": [],
   "source": [
    "docs"
   ]
  },
  {
   "cell_type": "code",
   "execution_count": 14,
   "id": "sustained-luxembourg",
   "metadata": {},
   "outputs": [],
   "source": [
    "import re\n",
    "import requests\n",
    "from bs4 import BeautifulSoup\n",
    "\n",
    "\n",
    "from konlpy.tag import Okt \n",
    "okt = Okt()"
   ]
  },
  {
   "cell_type": "code",
   "execution_count": 15,
   "id": "union-conviction",
   "metadata": {},
   "outputs": [],
   "source": [
    "# http로 시작되는 url제거\n",
    "remove_url = [re.sub(r\"http[s]?://(?:[a-zA-Z]|[0-9]|[$-_@.&+]|[!*\\(\\),]|(?:%[0-9a-fA-F][0-9a-fA-F]))+\", \" \", str(content)) for content in docs]\n",
    "\n",
    "# 숫자 제거\n",
    "remove_num = [re.sub(r'\\d+',' ', str(content)) for content in remove_url]\n",
    "\n",
    "# 영어 제거 \n",
    "remove_alpha = [re.sub('[a-zA-Z]' , ' ', str(content)) for content in remove_num]\n",
    "\n",
    "# Hashtag 제거\n",
    "remove_tag = [re.sub('[#]+[0-9a-zA-Z_]+', ' ', str(content)) for content in remove_alpha]\n",
    "\n",
    "# 특수문자 제거\n",
    "remove_special = [re.sub('[^0-9a-zA-Zㄱ-ㅎ가-힣]', ' ', str(content)) for content in remove_tag]\n",
    "\n",
    "#정규식(Regular Expression)이용해서 정규화\n",
    "lawdata = [re.sub(r\"[^가-힣A-Za-z0-9]\", \" \", str(content)) for content in remove_special]\n",
    "\n",
    "\n",
    "   # 쓰레기 단어 제거\n",
    "   #text = re.sub('[&]+[a-z]+', ' ', text)\n",
    "\n",
    "   # 특정 문자 제거\n",
    "   #for i in ['!','@','#','*'] :\n",
    "       #new_id = new_id.replace(i, \"\")\n",
    "\n",
    "   # 띄어쓰기 제거\n",
    "   #text = text.replace('\\n',' ')"
   ]
  },
  {
   "cell_type": "code",
   "execution_count": 16,
   "id": "running-nebraska",
   "metadata": {
    "scrolled": true
   },
   "outputs": [
    {
     "data": {
      "text/plain": [
       "['라고 하기엔  개 뿐이지만     배우기 시작한지는 얼마 안되서 아직은 기초단계   ',\n",
       " '아이패드    타블렛 뭐가 나을까   클래스   인가 그거 들을만 할까 들어본 형 누나들  ',\n",
       " '손으로 그리는 강의 추천하는 거 있나요 ',\n",
       " '그림 그리는 모임 경험해보고 싶어요 혼자 그리고 보니 발전이 좀 없는거 같아서 스터디 식으로 크로키나 인체 연습 과제처럼 하는 그런 모임 없을까요  ',\n",
       " '요즘 반복되는 업무에 치이다보니 취미 좀 정적인것  도전해보고 싶은데요 혹시 일산 합정     쪽에 취미로 해볼 수 있는 디지털드로잉 수업이나 강좌 있나요  한번도 안해봐서 아직 장비는 없고 검색해봐두 전문학원이나 입시학원밖에 없어서요   이번에  뮤지엄갔다가 디지털 드로잉에 꽂혀서 꼭 배워보고싶네요   취미로 하시는 분들 계시면 댓글 부탁드려요   ',\n",
       " '왜 학창시절에보면 남자애들 그림    못그리잖아 글씨도 더럽고 그게난데 그림그리는걸 너무하고싶어 근데 도화지에 그리자신은없어 디지털드로잉 유튜브에 강의많던데 보고하면 많이늘까 ',\n",
       " '갤럭시탭 최신형으로 있어서 다른건 다필요없고 디지털 드로잉좀 배워보고싶어서 아이패드 살려고하거든 최신형 필요없고 아이팬슬 지원하는거 사면 좋을꺼같은데 어떤걸 사면 좋을까  아이패드  세대개 제일 무난할까 ',\n",
       " '손그림만 그리다가 아이패드 샀는데 어플 추천해줄수있어  프로크리에이트나 클립스튜디오 많이 쓰는것같은데 디지털 드로잉은 처음이고 포토샵 정도 다룰줄 알아           유튜브랑 인터넷 이것저것 찾아보는데 엄청 방대하네',\n",
       " '아이패드 세대    아이패드 프로  세대 중에 어떤게 나을까 디지털 드로잉 배워보려고 하는데 초보라    프로는 에바인가 프로는 가격때매    세대는 가격은 괜찮은데 기능 까는 리뷰가 많아서 뭐가 나을지 고민즁     ',\n",
       " '보통 아이패드 많이 쓰더라구  나는 갤탭뿐이고    갤탭으로 한번 해보고싶은데 어디서부터 시작해야할지 모르겠어 보통 강의같은걸로 시작하나      미대준비했었어서 그림은 잘 그리는  편인데 디지털 드로잉 은 잘몰라 조언 좀 부탁행      ',\n",
       " '우리 서비스에서 매달 쿠폰 뿌리는데 이번 주가 특히 할인율이 쎄서 알려주러 왔어  신규회원 가입하면 주는  만원 쿠폰이랑 디지털드로잉    할인쿠폰 중복으로 쓸 수 있거든 이거 진짜 할인 많이 되는 거니까 주변에 이것저것 하는거 관심있는 여친  여사친한테도 알려줘  블라인드에서 만든거니까 관심 많이 가져줄거라 믿는다        횽들  믿어  관심좀',\n",
       " '그림 그리기 시작하면 엄청 좋아하고 집중하네    싱기방기 왼손잡이로 야무지게  ',\n",
       " '재밌닷',\n",
       " '오랜만에 연필 느낌 드로잉 낙서 ',\n",
       " '주말의 그림 그냥 끄적끄적   ',\n",
       " '느낌있는 인체를 그리기 위한 연구중',\n",
       " '미술의 미도 모르는 수준인데   드로잉  스케치  도 좀 배우고 싶어  여행가서 막 랜드마크 같은거 그리는 로망     좀 생겨서       나중에는 수채화나 유화도 좀 해보고 싶지만  이건 독학 어렵겠지  우선 기초부터 좀 배우고픈데 교대근무라 학원 가는게 어려워서     독학 책이나 강의 추천좀 ',\n",
       " '어떤거 좋아  사진에다가 그림그리고싶은뎅  원짜리는 너무 비싸다   ',\n",
       " '드로잉이 제일 재미있다   ',\n",
       " '드로잉 파티합니다  내일  월 일 금요일이요  장소는 양재 역근처  자유주제로 드로잉하고 맥주로 뒷풀이합니다  참여비    원  드로잉으로 열정을 불태우고 재밌는뒷풀이해요   ']"
      ]
     },
     "execution_count": 16,
     "metadata": {},
     "output_type": "execute_result"
    }
   ],
   "source": [
    "lawdata[:20]"
   ]
  },
  {
   "cell_type": "markdown",
   "id": "israeli-appendix",
   "metadata": {},
   "source": [
    "# 형태소 분석 관련 코드(여기서는 okt.nouns 이용해서, 토크나이즈 후 명사만 골라냄)"
   ]
  },
  {
   "cell_type": "code",
   "execution_count": null,
   "id": "international-complaint",
   "metadata": {},
   "outputs": [],
   "source": [
    "#morphs는 형태소 단위로 구문을 분석(형태소 단위로 토크나이즈)\n",
    "\n",
    "lawdata_tokened_morphs = []\n",
    "\n",
    "for doc in lawdata:\n",
    "    newdoc = okt.morphs(doc)\n",
    "    lawdata_tokened_morphs.append(newdoc)"
   ]
  },
  {
   "cell_type": "code",
   "execution_count": null,
   "id": "prospective-occasion",
   "metadata": {},
   "outputs": [],
   "source": [
    "lawdata_tokened_morphs[:2]"
   ]
  },
  {
   "cell_type": "code",
   "execution_count": null,
   "id": "outside-utility",
   "metadata": {},
   "outputs": [],
   "source": [
    "#명사만 추출해줌(토크나이즈해서 리스트 형태로 명사만 추출)\n",
    "\n",
    "lawdata_tokened_nouns = []\n",
    "\n",
    "for doc in lawdata:\n",
    "    newdoc = okt.nouns(doc)\n",
    "    lawdata_tokened_nouns.append(newdoc)"
   ]
  },
  {
   "cell_type": "code",
   "execution_count": null,
   "id": "opened-huntington",
   "metadata": {},
   "outputs": [],
   "source": [
    "lawdata_tokened_nouns[:2]"
   ]
  },
  {
   "cell_type": "code",
   "execution_count": null,
   "id": "sharp-hypothetical",
   "metadata": {},
   "outputs": [],
   "source": [
    "#각 품사를 태깅하는 역할. \n",
    "#품사를 태깅한다는 것은 주어진 텍스트를 형태소 단위로 나누고, 나눠진 각 형태소를 그에 해당하는 품사와 함께 리스트화 하는 것을 의미한다. \n",
    "#형태소 분석으로, 형태소 단위 토크나이징\n",
    "#pos = lambda d: ['/'.join(p) for p in okt.pos(d, stem=True, norm=True)]\n",
    "\n",
    "\n",
    "pos = lambda d: ['/'.join(p) for p in okt.pos(d, stem=True, norm=True) \n",
    "                 if ('Noun' in p or 'Adjective' in p or 'Verb' in p or 'Adverb' in p) \n",
    "                 and '보다' not in p and '하다' not in p]\n",
    "lawdata_tokened = [pos(doc) for doc in lawdata]"
   ]
  },
  {
   "cell_type": "code",
   "execution_count": null,
   "id": "incident-apache",
   "metadata": {},
   "outputs": [],
   "source": [
    "lawdata_tokened[:2]"
   ]
  },
  {
   "cell_type": "code",
   "execution_count": null,
   "id": "excited-tennis",
   "metadata": {},
   "outputs": [],
   "source": [
    "print(lawdata_tokened[1])\n",
    "lawdata_tokened[1][0].split('/')"
   ]
  },
  {
   "cell_type": "code",
   "execution_count": null,
   "id": "metallic-apple",
   "metadata": {},
   "outputs": [],
   "source": [
    "lawdata_tokened_filtered = []\n",
    "\n",
    "for doc in lawdata_tokened:\n",
    "    newdoc = [d for d in doc if d.split('/')[1] == 'Noun' or d.split('/')[1] == 'Adjective' or d.split('/')[1] == 'Adverb']\n",
    "    lawdata_tokened_filtered.append(newdoc)"
   ]
  },
  {
   "cell_type": "code",
   "execution_count": null,
   "id": "pregnant-arbor",
   "metadata": {},
   "outputs": [],
   "source": [
    "lawdata_tokened_filtered[:2]"
   ]
  },
  {
   "cell_type": "code",
   "execution_count": 17,
   "id": "clinical-pavilion",
   "metadata": {},
   "outputs": [],
   "source": [
    "#명사만 추출하는 함수 정의(토크나이즈해서 명사만 추출)\n",
    "\n",
    "import string\n",
    "def noun_process(text):\n",
    "    nouns = okt.nouns(text)\n",
    "    #nouns = [word for word in nouns if len(word) > 1]\n",
    "    return nouns"
   ]
  },
  {
   "cell_type": "code",
   "execution_count": 18,
   "id": "enclosed-possible",
   "metadata": {},
   "outputs": [
    {
     "name": "stdout",
     "output_type": "stream",
     "text": [
      "라고 하기엔  개 뿐이지만     배우기 시작한지는 얼마 안되서 아직은 기초단계   \n",
      "['개', '뿐', '한지', '얼마', '은', '기초', '단계']\n"
     ]
    }
   ],
   "source": [
    "print(lawdata[0])\n",
    "print(noun_process(lawdata[0]))"
   ]
  },
  {
   "cell_type": "markdown",
   "id": "advance-river",
   "metadata": {},
   "source": [
    "# CountVectorizer해서 word of bags 만듦 -> 문서전체를 doc-term matrix로 변환"
   ]
  },
  {
   "cell_type": "code",
   "execution_count": 19,
   "id": "architectural-recommendation",
   "metadata": {},
   "outputs": [],
   "source": [
    "#CountVectorizer: 토큰이 문서별로 몇 번 등장했는지 행렬로 정리해주는 모듈\n",
    "#CountVectorizer해서 word of bags만들어주는 'bow_transformer' 함수 정의\n",
    "\n",
    "bow_transformer = CountVectorizer(analyzer=noun_process).fit(lawdata)"
   ]
  },
  {
   "cell_type": "code",
   "execution_count": 20,
   "id": "collectible-extra",
   "metadata": {},
   "outputs": [
    {
     "data": {
      "text/plain": [
       "20125"
      ]
     },
     "execution_count": 20,
     "metadata": {},
     "output_type": "execute_result"
    }
   ],
   "source": [
    "#총 단어갯수\n",
    "\n",
    "len(bow_transformer.vocabulary_)"
   ]
  },
  {
   "cell_type": "code",
   "execution_count": 21,
   "id": "economic-vinyl",
   "metadata": {},
   "outputs": [
    {
     "name": "stdout",
     "output_type": "stream",
     "text": [
      "  (0, 365)\t1\n",
      "  (0, 2152)\t1\n",
      "  (0, 3316)\t1\n",
      "  (0, 8089)\t1\n",
      "  (0, 11405)\t1\n",
      "  (0, 13063)\t1\n",
      "  (0, 19045)\t1\n"
     ]
    }
   ],
   "source": [
    "# 0번째줄 문장의 단어는 어느 위치의 벡터인가?, 몇 번 나오는가?\n",
    "\n",
    "bow_0 = bow_transformer.transform([lawdata[0]])\n",
    "print(bow_0)"
   ]
  },
  {
   "cell_type": "code",
   "execution_count": 22,
   "id": "subsequent-techno",
   "metadata": {},
   "outputs": [],
   "source": [
    "# 이제 모든 lawdata를 변형\n",
    "\n",
    "cv_lawdata= bow_transformer.transform(lawdata)"
   ]
  },
  {
   "cell_type": "code",
   "execution_count": 23,
   "id": "consecutive-battle",
   "metadata": {},
   "outputs": [
    {
     "name": "stdout",
     "output_type": "stream",
     "text": [
      "Shape of Sparse Matrix:  (18554, 20125)\n",
      "Amount of Non-Zero occurrences:  267165\n"
     ]
    }
   ],
   "source": [
    "# CountVectorizer 적용한 lawdata 확인\n",
    "\n",
    "print('Shape of Sparse Matrix: ', cv_lawdata.shape)\n",
    "print('Amount of Non-Zero occurrences: ', cv_lawdata.nnz)"
   ]
  },
  {
   "cell_type": "code",
   "execution_count": 24,
   "id": "approximate-walker",
   "metadata": {},
   "outputs": [
    {
     "data": {
      "text/plain": [
       "scipy.sparse.csr.csr_matrix"
      ]
     },
     "execution_count": 24,
     "metadata": {},
     "output_type": "execute_result"
    }
   ],
   "source": [
    "# 그런데 여기서 주의해야할 것 하나.\n",
    "# docs는 현재 document-term matrix 로 구성됨\n",
    "# NMF를 적용하기 위해서는 term-document matrix가 필요하다.\n",
    "# 즉, 현재의 Matrix를 transposed matrix(전치행렬)로 바꿔줘야 함.\n",
    "\n",
    "type(cv_lawdata)"
   ]
  },
  {
   "cell_type": "code",
   "execution_count": 25,
   "id": "mathematical-meaning",
   "metadata": {},
   "outputs": [
    {
     "name": "stdout",
     "output_type": "stream",
     "text": [
      "Shape of Sparse Matrix:  (20125, 18554)\n",
      "Amount of Non-Zero occurrences:  267165\n"
     ]
    }
   ],
   "source": [
    "# compressed sparse(희소행렬: 행렬의 값이 대부분 0일때) row matrix인 docs를 transpose 한다. (행열바꾸기)\n",
    "\n",
    "cv_lawdata_trans = cv_lawdata.transpose()\n",
    "type(cv_lawdata_trans) \n",
    "\n",
    "print('Shape of Sparse Matrix: ', cv_lawdata_trans.shape)\n",
    "print('Amount of Non-Zero occurrences: ', cv_lawdata_trans.nnz)"
   ]
  },
  {
   "cell_type": "markdown",
   "id": "undefined-chemistry",
   "metadata": {},
   "source": [
    "# NMF 모델 객체 생성"
   ]
  },
  {
   "cell_type": "code",
   "execution_count": 27,
   "id": "racial-davis",
   "metadata": {},
   "outputs": [],
   "source": [
    "# NMF 모델 객체 생성\n",
    "# n_topics: 매칭해줄 분류객체(베이킹, 요리..)\n",
    "\n",
    "from sklearn.decomposition import NMF\n",
    "\n",
    "n_topics = 25\n",
    "model = NMF(n_components=n_topics)"
   ]
  },
  {
   "cell_type": "code",
   "execution_count": 28,
   "id": "dedicated-induction",
   "metadata": {},
   "outputs": [],
   "source": [
    "# NMF 모델 학습\n",
    "W = model.fit_transform(cv_lawdata_trans)"
   ]
  },
  {
   "cell_type": "code",
   "execution_count": 29,
   "id": "european-determination",
   "metadata": {},
   "outputs": [],
   "source": [
    "H = model.components_"
   ]
  },
  {
   "cell_type": "code",
   "execution_count": 30,
   "id": "pressing-princeton",
   "metadata": {
    "scrolled": true
   },
   "outputs": [
    {
     "data": {
      "text/plain": [
       "(25, 18554)"
      ]
     },
     "execution_count": 30,
     "metadata": {},
     "output_type": "execute_result"
    }
   ],
   "source": [
    "H.shape"
   ]
  },
  {
   "cell_type": "code",
   "execution_count": 34,
   "id": "manufactured-illinois",
   "metadata": {
    "scrolled": true
   },
   "outputs": [
    {
     "name": "stdout",
     "output_type": "stream",
     "text": [
      "[0.00112982 0.         0.00473307 0.00561025 0.         0.00692328\n",
      " 0.         0.00091081 0.00448554 0.0081309  0.0079448  0.00023681\n",
      " 0.00379817 0.00016232 0.00085665 0.00913391 0.00705321 0.00240655\n",
      " 0.         0.0033583  0.00361965 0.00617247 0.00021059 0.\n",
      " 0.00646394]\n"
     ]
    }
   ],
   "source": [
    "# index 0번 문서의 클러스터링 결과 점수\n",
    "\n",
    "print(H[:,0])"
   ]
  },
  {
   "cell_type": "code",
   "execution_count": 35,
   "id": "exclusive-prison",
   "metadata": {},
   "outputs": [],
   "source": [
    "# 전체 글 별로 best점수에 해당하는 클러스터 label결정\n",
    "\n",
    "pred_labels = H.argmax(axis=0)"
   ]
  },
  {
   "cell_type": "code",
   "execution_count": 36,
   "id": "wicked-enzyme",
   "metadata": {},
   "outputs": [
    {
     "data": {
      "text/plain": [
       "18554"
      ]
     },
     "execution_count": 36,
     "metadata": {},
     "output_type": "execute_result"
    }
   ],
   "source": [
    "# label예측한 글 개수 = 원래 글 개수\n",
    "\n",
    "len(pred_labels)"
   ]
  },
  {
   "cell_type": "code",
   "execution_count": 58,
   "id": "blessed-worcester",
   "metadata": {},
   "outputs": [
    {
     "data": {
      "text/plain": [
       "array([15, 23, 16,  1,  7, 21, 22,  7, 23, 19])"
      ]
     },
     "execution_count": 58,
     "metadata": {},
     "output_type": "execute_result"
    }
   ],
   "source": [
    "#10번째글까지 예측한 각 글에 대한 label 번호\n",
    "\n",
    "pred_labels[:10]"
   ]
  },
  {
   "cell_type": "code",
   "execution_count": 59,
   "id": "formed-disability",
   "metadata": {
    "scrolled": true
   },
   "outputs": [
    {
     "data": {
      "text/plain": [
       "array([[0.00112982, 0.        , 0.        ],\n",
       "       [0.        , 0.00275125, 0.        ],\n",
       "       [0.00473307, 0.        , 0.        ],\n",
       "       [0.00561025, 0.        , 0.        ],\n",
       "       [0.        , 0.        , 0.        ],\n",
       "       [0.00692328, 0.        , 0.        ],\n",
       "       [0.        , 0.        , 0.        ],\n",
       "       [0.00091081, 0.        , 0.        ],\n",
       "       [0.00448554, 0.        , 0.0008056 ],\n",
       "       [0.0081309 , 0.00045932, 0.        ],\n",
       "       [0.0079448 , 0.        , 0.        ],\n",
       "       [0.00023681, 0.00809114, 0.        ],\n",
       "       [0.00379817, 0.00038205, 0.        ],\n",
       "       [0.00016232, 0.        , 0.        ],\n",
       "       [0.00085665, 0.        , 0.        ],\n",
       "       [0.00913391, 0.        , 0.        ],\n",
       "       [0.00705321, 0.        , 0.13495328],\n",
       "       [0.00240655, 0.00166718, 0.00135326],\n",
       "       [0.        , 0.00551965, 0.        ],\n",
       "       [0.0033583 , 0.00053603, 0.        ],\n",
       "       [0.00361965, 0.00318245, 0.        ],\n",
       "       [0.00617247, 0.00792015, 0.00478894],\n",
       "       [0.00021059, 0.01006133, 0.04123511],\n",
       "       [0.        , 0.15965101, 0.        ],\n",
       "       [0.00646394, 0.        , 0.        ]])"
      ]
     },
     "execution_count": 59,
     "metadata": {},
     "output_type": "execute_result"
    }
   ],
   "source": [
    "#1번째글은 15번째(0.00913391), 2번째글은 23번째(0.15965101), 3번째글은 16번째(0.13495328) 값인 것 확인!\n",
    "\n",
    "H[:,:3]"
   ]
  },
  {
   "cell_type": "code",
   "execution_count": 60,
   "id": "healthy-hudson",
   "metadata": {},
   "outputs": [
    {
     "name": "stdout",
     "output_type": "stream",
     "text": [
      "['디지털 드로잉', '디지털 드로잉', '디지털 드로잉', '디지털 드로잉', '디지털 드로잉', '디지털 드로잉', '디지털 드로잉', '디지털 드로잉', '디지털 드로잉', '디지털 드로잉', '디지털 드로잉', '드로잉', '드로잉', '드로잉', '드로잉', '드로잉', '드로잉', '드로잉', '드로잉', '드로잉', '드로잉', '드로잉', '드로잉', '드로잉', '드로잉', '드로잉', '드로잉', '드로잉', '드로잉', '드로잉', '드로잉', '드로잉', '드로잉', '드로잉', '드로잉', '드로잉', '드로잉', '드로잉', '드로잉', '드로잉', '드로잉', '드로잉', '드로잉', '드로잉', '드로잉', '드로잉', '드로잉', '드로잉', '드로잉', '드로잉', '드로잉', '드로잉', '드로잉', '드로잉', '드로잉', '드로잉', '드로잉', '드로잉', '드로잉', '드로잉', '드로잉', '드로잉', '드로잉', '드로잉', '드로잉', '드로잉', '드로잉', '드로잉', '드로잉', '드로잉', '드로잉', '드로잉', '드로잉', '드로잉', '드로잉', '드로잉', '드로잉', '드로잉', '드로잉', '드로잉', '드로잉', '드로잉', '드로잉', '드로잉', '드로잉', '드로잉', '드로잉', '드로잉', '드로잉', '드로잉', '드로잉', '드로잉', '드로잉', '드로잉', '드로잉', '드로잉', '드로잉', '드로잉', '드로잉', '드로잉', '드로잉', '드로잉', '드로잉', '드로잉', '드로잉', '드로잉', '드로잉', '드로잉', '드로잉', '드로잉', '드로잉', '드로잉', '드로잉', '드로잉', '드로잉', '드로잉', '드로잉', '드로잉', '드로잉', '드로잉', '드로잉', '드로잉', '드로잉', '드로잉', '드로잉', '드로잉', '드로잉', '드로잉', '드로잉', '드로잉', '드로잉', '드로잉', '드로잉', '드로잉', '드로잉', '드로잉', '드로잉', '드로잉', '드로잉', '드로잉', '드로잉', '드로잉', '드로잉', '드로잉', '드로잉', '드로잉', '드로잉', '드로잉', '드로잉', '드로잉', '드로잉', '드로잉', '드로잉', '드로잉', '드로잉', '드로잉', '드로잉', '드로잉', '드로잉', '드로잉', '드로잉', '드로잉', '드로잉', '드로잉', '드로잉', '드로잉', '드로잉', '드로잉', '드로잉', '드로잉', '드로잉', '드로잉', '드로잉', '드로잉', '드로잉', '드로잉', '드로잉', '드로잉', '드로잉', '드로잉', '드로잉', '드로잉', '드로잉', '드로잉', '드로잉', '드로잉', '드로잉', '드로잉', '드로잉', '드로잉', '드로잉', '드로잉', '드로잉', '드로잉', '드로잉', '드로잉', '드로잉', '드로잉', '드로잉', '드로잉', '드로잉', '드로잉', '드로잉', '드로잉', '드로잉', '드로잉', '드로잉', '드로잉', '드로잉', '드로잉', '드로잉', '드로잉', '드로잉', '드로잉', '드로잉', '드로잉', '드로잉', '드로잉', '드로잉', '드로잉', '드로잉', '공예', '공예', '공예', '공예', '공예', '공예', '공예', '공예', '공예', '공예', '공예', '공예', '공예', '공예', '공예', '공예', '공예', '공예', '공예', '공예', '공예', '공예', '공예', '공예', '공예', '공예', '공예', '공예', '공예', '공예', '공예', '공예', '공예', '공예', '공예', '공예', '공예', '공예', '공예', '공예', '공예', '공예', '공예', '공예', '공예', '공예', '공예', '공예', '공예', '공예', '공예', '공예', '공예', '공예', '공예', '공예', '공예', '공예', '공예', '공예', '공예', '공예', '공예', '공예', '공예', '공예', '공예', '공예', '공예', '공예', '공예', '공예', '공예', '공예', '공예', '공예', '공예', '공예', '공예', '공예', '공예', '공예', '공예', '공예', '공예', '공예', '공예', '공예', '공예', '공예', '공예', '공예', '공예', '공예', '공예', '공예', '공예', '공예', '공예', '공예', '공예', '공예', '공예', '공예', '공예', '공예', '공예', '공예', '공예', '공예', '공예', '공예', '공예', '공예', '공예', '공예', '공예', '공예', '공예', '공예', '공예', '공예', '공예', '공예', '공예', '공예', '공예', '공예', '공예', '공예', '공예', '공예', '공예', '공예', '공예', '공예', '공예', '공예', '공예', '공예', '공예', '공예', '공예', '공예', '공예', '공예', '공예', '공예', '공예', '공예', '공예', '공예', '공예', '공예', '공예', '공예', '공예', '공예', '공예', '공예', '공예', '공예', '공예', '공예', '공예', '공예', '공예', '공예', '공예', '공예', '공예', '공예', '공예', '공예', '공예', '공예', '공예', '공예', '공예', '공예', '공예', '공예', '공예', '공예', '공예', '공예', '공예', '공예', '공예', '공예', '공예', '공예', '공예', '공예', '공예', '공예', '공예', '공예', '공예', '공예', '공예', '공예', '공예', '공예', '공예', '공예', '공예', '공예', '공예', '공예', '공예', '공예', '공예', '공예', '공예', '공예', '공예', '공예', '공예', '공예', '공예', '공예', '공예', '공예', '공예', '공예', '공예', '공예', '공예', '공예', '공예', '공예', '공예', '공예', '공예', '공예', '공예', '공예', '공예', '공예', '공예', '공예', '공예', '공예', '공예', '공예', '공예', '공예', '공예', '공예', '공예', '공예', '공예', '공예', '공예', '공예', '공예', '공예', '공예', '공예', '공예', '공예', '공예', '공예', '요리', '요리', '요리', '요리', '요리', '요리', '요리', '요리', '요리', '요리', '요리', '요리', '요리', '요리', '요리', '요리', '요리', '요리', '요리', '요리', '요리', '요리', '요리', '요리', '요리', '요리', '요리', '요리', '요리', '요리', '요리', '요리', '요리', '요리', '요리', '요리', '요리', '요리', '요리', '요리', '요리', '요리', '요리', '요리', '요리', '요리', '요리', '요리', '요리', '요리', '요리', '요리', '요리', '요리', '요리', '요리', '요리', '요리', '요리', '요리', '요리', '요리', '요리', '요리', '요리', '요리', '요리', '요리', '요리', '요리', '요리', '요리', '요리', '요리', '요리', '요리', '요리', '요리', '요리', '요리', '요리', '요리', '요리', '요리', '요리', '요리', '요리', '요리', '요리', '요리', '요리', '요리', '요리', '요리', '요리', '요리', '요리', '요리', '요리', '요리', '요리', '요리', '요리', '요리', '요리', '요리', '요리', '요리', '요리', '요리', '요리', '요리', '요리', '요리', '요리', '요리', '요리', '요리', '요리', '요리', '요리', '요리', '요리', '요리', '요리', '요리', '요리', '요리', '요리', '요리', '요리', '요리', '요리', '요리', '요리', '요리', '요리', '요리', '요리', '요리', '요리', '요리', '요리', '요리', '요리', '요리', '요리', '요리', '요리', '요리', '요리', '요리', '요리', '요리', '요리', '요리', '요리', '요리', '요리', '요리', '요리', '요리', '요리', '요리', '요리', '요리', '요리', '요리', '요리', '요리', '요리', '요리', '요리', '요리', '요리', '요리', '요리', '요리', '요리', '요리', '요리', '요리', '요리', '요리', '요리', '요리', '요리', '요리', '요리', '요리', '요리', '요리', '요리', '요리', '요리', '요리', '요리', '요리', '요리', '요리', '요리', '요리', '요리', '요리', '요리', '요리', '요리', '요리', '요리', '요리', '요리', '요리', '요리', '요리', '요리', '요리', '요리', '요리', '요리', '요리', '요리', '요리', '요리', '요리', '요리', '요리', '요리', '요리', '요리', '요리', '요리', '요리', '요리', '요리', '요리', '요리', '요리', '요리', '요리', '요리', '요리', '요리', '요리', '요리', '요리', '요리', '요리', '요리', '요리', '요리', '요리', '요리', '요리', '요리', '요리', '요리', '요리', '요리', '요리', '요리', '요리', '요리', '요리', '요리', '요리', '요리', '요리', '요리', '요리', '요리', '요리', '요리', '요리', '요리', '요리', '요리', '요리', '요리', '요리', '요리', '요리', '요리', '요리', '요리', '요리', '요리', '요리', '요리', '요리', '요리', '요리', '요리', '요리', '요리', '요리', '요리', '요리', '요리', '요리', '요리', '요리', '요리', '요리', '요리', '요리', '요리', '요리', '요리', '요리', '요리', '요리', '요리', '요리', '요리', '요리', '요리', '요리', '요리', '요리', '요리', '요리', '요리', '요리', '요리', '요리', '요리', '요리', '요리', '요리', '요리', '요리', '요리', '요리', '요리', '요리', '요리', '요리', '요리', '요리', '요리', '요리', '요리', '요리', '요리', '요리', '요리', '요리', '요리', '요리', '요리', '요리', '요리', '요리', '요리', '요리', '요리', '요리', '요리', '요리', '요리', '요리', '요리', '요리', '요리', '요리', '요리', '요리', '요리', '요리', '요리', '요리', '요리', '요리', '요리', '요리', '요리', '요리', '요리', '요리', '요리', '요리', '요리', '요리', '요리', '요리', '요리', '요리', '요리', '요리', '요리', '요리', '요리', '요리', '요리', '요리', '요리', '요리', '요리', '요리', '요리', '요리', '요리', '요리', '요리', '요리', '요리', '요리', '요리', '요리', '요리', '요리', '요리', '요리', '요리', '요리', '요리', '요리', '요리', '요리', '요리', '요리', '요리', '요리', '요리', '요리', '요리', '요리', '요리', '요리', '요리', '요리', '요리', '요리', '요리', '요리', '요리', '요리', '요리', '요리', '요리', '요리', '요리', '요리', '요리', '요리', '요리', '요리', '요리', '요리', '요리', '요리', '요리', '요리', '요리', '요리', '요리', '요리', '요리', '요리', '요리', '요리', '요리', '요리', '요리', '요리', '요리', '요리', '요리', '요리', '요리', '요리', '요리', '요리', '요리', '요리', '요리', '요리', '요리', '요리', '요리', '요리', '요리', '요리', '요리', '요리', '요리', '요리', '요리', '요리', '요리', '요리', '요리', '요리', '요리', '요리', '요리', '요리', '요리', '요리', '요리', '요리', '요리', '요리', '요리', '요리', '요리', '요리', '요리', '요리', '요리', '요리', '요리', '요리', '요리', '요리', '요리', '요리', '요리', '요리', '요리', '요리', '요리', '요리', '요리', '요리', '요리', '요리', '요리', '요리', '요리', '요리', '요리', '요리', '요리', '요리', '요리', '요리', '요리', '요리', '요리', '요리', '요리', '요리', '요리', '요리', '요리', '요리', '요리', '요리', '요리', '요리', '요리', '요리', '요리', '요리', '요리', '요리', '요리', '요리', '요리', '요리', '요리', '요리', '요리', '요리', '요리', '요리', '요리', '요리', '요리', '요리', '요리', '요리', '요리', '요리', '요리', '요리', '요리', '요리', '요리', '요리', '요리', '요리', '요리', '요리', '요리', '요리', '요리', '요리', '요리', '요리', '요리', '요리', '요리', '요리', '요리', '요리', '요리', '요리', '요리', '요리', '요리', '요리', '요리', '요리', '요리', '요리', '요리', '요리', '요리', '요리', '요리', '요리', '요리', '요리', '요리', '요리', '요리', '요리', '요리', '요리', '요리', '요리', '요리', '요리', '요리', '요리', '요리', '요리', '요리', '요리', '요리', '요리', '요리', '요리', '요리', '요리', '요리', '요리', '요리', '요리', '요리', '요리', '요리', '요리', '요리', '요리', '요리', '요리', '요리', '요리', '요리', '요리', '요리', '요리', '요리', '요리', '요리', '요리', '요리', '요리', '요리', '요리', '요리', '요리', '요리', '요리', '요리', '요리', '요리', '요리', '요리', '요리', '요리', '요리', '요리', '요리', '요리', '요리', '요리', '요리', '요리', '요리', '요리', '요리', '요리', '요리', '요리', '요리', '요리', '요리', '요리', '요리', '요리', '요리', '요리', '요리', '요리', '요리', '요리', '요리', '요리', '요리', '요리', '요리', '요리', '요리', '요리', '요리', '요리', '요리', '요리', '요리', '요리', '요리', '요리', '요리', '요리', '요리', '요리', '요리', '요리', '요리', '요리', '요리', '요리', '요리', '요리', '요리', '요리', '요리', '요리', '요리', '요리', '요리', '요리', '요리', '요리', '요리', '요리', '요리', '요리', '요리', '요리', '요리', '요리', '요리', '요리', '요리', '요리', '요리', '요리', '요리', '요리', '요리', '요리', '요리', '요리', '요리', '요리', '요리', '요리', '요리', '요리', '요리', '요리', '요리', '요리', '요리', '요리', '요리', '요리', '요리', '요리', '요리', '요리', '요리', '요리', '요리', '요리', '요리', '요리', '요리', '요리', '요리', '요리', '요리', '요리', '요리', '요리', '요리', '요리', '요리', '요리', '요리', '요리', '요리', '요리', '요리', '요리', '요리', '요리', '요리', '요리', '요리', '요리', '요리', '요리', '요리', '요리', '요리', '요리', '요리', '요리', '요리', '요리', '요리', '요리', '요리', '요리', '요리', '요리', '요리', '요리', '요리', '요리', '요리', '요리', '요리', '요리', '요리', '요리', '요리', '요리', '요리', '요리', '요리', '요리', '요리', '요리', '요리', '요리', '요리', '요리', '요리', '요리', '요리', '요리', '요리', '요리', '요리', '요리', '요리', '요리', '요리', '요리', '요리', '요리', '요리', '요리', '요리', '요리', '요리', '요리', '요리', '요리', '요리', '요리', '요리', '요리', '요리', '요리', '요리', '요리', '요리', '요리', '요리', '요리', '요리', '요리', '요리', '요리', '요리', '요리', '요리', '요리', '요리', '요리', '요리', '요리', '요리', '요리', '요리', '요리', '요리', '요리', '요리', '요리', '요리', '요리', '요리', '요리', '요리', '요리', '요리', '요리', '요리', '요리', '요리', '요리', '요리', '요리', '요리', '요리', '요리', '요리', '요리', '요리', '요리', '요리', '요리', '요리', '요리', '요리', '요리', '요리', '요리', '요리', '요리', '요리', '음료', '음료', '음료', '음료', '음료', '음료', '음료', '음료', '음료', '음료', '음료', '음료', '음료', '음료', '음료', '음료', '음료', '음료', '음료', '음료', '음료', '음료', '음료', '음료', '음료', '음료', '음료', '음료', '음료', '음료', '음료', '음료', '음료', '음료', '음료', '음료', '음료', '음료', '음료', '음료', '음료', '음료', '음료', '음료', '음료', '음료', '음료', '음료', '음료', '음료', '음료', '음료', '음료', '음료', '음료', '음료', '음료', '음료', '음료', '음료', '음료', '음료', '음료', '음료', '음료', '음료', '음료', '음료', '음료', '음료', '음료', '음료', '음료', '음료', '음료', '음료', '음료', '음료', '음료', '음료', '음료', '음료', '음료', '음료', '음료', '음료', '음료', '음료', '음료', '음료', '음료', '음료', '음료', '음료', '음료', '음료', '음료', '음료', '음료', '음료', '음료', '음료', '음료', '음료', '음료', '음료', '음료', '음료', '음료', '음료', '음료', '음료', '음료', '음료', '음료', '음료', '음료', '음료', '음료', '음료', '음료', '음료', '음료', '음료', '음료', '음료', '음료', '음료', '음료', '음료', '음료', '음료', '음료', '음료', '음료', '음료', '음료', '음료', '음료', '음료', '음료', '음료', '음료', '음료', '음료', '음료', '음료', '음료', '음료', '음료', '음료', '음료', '음료', '음료', '음료', '음료', '음료', '음료', '음료', '음료', '음료', '음료', '음료', '음료', '음료', '음료', '음료', '음료', '음료', '음료', '음료', '음료', '음료', '음료', '음료', '음료', '음료', '음료', '음료', '음료', '음료', '음료', '음료', '음료', '음료', '음료', '음료', '음료', '음료', '음료', '음료', '음료', '음료', '음료', '음료', '음료', '음료', '음료', '음료', '음료', '음료', '음료', '음료', '음료', '음료', '음료', '음료', '음료', '음료', '음료', '음료', '음료', '음료', '음료', '음료', '음료', '음료', '음료', '음료', '음료', '음료', '음료', '음료', '음료', '음료', '음료', '음료', '음료', '음료', '음료', '음료', '음료', '음료', '음료', '음료', '음료', '음료', '음료', '음료', '음료', '음료', '음료', '음료', '음료', '음료', '음료', '음료', '음료', '음료', '음료', '음료', '음료', '음료', '음료', '음료', '음료', '음료', '음료', '음료', '음료', '음료', '음료', '음료', '음료', '음료', '음료', '음료', '음료', '음료', '음료', '음료', '음료', '음료', '음료', '음료', '음료', '음료', '음료', '음료', '음료', '음료', '음료', '음료', '음료', '음료', '음료', '음료', '음료', '음료', '음료', '음료', '음료', '음료', '음료', '음료', '음료', '음료', '음료', '음료', '음료', '음료', '음료', '음료', '음료', '음료', '음료', '음료', '음료', '음료', '음료', '음료', '음료', '음료', '음료', '음료', '음료', '음료', '음료', '음료', '음료', '음료', '음료', '음료', '음료', '음료', '음료', '음료', '음료', '음료', '음료', '음료', '음료', '음료', '음료', '음료', '음료', '음료', '음료', '음료', '음료', '음료', '음료', '음료', '음료', '음료', '음료', '음료', '음료', '음료', '음료', '음료', '음료', '음료', '음료', '음료', '음료', '음료', '음료', '음료', '음료', '음료', '음료', '음료', '음료', '음료', '음료', '음료', '음료', '음료', '음료', '음료', '음료', '음료', '음료', '음료', '음료', '음료', '음료', '음료', '음료', '음료', '음료', '음료', '음료', '음료', '음료', '음료', '음료', '음료', '음료', '음료', '음료', '음료', '음료', '음료', '음료', '음료', '음료', '음료', '음료', '음료', '음료', '음료', '음료', '음료', '음료', '음료', '음료', '음료', '음료', '음료', '음료', '음료', '음료', '음료', '음료', '음료', '음료', '음료', '음료', '음료', '음료', '음료', '음료', '음료', '음료', '음료', '음료', '음료', '음료', '음료', '음료', '음료', '음료', '음료', '음료', '음료', '음료', '음료', '음료', '음료', '음료', '음료', '음료', '음료', '음료', '음료', '음료', '음료', '음료', '음료', '음료', '음료', '음료', '음료', '음료', '음료', '음료', '음료', '음료', '음료', '음료', '음료', '음료', '음료', '음료', '음료', '음료', '음료', '음료', '음료', '음료', '음료', '음료', '음료', '음료', '음료', '음료', '음료', '음료', '음료', '음료', '음료', '음료', '음료', '음료', '음료', '음료', '음료', '음료', '음료', '음료', '음료', '음료', '음료', '음료', '음료', '음료', '음료', '음료', '음료', '음료', '음료', '음료', '음료', '음료', '음료', '음료', '음료', '음료', '음료', '음료', '음료', '음료', '음료', '음료', '음료', '음료', '음료', '음료', '음료', '음료', '음료', '음료', '음료', '음료', '음료', '음료', '음료', '음료', '음료', '음료', '음료', '음료', '음료', '음료', '음료', '음료', '음료', '음료', '음료', '음료', '음료', '음료', '음료', '음료', '음료', '음료', '음료', '음료', '음료', '음료', '음료', '음료', '음료', '음료', '음료', '음료', '음료', '음료', '음료', '음료', '음료', '음료', '음료', '음료', '음료', '음료', '음료', '음료', '음료', '음료', '음료', '음료', '음료', '음료', '음료', '음료', '음료', '음료', '음료', '음료', '음료', '음료', '음료', '음료', '음료', '음료', '음료', '음료', '음료', '음료', '음료', '음료', '음료', '음료', '음료', '음료', '음료', '음료', '음료', '음료', '음료', '음료', '음료', '음료', '음료', '음료', '음료', '음료', '음료', '음료', '음료', '음료', '음료', '음료', '음료', '음료', '음료', '음료', '음료', '음료', '음료', '음료', '음료', '음료', '음료', '음료', '음료', '음료', '음료', '음료', '음료', '음료', '음료', '음료', '음료', '음료', '음료', '음료', '음료', '음료', '음료', '음료', '음료', '음료', '음료', '음료', '음료', '음료', '음료', '음료', '음료', '음료', '음료', '음료', '음료', '음료', '음료', '음료', '음료', '음료', '음료', '음료', '음료', '음료', '음료', '음료', '음료', '음료', '음료', '음료', '음료', '음료', '음료', '음료', '음료', '음료', '음료', '음료', '음료', '음료', '음료', '음료', '음료', '음료', '음료', '음료', '음료', '음료', '음료', '음료', '음료', '음료', '음료', '음료', '음료', '음료', '음료', '음료', '음료', '음료', '음료', '음료', '음료', '음료', '음료', '음료', '음료', '음료', '음료', '음료', '음료', '음료', '음료', '음료', '음료', '음료', '음료', '음료', '음료', '음료', '음료', '음료', '음료', '음료', '음료', '음료', '음료', '음료', '음료', '음료', '음료', '음료', '음료', '음료', '음료', '음료', '음료', '음료', '음료', '음료', '음료', '음료', '음료', '음료', '음료', '음료', '음료', '음료', '음료', '음료', '음료', '음료', '음료', '음료', '음료', '음료', '음료', '음료', '음료', '음료', '음료', '음료', '음료', '음료', '음료', '음료', '음료', '음료', '음료', '음료', '음료', '음료', '음료', '음료', '음료', '음료', '음료', '음료', '음료', '음료', '음료', '음료', '음료', '음료', '음료', '음료', '음료', '음료', '음료', '음료', '음료', '음료', '음료', '음료', '음료', '음료', '음료', '음료', '음료', '음료', '음료', '음료', '음료', '음료', '음료', '음료', '음료', '음료', '음료', '음료', '음료', '음료', '음료', '음료', '음료', '음료', '음료', '음료', '음료', '음료', '음료', '음료', '음료', '음료', '음료', '음료', '음료', '음료', '음료', '음료', '음료', '음료', '음료', '음료', '음료', '음료', '음료', '음료', '음료', '음료', '음료', '음료', '음료', '음료', '음료', '음료', '음료', '음료', '음료', '음료', '음료', '음료', '음료', '음료', '음료', '음료', '음료', '음료', '음료', '음료', '음료', '음료', '음료', '음료', '음료', '음료', '음료', '음료', '음료', '음료', '음료', '음료', '음료', '음료', '음료', '음료', '음료', '음료', '음료', '음료', '음료', '음료', '음료', '음료', '음료', '음료', '음료', '음료', '음료', '음료', '음료', '음료', '음료', '음료', '음료', '음료', '음료', '음료', '음료', '음료', '음료', '음료', '음료', '음료', '음료', '음료', '음료', '음료', '음료', '음료', '음료', '음료', '음료', '음료', '음료', '음료', '음료', '음료', '음료', '음료', '음료', '음료', '음료', '음료', '음료', '음료', '음료', '음료', '음료', '음료', '음료', '음료', '음료', '음료', '음료', '음료', '음료', '음료', '음료', '음료', '음료', '음료', '음료', '음료', '음료', '음료', '음료', '음료', '음료', '음료', '음료', '음료', '음료', '음료', '음료', '음료', '음료', '음료', '음료', '음료', '음료', '음료', '음료', '음료', '음료', '음료', '음료', '음료', '베이킹', '베이킹', '베이킹', '베이킹', '베이킹', '베이킹', '베이킹', '베이킹', '베이킹', '베이킹', '베이킹', '베이킹', '베이킹', '베이킹', '베이킹', '베이킹', '베이킹', '베이킹', '베이킹', '베이킹', '베이킹', '베이킹', '베이킹', '베이킹', '베이킹', '베이킹', '베이킹', '베이킹', '베이킹', '베이킹', '베이킹', '베이킹', '베이킹', '베이킹', '베이킹', '베이킹', '베이킹', '베이킹', '베이킹', '베이킹', '베이킹', '베이킹', '베이킹', '베이킹', '베이킹', '베이킹', '베이킹', '베이킹', '베이킹', '베이킹', '베이킹', '베이킹', '베이킹', '베이킹', '베이킹', '베이킹', '베이킹', '베이킹', '베이킹', '베이킹', '베이킹', '베이킹', '베이킹', '베이킹', '베이킹', '베이킹', '베이킹', '베이킹', '베이킹', '베이킹', '베이킹', '베이킹', '베이킹', '베이킹', '베이킹', '베이킹', '베이킹', '베이킹', '베이킹', '베이킹', '베이킹', '베이킹', '베이킹', '베이킹', '베이킹', '베이킹', '베이킹', '베이킹', '베이킹', '베이킹', '베이킹', '베이킹', '베이킹', '베이킹', '베이킹', '베이킹', '베이킹', '베이킹', '베이킹', '베이킹', '베이킹', '베이킹', '베이킹', '베이킹', '베이킹', '베이킹', '베이킹', '베이킹', '베이킹', '베이킹', '베이킹', '베이킹', '베이킹', '베이킹', '베이킹', '베이킹', '베이킹', '베이킹', '베이킹', '베이킹', '베이킹', '베이킹', '베이킹', '베이킹', '베이킹', '베이킹', '베이킹', '베이킹', '베이킹', '베이킹', '베이킹', '베이킹', '베이킹', '베이킹', '베이킹', '베이킹', '베이킹', '베이킹', '베이킹', '베이킹', '베이킹', '베이킹', '베이킹', '베이킹', '베이킹', '베이킹', '베이킹', '베이킹', '베이킹', '베이킹', '베이킹', '베이킹', '베이킹', '베이킹', '베이킹', '베이킹', '베이킹', '베이킹', '베이킹', '베이킹', '베이킹', '베이킹', '베이킹', '베이킹', '베이킹', '베이킹', '베이킹', '베이킹', '베이킹', '베이킹', '베이킹', '베이킹', '베이킹', '베이킹', '베이킹', '베이킹', '베이킹', '베이킹', '베이킹', '베이킹', '베이킹', '베이킹', '베이킹', '베이킹', '베이킹', '베이킹', '베이킹', '베이킹', '베이킹', '베이킹', '베이킹', '베이킹', '베이킹', '베이킹', '베이킹', '베이킹', '베이킹', '베이킹', '베이킹', '베이킹', '베이킹', '베이킹', '베이킹', '베이킹', '베이킹', '베이킹', '베이킹', '베이킹', '베이킹', '베이킹', '베이킹', '베이킹', '베이킹', '베이킹', '베이킹', '베이킹', '베이킹', '베이킹', '베이킹', '베이킹', '베이킹', '베이킹', '베이킹', '베이킹', '베이킹', '베이킹', '베이킹', '베이킹', '베이킹', '베이킹', '베이킹', '베이킹', '베이킹', '베이킹', '베이킹', '베이킹', '베이킹', '베이킹', '베이킹', '베이킹', '베이킹', '베이킹', '베이킹', '베이킹', '베이킹', '베이킹', '베이킹', '베이킹', '베이킹', '베이킹', '베이킹', '베이킹', '베이킹', '베이킹', '베이킹', '베이킹', '베이킹', '베이킹', '베이킹', '베이킹', '베이킹', '베이킹', '베이킹', '베이킹', '베이킹', '베이킹', '베이킹', '베이킹', '베이킹', '베이킹', '베이킹', '베이킹', '베이킹', '베이킹', '베이킹', '베이킹', '베이킹', '베이킹', '베이킹', '베이킹', '베이킹', '베이킹', '베이킹', '베이킹', '베이킹', '베이킹', '베이킹', '베이킹', '베이킹', '베이킹', '베이킹', '베이킹', '베이킹', '베이킹', '베이킹', '베이킹', '베이킹', '베이킹', '베이킹', '베이킹', '베이킹', '베이킹', '베이킹', '베이킹', '베이킹', '베이킹', '베이킹', '베이킹', '베이킹', '베이킹', '베이킹', '베이킹', '베이킹', '베이킹', '베이킹', '베이킹', '베이킹', '베이킹', '베이킹', '베이킹', '베이킹', '베이킹', '베이킹', '베이킹', '베이킹', '베이킹', '베이킹', '베이킹', '베이킹', '베이킹', '베이킹', '베이킹', '베이킹', '베이킹', '베이킹', '베이킹', '베이킹', '베이킹', '베이킹', '베이킹', '베이킹', '베이킹', '베이킹', '베이킹', '베이킹', '베이킹', '베이킹', '베이킹', '베이킹', '베이킹', '베이킹', '베이킹', '베이킹', '베이킹', '베이킹', '베이킹', '베이킹', '베이킹', '베이킹', '베이킹', '베이킹', '베이킹', '베이킹', '베이킹', '베이킹', '베이킹', '베이킹', '베이킹', '베이킹', '베이킹', '베이킹', '베이킹', '베이킹', '베이킹', '베이킹', '베이킹', '베이킹', '베이킹', '베이킹', '베이킹', '베이킹', '베이킹', '베이킹', '베이킹', '베이킹', '베이킹', '베이킹', '베이킹', '베이킹', '베이킹', '베이킹', '베이킹', '베이킹', '베이킹', '베이킹', '베이킹', '베이킹', '베이킹', '베이킹', '베이킹', '베이킹', '베이킹', '베이킹', '베이킹', '베이킹', '베이킹', '베이킹', '베이킹', '베이킹', '베이킹', '베이킹', '베이킹', '베이킹', '베이킹', '베이킹', '베이킹', '베이킹', '베이킹', '베이킹', '베이킹', '베이킹', '베이킹', '베이킹', '베이킹', '베이킹', '베이킹', '베이킹', '베이킹', '베이킹', '베이킹', '베이킹', '베이킹', '베이킹', '베이킹', '베이킹', '베이킹', '베이킹', '베이킹', '베이킹', '베이킹', '베이킹', '베이킹', '베이킹', '베이킹', '베이킹', '베이킹', '베이킹', '베이킹', '베이킹', '베이킹', '베이킹', '베이킹', '베이킹', '베이킹', '베이킹', '베이킹', '베이킹', '베이킹', '베이킹', '베이킹', '베이킹', '베이킹', '베이킹', '베이킹', '베이킹', '베이킹', '베이킹', '베이킹', '베이킹', '베이킹', '베이킹', '베이킹', '베이킹', '베이킹', '베이킹', '베이킹', '베이킹', '베이킹', '베이킹', '베이킹', '베이킹', '베이킹', '베이킹', '베이킹', '베이킹', '베이킹', '베이킹', '베이킹', '베이킹', '베이킹', '베이킹', '베이킹', '베이킹', '베이킹', '베이킹', '베이킹', '베이킹', '베이킹', '베이킹', '베이킹', '베이킹', '베이킹', '베이킹', '베이킹', '베이킹', '베이킹', '베이킹', '베이킹', '베이킹', '베이킹', '베이킹', '베이킹', '베이킹', '베이킹', '베이킹', '베이킹', '베이킹', '베이킹', '베이킹', '베이킹', '베이킹', '베이킹', '베이킹', '베이킹', '베이킹', '베이킹', '베이킹', '베이킹', '베이킹', '베이킹', '베이킹', '베이킹', '베이킹', '베이킹', '베이킹', '베이킹', '베이킹', '베이킹', '베이킹', '베이킹', '베이킹', '베이킹', '베이킹', '베이킹', '베이킹', '베이킹', '베이킹', '베이킹', '베이킹', '베이킹', '베이킹', '베이킹', '베이킹', '베이킹', '베이킹', '베이킹', '베이킹', '베이킹', '베이킹', '베이킹', '베이킹', '베이킹', '베이킹', '베이킹', '베이킹', '베이킹', '베이킹', '베이킹', '베이킹', '베이킹', '베이킹', '베이킹', '베이킹', '베이킹', '베이킹', '베이킹', '베이킹', '베이킹', '베이킹', '베이킹', '베이킹', '베이킹', '베이킹', '베이킹', '베이킹', '베이킹', '베이킹', '베이킹', '베이킹', '베이킹', '베이킹', '베이킹', '베이킹', '베이킹', '베이킹', '베이킹', '베이킹', '베이킹', '베이킹', '베이킹', '베이킹', '베이킹', '베이킹', '베이킹', '베이킹', '베이킹', '베이킹', '베이킹', '베이킹', '베이킹', '베이킹', '베이킹', '베이킹', '베이킹', '베이킹', '베이킹', '베이킹', '베이킹', '베이킹', '베이킹', '베이킹', '베이킹', '베이킹', '베이킹', '베이킹', '베이킹', '베이킹', '베이킹', '디저트', '디저트', '디저트', '디저트', '디저트', '디저트', '디저트', '디저트', '디저트', '디저트', '디저트', '디저트', '디저트', '디저트', '디저트', '디저트', '디저트', '디저트', '디저트', '디저트', '디저트', '디저트', '디저트', '디저트', '디저트', '디저트', '디저트', '디저트', '디저트', '디저트', '디저트', '디저트', '디저트', '디저트', '디저트', '디저트', '디저트', '디저트', '디저트', '디저트', '디저트', '디저트', '디저트', '디저트', '디저트', '디저트', '디저트', '디저트', '디저트', '디저트', '디저트', '디저트', '디저트', '디저트', '디저트', '디저트', '디저트', '디저트', '디저트', '디저트', '디저트', '디저트', '디저트', '디저트', '디저트', '디저트', '디저트', '디저트', '디저트', '디저트', '디저트', '디저트', '디저트', '디저트', '디저트', '디저트', '디저트', '디저트', '디저트', '디저트', '디저트', '디저트', '디저트', '디저트', '디저트', '디저트', '디저트', '디저트', '디저트', '디저트', '디저트', '디저트', '디저트', '디저트', '디저트', '디저트', '디저트', '디저트', '디저트', '디저트', '디저트', '디저트', '디저트', '디저트', '디저트', '디저트', '디저트', '디저트', '디저트', '디저트', '디저트', '디저트', '디저트', '디저트', '디저트', '디저트', '디저트', '디저트', '디저트', '디저트', '디저트', '디저트', '디저트', '디저트', '디저트', '디저트', '디저트', '디저트', '디저트', '디저트', '디저트', '디저트', '디저트', '디저트', '디저트', '디저트', '디저트', '디저트', '디저트', '디저트', '디저트', '디저트', '디저트', '디저트', '디저트', '디저트', '디저트', '디저트', '디저트', '디저트', '디저트', '디저트', '디저트', '디저트', '디저트', '디저트', '디저트', '디저트', '디저트', '디저트', '디저트', '디저트', '디저트', '디저트', '디저트', '디저트', '디저트', '디저트', '디저트', '디저트', '디저트', '디저트', '디저트', '디저트', '디저트', '디저트', '디저트', '디저트', '디저트', '디저트', '디저트', '디저트', '디저트', '디저트', '디저트', '디저트', '디저트', '디저트', '디저트', '디저트', '디저트', '디저트', '디저트', '디저트', '디저트', '디저트', '디저트', '디저트', '디저트', '디저트', '디저트', '디저트', '디저트', '디저트', '디저트', '디저트', '디저트', '디저트', '디저트', '디저트', '디저트', '디저트', '디저트', '디저트', '디저트', '디저트', '디저트', '디저트', '디저트', '디저트', '디저트', '디저트', '디저트', '디저트', '디저트', '디저트', '디저트', '디저트', '디저트', '디저트', '디저트', '디저트', '디저트', '디저트', '디저트', '디저트', '디저트', '디저트', '디저트', '디저트', '디저트', '디저트', '디저트', '디저트', '디저트', '디저트', '디저트', '디저트', '디저트', '디저트', '디저트', '디저트', '디저트', '디저트', '디저트', '디저트', '디저트', '디저트', '디저트', '디저트', '디저트', '디저트', '디저트', '디저트', '디저트', '디저트', '디저트', '디저트', '디저트', '디저트', '디저트', '디저트', '디저트', '디저트', '디저트', '디저트', '디저트', '디저트', '디저트', '디저트', '디저트', '디저트', '디저트', '디저트', '디저트', '디저트', '디저트', '디저트', '디저트', '디저트', '디저트', '디저트', '디저트', '디저트', '디저트', '디저트', '디저트', '디저트', '디저트', '디저트', '디저트', '디저트', '디저트', '디저트', '디저트', '디저트', '디저트', '디저트', '디저트', '디저트', '디저트', '디저트', '디저트', '디저트', '디저트', '디저트', '디저트', '디저트', '디저트', '디저트', '디저트', '디저트', '디저트', '디저트', '디저트', '디저트', '디저트', '디저트', '디저트', '디저트', '디저트', '디저트', '디저트', '디저트', '디저트', '디저트', '디저트', '디저트', '디저트', '디저트', '디저트', '디저트', '디저트', '디저트', '디저트', '디저트', '디저트', '디저트', '디저트', '디저트', '디저트', '디저트', '디저트', '디저트', '디저트', '디저트', '디저트', '디저트', '디저트', '디저트', '디저트', '디저트', '디저트', '디저트', '디저트', '디저트', '디저트', '디저트', '디저트', '디저트', '디저트', '디저트', '디저트', '디저트', '디저트', '디저트', '디저트', '디저트', '디저트', '디저트', '디저트', '디저트', '디저트', '디저트', '디저트', '디저트', '디저트', '디저트', '디저트', '디저트', '디저트', '디저트', '디저트', '디저트', '디저트', '디저트', '디저트', '디저트', '디저트', '디저트', '디저트', '디저트', '디저트', '디저트', '디저트', '디저트', '디저트', '디저트', '디저트', '디저트', '디저트', '디저트', '디저트', '디저트', '디저트', '디저트', '디저트', '디저트', '디저트', '디저트', '디저트', '디저트', '디저트', '디저트', '디저트', '디저트', '디저트', '디저트', '디저트', '디저트', '디저트', '디저트', '디저트', '디저트', '디저트', '디저트', '디저트', '디저트', '디저트', '디저트', '디저트', '디저트', '디저트', '디저트', '디저트', '디저트', '디저트', '디저트', '디저트', '디저트', '디저트', '디저트', '디저트', '디저트', '디저트', '디저트', '디저트', '디저트', '디저트', '디저트', '디저트', '디저트', '디저트', '디저트', '디저트', '디저트', '디저트', '디저트', '디저트', '디저트', '디저트', '디저트', '디저트', '디저트', '디저트', '디저트', '디저트', '디저트', '디저트', '디저트', '디저트', '디저트', '디저트', '디저트', '디저트', '디저트', '디저트', '디저트', '디저트', '디저트', '디저트', '디저트', '디저트', '디저트', '디저트', '디저트', '디저트', '디저트', '디저트', '디저트', '디저트', '디저트', '디저트', '디저트', '디저트', '디저트', '디저트', '디저트', '디저트', '디저트', '디저트', '디저트', '디저트', '디저트', '디저트', '디저트', '디저트', '디저트', '디저트', '디저트', '디저트', '디저트', '디저트', '디저트', '디저트', '디저트', '디저트', '디저트', '디저트', '디저트', '디저트', '디저트', '디저트', '디저트', '디저트', '디저트', '디저트', '디저트', '디저트', '디저트', '디저트', '디저트', '디저트', '디저트', '디저트', '디저트', '디저트', '디저트', '디저트', '디저트', '디저트', '디저트', '디저트', '디저트', '디저트', '디저트', '디저트', '디저트', '디저트', '디저트', '디저트', '디저트', '디저트', '디저트', '디저트', '디저트', '디저트', '디저트', '디저트', '디저트', '디저트', '디저트', '디저트', '디저트', '디저트', '디저트', '디저트', '디저트', '디저트', '디저트', '디저트', '디저트', '디저트', '디저트', '디저트', '디저트', '디저트', '디저트', '디저트', '디저트', '디저트', '디저트', '디저트', '디저트', '디저트', '디저트', '디저트', '디저트', '디저트', '디저트', '디저트', '디저트', '디저트', '디저트', '디저트', '디저트', '디저트', '디저트', '디저트', '디저트', '디저트', '디저트', '디저트', '디저트', '디저트', '디저트', '디저트', '디저트', '디저트', '디저트', '디저트', '디저트', '디저트', '디저트', '디저트', '디저트', '디저트', '디저트', '디저트', '디저트', '디저트', '디저트', '디저트', '디저트', '디저트', '디저트', '디저트', '디저트', '디저트', '디저트', '디저트', '디저트', '디저트', '디저트', '디저트', '디저트', '디저트', '디저트', '디저트', '디저트', '디저트', '디저트', '디저트', '디저트', '디저트', '디저트', '디저트', '디저트', '디저트', '디저트', '디저트', '디저트', '디저트', '디저트', '디저트', '디저트', '디저트', '디저트', '디저트', '디저트', '디저트', '디저트', '디저트', '디저트', '디저트', '디저트', '디저트', '디저트', '디저트', '디저트', '디저트', '디저트', '디저트', '디저트', '디저트', '디저트', '디저트', '디저트', '디저트', '디저트', '디저트', '디저트', '디저트', '디저트', '디저트', '디저트', '디저트', '디저트', '디저트', '디저트', '디저트', '디저트', '디저트', '디저트', '디저트', '디저트', '디저트', '디저트', '디저트', '디저트', '디저트', '디저트', '디저트', '디저트', '디저트', '디저트', '디저트', '디저트', '디저트', '디저트', '디저트', '디저트', '디저트', '디저트', '디저트', '디저트', '디저트', '디저트', '디저트', '디저트', '디저트', '디저트', '디저트', '디저트', '디저트', '디저트', '디저트', '디저트', '디저트', '디저트', '디저트', '디저트', '디저트', '디저트', '디저트', '디저트', '디저트', '디저트', '디저트', '디저트', '디저트', '디저트', '디저트', '디저트', '디저트', '디저트', '디저트', '디저트', '디저트', '디저트', '디저트', '디저트', '디저트', '디저트', '디저트', '디저트', '디저트', '디저트', '디저트', '디저트', '디저트', '디저트', '디저트', '디저트', '디저트', '디저트', '디저트', '디저트', '디저트', '디저트', '디저트', '디저트', '디저트', '디저트', '디저트', '디저트', '디저트', '디저트', '디저트', '디저트', '디저트', '디저트', '디저트', '디저트', '디저트', '디저트', '디저트', '디저트', '디저트', '디저트', '디저트', '디저트', '디저트', '디저트', '디저트', '디저트', '디저트', '디저트', '디저트', '디저트', '디저트', '디저트', '디저트', '디저트', '디저트', '디저트', '디저트', '디저트', '디저트', '디저트', '디저트', '디저트', '디저트', '디저트', '디저트', '디저트', '디저트', '디저트', '디저트', '디저트', '디저트', '디저트', '디저트', '디저트', '디저트', '디저트', '디저트', '디저트', '디저트', '디저트', '디저트', '디저트', '디저트', '디저트', '디저트', '디저트', '디저트', '디저트', '디저트', '디저트', '디저트', '디저트', '디저트', '디저트', '디저트', '디저트', '디저트', '디저트', '디저트', '디저트', '디저트', '디저트', '디저트', '디저트', '디저트', '디저트', '디저트', '디저트', '디저트', '디저트', '디저트', '디저트', '디저트', '디저트', '디저트', '디저트', '디저트', '디저트', '디저트', '디저트', '디저트', '디저트', '디저트', '디저트', '디저트', '디저트', '디저트', '디저트', '디저트', '디저트', '디저트', '디저트', '디저트', '디저트', '디저트', '디저트', '디저트', '디저트', '디저트', '디저트', '디저트', '디저트', '디저트', '디저트', '디저트', '디저트', '디저트', '디저트', '디저트', '디저트', '음악', '음악', '음악', '음악', '음악', '음악', '음악', '음악', '음악', '음악', '음악', '음악', '음악', '음악', '음악', '음악', '음악', '음악', '음악', '음악', '음악', '음악', '음악', '음악', '음악', '음악', '음악', '음악', '음악', '음악', '음악', '음악', '음악', '음악', '음악', '음악', '음악', '음악', '음악', '음악', '음악', '음악', '음악', '음악', '음악', '음악', '음악', '음악', '음악', '음악', '음악', '음악', '음악', '음악', '음악', '음악', '음악', '음악', '음악', '음악', '음악', '음악', '음악', '음악', '음악', '음악', '음악', '음악', '음악', '음악', '음악', '음악', '음악', '음악', '음악', '음악', '음악', '음악', '음악', '음악', '음악', '음악', '음악', '음악', '음악', '음악', '음악', '음악', '음악', '음악', '음악', '음악', '음악', '음악', '음악', '음악', '음악', '음악', '음악', '음악', '음악', '음악', '음악', '음악', '음악', '음악', '음악', '음악', '음악', '음악', '음악', '음악', '음악', '음악', '음악', '음악', '음악', '음악', '음악', '음악', '음악', '음악', '음악', '음악', '음악', '음악', '음악', '음악', '음악', '음악', '음악', '음악', '음악', '음악', '음악', '음악', '음악', '음악', '음악', '음악', '음악', '음악', '음악', '음악', '음악', '음악', '음악', '음악', '음악', '음악', '음악', '음악', '음악', '음악', '음악', '음악', '음악', '음악', '음악', '음악', '음악', '음악', '음악', '음악', '음악', '음악', '음악', '음악', '음악', '음악', '음악', '음악', '음악', '음악', '음악', '음악', '음악', '음악', '음악', '음악', '음악', '음악', '음악', '음악', '음악', '음악', '음악', '음악', '음악', '음악', '음악', '음악', '음악', '음악', '음악', '음악', '음악', '음악', '음악', '음악', '음악', '음악', '음악', '음악', '음악', '음악', '음악', '음악', '음악', '음악', '음악', '음악', '음악', '음악', '음악', '음악', '음악', '음악', '음악', '음악', '음악', '음악', '음악', '음악', '음악', '음악', '음악', '음악', '음악', '음악', '음악', '음악', '음악', '음악', '음악', '음악', '음악', '음악', '음악', '음악', '음악', '음악', '음악', '음악', '음악', '음악', '음악', '음악', '음악', '음악', '음악', '음악', '음악', '음악', '음악', '음악', '음악', '음악', '음악', '음악', '음악', '음악', '음악', '음악', '음악', '음악', '음악', '음악', '음악', '음악', '음악', '음악', '음악', '음악', '음악', '음악', '음악', '음악', '음악', '음악', '음악', '음악', '음악', '음악', '음악', '음악', '음악', '음악', '음악', '음악', '음악', '음악', '음악', '음악', '음악', '음악', '음악', '음악', '음악', '음악', '음악', '음악', '음악', '음악', '음악', '음악', '음악', '음악', '음악', '음악', '음악', '음악', '음악', '음악', '음악', '음악', '음악', '음악', '음악', '음악', '음악', '음악', '음악', '음악', '음악', '음악', '음악', '음악', '음악', '음악', '음악', '음악', '음악', '음악', '음악', '음악', '음악', '음악', '음악', '음악', '음악', '음악', '음악', '음악', '음악', '음악', '음악', '음악', '음악', '음악', '음악', '음악', '음악', '음악', '음악', '음악', '음악', '음악', '음악', '음악', '음악', '음악', '음악', '음악', '음악', '음악', '음악', '음악', '음악', '음악', '음악', '음악', '음악', '음악', '음악', '음악', '음악', '음악', '음악', '음악', '음악', '음악', '음악', '음악', '음악', '음악', '음악', '음악', '음악', '음악', '음악', '음악', '음악', '음악', '음악', '음악', '음악', '음악', '음악', '음악', '음악', '음악', '음악', '음악', '음악', '음악', '음악', '음악', '음악', '음악', '음악', '음악', '음악', '음악', '음악', '음악', '음악', '음악', '음악', '음악', '음악', '음악', '음악', '음악', '음악', '음악', '음악', '음악', '음악', '음악', '음악', '음악', '음악', '음악', '음악', '음악', '음악', '음악', '음악', '음악', '음악', '음악', '음악', '음악', '음악', '음악', '음악', '음악', '음악', '음악', '음악', '음악', '음악', '음악', '음악', '음악', '음악', '음악', '음악', '음악', '음악', '음악', '음악', '음악', '음악', '음악', '음악', '음악', '음악', '음악', '음악', '음악', '음악', '음악', '음악', '음악', '음악', '음악', '음악', '음악', '음악', '음악', '음악', '음악', '음악', '음악', '음악', '음악', '음악', '음악', '음악', '음악', '음악', '음악', '음악', '음악', '음악', '음악', '음악', '음악', '음악', '음악', '음악', '음악', '음악', '음악', '음악', '음악', '음악', '음악', '음악', '음악', '음악', '음악', '음악', '음악', '음악', '음악', '음악', '음악', '음악', '음악', '음악', '음악', '음악', '음악', '음악', '음악', '음악', '음악', '음악', '음악', '음악', '음악', '음악', '음악', '음악', '음악', '음악', '음악', '음악', '음악', '음악', '음악', '음악', '음악', '음악', '음악', '음악', '음악', '음악', '음악', '음악', '음악', '음악', '음악', '음악', '음악', '음악', '음악', '음악', '음악', '음악', '음악', '음악', '음악', '음악', '음악', '음악', '음악', '음악', '음악', '음악', '음악', '음악', '음악', '음악', '음악', '음악', '음악', '음악', '음악', '음악', '음악', '음악', '음악', '음악', '음악', '음악', '음악', '음악', '음악', '음악', '음악', '음악', '음악', '음악', '음악', '음악', '음악', '음악', '음악', '음악', '음악', '음악', '음악', '음악', '음악', '음악', '음악', '음악', '음악', '음악', '음악', '음악', '음악', '음악', '음악', '음악', '음악', '음악', '음악', '음악', '음악', '음악', '음악', '음악', '음악', '음악', '음악', '음악', '음악', '음악', '음악', '음악', '음악', '음악', '음악', '음악', '음악', '음악', '음악', '음악', '음악', '음악', '음악', '음악', '음악', '음악', '음악', '음악', '음악', '음악', '음악', '음악', '음악', '음악', '음악', '음악', '음악', '음악', '음악', '음악', '음악', '음악', '음악', '음악', '음악', '음악', '음악', '음악', '음악', '음악', '음악', '음악', '음악', '음악', '음악', '음악', '음악', '음악', '음악', '음악', '음악', '음악', '음악', '음악', '음악', '음악', '음악', '음악', '음악', '음악', '음악', '음악', '음악', '음악', '음악', '음악', '음악', '음악', '음악', '음악', '음악', '음악', '음악', '음악', '음악', '음악', '음악', '음악', '음악', '음악', '음악', '음악', '음악', '음악', '음악', '음악', '음악', '음악', '음악', '음악', '음악', '음악', '음악', '음악', '음악', '음악', '음악', '음악', '음악', '음악', '음악', '음악', '음악', '음악', '음악', '음악', '음악', '음악', '음악', '음악', '음악', '음악', '음악', '음악', '음악', '음악', '음악', '음악', '음악', '음악', '음악', '음악', '음악', '음악', '음악', '음악', '음악', '음악', '음악', '음악', '음악', '음악', '음악', '음악', '음악', '음악', '음악', '음악', '음악', '음악', '음악', '음악', '음악', '음악', '음악', '음악', '음악', '음악', '음악', '음악', '음악', '음악', '음악', '음악', '음악', '음악', '음악', '음악', '음악', '음악', '음악', '음악', '음악', '음악', '음악', '음악', '음악', '음악', '음악', '음악', '음악', '음악', '음악', '음악', '음악', '음악', '음악', '음악', '음악', '음악', '음악', '음악', '음악', '음악', '음악', '음악', '음악', '음악', '음악', '음악', '음악', '음악', '음악', '음악', '음악', '음악', '음악', '음악', '음악', '음악', '음악', '음악', '음악', '음악', '음악', '음악', '음악', '음악', '음악', '음악', '음악', '음악', '음악', '음악', '음악', '음악', '음악', '음악', '음악', '음악', '음악', '음악', '음악', '음악', '음악', '음악', '음악', '음악', '음악', '음악', '음악', '음악', '음악', '음악', '음악', '음악', '음악', '음악', '음악', '음악', '음악', '음악', '음악', '음악', '음악', '음악', '음악', '음악', '음악', '음악', '음악', '음악', '음악', '음악', '음악', '음악', '음악', '음악', '음악', '음악', '음악', '음악', '음악', '음악', '음악', '음악', '음악', '음악', '음악', '음악', '음악', '음악', '음악', '음악', '음악', '음악', '음악', '음악', '음악', '음악', '음악', '음악', '음악', '음악', '음악', '음악', '음악', '음악', '음악', '음악', '음악', '음악', '음악', '음악', '음악', '음악', '음악', '음악', '음악', '음악', '음악', '음악', '음악', '음악', '음악', '음악', '음악', '음악', '음악', '음악', '음악', '음악', '음악', '음악', '음악', '음악', '음악', '운동', '운동', '운동', '운동', '운동', '운동', '운동', '운동', '운동', '운동', '운동', '운동', '운동', '운동', '운동', '운동', '운동', '운동', '운동', '운동', '운동', '운동', '운동', '운동', '운동', '운동', '운동', '운동', '운동', '운동', '운동', '운동', '운동', '운동', '운동', '운동', '운동', '운동', '운동', '운동', '운동', '운동', '운동', '운동', '운동', '운동', '운동', '운동', '운동', '운동', '운동', '운동', '운동', '운동', '운동', '운동', '운동', '운동', '운동', '운동', '운동', '운동', '운동', '운동', '운동', '운동', '운동', '운동', '운동', '운동', '운동', '운동', '운동', '운동', '운동', '운동', '운동', '운동', '운동', '운동', '운동', '운동', '운동', '운동', '운동', '운동', '운동', '운동', '운동', '운동', '운동', '운동', '운동', '운동', '운동', '운동', '운동', '운동', '운동', '운동', '운동', '운동', '운동', '운동', '운동', '운동', '운동', '운동', '운동', '운동', '운동', '운동', '운동', '운동', '운동', '운동', '운동', '운동', '운동', '운동', '운동', '운동', '운동', '운동', '운동', '운동', '운동', '운동', '운동', '운동', '운동', '운동', '운동', '운동', '운동', '운동', '운동', '운동', '운동', '운동', '운동', '운동', '운동', '운동', '운동', '운동', '운동', '운동', '운동', '운동', '운동', '운동', '운동', '운동', '운동', '운동', '운동', '운동', '운동', '운동', '운동', '운동', '운동', '운동', '운동', '운동', '운동', '운동', '운동', '운동', '운동', '운동', '운동', '운동', '운동', '운동', '운동', '운동', '운동', '운동', '운동', '운동', '운동', '운동', '운동', '운동', '운동', '운동', '운동', '운동', '운동', '운동', '운동', '운동', '운동', '운동', '운동', '운동', '운동', '운동', '운동', '운동', '운동', '운동', '운동', '운동', '운동', '운동', '운동', '운동', '운동', '운동', '운동', '운동', '운동', '운동', '운동', '운동', '운동', '운동', '운동', '운동', '운동', '운동', '운동', '운동', '운동', '운동', '운동', '운동', '운동', '운동', '운동', '운동', '운동', '운동', '운동', '운동', '운동', '운동', '운동', '운동', '운동', '운동', '운동', '운동', '운동', '운동', '운동', '운동', '운동', '운동', '운동', '운동', '운동', '운동', '운동', '운동', '운동', '운동', '운동', '운동', '운동', '운동', '운동', '운동', '운동', '운동', '운동', '운동', '운동', '운동', '운동', '운동', '운동', '운동', '운동', '운동', '운동', '운동', '운동', '운동', '운동', '운동', '운동', '운동', '운동', '운동', '운동', '운동', '운동', '운동', '운동', '운동', '운동', '운동', '운동', '운동', '운동', '운동', '운동', '운동', '운동', '운동', '운동', '운동', '운동', '운동', '운동', '운동', '운동', '운동', '운동', '운동', '운동', '운동', '운동', '운동', '운동', '운동', '운동', '운동', '운동', '운동', '운동', '운동', '운동', '운동', '운동', '운동', '운동', '운동', '운동', '운동', '운동', '운동', '운동', '운동', '운동', '운동', '운동', '운동', '운동', '운동', '운동', '운동', '운동', '운동', '운동', '운동', '운동', '운동', '운동', '운동', '운동', '운동', '운동', '운동', '운동', '운동', '운동', '운동', '운동', '운동', '운동', '운동', '운동', '운동', '운동', '운동', '운동', '운동', '운동', '운동', '운동', '운동', '운동', '운동', '운동', '운동', '운동', '운동', '운동', '운동', '운동', '운동', '운동', '운동', '운동', '운동', '운동', '운동', '운동', '운동', '운동', '운동', '운동', '운동', '운동', '운동', '운동', '운동', '운동', '운동', '운동', '운동', '운동', '운동', '운동', '운동', '운동', '운동', '운동', '운동', '운동', '운동', '운동', '운동', '운동', '운동', '운동', '운동', '운동', '운동', '운동', '운동', '운동', '운동', '운동', '운동', '운동', '운동', '운동', '운동', '운동', '운동', '운동', '운동', '운동', '운동', '운동', '운동', '운동', '운동', '운동', '운동', '운동', '운동', '운동', '운동', '운동', '운동', '운동', '운동', '운동', '운동', '운동', '운동', '운동', '운동', '운동', '운동', '운동', '운동', '운동', '운동', '운동', '운동', '운동', '운동', '운동', '운동', '운동', '운동', '운동', '운동', '운동', '운동', '운동', '운동', '운동', '운동', '운동', '운동', '운동', '운동', '운동', '운동', '운동', '운동', '운동', '운동', '운동', '운동', '운동', '운동', '운동', '운동', '운동', '운동', '운동', '운동', '운동', '운동', '운동', '운동', '운동', '운동', '운동', '운동', '운동', '운동', '운동', '운동', '운동', '운동', '운동', '운동', '운동', '운동', '운동', '운동', '운동', '운동', '운동', '운동', '운동', '운동', '운동', '운동', '운동', '운동', '운동', '운동', '운동', '운동', '운동', '운동', '운동', '운동', '운동', '운동', '운동', '운동', '운동', '운동', '운동', '운동', '운동', '운동', '운동', '운동', '운동', '운동', '운동', '운동', '운동', '운동', '운동', '운동', '운동', '운동', '운동', '운동', '운동', '운동', '운동', '운동', '운동', '운동', '운동', '운동', '운동', '운동', '운동', '운동', '운동', '운동', '운동', '운동', '운동', '운동', '운동', '운동', '운동', '운동', '운동', '운동', '운동', '운동', '운동', '운동', '운동', '운동', '운동', '운동', '운동', '운동', '운동', '운동', '운동', '운동', '운동', '운동', '운동', '운동', '운동', '운동', '운동', '운동', '운동', '운동', '운동', '운동', '운동', '운동', '운동', '운동', '운동', '운동', '운동', '운동', '운동', '운동', '운동', '운동', '운동', '운동', '운동', '운동', '운동', '운동', '운동', '운동', '운동', '운동', '운동', '운동', '운동', '운동', '운동', '운동', '운동', '운동', '운동', '운동', '운동', '운동', '운동', '운동', '운동', '운동', '운동', '운동', '운동', '운동', '운동', '운동', '운동', '운동', '운동', '운동', '운동', '운동', '운동', '운동', '운동', '운동', '운동', '운동', '운동', '운동', '운동', '운동', '운동', '운동', '운동', '운동', '운동', '운동', '운동', '운동', '운동', '운동', '운동', '운동', '운동', '운동', '운동', '운동', '운동', '운동', '운동', '운동', '운동', '운동', '운동', '운동', '운동', '운동', '운동', '운동', '운동', '운동', '운동', '운동', '운동', '운동', '운동', '운동', '운동', '운동', '운동', '운동', '운동', '운동', '운동', '운동', '운동', '운동', '운동', '운동', '운동', '운동', '운동', '운동', '운동', '운동', '운동', '운동', '운동', '운동', '운동', '운동', '운동', '운동', '운동', '운동', '운동', '운동', '운동', '운동', '운동', '운동', '운동', '운동', '운동', '운동', '운동', '운동', '운동', '운동', '운동', '운동', '운동', '운동', '운동', '운동', '운동', '운동', '운동', '운동', '운동', '운동', '운동', '운동', '운동', '운동', '운동', '운동', '운동', '운동', '운동', '운동', '운동', '운동', '운동', '운동', '운동', '운동', '운동', '운동', '운동', '운동', '운동', '운동', '운동', '운동', '운동', '운동', '운동', '운동', '운동', '운동', '운동', '운동', '운동', '운동', '운동', '운동', '운동', '운동', '운동', '운동', '운동', '운동', '운동', '운동', '운동', '운동', '운동', '운동', '운동', '운동', '운동', '운동', '운동', '운동', '운동', '운동', '운동', '운동', '운동', '운동', '운동', '운동', '운동', '운동', '운동', '운동', '운동', '운동', '운동', '운동', '운동', '운동', '운동', '운동', '운동', '운동', '운동', '운동', '운동', '운동', '운동', '운동', '운동', '운동', '운동', '운동', '운동', '운동', '운동', '운동', '운동', '운동', '운동', '운동', '운동', '운동', '운동', '운동', '운동', '운동', '운동', '운동', '운동', '운동', '운동', '운동', '운동', '운동', '운동', '운동', '운동', '운동', '운동', '운동', '운동', '운동', '운동', '운동', '운동', '운동', '운동', '운동', '운동', '운동', '운동', '운동', '운동', '운동', '운동', '운동', '운동', '운동', '운동', '운동', '운동', '운동', '운동', '운동', '운동', '운동', '운동', '운동', '운동', '운동', '운동', '운동', '운동', '운동', '운동', '운동', '운동', '운동', '운동', '운동', '운동', '운동', '운동', '운동', '운동', '운동', '운동', '운동', '운동', '운동', '운동', '운동', '운동', '운동', '운동', '운동', '운동', '운동', '운동', '운동', '운동', '운동', '운동', '운동', '운동', '운동', '운동', '운동', '운동', '운동', '운동', '운동', '운동', '운동', '운동', '운동', '운동', '운동', '운동', '운동', '운동', '운동', '운동', '운동', '운동', '운동', '운동', '운동', '운동', '운동', '운동', '운동', '라이프', '라이프', '라이프', '라이프', '라이프', '라이프', '라이프', '라이프', '라이프', '라이프', '라이프', '라이프', '라이프', '라이프', '라이프', '라이프', '라이프', '라이프', '라이프', '라이프', '라이프', '라이프', '라이프', '라이프', '라이프', '라이프', '라이프', '라이프', '라이프', '라이프', '라이프', '라이프', '라이프', '라이프', '라이프', '라이프', '라이프', '라이프', '라이프', '라이프', '라이프', '라이프', '라이프', '라이프', '라이프', '라이프', '라이프', '라이프', '라이프', '라이프', '라이프', '라이프', '라이프', '라이프', '라이프', '라이프', '라이프', '라이프', '라이프', '라이프', '라이프', '라이프', '라이프', '라이프', '라이프', '라이프', '라이프', '라이프', '라이프', '라이프', '라이프', '라이프', '라이프', '라이프', '라이프', '라이프', '라이프', '라이프', '라이프', '라이프', '라이프', '라이프', '라이프', '라이프', '라이프', '라이프', '라이프', '라이프', '라이프', '라이프', '라이프', '라이프', '라이프', '라이프', '라이프', '라이프', '라이프', '라이프', '라이프', '라이프', '라이프', '라이프', '라이프', '라이프', '라이프', '라이프', '라이프', '라이프', '라이프', '라이프', '라이프', '라이프', '라이프', '라이프', '라이프', '라이프', '라이프', '라이프', '라이프', '라이프', '라이프', '라이프', '라이프', '라이프', '라이프', '라이프', '라이프', '라이프', '라이프', '라이프', '라이프', '라이프', '라이프', '라이프', '라이프', '라이프', '라이프', '라이프', '라이프', '라이프', '라이프', '라이프', '라이프', '라이프', '라이프', '라이프', '라이프', '라이프', '라이프', '라이프', '라이프', '라이프', '라이프', '라이프', '라이프', '라이프', '라이프', '라이프', '라이프', '라이프', '라이프', '라이프', '라이프', '라이프', '라이프', '라이프', '라이프', '라이프', '라이프', '라이프', '라이프', '라이프', '라이프', '라이프', '라이프', '라이프', '라이프', '라이프', '라이프', '라이프', '라이프', '라이프', '라이프', '라이프', '라이프', '라이프', '라이프', '라이프', '라이프', '라이프', '라이프', '라이프', '라이프', '라이프', '라이프', '라이프', '라이프', '라이프', '라이프', '라이프', '라이프', '라이프', '라이프', '라이프', '라이프', '라이프', '라이프', '라이프', '라이프', '라이프', '라이프', '라이프', '라이프', '라이프', '라이프', '라이프', '라이프', '라이프', '라이프', '라이프', '라이프', '라이프', '라이프', '라이프', '라이프', '라이프', '라이프', '라이프', '라이프', '라이프', '라이프', '라이프', '라이프', '라이프', '라이프', '라이프', '라이프', '라이프', '라이프', '라이프', '라이프', '라이프', '라이프', '라이프', '라이프', '라이프', '라이프', '라이프', '라이프', '라이프', '라이프', '라이프', '라이프', '라이프', '라이프', '라이프', '라이프', '라이프', '라이프', '라이프', '라이프', '라이프', '라이프', '라이프', '라이프', '라이프', '라이프', '라이프', '라이프', '라이프', '라이프', '라이프', '라이프', '라이프', '라이프', '라이프', '라이프', '라이프', '라이프', '라이프', '라이프', '라이프', '라이프', '라이프', '라이프', '라이프', '라이프', '라이프', '라이프', '라이프', '라이프', '라이프', '라이프', '라이프', '라이프', '라이프', '라이프', '라이프', '라이프', '라이프', '라이프', '라이프', '라이프', '라이프', '라이프', '라이프', '라이프', '라이프', '라이프', '라이프', '라이프', '라이프', '라이프', '라이프', '라이프', '라이프', '라이프', '라이프', '라이프', '라이프', '라이프', '라이프', '라이프', '라이프', '라이프', '라이프', '라이프', '라이프', '라이프', '라이프', '라이프', '라이프', '라이프', '라이프', '라이프', '라이프', '라이프', '라이프', '라이프', '라이프', '라이프', '라이프', '라이프', '라이프', '라이프', '라이프', '라이프', '라이프', '라이프', '라이프', '라이프', '라이프', '라이프', '라이프', '라이프', '라이프', '라이프', '라이프', '라이프', '라이프', '라이프', '라이프', '라이프', '라이프', '라이프', '라이프', '라이프', '라이프', '라이프', '라이프', '라이프', '라이프', '라이프', '라이프', '라이프', '라이프', '라이프', '라이프', '라이프', '라이프', '라이프', '라이프', '라이프', '라이프', '라이프', '라이프', '라이프', '라이프', '라이프', '라이프', '라이프', '라이프', '라이프', '라이프', '라이프', '라이프', '라이프', '라이프', '라이프', '라이프', '라이프', '라이프', '라이프', '라이프', '라이프', '라이프', '라이프', '라이프', '라이프', '라이프', '라이프', '라이프', '라이프', '라이프', '라이프', '라이프', '라이프', '라이프', '라이프', '라이프', '라이프', '라이프', '라이프', '라이프', '라이프', '라이프', '라이프', '라이프', '라이프', '라이프', '라이프', '라이프', '라이프', '라이프', '라이프', '라이프', '라이프', '라이프', '라이프', '라이프', '라이프', '라이프', '라이프', '라이프', '라이프', '라이프', '라이프', '라이프', '라이프', '라이프', '라이프', '라이프', '라이프', '라이프', '라이프', '라이프', '라이프', '라이프', '라이프', '라이프', '라이프', '라이프', '라이프', '라이프', '라이프', '라이프', '라이프', '라이프', '라이프', '라이프', '라이프', '라이프', '라이프', '라이프', '라이프', '라이프', '라이프', '라이프', '라이프', '라이프', '라이프', '라이프', '라이프', '라이프', '라이프', '라이프', '라이프', '라이프', '라이프', '라이프', '라이프', '라이프', '라이프', '라이프', '라이프', '라이프', '라이프', '라이프', '라이프', '라이프', '라이프', '라이프', '라이프', '라이프', '라이프', '라이프', '라이프', '라이프', '라이프', '라이프', '라이프', '라이프', '라이프', '라이프', '라이프', '라이프', '라이프', '라이프', '라이프', '라이프', '라이프', '라이프', '라이프', '라이프', '라이프', '라이프', '라이프', '라이프', '라이프', '라이프', '라이프', '라이프', '라이프', '라이프', '라이프', '라이프', '라이프', '라이프', '라이프', '라이프', '라이프', '라이프', '라이프', '라이프', '라이프', '라이프', '라이프', '라이프', '라이프', '라이프', '라이프', '라이프', '라이프', '라이프', '라이프', '라이프', '라이프', '라이프', '라이프', '라이프', '라이프', '라이프', '라이프', '라이프', '라이프', '라이프', '라이프', '라이프', '라이프', '라이프', '라이프', '라이프', '라이프', '라이프', '라이프', '라이프', '라이프', '라이프', '라이프', '라이프', '라이프', '라이프', '라이프', '라이프', '라이프', '라이프', '라이프', '라이프', '라이프', '라이프', '라이프', '라이프', '라이프', '라이프', '라이프', '라이프', '라이프', '라이프', '라이프', '라이프', '라이프', '라이프', '라이프', '라이프', '라이프', '라이프', '라이프', '라이프', '라이프', '라이프', '라이프', '라이프', '라이프', '라이프', '라이프', '라이프', '라이프', '라이프', '라이프', '라이프', '라이프', '라이프', '라이프', '라이프', '라이프', '라이프', '라이프', '라이프', '라이프', '라이프', '라이프', '라이프', '라이프', '라이프', '라이프', '라이프', '라이프', '라이프', '라이프', '라이프', '라이프', '라이프', '라이프', '라이프', '라이프', '라이프', '라이프', '라이프', '라이프', '라이프', '라이프', '라이프', '라이프', '라이프', '라이프', '라이프', '라이프', '라이프', '라이프', '라이프', '라이프', '라이프', '라이프', '라이프', '라이프', '라이프', '라이프', '라이프', '라이프', '라이프', '라이프', '라이프', '라이프', '라이프', '라이프', '라이프', '라이프', '라이프', '라이프', '라이프', '라이프', '라이프', '라이프', '라이프', '라이프', '라이프', '라이프', '라이프', '라이프', '라이프', '라이프', '라이프', '라이프', '라이프', '라이프', '라이프', '라이프', '라이프', '라이프', '라이프', '라이프', '라이프', '라이프', '라이프', '라이프', '라이프', '라이프', '라이프', '라이프', '라이프', '라이프', '라이프', '라이프', '라이프', '라이프', '라이프', '라이프', '라이프', '라이프', '라이프', '라이프', '라이프', '라이프', '라이프', '라이프', '라이프', '라이프', '라이프', '라이프', '라이프', '라이프', '라이프', '라이프', '라이프', '라이프', '라이프', '라이프', '라이프', '라이프', '라이프', '라이프', '라이프', '라이프', '라이프', '라이프', '라이프', '라이프', '라이프', '라이프', '라이프', '라이프', '라이프', '라이프', '라이프', '라이프', '라이프', '라이프', '라이프', '라이프', '라이프', '라이프', '라이프', '라이프', '라이프', '라이프', '라이프', '라이프', '라이프', '라이프', '라이프', '라이프', '라이프', '라이프', '라이프', '라이프', '라이프', '라이프', '라이프', '라이프', '라이프', '라이프', '라이프', '라이프', '라이프', '라이프', '라이프', '라이프', '라이프', '라이프', '라이프', '라이프', '라이프', '라이프', '라이프', '라이프', '라이프', '라이프', '라이프', '라이프', '라이프', '라이프', '라이프', '라이프', '라이프', '라이프', '라이프', '라이프', '라이프', '라이프', '라이프', '라이프', '라이프', '라이프', '라이프', '라이프', '라이프', '라이프', '라이프', '라이프', '라이프', '라이프', '라이프', '라이프', '라이프', '라이프', '라이프', '라이프', '라이프', '라이프', '라이프', '라이프', '라이프', '라이프', '라이프', '라이프', '라이프', '라이프', '라이프', '라이프', '라이프', '라이프', '라이프', '라이프', '라이프', '라이프', '라이프', '라이프', '라이프', '라이프', '라이프', '라이프', '라이프', '라이프', '라이프', '라이프', '라이프', '라이프', '라이프', '라이프', '라이프', '라이프', '라이프', '라이프', '라이프', '라이프', '라이프', '라이프', '라이프', '라이프', '라이프', '라이프', '라이프', '라이프', '라이프', '라이프', '라이프', '라이프', '라이프', '라이프', '라이프', '라이프', '라이프', '라이프', '라이프', '라이프', '라이프', '라이프', '라이프', '라이프', '라이프', '라이프', '라이프', '라이프', '라이프', '라이프', '라이프', '라이프', '라이프', '라이프', '라이프', '라이프', '라이프', '라이프', '라이프', '라이프', '라이프', '라이프', '라이프', '라이프', '라이프', '라이프', '라이프', '라이프', '라이프', '라이프', '라이프', '라이프', '라이프', '라이프', '라이프', '라이프', '라이프', '라이프', '라이프', '라이프', '라이프', '라이프', '라이프', '라이프', '라이프', '라이프', '라이프', '라이프', '라이프', '라이프', '라이프', '라이프', '라이프', '라이프', '라이프', '라이프', '라이프', '라이프', '라이프', '라이프', '라이프', '라이프', '라이프', '라이프', '라이프', '라이프', '라이프', '라이프', '라이프', '라이프', '라이프', '라이프', '라이프', '라이프', '라이프', '라이프', '라이프', '라이프', '라이프', '라이프', '라이프', '라이프', '라이프', '라이프', '라이프', '라이프', '라이프', '라이프', '라이프', '라이프', '라이프', '라이프', '라이프', '라이프', '라이프', '라이프', '라이프', '라이프', '라이프', '라이프', '라이프', '라이프', '라이프', '라이프', '라이프', '사진', '사진', '사진', '사진', '사진', '사진', '사진', '사진', '사진', '사진', '사진', '사진', '사진', '사진', '사진', '사진', '사진', '사진', '사진', '사진', '사진', '사진', '사진', '사진', '사진', '사진', '사진', '사진', '사진', '사진', '사진', '사진', '사진', '사진', '사진', '사진', '사진', '사진', '사진', '사진', '사진', '사진', '사진', '사진', '사진', '사진', '사진', '사진', '사진', '사진', '사진', '사진', '사진', '사진', '사진', '사진', '사진', '사진', '사진', '사진', '사진', '사진', '사진', '사진', '사진', '사진', '사진', '사진', '사진', '사진', '사진', '사진', '사진', '사진', '사진', '사진', '사진', '사진', '사진', '사진', '사진', '사진', '사진', '사진', '사진', '사진', '사진', '사진', '사진', '사진', '사진', '사진', '사진', '사진', '사진', '사진', '사진', '사진', '사진', '사진', '사진', '사진', '사진', '사진', '사진', '사진', '사진', '사진', '사진', '사진', '사진', '사진', '사진', '사진', '사진', '사진', '사진', '사진', '사진', '사진', '사진', '사진', '사진', '사진', '사진', '사진', '사진', '사진', '사진', '사진', '사진', '사진', '사진', '사진', '사진', '사진', '사진', '사진', '사진', '사진', '사진', '사진', '사진', '사진', '사진', '사진', '사진', '사진', '사진', '사진', '사진', '사진', '사진', '사진', '사진', '사진', '사진', '사진', '사진', '사진', '사진', '사진', '사진', '사진', '사진', '사진', '사진', '사진', '사진', '사진', '사진', '사진', '사진', '사진', '사진', '사진', '사진', '사진', '사진', '사진', '사진', '사진', '사진', '사진', '사진', '사진', '사진', '사진', '사진', '사진', '사진', '사진', '사진', '사진', '사진', '사진', '사진', '사진', '사진', '사진', '사진', '사진', '사진', '사진', '사진', '사진', '사진', '사진', '사진', '사진', '사진', '사진', '사진', '사진', '사진', '사진', '사진', '사진', '사진', '사진', '사진', '사진', '사진', '사진', '사진', '사진', '사진', '사진', '사진', '사진', '사진', '사진', '사진', '사진', '사진', '사진', '사진', '사진', '사진', '사진', '사진', '사진', '사진', '사진', '사진', '사진', '사진', '사진', '사진', '사진', '사진', '사진', '사진', '사진', '사진', '사진', '사진', '사진', '사진', '사진', '사진', '사진', '사진', '사진', '사진', '사진', '사진', '사진', '사진', '사진', '사진', '사진', '사진', '사진', '사진', '사진', '사진', '사진', '사진', '사진', '사진', '사진', '사진', '사진', '사진', '사진', '사진', '사진', '사진', '사진', '사진', '사진', '사진', '사진', '사진', '사진', '사진', '사진', '사진', '사진', '사진', '사진', '사진', '사진', '사진', '사진', '사진', '사진', '사진', '사진', '사진', '사진', '사진', '사진', '사진', '사진', '사진', '사진', '사진', '사진', '사진', '사진', '사진', '사진', '사진', '사진', '사진', '사진', '사진', '사진', '사진', '사진', '사진', '사진', '사진', '사진', '사진', '사진', '사진', '사진', '사진', '사진', '사진', '사진', '사진', '사진', '사진', '사진', '사진', '사진', '사진', '사진', '사진', '사진', '사진', '사진', '사진', '사진', '사진', '사진', '사진', '사진', '사진', '사진', '사진', '사진', '사진', '사진', '사진', '사진', '사진', '사진', '사진', '사진', '사진', '사진', '사진', '사진', '사진', '사진', '사진', '사진', '사진', '사진', '사진', '사진', '사진', '사진', '사진', '사진', '사진', '사진', '사진', '사진', '사진', '사진', '사진', '사진', '사진', '사진', '사진', '사진', '사진', '사진', '사진', '사진', '사진', '사진', '사진', '사진', '사진', '사진', '사진', '사진', '사진', '사진', '사진', '사진', '사진', '사진', '사진', '사진', '사진', '사진', '사진', '사진', '사진', '사진', '사진', '사진', '사진', '사진', '사진', '사진', '사진', '사진', '사진', '사진', '사진', '사진', '사진', '사진', '사진', '사진', '사진', '사진', '사진', '사진', '사진', '사진', '사진', '사진', '사진', '사진', '사진', '사진', '사진', '사진', '사진', '사진', '사진', '사진', '사진', '사진', '사진', '사진', '사진', '사진', '사진', '사진', '사진', '사진', '사진', '사진', '사진', '사진', '사진', '사진', '사진', '사진', '사진', '사진', '사진', '사진', '사진', '사진', '사진', '사진', '사진', '사진', '사진', '사진', '사진', '사진', '사진', '사진', '사진', '사진', '사진', '사진', '사진', '사진', '사진', '사진', '사진', '사진', '사진', '사진', '사진', '사진', '사진', '사진', '사진', '사진', '사진', '사진', '사진', '사진', '사진', '사진', '사진', '사진', '사진', '사진', '사진', '사진', '사진', '사진', '사진', '사진', '사진', '사진', '사진', '사진', '사진', '사진', '사진', '사진', '사진', '사진', '사진', '사진', '사진', '사진', '사진', '사진', '사진', '사진', '사진', '사진', '사진', '사진', '사진', '사진', '사진', '사진', '사진', '사진', '사진', '사진', '사진', '사진', '사진', '사진', '사진', '사진', '사진', '사진', '사진', '사진', '사진', '사진', '사진', '사진', '사진', '사진', '사진', '사진', '사진', '사진', '사진', '사진', '사진', '사진', '사진', '사진', '사진', '사진', '사진', '사진', '사진', '사진', '사진', '사진', '사진', '사진', '사진', '사진', '사진', '사진', '사진', '사진', '사진', '사진', '사진', '사진', '사진', '사진', '사진', '사진', '사진', '사진', '사진', '사진', '사진', '사진', '사진', '사진', '사진', '사진', '사진', '사진', '사진', '사진', '사진', '사진', '사진', '사진', '사진', '사진', '사진', '사진', '사진', '사진', '사진', '사진', '사진', '사진', '사진', '사진', '사진', '사진', '사진', '사진', '사진', '사진', '사진', '사진', '사진', '사진', '사진', '사진', '사진', '사진', '사진', '사진', '사진', '사진', '사진', '사진', '사진', '사진', '사진', '사진', '사진', '사진', '사진', '사진', '사진', '사진', '사진', '사진', '사진', '사진', '사진', '사진', '사진', '사진', '사진', '사진', '사진', '사진', '사진', '사진', '사진', '사진', '사진', '사진', '사진', '사진', '사진', '사진', '사진', '사진', '사진', '사진', '사진', '사진', '사진', '사진', '사진', '사진', '사진', '사진', '사진', '사진', '사진', '사진', '사진', '사진', '사진', '사진', '사진', '사진', '사진', '사진', '사진', '사진', '사진', '사진', '사진', '사진', '사진', '사진', '사진', '사진', '사진', '사진', '사진', '사진', '사진', '사진', '사진', '사진', '사진', '사진', '사진', '사진', '사진', '사진', '사진', '사진', '사진', '사진', '사진', '사진', '사진', '사진', '사진', '사진', '사진', '사진', '사진', '사진', '사진', '사진', '사진', '사진', '사진', '사진', '사진', '사진', '사진', '사진', '사진', '사진', '사진', '사진', '사진', '사진', '사진', '사진', '사진', '사진', '사진', '사진', '사진', '사진', '사진', '사진', '사진', '사진', '사진', '사진', '사진', '사진', '사진', '사진', '사진', '사진', '사진', '사진', '사진', '사진', '사진', '사진', '사진', '사진', '사진', '사진', '사진', '사진', '사진', '사진', '사진', '사진', '사진', '사진', '사진', '사진', '사진', '사진', '사진', '사진', '사진', '사진', '사진', '사진', '사진', '사진', '사진', '사진', '사진', '사진', '사진', '사진', '사진', '사진', '사진', '사진', '사진', '사진', '사진', '사진', '사진', '사진', '사진', '사진', '사진', '사진', '사진', '사진', '사진', '사진', '사진', '사진', '사진', '사진', '사진', '사진', '사진', '사진', '사진', '사진', '사진', '사진', '사진', '사진', '사진', '사진', '사진', '사진', '사진', '사진', '사진', '사진', '사진', '사진', '사진', '사진', '사진', '사진', '사진', '사진', '사진', '사진', '사진', '사진', '사진', '사진', '사진', '사진', '사진', '사진', '사진', '사진', '사진', '사진', '사진', '사진', '사진', '사진', '사진', '사진', '사진', '사진', '사진', '사진', '사진', '사진', '사진', '사진', '사진', '사진', '사진', '사진', '사진', '사진', '사진', '사진', '사진', '사진', '사진', '사진', '사진', '사진', '사진', '사진', '사진', '사진', '사진', '사진', '사진', '사진', '사진', '사진', '사진', '사진', '사진', '사진', '사진', '사진', '사진', '사진', '사진', '사진', '사진', '사진', '사진', '사진', '사진', '사진', '사진', '사진', '사진', '사진', '사진', '사진', '사진', '사진', '영상', '영상', '영상', '영상', '영상', '영상', '영상', '영상', '영상', '영상', '영상', '영상', '영상', '영상', '영상', '영상', '영상', '영상', '영상', '영상', '영상', '영상', '영상', '영상', '영상', '영상', '영상', '영상', '영상', '영상', '영상', '영상', '영상', '영상', '영상', '영상', '영상', '영상', '영상', '영상', '영상', '영상', '영상', '영상', '영상', '영상', '영상', '영상', '영상', '영상', '영상', '영상', '영상', '영상', '영상', '영상', '영상', '영상', '영상', '영상', '영상', '영상', '영상', '영상', '영상', '영상', '영상', '영상', '영상', '영상', '영상', '영상', '영상', '영상', '영상', '영상', '영상', '영상', '영상', '영상', '영상', '영상', '영상', '영상', '영상', '영상', '영상', '영상', '영상', '영상', '영상', '영상', '영상', '영상', '영상', '영상', '영상', '영상', '영상', '영상', '영상', '영상', '영상', '영상', '영상', '영상', '영상', '영상', '영상', '영상', '영상', '영상', '영상', '영상', '영상', '영상', '영상', '영상', '영상', '영상', '영상', '영상', '영상', '영상', '영상', '영상', '영상', '영상', '영상', '영상', '영상', '영상', '영상', '영상', '영상', '영상', '영상', '영상', '영상', '영상', '영상', '영상', '영상', '영상', '영상', '영상', '영상', '영상', '영상', '영상', '영상', '영상', '영상', '영상', '영상', '영상', '영상', '영상', '영상', '영상', '영상', '영상', '영상', '영상', '영상', '영상', '영상', '영상', '영상', '영상', '영상', '영상', '영상', '영상', '영상', '영상', '영상', '영상', '영상', '영상', '영상', '영상', '영상', '영상', '영상', '영상', '영상', '영상', '영상', '영상', '영상', '영상', '영상', '영상', '영상', '영상', '영상', '영상', '영상', '영상', '영상', '영상', '영상', '영상', '영상', '영상', '영상', '영상', '영상', '영상', '영상', '영상', '영상', '영상', '영상', '영상', '영상', '영상', '영상', '영상', '영상', '영상', '영상', '영상', '영상', '영상', '영상', '영상', '영상', '영상', '영상', '영상', '영상', '영상', '영상', '영상', '영상', '영상', '영상', '영상', '영상', '영상', '영상', '영상', '영상', '영상', '영상', '영상', '영상', '영상', '영상', '영상', '영상', '영상', '영상', '영상', '영상', '영상', '영상', '영상', '영상', '영상', '영상', '영상', '영상', '영상', '영상', '영상', '영상', '영상', '영상', '영상', '영상', '영상', '영상', '영상', '영상', '영상', '영상', '영상', '영상', '영상', '영상', '영상', '영상', '영상', '영상', '영상', '영상', '영상', '영상', '영상', '영상', '영상', '영상', '영상', '영상', '영상', '영상', '영상', '영상', '영상', '영상', '영상', '영상', '영상', '영상', '영상', '영상', '영상', '영상', '영상', '영상', '영상', '영상', '영상', '영상', '영상', '영상', '영상', '영상', '영상', '영상', '영상', '영상', '영상', '영상', '영상', '영상', '영상', '영상', '영상', '영상', '영상', '영상', '영상', '영상', '영상', '영상', '영상', '영상', '영상', '영상', '영상', '영상', '영상', '영상', '영상', '영상', '영상', '영상', '영상', '영상', '영상', '영상', '영상', '영상', '영상', '영상', '영상', '영상', '영상', '영상', '영상', '영상', '영상', '영상', '영상', '영상', '영상', '영상', '영상', '영상', '영상', '영상', '영상', '영상', '영상', '영상', '영상', '영상', '영상', '영상', '영상', '영상', '영상', '영상', '영상', '영상', '영상', '영상', '영상', '영상', '영상', '영상', '영상', '영상', '영상', '영상', '영상', '영상', '영상', '영상', '영상', '영상', '영상', '영상', '영상', '영상', '영상', '영상', '영상', '영상', '영상', '영상', '영상', '영상', '영상', '영상', '영상', '영상', '영상', '영상', '영상', '영상', '영상', '영상', '영상', '영상', '영상', '영상', '영상', '영상', '영상', '영상', '영상', '영상', '영상', '영상', '영상', '영상', '영상', '영상', '영상', '영상', '영상', '영상', '영상', '영상', '영상', '영상', '영상', '영상', '영상', '영상', '영상', '영상', '영상', '영상', '영상', '영상', '영상', '영상', '영상', '영상', '영상', '영상', '영상', '영상', '영상', '영상', '영상', '영상', '영상', '영상', '영상', '영상', '영상', '영상', '영상', '영상', '영상', '영상', '영상', '영상', '영상', '영상', '영상', '영상', '영상', '영상', '영상', '영상', '영상', '영상', '영상', '영상', '영상', '영상', '영상', '영상', '영상', '영상', '영상', '영상', '영상', '영상', '영상', '영상', '영상', '영상', '영상', '영상', '영상', '영상', '영상', '영상', '영상', '영상', '영상', '영상', '영상', '영상', '영상', '영상', '영상', '영상', '영상', '영상', '영상', '영상', '영상', '영상', '영상', '영상', '영상', '영상', '영상', '영상', '영상', '영상', '영상', '영상', '영상', '영상', '영상', '영상', '영상', '영상', '영상', '영상', '영상', '영상', '영상', '영상', '영상', '영상', '영상', '영상', '영상', '영상', '영상', '영상', '영상', '영상', '영상', '영상', '영상', '영상', '영상', '영상', '영상', '영상', '영상', '영상', '영상', '영상', '영상', '영상', '영상', '영상', '영상', '영상', '영상', '영상', '영상', '영상', '영상', '영상', '영상', '영상', '영상', '영상', '영상', '영상', '영상', '영상', '영상', '영상', '영상', '영상', '영상', '영상', '영상', '영상', '영상', '영상', '영상', '영상', '영상', '영상', '영상', '영상', '영상', '영상', '영상', '영상', '영상', '영상', '영상', '영상', '영상', '영상', '영상', '영상', '영상', '영상', '영상', '영상', '영상', '영상', '영상', '영상', '영상', '영상', '영상', '영상', '영상', '영상', '영상', '영상', '영상', '영상', '영상', '영상', '영상', '영상', '영상', '영상', '영상', '영상', '영상', '영상', '영상', '영상', '영상', '영상', '영상', '영상', '영상', '영상', '영상', '영상', '영상', '영상', '영상', '영상', '영상', '영상', '영상', '영상', '영상', '영상', '영상', '영상', '영상', '영상', '영상', '영상', '영상', '영상', '영상', '영상', '영상', '영상', '영상', '영상', '영상', '영상', '영상', '영상', '영상', '영상', '영상', '영상', '영상', '영상', '영상', '영상', '영상', '영상', '영상', '영상', '영상', '영상', '영상', '영상', '영상', '영상', '영상', '영상', '영상', '영상', '영상', '영상', '영상', '영상', '영상', '영상', '영상', '영상', '영상', '영상', '영상', '영상', '영상', '영상', '영상', '영상', '영상', '영상', '영상', '영상', '영상', '영상', '영상', '영상', '영상', '영상', '영상', '영상', '영상', '영상', '영상', '영상', '영상', '영상', '영상', '영상', '영상', '영상', '영상', '영상', '영상', '영상', '영상', '영상', '영상', '영상', '영상', '영상', '영상', '영상', '영상', '영상', '영상', '영상', '영상', '영상', '영상', '영상', '영상', '영상', '영상', '영상', '영상', '영상', '영상', '영상', '영상', '영상', '영상', '영상', '영상', '영상', '영상', '영상', '영상', '영상', '영상', '영상', '영상', '영상', '영상', '영상', '영상', '영상', '영상', '영상', '영상', '영상', '영상', '영상', '영상', '영상', '영상', '영상', '영상', '영상', '영상', '영상', '영상', '영상', '영상', '영상', '영상', '영상', '영상', '영상', '영상', '영상', '영상', '영상', '영상', '영상', '영상', '영상', '영상', '영상', '영상', '영상', '영상', '영상', '영상', '영상', '영상', '영상', '영상', '영상', '영상', '영상', '영상', '영상', '영상', '영상', '영상', '영상', '영상', '영상', '영상', '영상', '영상', '영상', '영상', '영상', '영상', '영상', '영상', '영상', '영상', '영상', '영상', '영상', '영상', '영상', '영상', '영상', '영상', '영상', '영상', '영상', '영상', '영상', '영상', '영상', '영상', '영상', '영상', '영상', '영상', '영상', '영상', '영상', '영상', '영상', '영상', '영상', '영상', '영상', '영상', '영상', '영상', '영상', '영상', '영상', '영상', '영상', '영상', '영상', '영상', '영상', '영상', '영상', '영상', '영상', '영상', '영상', '영상', '영상', '영상', '영상', '영상', '영상', '영상', '영상', '영상', '영상', '영상', '영상', '영상', '영상', '영상', '영상', '영상', '영상', '영상', '영상', '영상', '영상', '영상', '영상', '영상', '영상', '영상', '영상', '영상', '영상', '영상', '영상', '영상', '영상', '영상', '영상', '영상', '영상', '영상', '영상', '영상', '영상', '영상', '영상', '영상', '영상', '영상', '영상', '영상', '영상', '영상', '영상', '영상', '영상', '영상', '영상', '영상', '영상', '영상', '영상', '영상', '영상', '영상', '디자인', '디자인', '디자인', '디자인', '디자인', '디자인', '디자인', '디자인', '디자인', '디자인', '디자인', '디자인', '디자인', '디자인', '디자인', '디자인', '디자인', '디자인', '디자인', '디자인', '디자인', '디자인', '디자인', '디자인', '디자인', '디자인', '디자인', '디자인', '디자인', '디자인', '디자인', '디자인', '디자인', '디자인', '디자인', '디자인', '디자인', '디자인', '디자인', '디자인', '디자인', '디자인', '디자인', '디자인', '디자인', '디자인', '디자인', '디자인', '디자인', '디자인', '디자인', '디자인', '디자인', '디자인', '디자인', '디자인', '디자인', '디자인', '디자인', '디자인', '디자인', '디자인', '디자인', '디자인', '디자인', '디자인', '디자인', '디자인', '디자인', '디자인', '디자인', '디자인', '디자인', '디자인', '디자인', '디자인', '디자인', '디자인', '디자인', '디자인', '디자인', '디자인', '디자인', '디자인', '디자인', '디자인', '디자인', '디자인', '디자인', '디자인', '디자인', '디자인', '디자인', '디자인', '디자인', '디자인', '디자인', '디자인', '디자인', '디자인', '디자인', '디자인', '디자인', '디자인', '디자인', '디자인', '디자인', '디자인', '디자인', '디자인', '디자인', '디자인', '디자인', '디자인', '디자인', '디자인', '디자인', '디자인', '디자인', '디자인', '디자인', '디자인', '디자인', '디자인', '디자인', '디자인', '디자인', '디자인', '디자인', '디자인', '디자인', '디자인', '디자인', '디자인', '디자인', '디자인', '디자인', '디자인', '디자인', '디자인', '디자인', '디자인', '디자인', '디자인', '디자인', '디자인', '디자인', '디자인', '디자인', '디자인', '디자인', '디자인', '디자인', '디자인', '디자인', '디자인', '디자인', '디자인', '디자인', '디자인', '디자인', '디자인', '디자인', '디자인', '디자인', '디자인', '디자인', '디자인', '디자인', '디자인', '디자인', '디자인', '디자인', '디자인', '디자인', '디자인', '디자인', '디자인', '디자인', '디자인', '디자인', '디자인', '디자인', '디자인', '디자인', '디자인', '디자인', '디자인', '디자인', '디자인', '디자인', '디자인', '디자인', '디자인', '디자인', '디자인', '디자인', '디자인', '디자인', '디자인', '디자인', '디자인', '디자인', '디자인', '디자인', '디자인', '디자인', '디자인', '디자인', '디자인', '디자인', '디자인', '디자인', '디자인', '디자인', '디자인', '디자인', '디자인', '디자인', '디자인', '디자인', '디자인', '디자인', '디자인', '디자인', '디자인', '디자인', '디자인', '디자인', '디자인', '디자인', '디자인', '디자인', '디자인', '디자인', '디자인', '디자인', '디자인', '디자인', '디자인', '디자인', '디자인', '디자인', '디자인', '디자인', '디자인', '디자인', '디자인', '디자인', '디자인', '디자인', '디자인', '디자인', '디자인', '디자인', '디자인', '디자인', '디자인', '디자인', '디자인', '디자인', '디자인', '디자인', '디자인', '디자인', '디자인', '디자인', '디자인', '디자인', '디자인', '디자인', '디자인', '디자인', '디자인', '디자인', '디자인', '디자인', '디자인', '디자인', '디자인', '디자인', '디자인', '디자인', '디자인', '디자인', '디자인', '디자인', '디자인', '디자인', '디자인', '디자인', '디자인', '디자인', '디자인', '디자인', '디자인', '디자인', '디자인', '디자인', '디자인', '디자인', '디자인', '디자인', '디자인', '디자인', '디자인', '디자인', '디자인', '디자인', '디자인', '디자인', '디자인', '디자인', '디자인', '디자인', '디자인', '디자인', '디자인', '디자인', '디자인', '디자인', '디자인', '디자인', '디자인', '디자인', '디자인', '디자인', '디자인', '디자인', '디자인', '디자인', '디자인', '디자인', '디자인', '디자인', '디자인', '디자인', '디자인', '디자인', '디자인', '디자인', '디자인', '디자인', '디자인', '디자인', '디자인', '디자인', '디자인', '디자인', '디자인', '디자인', '디자인', '디자인', '디자인', '디자인', '디자인', '디자인', '디자인', '디자인', '디자인', '디자인', '디자인', '디자인', '디자인', '디자인', '디자인', '디자인', '디자인', '디자인', '디자인', '디자인', '디자인', '디자인', '디자인', '디자인', '디자인', '디자인', '디자인', '디자인', '디자인', '디자인', '디자인', '디자인', '디자인', '디자인', '디자인', '디자인', '디자인', '디자인', '디자인', '디자인', '디자인', '디자인', '디자인', '디자인', '디자인', '디자인', '디자인', '디자인', '디자인', '디자인', '디자인', '디자인', '디자인', '디자인', '디자인', '디자인', '디자인', '디자인', '디자인', '디자인', '디자인', '디자인', '디자인', '디자인', '디자인', '디자인', '디자인', '디자인', '디자인', '디자인', '디자인', '디자인', '디자인', '디자인', '디자인', '디자인', '디자인', '디자인', '디자인', '디자인', '디자인', '디자인', '디자인', '디자인', '디자인', '디자인', '디자인', '디자인', '디자인', '디자인', '디자인', '디자인', '디자인', '디자인', '디자인', '디자인', '디자인', '디자인', '디자인', '디자인', '디자인', '디자인', '디자인', '디자인', '디자인', '디자인', '디자인', '디자인', '디자인', '디자인', '디자인', '디자인', '디자인', '디자인', '디자인', '디자인', '디자인', '디자인', '디자인', '디자인', '디자인', '디자인', '디자인', '디자인', '디자인', '디자인', '디자인', '디자인', '디자인', '디자인', '디자인', '디자인', '디자인', '디자인', '디자인', '디자인', '디자인', '디자인', '디자인', '디자인', '디자인', '디자인', '디자인', '디자인', '디자인', '디자인', '디자인', '디자인', '디자인', '디자인', '디자인', '디자인', '디자인', '디자인', '디자인', '디자인', '디자인', '디자인', '디자인', '디자인', '디자인', '디자인', '디자인', '디자인', '디자인', '디자인', '디자인', '디자인', '디자인', '디자인', '디자인', '디자인', '디자인', '디자인', '디자인', '디자인', '디자인', '디자인', '디자인', '디자인', '디자인', '디자인', '디자인', '디자인', '디자인', '디자인', '디자인', '디자인', '디자인', '디자인', '디자인', '디자인', '디자인', '디자인', '디자인', '디자인', '디자인', '디자인', '디자인', '디자인', '디자인', '디자인', '디자인', '디자인', '디자인', '디자인', '디자인', '디자인', '디자인', '디자인', '디자인', '디자인', '디자인', '디자인', '디자인', '디자인', '디자인', '디자인', '디자인', '디자인', '디자인', '디자인', '디자인', '디자인', '디자인', '디자인', '디자인', '디자인', '디자인', '디자인', '디자인', '디자인', '디자인', '디자인', '디자인', '디자인', '디자인', '디자인', '디자인', '디자인', '디자인', '디자인', '디자인', '디자인', '디자인', '디자인', '디자인', '디자인', '디자인', '디자인', '디자인', '디자인', '디자인', '디자인', '디자인', '디자인', '디자인', '디자인', '디자인', '디자인', '디자인', '디자인', '디자인', '디자인', '디자인', '디자인', '디자인', '디자인', '디자인', '디자인', '디자인', '디자인', '디자인', '디자인', '디자인', '디자인', '디자인', '디자인', '디자인', '디자인', '디자인', '디자인', '디자인', '디자인', '디자인', '디자인', '디자인', '디자인', '디자인', '디자인', '디자인', '디자인', '디자인', '디자인', '디자인', '디자인', '디자인', '디자인', '디자인', '디자인', '디자인', '디자인', '디자인', '디자인', '디자인', '디자인', '디자인', '디자인', '디자인', '디자인', '디자인', '디자인', '디자인', '디자인', '디자인', '디자인', '디자인', '디자인', '디자인', '디자인', '디자인', '디자인', '디자인', '디자인', '디자인', '디자인', '디자인', '디자인', '디자인', '디자인', '디자인', '디자인', '디자인', '디자인', '디자인', '디자인', '디자인', '디자인', '디자인', '디자인', '디자인', '디자인', '디자인', '디자인', '디자인', '디자인', '디자인', '디자인', '디자인', '디자인', '디자인', '디자인', '디자인', '디자인', '디자인', '디자인', '디자인', '디자인', '디자인', '디자인', '디자인', '디자인', '디자인', '디자인', '디자인', '디자인', '디자인', '디자인', '디자인', '디자인', '디자인', '디자인', '디자인', '디자인', '디자인', '디자인', '디자인', '디자인', '디자인', '디자인', '디자인', '디자인', '디자인', '디자인', '디자인', '디자인', '디자인', '디자인', '디자인', '디자인', '디자인', '디자인', '디자인', '디자인', '디자인', '디자인', '디자인', '디자인', '디자인', '디자인', '디자인', '디자인', '디자인', '디자인', '디자인', '디자인', '디자인', '디자인', '디자인', '디자인', '디자인', '디자인', '디자인', '디자인', '디자인', '디자인', '디자인', '디자인', '디자인', '디자인', '디자인', '디자인', '디자인', '디자인', '디자인', '디자인', '디자인', '디자인', '디자인', '디자인', '디자인', '디자인', '디자인', '디자인', '디자인', '디자인', '디자인', '디자인', '디자인', '디자인', '디자인', '디자인', '디자인', '디자인', '디자인', '디자인', '디자인', '디자인', '디자인', '디자인', '디자인', '디자인', '디자인', '디자인', '디자인', '디자인', '디자인', '디자인', '디자인', '디자인', '디자인', '디자인', '디자인', '디자인', '디자인', '디자인', '디자인', '디자인', '디자인', '디자인', '디자인', '디자인', '디자인', '디자인', '디자인', '디자인', '디자인', '디자인', '디자인', '디자인', '디자인', '디자인', '디자인', '디자인', '디자인', '디자인', '디자인', '디자인', '디자인', '디자인', '디자인', '디자인', '디자인', '디자인', '디자인', '디자인', '디자인', '디자인', '디자인', '디자인', '디자인', '디자인', '디자인', '디자인', '디자인', '디자인', '디자인', '디자인', '디자인', '디자인', '디자인', '디자인', '디자인', '디자인', '디자인', '디자인', '디자인', '디자인', '디자인', '디자인', '디자인', '디자인', '디자인', '디자인', '디자인', '디자인', '디자인', '디자인', '디자인', '디자인', '디자인', '디자인', '디자인', '디자인', '디자인', '디자인', '디자인', '디자인', '디자인', '디자인', '디자인', '디자인', '디자인', '디자인', '디자인', '디자인', '디자인', '디자인', '디자인', '디자인', '디자인', '디자인', '디자인', '디자인', '디자인', '디자인', '디자인', '디자인', '디자인', '디자인', '디자인', '디자인', '디자인', '디자인', '디자인', '디자인', '디자인', '디자인', '디자인', '디자인', '디자인', '디자인', '디자인', '디자인', '디자인', '디자인', '디자인', '디자인', '디자인', '디자인', '디자인', '디자인', '디자인', '디자인', '디자인', '디자인', '디자인', '디자인', '디자인', '디자인', '디자인', '디자인', '디자인', '디자인', '디자인', '디자인', '디자인', '디자인', '디자인', '디자인', '디자인', '디자인', '디자인', '디자인', '디자인', '디자인', '디자인', '디자인', '디자인', '디자인', '디자인', '디자인', '디자인', '디자인', '디자인', '디자인', '디자인', '디자인', '디자인', '디자인', '디자인', '디자인', '디자인', '디자인', '디자인', '디자인', '디자인', '디자인', '디자인', '디자인', '디자인', '디자인', '디자인', '디자인', '디자인', '디자인', '디자인', '디자인', '디자인', '디자인', '디자인', '디자인', '디자인', '디자인', '디자인', '디자인', '디자인', '디자인', '디자인', '디자인', '디자인', '디자인', '디자인', '디자인', '디자인', '디자인', '디자인', '디자인', '디자인', '개발', '개발', '개발', '개발', '개발', '개발', '개발', '개발', '개발', '개발', '개발', '개발', '개발', '개발', '개발', '개발', '개발', '개발', '개발', '개발', '개발', '개발', '개발', '개발', '개발', '개발', '개발', '개발', '개발', '개발', '개발', '개발', '개발', '개발', '개발', '개발', '개발', '개발', '개발', '개발', '개발', '개발', '개발', '개발', '개발', '개발', '개발', '개발', '개발', '개발', '개발', '개발', '개발', '개발', '개발', '개발', '개발', '개발', '개발', '개발', '개발', '개발', '개발', '개발', '개발', '개발', '개발', '개발', '개발', '개발', '개발', '개발', '개발', '개발', '개발', '개발', '개발', '개발', '개발', '개발', '개발', '개발', '개발', '개발', '개발', '개발', '개발', '개발', '개발', '개발', '개발', '개발', '개발', '개발', '개발', '개발', '개발', '개발', '개발', '개발', '개발', '개발', '개발', '개발', '개발', '개발', '개발', '개발', '개발', '개발', '개발', '개발', '개발', '개발', '개발', '개발', '개발', '개발', '개발', '개발', '개발', '개발', '개발', '개발', '개발', '개발', '개발', '개발', '개발', '개발', '개발', '개발', '개발', '개발', '개발', '개발', '개발', '개발', '개발', '개발', '개발', '개발', '개발', '개발', '개발', '개발', '개발', '개발', '개발', '개발', '개발', '개발', '개발', '개발', '개발', '개발', '개발', '개발', '개발', '개발', '개발', '개발', '개발', '개발', '개발', '개발', '개발', '개발', '개발', '개발', '개발', '개발', '개발', '개발', '개발', '개발', '개발', '개발', '개발', '개발', '개발', '개발', '개발', '개발', '개발', '개발', '개발', '개발', '개발', '개발', '개발', '개발', '개발', '개발', '개발', '개발', '개발', '개발', '개발', '개발', '개발', '개발', '개발', '개발', '개발', '개발', '개발', '개발', '개발', '개발', '개발', '개발', '개발', '개발', '개발', '개발', '개발', '개발', '개발', '개발', '개발', '개발', '개발', '개발', '개발', '개발', '개발', '개발', '개발', '개발', '개발', '개발', '개발', '개발', '개발', '개발', '개발', '개발', '개발', '개발', '개발', '개발', '개발', '개발', '개발', '개발', '개발', '개발', '개발', '개발', '개발', '개발', '개발', '개발', '개발', '개발', '개발', '개발', '개발', '개발', '개발', '개발', '개발', '개발', '개발', '개발', '개발', '개발', '개발', '개발', '개발', '개발', '개발', '개발', '개발', '개발', '개발', '개발', '개발', '개발', '개발', '개발', '개발', '개발', '개발', '개발', '개발', '개발', '개발', '개발', '개발', '개발', '개발', '개발', '개발', '개발', '개발', '개발', '개발', '개발', '개발', '개발', '개발', '개발', '개발', '개발', '개발', '개발', '개발', '개발', '개발', '개발', '개발', '개발', '개발', '개발', '개발', '개발', '개발', '개발', '개발', '개발', '개발', '개발', '개발', '개발', '개발', '개발', '개발', '개발', '개발', '개발', '개발', '개발', '개발', '개발', '개발', '개발', '개발', '개발', '개발', '개발', '개발', '개발', '개발', '개발', '개발', '개발', '개발', '개발', '개발', '개발', '개발', '개발', '개발', '개발', '개발', '개발', '개발', '개발', '개발', '개발', '개발', '개발', '개발', '개발', '개발', '개발', '개발', '개발', '개발', '개발', '개발', '개발', '개발', '개발', '개발', '개발', '개발', '개발', '개발', '개발', '개발', '개발', '개발', '개발', '개발', '개발', '개발', '개발', '개발', '개발', '개발', '개발', '개발', '개발', '개발', '개발', '개발', '개발', '개발', '개발', '개발', '개발', '개발', '개발', '개발', '개발', '개발', '개발', '개발', '개발', '개발', '개발', '개발', '개발', '개발', '개발', '개발', '개발', '개발', '개발', '개발', '개발', '개발', '개발', '개발', '개발', '개발', '개발', '개발', '개발', '개발', '개발', '개발', '개발', '개발', '개발', '개발', '개발', '개발', '개발', '개발', '개발', '개발', '개발', '개발', '개발', '개발', '개발', '개발', '개발', '개발', '개발', '개발', '개발', '개발', '개발', '개발', '개발', '개발', '개발', '개발', '개발', '개발', '개발', '개발', '개발', '개발', '개발', '개발', '개발', '개발', '개발', '개발', '개발', '개발', '개발', '개발', '개발', '개발', '개발', '개발', '개발', '개발', '개발', '개발', '개발', '개발', '개발', '개발', '개발', '개발', '개발', '개발', '개발', '개발', '개발', '개발', '개발', '개발', '개발', '개발', '개발', '개발', '개발', '개발', '개발', '개발', '개발', '개발', '개발', '개발', '개발', '개발', '개발', '개발', '개발', '개발', '개발', '개발', '개발', '개발', '개발', '개발', '개발', '개발', '개발', '개발', '개발', '개발', '개발', '개발', '개발', '개발', '개발', '개발', '개발', '개발', '개발', '개발', '개발', '개발', '개발', '개발', '개발', '개발', '개발', '개발', '개발', '개발', '개발', '개발', '개발', '개발', '개발', '개발', '개발', '개발', '개발', '개발', '개발', '개발', '개발', '개발', '개발', '개발', '개발', '개발', '개발', '개발', '개발', '개발', '개발', '개발', '개발', '개발', '개발', '개발', '개발', '개발', '개발', '개발', '개발', '개발', '개발', '개발', '개발', '개발', '개발', '개발', '개발', '개발', '개발', '개발', '개발', '개발', '개발', '개발', '개발', '개발', '개발', '개발', '개발', '개발', '개발', '개발', '개발', '개발', '개발', '개발', '개발', '개발', '개발', '개발', '개발', '개발', '개발', '개발', '개발', '개발', '개발', '개발', '개발', '개발', '개발', '개발', '개발', '개발', '개발', '개발', '개발', '개발', '개발', '개발', '개발', '개발', '개발', '개발', '개발', '개발', '개발', '개발', '개발', '개발', '개발', '개발', '개발', '개발', '개발', '개발', '개발', '개발', '개발', '개발', '개발', '개발', '개발', '개발', '개발', '개발', '개발', '개발', '개발', '개발', '개발', '개발', '개발', '개발', '개발', '개발', '개발', '개발', '개발', '개발', '개발', '개발', '개발', '개발', '개발', '개발', '개발', '개발', '개발', '개발', '개발', '개발', '개발', '개발', '개발', '개발', '개발', '개발', '개발', '개발', '개발', '개발', '개발', '개발', '개발', '개발', '개발', '개발', '개발', '개발', '개발', '개발', '개발', '개발', '개발', '개발', '개발', '개발', '개발', '개발', '개발', '개발', '개발', '개발', '개발', '개발', '개발', '개발', '개발', '개발', '개발', '개발', '개발', '개발', '개발', '개발', '개발', '개발', '개발', '개발', '개발', '개발', '개발', '개발', '개발', '개발', '개발', '개발', '개발', '개발', '개발', '개발', '개발', '개발', '개발', '개발', '개발', '개발', '개발', '개발', '개발', '개발', '개발', '개발', '개발', '개발', '개발', '개발', '개발', '개발', '개발', '개발', '개발', '개발', '개발', '개발', '개발', '개발', '개발', '개발', '개발', '개발', '개발', '개발', '개발', '개발', '개발', '개발', '개발', '개발', '개발', '개발', '개발', '개발', '개발', '개발', '개발', '개발', '개발', '개발', '개발', '개발', '개발', '개발', '개발', '개발', '개발', '개발', '개발', '개발', '개발', '개발', '개발', '개발', '개발', '개발', '개발', '개발', '개발', '개발', '개발', '개발', '개발', '개발', '개발', '개발', '개발', '개발', '개발', '개발', '개발', '개발', '개발', '개발', '개발', '개발', '개발', '개발', '개발', '개발', '개발', '개발', '개발', '개발', '개발', '개발', '개발', '개발', '개발', '개발', '개발', '개발', '개발', '개발', '개발', '개발', '개발', '개발', '개발', '개발', '개발', '개발', '개발', '개발', '개발', '개발', '개발', '개발', '개발', '개발', '개발', '개발', '개발', '개발', '개발', '개발', '개발', '개발', '개발', '개발', '개발', '개발', '개발', '개발', '개발', '개발', '개발', '개발', '개발', '개발', '개발', '개발', '개발', '개발', '개발', '개발', '개발', '개발', '개발', '개발', '개발', '개발', '개발', '개발', '개발', '개발', '개발', '개발', '개발', '개발', '개발', '개발', '개발', '개발', '개발', '개발', '개발', '개발', '개발', '개발', '개발', '개발', '개발', '개발', '개발', '개발', '개발', '개발', '개발', '개발', '개발', '개발', '개발', '개발', '개발', '데이터', '데이터', '데이터', '데이터', '데이터', '데이터', '데이터', '데이터', '데이터', '데이터', '데이터', '데이터', '데이터', '데이터', '데이터', '데이터', '데이터', '데이터', '데이터', '데이터', '데이터', '데이터', '데이터', '데이터', '데이터', '데이터', '데이터', '데이터', '데이터', '데이터', '데이터', '데이터', '데이터', '데이터', '데이터', '데이터', '데이터', '데이터', '데이터', '데이터', '데이터', '데이터', '데이터', '데이터', '데이터', '데이터', '데이터', '데이터', '데이터', '데이터', '데이터', '데이터', '데이터', '데이터', '데이터', '데이터', '데이터', '데이터', '데이터', '데이터', '데이터', '데이터', '데이터', '데이터', '데이터', '데이터', '데이터', '데이터', '데이터', '데이터', '데이터', '데이터', '데이터', '데이터', '데이터', '데이터', '데이터', '데이터', '데이터', '데이터', '데이터', '데이터', '데이터', '데이터', '데이터', '데이터', '데이터', '데이터', '데이터', '데이터', '데이터', '데이터', '데이터', '데이터', '데이터', '데이터', '데이터', '데이터', '데이터', '데이터', '데이터', '데이터', '데이터', '데이터', '데이터', '데이터', '데이터', '데이터', '데이터', '데이터', '데이터', '데이터', '데이터', '데이터', '데이터', '데이터', '데이터', '데이터', '데이터', '데이터', '데이터', '데이터', '데이터', '데이터', '데이터', '데이터', '데이터', '데이터', '데이터', '데이터', '데이터', '데이터', '데이터', '데이터', '데이터', '데이터', '데이터', '데이터', '데이터', '데이터', '데이터', '데이터', '데이터', '데이터', '데이터', '데이터', '데이터', '데이터', '데이터', '데이터', '데이터', '데이터', '데이터', '데이터', '데이터', '데이터', '데이터', '데이터', '데이터', '데이터', '데이터', '데이터', '데이터', '데이터', '데이터', '데이터', '데이터', '데이터', '데이터', '데이터', '데이터', '데이터', '데이터', '데이터', '데이터', '데이터', '데이터', '데이터', '데이터', '데이터', '데이터', '데이터', '데이터', '데이터', '데이터', '데이터', '데이터', '데이터', '데이터', '데이터', '데이터', '데이터', '데이터', '데이터', '데이터', '데이터', '데이터', '데이터', '데이터', '데이터', '데이터', '데이터', '데이터', '데이터', '데이터', '데이터', '데이터', '데이터', '데이터', '데이터', '데이터', '데이터', '데이터', '데이터', '데이터', '데이터', '데이터', '데이터', '데이터', '데이터', '데이터', '데이터', '데이터', '데이터', '데이터', '데이터', '데이터', '데이터', '데이터', '데이터', '데이터', '데이터', '데이터', '데이터', '데이터', '데이터', '데이터', '데이터', '데이터', '데이터', '데이터', '데이터', '데이터', '데이터', '데이터', '데이터', '데이터', '데이터', '데이터', '데이터', '데이터', '데이터', '데이터', '데이터', '데이터', '데이터', '데이터', '데이터', '데이터', '데이터', '데이터', '데이터', '데이터', '데이터', '데이터', '데이터', '데이터', '데이터', '데이터', '데이터', '데이터', '데이터', '데이터', '데이터', '데이터', '데이터', '데이터', '데이터', '데이터', '데이터', '데이터', '데이터', '데이터', '데이터', '데이터', '데이터', '데이터', '데이터', '데이터', '데이터', '데이터', '데이터', '데이터', '데이터', '데이터', '데이터', '데이터', '데이터', '데이터', '데이터', '데이터', '데이터', '데이터', '데이터', '데이터', '데이터', '데이터', '데이터', '데이터', '데이터', '데이터', '데이터', '데이터', '데이터', '데이터', '데이터', '데이터', '데이터', '데이터', '데이터', '데이터', '데이터', '데이터', '데이터', '데이터', '데이터', '데이터', '데이터', '데이터', '데이터', '데이터', '데이터', '데이터', '데이터', '데이터', '데이터', '데이터', '데이터', '데이터', '데이터', '데이터', '데이터', '데이터', '데이터', '데이터', '데이터', '데이터', '데이터', '데이터', '데이터', '데이터', '데이터', '데이터', '데이터', '데이터', '데이터', '데이터', '데이터', '데이터', '데이터', '데이터', '데이터', '데이터', '데이터', '데이터', '데이터', '데이터', '데이터', '데이터', '데이터', '데이터', '데이터', '데이터', '데이터', '데이터', '데이터', '데이터', '데이터', '데이터', '데이터', '데이터', '데이터', '데이터', '데이터', '데이터', '데이터', '데이터', '데이터', '데이터', '데이터', '데이터', '데이터', '데이터', '데이터', '데이터', '데이터', '데이터', '데이터', '데이터', '데이터', '데이터', '데이터', '데이터', '데이터', '데이터', '데이터', '데이터', '데이터', '데이터', '데이터', '데이터', '데이터', '데이터', '데이터', '데이터', '데이터', '데이터', '데이터', '데이터', '데이터', '데이터', '데이터', '데이터', '데이터', '데이터', '데이터', '데이터', '데이터', '데이터', '데이터', '데이터', '데이터', '데이터', '데이터', '데이터', '데이터', '데이터', '데이터', '데이터', '데이터', '데이터', '데이터', '데이터', '데이터', '데이터', '데이터', '데이터', '데이터', '데이터', '데이터', '데이터', '데이터', '데이터', '데이터', '데이터', '데이터', '데이터', '데이터', '데이터', '데이터', '데이터', '데이터', '데이터', '데이터', '데이터', '데이터', '데이터', '데이터', '데이터', '데이터', '데이터', '데이터', '데이터', '데이터', '데이터', '데이터', '데이터', '데이터', '데이터', '데이터', '데이터', '데이터', '데이터', '데이터', '데이터', '데이터', '데이터', '데이터', '데이터', '데이터', '데이터', '데이터', '데이터', '데이터', '데이터', '데이터', '데이터', '데이터', '데이터', '데이터', '데이터', '데이터', '데이터', '데이터', '데이터', '데이터', '데이터', '데이터', '데이터', '데이터', '데이터', '데이터', '데이터', '데이터', '데이터', '데이터', '데이터', '데이터', '데이터', '데이터', '데이터', '데이터', '데이터', '데이터', '데이터', '데이터', '데이터', '데이터', '데이터', '데이터', '데이터', '데이터', '데이터', '데이터', '데이터', '데이터', '데이터', '데이터', '데이터', '데이터', '데이터', '데이터', '데이터', '데이터', '데이터', '데이터', '데이터', '데이터', '데이터', '데이터', '데이터', '데이터', '데이터', '데이터', '데이터', '데이터', '데이터', '데이터', '데이터', '데이터', '데이터', '데이터', '데이터', '데이터', '데이터', '데이터', '데이터', '데이터', '데이터', '데이터', '데이터', '데이터', '데이터', '데이터', '데이터', '데이터', '데이터', '데이터', '데이터', '데이터', '데이터', '데이터', '데이터', '데이터', '데이터', '데이터', '데이터', '데이터', '데이터', '데이터', '데이터', '데이터', '데이터', '데이터', '데이터', '데이터', '데이터', '데이터', '데이터', '데이터', '데이터', '데이터', '데이터', '데이터', '데이터', '데이터', '데이터', '데이터', '데이터', '데이터', '데이터', '데이터', '데이터', '데이터', '데이터', '데이터', '데이터', '데이터', '데이터', '데이터', '데이터', '데이터', '데이터', '데이터', '데이터', '데이터', '데이터', '데이터', '데이터', '데이터', '데이터', '데이터', '데이터', '데이터', '데이터', '데이터', '데이터', '데이터', '데이터', '데이터', '데이터', '데이터', '데이터', '데이터', '데이터', '데이터', '데이터', '데이터', '데이터', '데이터', '데이터', '데이터', '데이터', '데이터', '데이터', '데이터', '데이터', '데이터', '데이터', '데이터', '데이터', '데이터', '데이터', '데이터', '데이터', '데이터', '데이터', '데이터', '데이터', '데이터', '데이터', '데이터', '데이터', '데이터', '데이터', '데이터', '데이터', '데이터', '데이터', '데이터', '데이터', '데이터', '데이터', '데이터', '데이터', '데이터', '데이터', '데이터', '데이터', '데이터', '데이터', '데이터', '데이터', '데이터', '데이터', '데이터', '데이터', '데이터', '데이터', '데이터', '데이터', '데이터', '데이터', '데이터', '데이터', '데이터', '데이터', '데이터', '데이터', '데이터', '데이터', '데이터', '데이터', '데이터', '데이터', '데이터', '데이터', '데이터', '데이터', '데이터', '데이터', '데이터', '데이터', '데이터', '데이터', '데이터', '데이터', '데이터', '데이터', '데이터', '데이터', '데이터', '데이터', '데이터', '데이터', '데이터', '데이터', '데이터', '데이터', '데이터', '데이터', '데이터', '데이터', '데이터', '데이터', '데이터', '데이터', '데이터', '데이터', '데이터', '데이터', '데이터', '데이터', '데이터', '데이터', '데이터', '데이터', '데이터', '데이터', '데이터', '데이터', '데이터', '데이터', '데이터', '데이터', '데이터', '데이터', '데이터', '데이터', '데이터', '데이터', '데이터', '데이터', '데이터', '데이터', '데이터', '데이터', '데이터', '데이터', '데이터', '데이터', '데이터', '데이터', '데이터', '데이터', '데이터', '데이터', '데이터', '데이터', '데이터', '데이터', '데이터', '데이터', '데이터', '데이터', '데이터', '데이터', '데이터', '데이터', '데이터', '데이터', '데이터', '데이터', '데이터', '데이터', '데이터', '데이터', '데이터', '데이터', '데이터', '데이터', '데이터', '데이터', '데이터', '데이터', '데이터', '데이터', '데이터', '데이터', '데이터', '데이터', '데이터', '데이터', '데이터', '데이터', '데이터', '데이터', '데이터', '데이터', '데이터', '데이터', '데이터', '데이터', '데이터', '데이터', '데이터', '데이터', '데이터', '데이터', '데이터', '데이터', '데이터', '데이터', '데이터', '데이터', '데이터', '데이터', '데이터', '데이터', '데이터', '데이터', '데이터', '데이터', '데이터', '데이터', '데이터', '데이터', '데이터', '데이터', '데이터', '데이터', '데이터', '데이터', '데이터', '데이터', '데이터', '데이터', '데이터', '데이터', '데이터', '데이터', '데이터', '데이터', '데이터', '데이터', '데이터', '데이터', '데이터', '데이터', '데이터', '데이터', '데이터', '데이터', '데이터', '데이터', '데이터', '데이터', '데이터', '데이터', '데이터', '데이터', '데이터', '데이터', '데이터', '데이터', '데이터', '데이터', '데이터', '데이터', '데이터', '데이터', '데이터', '데이터', '데이터', '데이터', '데이터', '데이터', '데이터', '데이터', '데이터', '데이터', '데이터', '데이터', '데이터', '데이터', '데이터', '데이터', '데이터', '데이터', '데이터', '데이터', '데이터', '데이터', '데이터', '데이터', '데이터', '데이터', '데이터', '데이터', '데이터', '데이터', '데이터', '데이터', '데이터', '데이터', '데이터', '데이터', '데이터', '데이터', '데이터', '데이터', '데이터', '데이터', '데이터', '데이터', '데이터', '데이터', '데이터', '데이터', '데이터', '데이터', '데이터', '데이터', '데이터', '데이터', '데이터', '데이터', '데이터', '데이터', '데이터', '데이터', '데이터', '데이터', '데이터', '데이터', '데이터', '데이터', '데이터', '데이터', '데이터', '직무교육', '직무교육', '직무교육', '직무교육', '직무교육', '직무교육', '직무교육', '직무교육', '직무교육', '직무교육', '직무교육', '직무교육', '직무교육', '직무교육', '직무교육', '직무교육', '직무교육', '직무교육', '직무교육', '직무교육', '직무교육', '직무교육', '직무교육', '직무교육', '직무교육', '직무교육', '직무교육', '직무교육', '직무교육', '직무교육', '직무교육', '직무교육', '직무교육', '직무교육', '직무교육', '직무교육', '직무교육', '직무교육', '직무교육', '직무교육', '직무교육', '직무교육', '직무교육', '직무교육', '직무교육', '직무교육', '직무교육', '직무교육', '직무교육', '직무교육', '직무교육', '직무교육', '직무교육', '직무교육', '직무교육', '직무교육', '직무교육', '직무교육', '직무교육', '직무교육', '직무교육', '직무교육', '직무교육', '직무교육', '직무교육', '직무교육', '직무교육', '직무교육', '직무교육', '직무교육', '직무교육', '직무교육', '직무교육', '직무교육', '직무교육', '직무교육', '직무교육', '직무교육', '직무교육', '직무교육', '직무교육', '직무교육', '직무교육', '직무교육', '직무교육', '직무교육', '직무교육', '직무교육', '직무교육', '직무교육', '직무교육', '직무교육', '직무교육', '직무교육', '직무교육', '직무교육', '직무교육', '직무교육', '직무교육', '직무교육', '직무교육', '직무교육', '직무교육', '직무교육', '직무교육', '직무교육', '직무교육', '직무교육', '직무교육', '직무교육', '직무교육', '직무교육', '직무교육', '직무교육', '직무교육', '직무교육', '직무교육', '직무교육', '직무교육', '직무교육', '직무교육', '직무교육', '직무교육', '직무교육', '직무교육', '직무교육', '직무교육', '직무교육', '직무교육', '직무교육', '직무교육', '직무교육', '직무교육', '직무교육', '직무교육', '직무교육', '직무교육', '직무교육', '직무교육', '직무교육', '직무교육', '직무교육', '직무교육', '직무교육', '직무교육', '직무교육', '직무교육', '직무교육', '직무교육', '직무교육', '직무교육', '직무교육', '직무교육', '직무교육', '직무교육', '직무교육', '직무교육', '직무교육', '직무교육', '직무교육', '직무교육', '직무교육', '직무교육', '직무교육', '직무교육', '직무교육', '직무교육', '직무교육', '직무교육', '직무교육', '직무교육', '직무교육', '직무교육', '직무교육', '직무교육', '직무교육', '직무교육', '직무교육', '직무교육', '직무교육', '직무교육', '직무교육', '직무교육', '직무교육', '직무교육', '직무교육', '직무교육', '직무교육', '직무교육', '직무교육', '직무교육', '직무교육', '직무교육', '직무교육', '직무교육', '직무교육', '직무교육', '직무교육', '직무교육', '직무교육', '직무교육', '직무교육', '직무교육', '직무교육', '직무교육', '직무교육', '직무교육', '직무교육', '직무교육', '직무교육', '직무교육', '직무교육', '직무교육', '직무교육', '직무교육', '직무교육', '직무교육', '직무교육', '직무교육', '직무교육', '직무교육', '직무교육', '직무교육', '직무교육', '직무교육', '직무교육', '직무교육', '직무교육', '직무교육', '직무교육', '직무교육', '직무교육', '직무교육', '직무교육', '직무교육', '직무교육', '직무교육', '직무교육', '직무교육', '직무교육', '직무교육', '직무교육', '직무교육', '직무교육', '직무교육', '직무교육', '직무교육', '직무교육', '직무교육', '직무교육', '직무교육', '직무교육', '직무교육', '직무교육', '직무교육', '직무교육', '직무교육', '직무교육', '직무교육', '직무교육', '직무교육', '직무교육', '직무교육', '직무교육', '직무교육', '직무교육', '직무교육', '직무교육', '직무교육', '직무교육', '직무교육', '직무교육', '직무교육', '직무교육', '직무교육', '직무교육', '직무교육', '직무교육', '직무교육', '직무교육', '직무교육', '직무교육', '직무교육', '직무교육', '직무교육', '직무교육', '직무교육', '직무교육', '직무교육', '직무교육', '직무교육', '직무교육', '직무교육', '직무교육', '직무교육', '직무교육', '직무교육', '직무교육', '직무교육', '직무교육', '직무교육', '직무교육', '직무교육', '직무교육', '직무교육', '직무교육', '직무교육', '직무교육', '직무교육', '직무교육', '직무교육', '직무교육', '직무교육', '직무교육', '직무교육', '직무교육', '직무교육', '직무교육', '직무교육', '직무교육', '직무교육', '글쓰기', '글쓰기', '글쓰기', '글쓰기', '글쓰기', '글쓰기', '글쓰기', '글쓰기', '글쓰기', '글쓰기', '글쓰기', '글쓰기', '글쓰기', '글쓰기', '글쓰기', '글쓰기', '글쓰기', '글쓰기', '글쓰기', '글쓰기', '글쓰기', '글쓰기', '글쓰기', '글쓰기', '글쓰기', '글쓰기', '글쓰기', '글쓰기', '글쓰기', '글쓰기', '글쓰기', '글쓰기', '글쓰기', '글쓰기', '글쓰기', '글쓰기', '글쓰기', '글쓰기', '글쓰기', '글쓰기', '글쓰기', '글쓰기', '글쓰기', '글쓰기', '글쓰기', '글쓰기', '글쓰기', '글쓰기', '글쓰기', '글쓰기', '글쓰기', '글쓰기', '글쓰기', '글쓰기', '글쓰기', '글쓰기', '글쓰기', '글쓰기', '글쓰기', '글쓰기', '글쓰기', '글쓰기', '글쓰기', '글쓰기', '글쓰기', '글쓰기', '글쓰기', '글쓰기', '글쓰기', '글쓰기', '글쓰기', '글쓰기', '글쓰기', '글쓰기', '글쓰기', '글쓰기', '글쓰기', '글쓰기', '글쓰기', '글쓰기', '글쓰기', '글쓰기', '글쓰기', '글쓰기', '글쓰기', '글쓰기', '글쓰기', '글쓰기', '글쓰기', '글쓰기', '글쓰기', '글쓰기', '글쓰기', '글쓰기', '글쓰기', '글쓰기', '글쓰기', '글쓰기', '글쓰기', '글쓰기', '글쓰기', '글쓰기', '글쓰기', '글쓰기', '글쓰기', '글쓰기', '글쓰기', '글쓰기', '글쓰기', '글쓰기', '글쓰기', '글쓰기', '글쓰기', '글쓰기', '글쓰기', '글쓰기', '글쓰기', '글쓰기', '글쓰기', '글쓰기', '글쓰기', '글쓰기', '글쓰기', '글쓰기', '글쓰기', '글쓰기', '글쓰기', '글쓰기', '글쓰기', '글쓰기', '글쓰기', '글쓰기', '글쓰기', '글쓰기', '글쓰기', '글쓰기', '글쓰기', '글쓰기', '글쓰기', '글쓰기', '글쓰기', '글쓰기', '글쓰기', '글쓰기', '글쓰기', '글쓰기', '글쓰기', '글쓰기', '글쓰기', '글쓰기', '글쓰기', '글쓰기', '글쓰기', '글쓰기', '글쓰기', '글쓰기', '글쓰기', '글쓰기', '글쓰기', '글쓰기', '글쓰기', '글쓰기', '글쓰기', '글쓰기', '글쓰기', '글쓰기', '글쓰기', '글쓰기', '글쓰기', '글쓰기', '글쓰기', '글쓰기', '글쓰기', '글쓰기', '글쓰기', '글쓰기', '글쓰기', '글쓰기', '글쓰기', '글쓰기', '글쓰기', '글쓰기', '글쓰기', '글쓰기', '글쓰기', '글쓰기', '글쓰기', '글쓰기', '글쓰기', '글쓰기', '글쓰기', '글쓰기', '글쓰기', '글쓰기', '글쓰기', '글쓰기', '글쓰기', '글쓰기', '글쓰기', '글쓰기', '글쓰기', '글쓰기', '글쓰기', '글쓰기', '글쓰기', '글쓰기', '글쓰기', '글쓰기', '글쓰기', '글쓰기', '글쓰기', '글쓰기', '글쓰기', '글쓰기', '글쓰기', '글쓰기', '글쓰기', '글쓰기', '글쓰기', '글쓰기', '글쓰기', '글쓰기', '글쓰기', '글쓰기', '글쓰기', '글쓰기', '글쓰기', '글쓰기', '글쓰기', '글쓰기', '글쓰기', '글쓰기', '글쓰기', '글쓰기', '글쓰기', '글쓰기', '글쓰기', '글쓰기', '글쓰기', '글쓰기', '글쓰기', '글쓰기', '글쓰기', '글쓰기', '글쓰기', '글쓰기', '글쓰기', '글쓰기', '글쓰기', '글쓰기', '글쓰기', '글쓰기', '글쓰기', '글쓰기', '글쓰기', '글쓰기', '글쓰기', '글쓰기', '글쓰기', '글쓰기', '글쓰기', '글쓰기', '글쓰기', '글쓰기', '글쓰기', '글쓰기', '글쓰기', '글쓰기', '글쓰기', '글쓰기', '글쓰기', '글쓰기', '글쓰기', '글쓰기', '글쓰기', '글쓰기', '글쓰기', '글쓰기', '글쓰기', '글쓰기', '글쓰기', '글쓰기', '글쓰기', '글쓰기', '글쓰기', '글쓰기', '글쓰기', '글쓰기', '글쓰기', '글쓰기', '글쓰기', '글쓰기', '글쓰기', '글쓰기', '글쓰기', '글쓰기', '글쓰기', '글쓰기', '글쓰기', '글쓰기', '글쓰기', '글쓰기', '글쓰기', '글쓰기', '글쓰기', '글쓰기', '글쓰기', '글쓰기', '글쓰기', '글쓰기', '글쓰기', '글쓰기', '글쓰기', '글쓰기', '글쓰기', '글쓰기', '글쓰기', '글쓰기', '글쓰기', '글쓰기', '글쓰기', '글쓰기', '글쓰기', '글쓰기', '글쓰기', '글쓰기', '글쓰기', '글쓰기', '글쓰기', '글쓰기', '글쓰기', '글쓰기', '글쓰기', '글쓰기', '글쓰기', '글쓰기', '글쓰기', '글쓰기', '글쓰기', '글쓰기', '글쓰기', '글쓰기', '글쓰기', '글쓰기', '글쓰기', '글쓰기', '글쓰기', '글쓰기', '글쓰기', '글쓰기', '글쓰기', '글쓰기', '글쓰기', '글쓰기', '글쓰기', '글쓰기', '글쓰기', '글쓰기', '글쓰기', '글쓰기', '글쓰기', '글쓰기', '글쓰기', '글쓰기', '글쓰기', '글쓰기', '글쓰기', '글쓰기', '글쓰기', '글쓰기', '글쓰기', '글쓰기', '글쓰기', '글쓰기', '글쓰기', '글쓰기', '글쓰기', '글쓰기', '글쓰기', '글쓰기', '글쓰기', '글쓰기', '글쓰기', '글쓰기', '글쓰기', '글쓰기', '글쓰기', '글쓰기', '글쓰기', '글쓰기', '글쓰기', '글쓰기', '글쓰기', '글쓰기', '글쓰기', '글쓰기', '글쓰기', '글쓰기', '글쓰기', '글쓰기', '글쓰기', '글쓰기', '글쓰기', '글쓰기', '글쓰기', '글쓰기', '글쓰기', '글쓰기', '글쓰기', '글쓰기', '글쓰기', '글쓰기', '글쓰기', '글쓰기', '글쓰기', '글쓰기', '글쓰기', '글쓰기', '글쓰기', '글쓰기', '글쓰기', '글쓰기', '글쓰기', '글쓰기', '글쓰기', '글쓰기', '글쓰기', '글쓰기', '글쓰기', '글쓰기', '글쓰기', '글쓰기', '글쓰기', '글쓰기', '글쓰기', '글쓰기', '글쓰기', '글쓰기', '글쓰기', '글쓰기', '글쓰기', '글쓰기', '글쓰기', '글쓰기', '글쓰기', '글쓰기', '글쓰기', '글쓰기', '글쓰기', '글쓰기', '글쓰기', '글쓰기', '글쓰기', '글쓰기', '글쓰기', '글쓰기', '글쓰기', '글쓰기', '글쓰기', '글쓰기', '글쓰기', '글쓰기', '글쓰기', '글쓰기', '글쓰기', '글쓰기', '글쓰기', '글쓰기', '글쓰기', '글쓰기', '글쓰기', '글쓰기', '글쓰기', '글쓰기', '글쓰기', '글쓰기', '글쓰기', '글쓰기', '글쓰기', '글쓰기', '글쓰기', '글쓰기', '글쓰기', '글쓰기', '글쓰기', '글쓰기', '글쓰기', '글쓰기', '글쓰기', '글쓰기', '글쓰기', '글쓰기', '글쓰기', '글쓰기', '글쓰기', '글쓰기', '글쓰기', '글쓰기', '글쓰기', '글쓰기', '글쓰기', '글쓰기', '글쓰기', '글쓰기', '글쓰기', '글쓰기', '글쓰기', '글쓰기', '글쓰기', '글쓰기', '글쓰기', '글쓰기', '글쓰기', '글쓰기', '글쓰기', '글쓰기', '글쓰기', '글쓰기', '글쓰기', '글쓰기', '글쓰기', '글쓰기', '글쓰기', '글쓰기', '글쓰기', '글쓰기', '글쓰기', '글쓰기', '글쓰기', '글쓰기', '글쓰기', '글쓰기', '글쓰기', '글쓰기', '글쓰기', '글쓰기', '글쓰기', '글쓰기', '글쓰기', '글쓰기', '글쓰기', '글쓰기', '글쓰기', '언어', '언어', '언어', '언어', '언어', '언어', '언어', '언어', '언어', '언어', '언어', '언어', '언어', '언어', '언어', '언어', '언어', '언어', '언어', '언어', '언어', '언어', '언어', '언어', '언어', '언어', '언어', '언어', '언어', '언어', '언어', '언어', '언어', '언어', '언어', '언어', '언어', '언어', '언어', '언어', '언어', '언어', '언어', '언어', '언어', '언어', '언어', '언어', '언어', '언어', '언어', '언어', '언어', '언어', '언어', '언어', '언어', '언어', '언어', '언어', '언어', '언어', '언어', '언어', '언어', '언어', '언어', '언어', '언어', '언어', '언어', '언어', '언어', '언어', '언어', '언어', '언어', '언어', '언어', '언어', '언어', '언어', '언어', '언어', '언어', '언어', '언어', '언어', '언어', '언어', '언어', '언어', '언어', '언어', '언어', '언어', '언어', '언어', '언어', '언어', '언어', '언어', '언어', '언어', '언어', '언어', '언어', '언어', '언어', '언어', '언어', '언어', '언어', '언어', '언어', '언어', '언어', '언어', '언어', '언어', '언어', '언어', '언어', '언어', '언어', '언어', '언어', '언어', '언어', '언어', '언어', '언어', '언어', '언어', '언어', '언어', '언어', '언어', '언어', '언어', '언어', '언어', '언어', '언어', '언어', '언어', '언어', '언어', '언어', '언어', '언어', '언어', '언어', '언어', '언어', '언어', '언어', '언어', '언어', '언어', '언어', '언어', '언어', '언어', '언어', '언어', '언어', '언어', '언어', '언어', '언어', '언어', '언어', '언어', '언어', '언어', '언어', '언어', '언어', '언어', '언어', '언어', '언어', '언어', '언어', '언어', '언어', '언어', '언어', '언어', '언어', '언어', '언어', '언어', '언어', '언어', '언어', '언어', '언어', '언어', '언어', '언어', '언어', '언어', '언어', '언어', '언어', '언어', '언어', '언어', '언어', '언어', '언어', '언어', '언어', '언어', '언어', '언어', '언어', '언어', '언어', '언어', '언어', '언어', '언어', '언어', '언어', '언어', '언어', '언어', '언어', '언어', '언어', '언어', '언어', '언어', '언어', '언어', '언어', '언어', '언어', '언어', '언어', '언어', '언어', '언어', '언어', '언어', '언어', '언어', '언어', '언어', '언어', '언어', '언어', '언어', '언어', '언어', '언어', '언어', '언어', '언어', '언어', '언어', '언어', '언어', '언어', '언어', '언어', '언어', '언어', '언어', '언어', '언어', '언어', '언어', '언어', '언어', '언어', '언어', '언어', '언어', '언어', '언어', '언어', '언어', '언어', '언어', '언어', '언어', '언어', '언어', '언어', '언어', '언어', '언어', '언어', '언어', '언어', '언어', '언어', '언어', '언어', '언어', '언어', '언어', '언어', '언어', '언어', '언어', '언어', '언어', '언어', '언어', '언어', '언어', '언어', '언어', '언어', '언어', '언어', '언어', '언어', '언어', '언어', '언어', '언어', '언어', '언어', '언어', '언어', '언어', '언어', '언어', '언어', '언어', '언어', '언어', '언어', '언어', '언어', '언어', '언어', '언어', '언어', '언어', '언어', '언어', '언어', '언어', '언어', '언어', '언어', '언어', '언어', '언어', '언어', '언어', '언어', '언어', '언어', '언어', '언어', '언어', '언어', '언어', '언어', '언어', '언어', '언어', '언어', '언어', '언어', '언어', '언어', '언어', '언어', '언어', '언어', '언어', '언어', '언어', '언어', '언어', '언어', '언어', '언어', '언어', '언어', '언어', '언어', '언어', '언어', '언어', '언어', '언어', '언어', '언어', '언어', '언어', '언어', '언어', '언어', '언어', '언어', '언어', '언어', '언어', '언어', '언어', '언어', '언어', '언어', '언어', '언어', '언어', '언어', '언어', '언어', '언어', '언어', '언어', '언어', '언어', '언어', '언어', '언어', '언어', '언어', '언어', '언어', '언어', '언어', '언어', '언어', '언어', '언어', '언어', '언어', '언어', '언어', '언어', '언어', '언어', '언어', '언어', '언어', '언어', '언어', '언어', '언어', '언어', '언어', '언어', '언어', '언어', '언어', '언어', '언어', '언어', '언어', '언어', '언어', '언어', '언어', '언어', '언어', '언어', '언어', '언어', '언어', '언어', '언어', '언어', '언어', '언어', '언어', '언어', '언어', '언어', '언어', '언어', '언어', '언어', '언어', '언어', '언어', '언어', '언어', '언어', '언어', '언어', '언어', '언어', '언어', '언어', '언어', '언어', '언어', '언어', '언어', '언어', '언어', '언어', '언어', '언어', '언어', '언어', '언어', '언어', '언어', '언어', '언어', '언어', '언어', '언어', '언어', '언어', '언어', '언어', '언어', '언어', '언어', '언어', '언어', '언어', '언어', '언어', '언어', '언어', '언어', '언어', '언어', '언어', '언어', '언어', '언어', '언어', '언어', '언어', '언어', '언어', '언어', '언어', '언어', '언어', '언어', '언어', '언어', '언어', '언어', '언어', '언어', '언어', '언어', '언어', '언어', '언어', '언어', '언어', '언어', '언어', '언어', '언어', '언어', '언어', '언어', '언어', '언어', '언어', '언어', '언어', '언어', '언어', '언어', '언어', '언어', '언어', '언어', '언어', '언어', '언어', '언어', '언어', '언어', '언어', '언어', '언어', '언어', '언어', '언어', '언어', '언어', '언어', '언어', '언어', '언어', '언어', '언어', '언어', '언어', '언어', '언어', '언어', '언어', '언어', '언어', '언어', '언어', '언어', '언어', '언어', '언어', '언어', '언어', '언어', '언어', '언어', '언어', '언어', '언어', '언어', '언어', '언어', '언어', '언어', '언어', '언어', '언어', '언어', '언어', '언어', '언어', '언어', '언어', '언어', '언어', '언어', '언어', '언어', '언어', '언어', '언어', '언어', '언어', '언어', '언어', '언어', '언어', '언어', '언어', '언어', '언어', '언어', '언어', '언어', '언어', '언어', '언어', '언어', '언어', '언어', '언어', '언어', '언어', '언어', '언어', '언어', '언어', '언어', '언어', '언어', '언어', '언어', '언어', '언어', '언어', '언어', '언어', '언어', '언어', '언어', '언어', '언어', '언어', '언어', '언어', '언어', '언어', '언어', '언어', '언어', '언어', '언어', '언어', '언어', '언어', '언어', '언어', '언어', '언어', '언어', '언어', '언어', '언어', '언어', '언어', '언어', '언어', '언어', '언어', '언어', '언어', '언어', '언어', '언어', '언어', '언어', '언어', '언어', '언어', '언어', '언어', '언어', '언어', '언어', '언어', '언어', '언어', '언어', '언어', '언어', '언어', '언어', '언어', '언어', '언어', '언어', '언어', '언어', '언어', '언어', '언어', '언어', '언어', '언어', '언어', '언어', '언어', '언어', '언어', '언어', '언어', '언어', '언어', '언어', '언어', '언어', '언어', '언어', '언어', '언어', '언어', '언어', '언어', '언어', '언어', '언어', '언어', '언어', '언어', '언어', '언어', '언어', '언어', '언어', '언어', '언어', '언어', '언어', '언어', '언어', '언어', '언어', '언어', '언어', '언어', '언어', '언어', '언어', '언어', '언어', '언어', '언어', '언어', '언어', '언어', '언어', '언어', '언어', '언어', '언어', '언어', '언어', '언어', '언어', '언어', '언어', '언어', '언어', '언어', '언어', '언어', '언어', '언어', '언어', '언어', '언어', '언어', '언어', '언어', '언어', '언어', '언어', '언어', '언어', '언어', '언어', '언어', '언어', '언어', '언어', '언어', '언어', '언어', '언어', '언어', '언어', '언어', '언어', '언어', '언어', '언어', '언어', '언어', '언어', '언어', '언어', '언어', '언어', '언어', '언어', '언어', '언어', '언어', '언어', '언어', '언어', '언어', '언어', '언어', '언어', '언어', '언어', '언어', '언어', '언어', '언어', '언어', '언어', '언어', '언어', '언어', '언어', '언어', '언어', '언어', '언어', '언어', '언어', '언어', '언어', '언어', '언어', '언어', '언어', '언어', '언어', '언어', '언어', '언어', '언어', '언어', '언어', '언어', '언어', '언어', '언어', '언어', '언어', '언어', '언어', '언어', '언어', '언어', '언어', '언어', '언어', '언어', '언어', '언어', '언어', '언어', '언어', '언어', '언어', '언어', '언어', '언어', '언어', '언어', '언어', '언어', '언어', '언어', '언어', '언어', '언어', '언어', '언어', '언어', '언어', '언어', '언어', '언어', '언어', '언어', '언어', '언어', '언어', '언어', '언어', '언어', '언어', '언어', '언어', '언어', '언어', '언어', '언어', '언어', '언어', '언어', '언어', '언어', '언어', '언어', '언어', '언어', '언어', '언어', '언어', '언어', '언어', '언어', '언어', '언어', '언어', '언어', '언어', '언어', '언어', '언어', '언어', '언어', '언어', '언어', '언어', '언어', '언어', '언어', '언어', '언어', '언어', '언어', '언어', '언어', '언어', '언어', '언어', '언어', '언어', '언어', '언어', '언어', '언어', '언어', '언어', '언어', '언어', '언어', '언어', '언어', '언어', '언어', '언어', '언어', '언어', '언어', '언어', '외국어', '외국어', '외국어', '외국어', '외국어', '외국어', '외국어', '외국어', '외국어', '외국어', '외국어', '외국어', '외국어', '외국어', '외국어', '외국어', '외국어', '외국어', '외국어', '외국어', '외국어', '외국어', '외국어', '외국어', '외국어', '외국어', '외국어', '외국어', '외국어', '외국어', '외국어', '외국어', '외국어', '외국어', '외국어', '외국어', '외국어', '외국어', '외국어', '외국어', '외국어', '외국어', '외국어', '외국어', '외국어', '외국어', '외국어', '외국어', '외국어', '외국어', '외국어', '외국어', '외국어', '외국어', '외국어', '외국어', '외국어', '외국어', '외국어', '외국어', '외국어', '외국어', '외국어', '외국어', '외국어', '외국어', '외국어', '외국어', '외국어', '외국어', '외국어', '외국어', '외국어', '외국어', '외국어', '외국어', '외국어', '외국어', '외국어', '외국어', '외국어', '외국어', '외국어', '외국어', '외국어', '외국어', '외국어', '외국어', '외국어', '외국어', '외국어', '외국어', '외국어', '외국어', '외국어', '외국어', '외국어', '외국어', '외국어', '외국어', '외국어', '외국어', '외국어', '외국어', '외국어', '외국어', '외국어', '외국어', '외국어', '외국어', '외국어', '외국어', '외국어', '외국어', '외국어', '외국어', '외국어', '외국어', '외국어', '외국어', '외국어', '외국어', '외국어', '외국어', '외국어', '외국어', '외국어', '외국어', '외국어', '외국어', '외국어', '외국어', '외국어', '외국어', '외국어', '외국어', '외국어', '외국어', '외국어', '외국어', '외국어', '외국어', '외국어', '외국어', '외국어', '외국어', '외국어', '외국어', '외국어', '외국어', '외국어', '외국어', '외국어', '외국어', '외국어', '외국어', '외국어', '외국어', '외국어', '외국어', '외국어', '외국어', '외국어', '외국어', '외국어', '외국어', '외국어', '외국어', '외국어', '외국어', '외국어', '외국어', '외국어', '외국어', '외국어', '외국어', '외국어', '외국어', '외국어', '외국어', '외국어', '외국어', '외국어', '외국어', '외국어', '외국어', '외국어', '외국어', '외국어', '외국어', '외국어', '외국어', '외국어', '외국어', '외국어', '외국어', '외국어', '외국어', '외국어', '외국어', '외국어', '외국어', '외국어', '외국어', '외국어', '외국어', '외국어', '외국어', '외국어', '외국어', '외국어', '외국어', '외국어', '외국어', '외국어', '외국어', '외국어', '외국어', '외국어', '외국어', '외국어', '외국어', '외국어', '외국어', '외국어', '외국어', '외국어', '외국어', '외국어', '외국어', '외국어', '외국어', '외국어', '외국어', '외국어', '외국어', '외국어', '외국어', '외국어', '외국어', '외국어', '외국어', '외국어', '외국어', '외국어', '외국어', '외국어', '외국어', '외국어', '외국어', '외국어', '외국어', '외국어', '외국어', '외국어', '외국어', '외국어', '외국어', '외국어', '외국어', '외국어', '외국어', '외국어', '외국어', '외국어', '외국어', '외국어', '외국어', '외국어', '외국어', '외국어', '외국어', '외국어', '외국어', '외국어', '외국어', '외국어', '외국어', '외국어', '외국어', '외국어', '외국어', '외국어', '외국어', '외국어', '외국어', '외국어', '외국어', '외국어', '외국어', '외국어', '외국어', '외국어', '외국어', '외국어', '외국어', '외국어', '외국어', '외국어', '외국어', '외국어', '외국어', '외국어', '외국어', '외국어', '외국어', '외국어', '외국어', '외국어', '외국어', '외국어', '외국어', '외국어', '외국어', '외국어', '외국어', '외국어', '외국어', '외국어', '외국어', '외국어', '외국어', '외국어', '외국어', '외국어', '외국어', '외국어', '외국어', '외국어', '외국어', '외국어', '외국어', '외국어', '외국어', '외국어', '외국어', '외국어', '외국어', '외국어', '외국어', '외국어', '외국어', '외국어', '외국어', '외국어', '외국어', '외국어', '외국어', '외국어', '외국어', '외국어', '외국어', '외국어', '외국어', '외국어', '외국어', '외국어', '외국어', '외국어', '외국어', '외국어', '외국어', '외국어', '외국어', '외국어', '외국어', '외국어', '외국어', '외국어', '외국어', '외국어', '외국어', '외국어', '외국어', '외국어', '외국어', '외국어', '외국어', '외국어', '외국어', '외국어', '외국어', '외국어', '외국어', '외국어', '외국어', '외국어', '외국어', '외국어', '외국어', '외국어', '외국어', '외국어', '외국어', '외국어', '외국어', '외국어', '외국어', '외국어', '외국어', '외국어', '외국어', '외국어', '외국어', '외국어', '외국어', '외국어', '외국어', '외국어', '외국어', '외국어', '외국어', '외국어', '외국어', '외국어', '외국어', '외국어', '외국어', '외국어', '외국어', '외국어', '외국어', '외국어', '외국어', '외국어', '외국어', '외국어', '외국어', '외국어', '외국어', '외국어', '외국어', '외국어', '외국어', '외국어', '외국어', '외국어', '외국어', '외국어', '외국어', '외국어', '외국어', '외국어', '외국어', '외국어', '외국어', '외국어', '외국어', '외국어', '외국어', '외국어', '외국어', '외국어', '외국어', '외국어', '외국어', '외국어', '외국어', '외국어', '외국어', '외국어', '외국어', '외국어', '외국어', '외국어', '외국어', '외국어', '외국어', '외국어', '외국어', '외국어', '외국어', '외국어', '외국어', '외국어', '외국어', '외국어', '외국어', '외국어', '외국어', '외국어', '외국어', '외국어', '외국어', '외국어', '외국어', '외국어', '외국어', '외국어', '외국어', '외국어', '외국어', '외국어', '외국어', '외국어', '외국어', '외국어', '외국어', '외국어', '외국어', '외국어', '외국어', '외국어', '외국어', '외국어', '외국어', '외국어', '외국어', '외국어', '외국어', '외국어', '외국어', '외국어', '외국어', '외국어', '외국어', '외국어', '외국어', '외국어', '외국어', '외국어', '외국어', '외국어', '외국어', '외국어', '외국어', '외국어', '외국어', '외국어', '외국어', '외국어', '외국어', '외국어', '외국어', '외국어', '외국어', '외국어', '외국어', '외국어', '외국어', '외국어', '외국어', '외국어', '외국어', '외국어', '외국어', '외국어', '외국어', '외국어', '외국어', '외국어', '외국어', '외국어', '외국어', '외국어', '외국어', '외국어', '외국어', '외국어', '외국어', '외국어', '외국어', '외국어', '외국어', '외국어', '외국어', '외국어', '외국어', '외국어', '외국어', '외국어', '외국어', '외국어', '외국어', '외국어', '외국어', '외국어', '외국어', '외국어', '외국어', '외국어', '외국어', '외국어', '외국어', '외국어', '외국어', '외국어', '외국어', '외국어', '외국어', '외국어', '외국어', '외국어', '외국어', '외국어', '외국어', '외국어', '외국어', '외국어', '외국어', '외국어', '외국어', '외국어', '외국어', '외국어', '외국어', '외국어', '외국어', '외국어', '외국어', '외국어', '외국어', '외국어', '외국어', '외국어', '외국어', '외국어', '외국어', '외국어', '외국어', '외국어', '외국어', '외국어', '외국어', '외국어', '외국어', '외국어', '외국어', '외국어', '외국어', '외국어', '외국어', '외국어', '외국어', '외국어', '외국어', '외국어', '외국어', '외국어', '외국어', '외국어', '외국어', '외국어', '외국어', '외국어', '외국어', '외국어', '외국어', '외국어', '외국어', '외국어', '외국어', '외국어', '외국어', '외국어', '외국어', '외국어', '외국어', '외국어', '외국어', '외국어', '외국어', '외국어', '외국어', '외국어', '외국어', '외국어', '외국어', '외국어', '외국어', '외국어', '외국어', '외국어', '외국어', '외국어', '외국어', '외국어', '외국어', '외국어', '외국어', '외국어', '외국어', '외국어', '외국어', '외국어', '외국어', '외국어', '외국어', '외국어', '외국어', '외국어', '외국어', '외국어', '외국어', '외국어', '외국어', '외국어', '외국어', '외국어', '외국어', '외국어', '외국어', '외국어', '외국어', '외국어', '외국어', '외국어', '외국어', '외국어', '외국어', '외국어', '외국어', '외국어', '외국어', '외국어', '외국어', '외국어', '외국어', '외국어', '외국어', '외국어', '외국어', '외국어', '외국어', '외국어', '외국어', '외국어', '외국어', '외국어', '외국어', '외국어', '외국어', '외국어', '외국어', '외국어', '외국어', '외국어', '외국어', '외국어', '외국어', '외국어', '외국어', '외국어', '외국어', '외국어', '외국어', '외국어', '외국어', '외국어', '외국어', '외국어', '외국어', '외국어', '외국어', '외국어', '외국어', '외국어', '외국어', '외국어', '외국어', '외국어', '외국어', '외국어', '외국어', '외국어', '외국어', '외국어', '외국어', '외국어', '외국어', '외국어', '외국어', '외국어', '외국어', '외국어', '외국어', '외국어', '외국어', '외국어', '외국어', '외국어', '외국어', '외국어', '외국어', '외국어', '외국어', '외국어', '외국어', '외국어', '외국어', '외국어', '외국어', '외국어', '외국어', '외국어', '외국어', '외국어', '외국어', '외국어', '외국어', '외국어', '외국어', '외국어', '외국어', '외국어', '외국어', '외국어', '외국어', '외국어', '외국어', '외국어', '외국어', '외국어', '외국어', '외국어', '외국어', '외국어', '외국어', '외국어', '외국어', '외국어', '외국어', '외국어', '외국어', '외국어', '외국어', '외국어', '외국어', '외국어', '외국어', '외국어', '외국어', '외국어', '외국어', '외국어', '외국어', '외국어', '외국어', '외국어', '외국어', '외국어', '외국어', '외국어', '외국어', '외국어', '외국어', '외국어', '외국어', '외국어', '외국어', '외국어', '외국어', '외국어', '외국어', '외국어', '외국어', '외국어', '외국어', '외국어', '외국어', '외국어', '외국어', '외국어', '외국어', '외국어', '외국어', '외국어', '외국어', '외국어', '외국어', '외국어', '외국어', '외국어', '외국어', '외국어', '외국어', '외국어', '외국어', '외국어', '외국어', '외국어', '외국어', '외국어', '외국어', '외국어', '외국어', '외국어', '외국어', '외국어', '외국어', '외국어', '외국어', '외국어', '외국어', '외국어', '외국어', '외국어', '외국어', '외국어', '외국어', '외국어', '외국어', '외국어', '외국어', '외국어', '외국어', '외국어', '외국어', '외국어', '외국어', '외국어', '외국어', '외국어', '외국어', '외국어', '외국어', '외국어', '외국어', '외국어', '외국어', '외국어', '외국어', '외국어', '외국어', '외국어', '외국어', '외국어', '외국어', '외국어', '외국어', '외국어', '외국어', '외국어', '외국어', '외국어', '외국어', '외국어', '외국어', '외국어', '외국어', '외국어', '외국어', '외국어', '외국어', '외국어', '외국어', '외국어', '외국어', '외국어', '외국어', '외국어', '외국어', '외국어', '외국어', '외국어', '외국어', '외국어', '외국어', '외국어', '외국어', '외국어', '외국어', '외국어', '외국어', '외국어', '외국어', '외국어', '외국어', '외국어', '외국어', '외국어', '외국어', '외국어', '외국어', '외국어', '외국어', '외국어', '외국어', '외국어', '외국어', '외국어', '외국어', '외국어', '외국어', '외국어', '외국어', '외국어', '외국어', '외국어', '외국어', '외국어', '외국어', '외국어', '외국어', '외국어', '외국어', '외국어', '외국어', '외국어', '외국어', '외국어', '외국어', '외국어', '외국어', '외국어', '외국어', '외국어', '외국어', '외국어', '외국어', '외국어', '외국어', '외국어', '외국어', '외국어', '외국어', '외국어', '외국어', '외국어', '외국어', '외국어', '외국어', '외국어', '외국어', '외국어', '외국어', '외국어', '외국어', '외국어', '외국어', '금융', '금융', '금융', '금융', '금융', '금융', '금융', '금융', '금융', '금융', '금융', '금융', '금융', '금융', '금융', '금융', '금융', '금융', '금융', '금융', '금융', '금융', '금융', '금융', '금융', '금융', '금융', '금융', '금융', '금융', '금융', '금융', '금융', '금융', '금융', '금융', '금융', '금융', '금융', '금융', '금융', '금융', '금융', '금융', '금융', '금융', '금융', '금융', '금융', '금융', '금융', '금융', '금융', '금융', '금융', '금융', '금융', '금융', '금융', '금융', '금융', '금융', '금융', '금융', '금융', '금융', '금융', '금융', '금융', '금융', '금융', '금융', '금융', '금융', '금융', '금융', '금융', '금융', '금융', '금융', '금융', '금융', '금융', '금융', '금융', '금융', '금융', '금융', '금융', '금융', '금융', '금융', '금융', '금융', '금융', '금융', '금융', '금융', '금융', '금융', '금융', '금융', '금융', '금융', '금융', '금융', '금융', '금융', '금융', '금융', '금융', '금융', '금융', '금융', '금융', '금융', '금융', '금융', '금융', '금융', '금융', '금융', '금융', '금융', '금융', '금융', '금융', '금융', '금융', '금융', '금융', '금융', '금융', '금융', '금융', '금융', '금융', '금융', '금융', '금융', '금융', '금융', '금융', '금융', '금융', '금융', '금융', '금융', '금융', '금융', '금융', '금융', '금융', '금융', '금융', '금융', '금융', '금융', '금융', '금융', '금융', '금융', '금융', '금융', '금융', '금융', '금융', '금융', '금융', '금융', '금융', '금융', '금융', '금융', '금융', '금융', '금융', '금융', '금융', '금융', '금융', '금융', '금융', '금융', '금융', '금융', '금융', '금융', '금융', '금융', '금융', '금융', '금융', '금융', '금융', '금융', '금융', '금융', '금융', '금융', '금융', '금융', '금융', '금융', '금융', '금융', '금융', '금융', '금융', '금융', '금융', '금융', '금융', '금융', '금융', '금융', '금융', '금융', '금융', '금융', '금융', '금융', '금융', '금융', '금융', '금융', '금융', '금융', '금융', '금융', '금융', '금융', '금융', '금융', '금융', '금융', '금융', '금융', '금융', '금융', '금융', '금융', '금융', '금융', '금융', '금융', '금융', '금융', '금융', '금융', '금융', '금융', '금융', '금융', '금융', '금융', '금융', '금융', '금융', '금융', '금융', '금융', '금융', '금융', '금융', '금융', '금융', '금융', '금융', '금융', '금융', '금융', '금융', '금융', '금융', '금융', '금융', '금융', '금융', '금융', '금융', '금융', '금융', '금융', '금융', '금융', '금융', '금융', '금융', '금융', '금융', '금융', '금융', '금융', '금융', '금융', '금융', '금융', '금융', '금융', '금융', '금융', '금융', '금융', '금융', '금융', '금융', '금융', '금융', '금융', '금융', '금융', '금융', '금융', '금융', '금융', '금융', '금융', '금융', '금융', '금융', '금융', '금융', '금융', '금융', '금융', '금융', '금융', '금융', '금융', '금융', '금융', '금융', '금융', '금융', '금융', '금융', '금융', '금융', '금융', '금융', '금융', '금융', '금융', '금융', '금융', '금융', '금융', '금융', '금융', '금융', '금융', '금융', '금융', '금융', '금융', '금융', '금융', '금융', '금융', '금융', '금융', '금융', '금융', '금융', '금융', '금융', '금융', '금융', '금융', '금융', '금융', '금융', '금융', '금융', '금융', '금융', '금융', '금융', '금융', '금융', '금융', '금융', '금융', '금융', '금융', '금융', '금융', '금융', '금융', '금융', '금융', '금융', '금융', '금융', '금융', '금융', '금융', '금융', '금융', '금융', '금융', '금융', '금융', '금융', '금융', '금융', '금융', '금융', '금융', '금융', '금융', '금융', '금융', '금융', '금융', '금융', '금융', '금융', '금융', '금융', '금융', '금융', '금융', '금융', '금융', '금융', '금융', '금융', '금융', '금융', '금융', '금융', '금융', '금융', '금융', '금융', '금융', '금융', '금융', '금융', '금융', '금융', '금융', '금융', '금융', '금융', '금융', '금융', '금융', '금융', '금융', '금융', '금융', '금융', '금융', '금융', '금융', '금융', '금융', '금융', '금융', '금융', '금융', '금융', '금융', '금융', '금융', '금융', '금융', '금융', '금융', '금융', '금융', '금융', '금융', '금융', '금융', '금융', '금융', '금융', '금융', '금융', '금융', '금융', '금융', '금융', '금융', '금융', '금융', '금융', '금융', '금융', '금융', '금융', '금융', '금융', '금융', '금융', '금융', '금융', '금융', '금융', '금융', '금융', '금융', '금융', '금융', '금융', '금융', '금융', '금융', '금융', '금융', '금융', '금융', '금융', '금융', '금융', '금융', '금융', '금융', '금융', '금융', '금융', '금융', '금융', '금융', '금융', '금융', '금융', '금융', '금융', '금융', '금융', '금융', '금융', '금융', '금융', '금융', '금융', '금융', '금융', '금융', '금융', '금융', '금융', '금융', '금융', '금융', '금융', '금융', '금융', '금융', '금융', '금융', '금융', '금융', '금융', '금융', '금융', '금융', '금융', '금융', '금융', '금융', '금융', '금융', '금융', '금융', '금융', '금융', '금융', '금융', '금융', '금융', '금융', '금융', '금융', '금융', '금융', '금융', '금융', '금융', '금융', '금융', '금융', '금융', '금융', '금융', '금융', '금융', '금융', '금융', '금융', '금융', '금융', '금융', '금융', '금융', '금융', '금융', '금융', '금융', '금융', '금융', '금융', '금융', '금융', '금융', '금융', '금융', '금융', '금융', '금융', '금융', '금융', '금융', '금융', '금융', '금융', '금융', '금융', '금융', '금융', '금융', '금융', '금융', '금융', '금융', '금융', '금융', '금융', '금융', '금융', '금융', '금융', '금융', '금융', '금융', '금융', '금융', '금융', '금융', '금융', '금융', '금융', '금융', '금융', '금융', '금융', '금융', '금융', '금융', '금융', '금융', '금융', '금융', '금융', '금융', '금융', '금융', '금융', '금융', '금융', '금융', '금융', '금융', '금융', '금융', '금융', '금융', '금융', '금융', '금융', '금융', '금융', '금융', '금융', '금융', '금융', '금융', '금융', '금융', '금융', '금융', '금융', '금융', '금융', '금융', '금융', '금융', '금융', '금융', '금융', '금융', '금융', '금융', '금융', '금융', '금융', '금융', '금융', '금융', '금융', '금융', '금융', '금융', '금융', '금융', '금융', '금융', '금융', '금융', '금융', '금융', '금융', '금융', '금융', '금융', '금융', '금융', '금융', '금융', '금융', '금융', '금융', '금융', '금융', '금융', '금융', '금융', '금융', '금융', '금융', '금융', '금융', '금융', '금융', '금융', '금융', '금융', '금융', '금융', '금융', '금융', '금융', '금융', '금융', '금융', '금융', '금융', '금융', '금융', '금융', '금융', '금융', '금융', '금융', '금융', '금융', '금융', '금융', '금융', '금융', '금융', '금융', '금융', '금융', '금융', '금융', '금융', '금융', '금융', '금융', '금융', '금융', '금융', '금융', '금융', '금융', '금융', '금융', '금융', '금융', '금융', '금융', '금융', '금융', '금융', '금융', '금융', '금융', '금융', '금융', '금융', '금융', '금융', '금융', '금융', '금융', '금융', '금융', '금융', '금융', '금융', '금융', '금융', '금융', '금융', '금융', '금융', '금융', '금융', '금융', '금융', '금융', '금융', '금융', '금융', '금융', '금융', '금융', '금융', '금융', '금융', '금융', '금융', '금융', '금융', '금융', '금융', '금융', '금융', '금융', '금융', '금융', '금융', '금융', '금융', '금융', '금융', '금융', '금융', '금융', '금융', '금융', '금융', '금융', '금융', '금융', '금융', '금융', '금융', '금융', '금융', '금융', '금융', '금융', '금융', '금융', '금융', '금융', '금융', '금융', '금융', '금융', '금융', '금융', '금융', '금융', '금융', '금융', '금융', '금융', '금융', '금융', '금융', '금융', '금융', '금융', '금융', '금융', '금융', '금융', '금융', '금융', '금융', '금융', '금융', '금융', '금융', '금융', '금융', '금융', '금융', '금융', '금융', '금융', '금융', '금융', '금융', '금융', '금융', '금융', '금융', '금융', '금융', '금융', '금융', '금융', '금융', '금융', '금융', '금융', '금융', '금융', '금융', '금융', '금융', '금융', '금융', '금융', '금융', '금융', '금융', '금융', '금융', '금융', '금융', '금융', '금융', '금융', '금융', '금융', '금융', '금융', '금융', '금융', '금융', '금융', '금융', '금융', '금융', '금융', '금융', '금융', '금융', '금융', '금융', '금융', '금융', '금융', '금융', '금융', '금융', '금융', '금융', '금융', '금융', '금융', '금융', '금융', '금융', '금융', '금융', '금융', '금융', '금융', '금융', '재테크', '재테크', '재테크', '재테크', '재테크', '재테크', '재테크', '재테크', '재테크', '재테크', '재테크', '재테크', '재테크', '재테크', '재테크', '재테크', '재테크', '재테크', '재테크', '재테크', '재테크', '재테크', '재테크', '재테크', '재테크', '재테크', '재테크', '재테크', '재테크', '재테크', '재테크', '재테크', '재테크', '재테크', '재테크', '재테크', '재테크', '재테크', '재테크', '재테크', '재테크', '재테크', '재테크', '재테크', '재테크', '재테크', '재테크', '재테크', '재테크', '재테크', '재테크', '재테크', '재테크', '재테크', '재테크', '재테크', '재테크', '재테크', '재테크', '재테크', '재테크', '재테크', '재테크', '재테크', '재테크', '재테크', '재테크', '재테크', '재테크', '재테크', '재테크', '재테크', '재테크', '재테크', '재테크', '재테크', '재테크', '재테크', '재테크', '재테크', '재테크', '재테크', '재테크', '재테크', '재테크', '재테크', '재테크', '재테크', '재테크', '재테크', '재테크', '재테크', '재테크', '재테크', '재테크', '재테크', '재테크', '재테크', '재테크', '재테크', '재테크', '재테크', '재테크', '재테크', '재테크', '재테크', '재테크', '재테크', '재테크', '재테크', '재테크', '재테크', '재테크', '재테크', '재테크', '재테크', '재테크', '재테크', '재테크', '재테크', '재테크', '재테크', '재테크', '재테크', '재테크', '재테크', '재테크', '재테크', '재테크', '재테크', '재테크', '재테크', '재테크', '재테크', '재테크', '재테크', '재테크', '재테크', '재테크', '재테크', '재테크', '재테크', '재테크', '재테크', '재테크', '재테크', '재테크', '재테크', '재테크', '재테크', '재테크', '재테크', '재테크', '재테크', '재테크', '재테크', '재테크', '재테크', '재테크', '재테크', '재테크', '재테크', '재테크', '재테크', '재테크', '재테크', '재테크', '재테크', '재테크', '재테크', '재테크', '재테크', '재테크', '재테크', '재테크', '재테크', '재테크', '재테크', '재테크', '재테크', '재테크', '재테크', '재테크', '재테크', '재테크', '재테크', '재테크', '재테크', '재테크', '재테크', '재테크', '재테크', '재테크', '재테크', '재테크', '재테크', '재테크', '재테크', '재테크', '재테크', '재테크', '재테크', '재테크', '재테크', '재테크', '재테크', '재테크', '재테크', '재테크', '재테크', '재테크', '재테크', '재테크', '재테크', '재테크', '재테크', '재테크', '재테크', '재테크', '재테크', '재테크', '재테크', '재테크', '재테크', '재테크', '재테크', '재테크', '재테크', '재테크', '재테크', '재테크', '재테크', '재테크', '재테크', '재테크', '재테크', '재테크', '재테크', '재테크', '재테크', '재테크', '재테크', '재테크', '재테크', '재테크', '재테크', '재테크', '재테크', '재테크', '재테크', '재테크', '재테크', '재테크', '재테크', '재테크', '재테크', '재테크', '재테크', '재테크', '재테크', '재테크', '재테크', '재테크', '재테크', '재테크', '재테크', '재테크', '재테크', '재테크', '재테크', '재테크', '재테크', '재테크', '재테크', '재테크', '재테크', '재테크', '재테크', '재테크', '재테크', '재테크', '재테크', '재테크', '재테크', '재테크', '재테크', '재테크', '재테크', '재테크', '재테크', '재테크', '재테크', '재테크', '재테크', '재테크', '재테크', '재테크', '재테크', '재테크', '재테크', '재테크', '재테크', '재테크', '재테크', '재테크', '재테크', '재테크', '재테크', '재테크', '재테크', '재테크', '재테크', '재테크', '재테크', '재테크', '재테크', '재테크', '재테크', '재테크', '재테크', '재테크', '재테크', '재테크', '재테크', '재테크', '재테크', '재테크', '재테크', '재테크', '재테크', '재테크', '재테크', '재테크', '재테크', '재테크', '재테크', '재테크', '재테크', '재테크', '재테크', '재테크', '재테크', '재테크', '재테크', '재테크', '재테크', '재테크', '재테크', '재테크', '재테크', '재테크', '재테크', '재테크', '재테크', '재테크', '재테크', '재테크', '재테크', '재테크', '재테크', '재테크', '재테크', '재테크', '재테크', '재테크', '재테크', '재테크', '재테크', '재테크', '재테크', '재테크', '재테크', '재테크', '재테크', '재테크', '재테크', '재테크', '재테크', '재테크', '재테크', '재테크', '재테크', '재테크', '재테크', '재테크', '재테크', '재테크', '재테크', '재테크', '재테크', '재테크', '재테크', '재테크', '재테크', '재테크', '재테크', '재테크', '재테크', '재테크', '재테크', '재테크', '재테크', '재테크', '재테크', '재테크', '재테크', '재테크', '재테크', '재테크', '재테크', '재테크', '재테크', '재테크', '재테크', '재테크', '재테크', '재테크', '재테크', '재테크', '재테크', '재테크', '재테크', '재테크', '재테크', '재테크', '재테크', '재테크', '재테크', '재테크', '재테크', '재테크', '재테크', '재테크', '재테크', '재테크', '재테크', '재테크', '재테크', '재테크', '재테크', '재테크', '재테크', '재테크', '재테크', '재테크', '재테크', '재테크', '재테크', '재테크', '재테크', '재테크', '재테크', '재테크', '재테크', '재테크', '재테크', '재테크', '재테크', '재테크', '재테크', '재테크', '재테크', '재테크', '재테크', '재테크', '재테크', '재테크', '재테크', '재테크', '재테크', '재테크', '재테크', '재테크', '재테크', '재테크', '재테크', '재테크', '재테크', '재테크', '재테크', '재테크', '재테크', '재테크', '재테크', '재테크', '재테크', '재테크', '재테크', '재테크', '재테크', '재테크', '재테크', '재테크', '재테크', '재테크', '재테크', '재테크', '재테크', '재테크', '재테크', '재테크', '재테크', '재테크', '재테크', '재테크', '재테크', '재테크', '재테크', '재테크', '재테크', '재테크', '재테크', '재테크', '재테크', '재테크', '재테크', '재테크', '재테크', '재테크', '재테크', '재테크', '재테크', '재테크', '재테크', '재테크', '재테크', '재테크', '재테크', '재테크', '재테크', '재테크', '재테크', '재테크', '재테크', '재테크', '재테크', '재테크', '재테크', '재테크', '재테크', '재테크', '재테크', '재테크', '재테크', '재테크', '재테크', '재테크', '재테크', '재테크', '재테크', '재테크', '재테크', '재테크', '재테크', '재테크', '재테크', '재테크', '재테크', '재테크', '재테크', '재테크', '재테크', '재테크', '재테크', '재테크', '재테크', '재테크', '재테크', '재테크', '재테크', '재테크', '재테크', '재테크', '재테크', '재테크', '재테크', '재테크', '재테크', '재테크', '재테크', '재테크', '재테크', '재테크', '재테크', '재테크', '재테크', '재테크', '재테크', '재테크', '재테크', '재테크', '재테크', '재테크', '재테크', '재테크', '재테크', '재테크', '재테크', '재테크', '재테크', '재테크', '재테크', '재테크', '재테크', '재테크', '재테크', '재테크', '재테크', '재테크', '재테크', '재테크', '재테크', '재테크', '재테크', '재테크', '재테크', '재테크', '재테크', '재테크', '재테크', '재테크', '재테크', '재테크', '재테크', '재테크', '재테크', '재테크', '재테크', '재테크', '재테크', '재테크', '재테크', '재테크', '재테크', '재테크', '재테크', '재테크', '재테크', '재테크', '재테크', '재테크', '재테크', '재테크', '재테크', '재테크', '재테크', '재테크', '재테크', '재테크', '재테크', '재테크', '재테크', '재테크', '재테크', '재테크', '재테크', '재테크', '재테크', '재테크', '재테크', '재테크', '재테크', '재테크', '재테크', '재테크', '재테크', '재테크', '재테크', '재테크', '재테크', '재테크', '재테크', '재테크', '재테크', '재테크', '재테크', '재테크', '재테크', '재테크', '재테크', '재테크', '재테크', '재테크', '재테크', '재테크', '재테크', '재테크', '재테크', '재테크', '재테크', '재테크', '재테크', '재테크', '재테크', '재테크', '재테크', '재테크', '재테크', '재테크', '재테크', '재테크', '재테크', '재테크', '재테크', '재테크', '재테크', '재테크', '재테크', '재테크', '재테크', '재테크', '재테크', '재테크', '재테크', '재테크', '재테크', '재테크', '재테크', '재테크', '재테크', '재테크', '재테크', '재테크', '재테크', '재테크', '재테크', '재테크', '재테크', '재테크', '재테크', '재테크', '재테크', '재테크', '재테크', '재테크', '재테크', '재테크', '재테크', '재테크', '재테크', '재테크', '재테크', '재테크', '재테크', '재테크', '재테크', '재테크', '재테크', '재테크', '재테크', '재테크', '재테크', '재테크', '재테크', '재테크', '재테크', '재테크', '재테크', '재테크', '재테크', '재테크', '재테크', '재테크', '재테크', '재테크', '재테크', '재테크', '재테크', '재테크', '재테크', '재테크', '재테크', '재테크', '재테크', '재테크', '재테크', '재테크', '재테크', '재테크', '재테크', '재테크', '재테크', '재테크', '재테크', '재테크', '재테크', '재테크', '재테크', '재테크', '재테크', '재테크', '재테크', '재테크', '재테크', '재테크', '재테크', '재테크', '재테크', '재테크', '재테크', '재테크', '재테크', '재테크', '재테크', '재테크', '재테크', '재테크', '재테크', '재테크', '재테크', '재테크', '재테크', '재테크', '재테크', '재테크', '재테크', '재테크', '재테크', '재테크', '재테크', '재테크', '재테크', '재테크', '재테크', '재테크', '재테크', '재테크', '재테크', '재테크', '재테크', '재테크', '재테크', '재테크', '재테크', '재테크', '재테크', '재테크', '재테크', '재테크', '재테크', '재테크', '재테크', '재테크', '재테크', '재테크', '재테크', '재테크', '재테크', '재테크', '재테크', '재테크', '재테크', '재테크', '재테크', '재테크', '재테크', '재테크', '재테크', '재테크', '재테크', '재테크', '재테크', '재테크', '재테크', '재테크', '재테크', '재테크', '재테크', '재테크', '재테크', '재테크', '재테크', '재테크', '재테크', '재테크', '재테크', '재테크', '재테크', '재테크', '재테크', '재테크', '재테크', '재테크', '재테크', '재테크', '재테크', '재테크', '재테크', '재테크', '재테크', '재테크', '재테크', '재테크', '재테크', '재테크', '재테크', '재테크', '재테크', '재테크', '재테크', '재테크', '재테크', '재테크', '재테크', '재테크', '재테크', '재테크', '재테크', '재테크', '재테크', '재테크', '재테크', '재테크', '재테크', '재테크', '재테크', '재테크', '재테크', '재테크', '재테크', '재테크', '재테크', '재테크', '재테크', '재테크', '재테크', '재테크', '재테크', '재테크', '재테크', '창업', '창업', '창업', '창업', '창업', '창업', '창업', '창업', '창업', '창업', '창업', '창업', '창업', '창업', '창업', '창업', '창업', '창업', '창업', '창업', '창업', '창업', '창업', '창업', '창업', '창업', '창업', '창업', '창업', '창업', '창업', '창업', '창업', '창업', '창업', '창업', '창업', '창업', '창업', '창업', '창업', '창업', '창업', '창업', '창업', '창업', '창업', '창업', '창업', '창업', '창업', '창업', '창업', '창업', '창업', '창업', '창업', '창업', '창업', '창업', '창업', '창업', '창업', '창업', '창업', '창업', '창업', '창업', '창업', '창업', '창업', '창업', '창업', '창업', '창업', '창업', '창업', '창업', '창업', '창업', '창업', '창업', '창업', '창업', '창업', '창업', '창업', '창업', '창업', '창업', '창업', '창업', '창업', '창업', '창업', '창업', '창업', '창업', '창업', '창업', '창업', '창업', '창업', '창업', '창업', '창업', '창업', '창업', '창업', '창업', '창업', '창업', '창업', '창업', '창업', '창업', '창업', '창업', '창업', '창업', '창업', '창업', '창업', '창업', '창업', '창업', '창업', '창업', '창업', '창업', '창업', '창업', '창업', '창업', '창업', '창업', '창업', '창업', '창업', '창업', '창업', '창업', '창업', '창업', '창업', '창업', '창업', '창업', '창업', '창업', '창업', '창업', '창업', '창업', '창업', '창업', '창업', '창업', '창업', '창업', '창업', '창업', '창업', '창업', '창업', '창업', '창업', '창업', '창업', '창업', '창업', '창업', '창업', '창업', '창업', '창업', '창업', '창업', '창업', '창업', '창업', '창업', '창업', '창업', '창업', '창업', '창업', '창업', '창업', '창업', '창업', '창업', '창업', '창업', '창업', '창업', '창업', '창업', '창업', '창업', '창업', '창업', '창업', '창업', '창업', '창업', '창업', '창업', '창업', '창업', '창업', '창업', '창업', '창업', '창업', '창업', '창업', '창업', '창업', '창업', '창업', '창업', '창업', '창업', '창업', '창업', '창업', '창업', '창업', '창업', '창업', '창업', '창업', '창업', '창업', '창업', '창업', '창업', '창업', '창업', '창업', '창업', '창업', '창업', '창업', '창업', '창업', '창업', '창업', '창업', '창업', '창업', '창업', '창업', '창업', '창업', '창업', '창업', '창업', '창업', '창업', '창업', '창업', '창업', '창업', '창업', '창업', '창업', '창업', '창업', '창업', '창업', '창업', '창업', '창업', '창업', '창업', '창업', '창업', '창업', '창업', '창업', '창업', '창업', '창업', '창업', '창업', '창업', '창업', '창업', '창업', '창업', '창업', '창업', '창업', '창업', '창업', '창업', '창업', '창업', '창업', '창업', '창업', '창업', '창업', '창업', '창업', '창업', '창업', '창업', '창업', '창업', '창업', '창업', '창업', '창업', '창업', '창업', '창업', '창업', '창업', '창업', '창업', '창업', '창업', '창업', '창업', '창업', '창업', '창업', '창업', '창업', '창업', '창업', '창업', '창업', '창업', '창업', '창업', '창업', '창업', '창업', '창업', '창업', '창업', '창업', '창업', '창업', '창업', '창업', '창업', '창업', '창업', '창업', '창업', '창업', '창업', '창업', '창업', '창업', '창업', '창업', '창업', '창업', '창업', '창업', '창업', '창업', '창업', '창업', '창업', '창업', '창업', '창업', '창업', '창업', '창업', '창업', '창업', '창업', '창업', '창업', '창업', '창업', '창업', '창업', '창업', '창업', '창업', '창업', '창업', '창업', '창업', '창업', '창업', '창업', '창업', '창업', '창업', '창업', '창업', '창업', '창업', '창업', '창업', '창업', '창업', '창업', '창업', '창업', '창업', '창업', '창업', '창업', '창업', '창업', '창업', '창업', '창업', '창업', '창업', '창업', '창업', '창업', '창업', '창업', '창업', '창업', '창업', '창업', '창업', '창업', '창업', '창업', '창업', '창업', '창업', '창업', '창업', '창업', '창업', '창업', '창업', '창업', '창업', '창업', '창업', '창업', '창업', '창업', '창업', '창업', '창업', '창업', '창업', '창업', '창업', '창업', '창업', '창업', '창업', '창업', '창업', '창업', '창업', '창업', '창업', '창업', '창업', '창업', '창업', '창업', '창업', '창업', '창업', '창업', '창업', '창업', '창업', '창업', '창업', '창업', '창업', '창업', '창업', '창업', '창업', '창업', '창업', '창업', '창업', '창업', '창업', '창업', '창업', '창업', '창업', '창업', '창업', '창업', '창업', '창업', '창업', '창업', '창업', '창업', '창업', '창업', '창업', '창업', '창업', '창업', '창업', '창업', '창업', '창업', '창업', '창업', '창업', '창업', '창업', '창업', '창업', '창업', '창업', '창업', '창업', '창업', '창업', '창업', '창업', '창업', '창업', '창업', '창업', '창업', '창업', '창업', '창업', '창업', '창업', '창업', '창업', '창업', '창업', '창업', '창업', '창업', '창업', '창업', '창업', '창업', '창업', '창업', '창업', '창업', '창업', '창업', '창업', '창업', '창업', '창업', '창업', '창업', '창업', '창업', '창업', '창업', '창업', '창업', '창업', '창업', '창업', '창업', '창업', '창업', '창업', '창업', '창업', '창업', '창업', '창업', '창업', '창업', '창업', '창업', '창업', '창업', '창업', '창업', '창업', '창업', '창업', '창업', '창업', '창업', '창업', '창업', '창업', '창업', '창업', '창업', '창업', '창업', '창업', '창업', '창업', '창업', '창업', '창업', '창업', '창업', '창업', '창업', '창업', '창업', '창업', '창업', '창업', '창업', '창업', '창업', '창업', '창업', '창업', '창업', '창업', '창업', '창업', '창업', '창업', '창업', '창업', '창업', '창업', '창업', '창업', '창업', '창업', '창업', '창업', '창업', '창업', '창업', '창업', '창업', '창업', '창업', '창업', '창업', '창업', '창업', '창업', '창업', '창업', '창업', '창업', '창업', '창업', '창업', '창업', '창업', '창업', '창업', '창업', '창업', '창업', '창업', '창업', '창업', '창업', '창업', '창업', '창업', '창업', '창업', '창업', '창업', '창업', '창업', '창업', '창업', '창업', '창업', '창업', '창업', '창업', '창업', '창업', '창업', '창업', '창업', '창업', '창업', '창업', '창업', '창업', '창업', '창업', '창업', '창업', '창업', '창업', '창업', '창업', '창업', '창업', '창업', '창업', '창업', '창업', '창업', '창업', '창업', '창업', '창업', '창업', '창업', '창업', '창업', '창업', '창업', '창업', '창업', '창업', '창업', '창업', '창업', '창업', '창업', '창업', '창업', '창업', '창업', '창업', '창업', '창업', '창업', '창업', '창업', '창업', '창업', '창업', '창업', '창업', '창업', '창업', '창업', '창업', '창업', '창업', '창업', '창업', '창업', '창업', '창업', '창업', '창업', '창업', '창업', '창업', '창업', '창업', '창업', '창업', '창업', '창업', '창업', '창업', '창업', '창업', '창업', '창업', '창업', '창업', '창업', '창업', '창업', '창업', '창업', '창업', '창업', '창업', '창업', '창업', '창업', '창업', '창업', '창업', '창업', '창업', '창업', '창업', '창업', '창업', '창업', '창업', '창업', '창업', '창업', '창업', '창업', '창업', '창업', '창업', '창업', '창업', '창업', '창업', '창업', '창업', '창업', '창업', '창업', '창업', '창업', '창업', '창업', '창업', '창업', '창업', '창업', '창업', '창업', '창업', '창업', '창업', '창업', '창업', '창업', '창업', '창업', '창업', '창업', '창업', '창업', '창업', '창업', '창업', '창업', '창업', '창업', '창업', '창업', '창업', '창업', '창업', '창업', '창업', '창업', '창업', '창업', '창업', '창업', '창업', '창업', '창업', '창업', '창업', '창업', '창업', '창업', '창업', '창업', '창업', '창업', '창업', '창업', '창업', '창업', '창업', '창업', '창업', '창업', '창업', '창업', '창업', '창업', '창업', '창업', '창업', '창업', '창업', '창업', '창업', '창업', '창업', '창업', '창업', '창업', '창업', '창업', '창업', '창업', '창업', '창업', '창업', '창업', '창업', '창업', '창업', '창업', '창업', '창업', '창업', '창업', '창업', '창업', '창업', '창업', '창업', '창업', '창업', '창업', '창업', '창업', '창업', '창업', '창업', '창업', '창업', '창업', '창업', '창업', '창업', '창업', '창업', '창업', '창업', '창업', '창업', '창업', '창업', '창업', '창업', '창업', '창업', '창업', '창업', '창업', '창업', '창업', '창업', '창업', '창업', '창업', '창업', '창업', '창업', '창업', '창업', '창업', '창업', '창업', '창업', '창업', '창업', '창업', '창업', '창업', '창업', '창업', '창업', '창업', '창업', '창업', '창업', '창업', '창업', '창업', '창업', '창업', '창업', '창업', '창업', '창업', '창업', '창업', '창업', '창업', '창업', '창업', '창업', '창업', '창업', '창업', '창업', '창업', '창업', '창업', '창업', '창업', '창업', '창업', '창업', '창업', '창업', '창업', '창업', '창업', '창업', '창업', '창업', '창업', '창업', '창업', '창업', '창업', '창업', '창업', '창업', '창업', '창업', '창업', '창업', '창업', '창업', '창업', '창업', '창업', '창업', '창업', '창업', '창업', '창업', '창업', '창업', '창업', '창업', '창업', '부업', '부업', '부업', '부업', '부업', '부업', '부업', '부업', '부업', '부업', '부업', '부업', '부업', '부업', '부업', '부업', '부업', '부업', '부업', '부업', '부업', '부업', '부업', '부업', '부업', '부업', '부업', '부업', '부업', '부업', '부업', '부업', '부업', '부업', '부업', '부업', '부업', '부업', '부업', '부업', '부업', '부업', '부업', '부업', '부업', '부업', '부업', '부업', '부업', '부업', '부업', '부업', '부업', '부업', '부업', '부업', '부업', '부업', '부업', '부업', '부업', '부업', '부업', '부업', '부업', '부업', '부업', '부업', '부업', '부업', '부업', '부업', '부업', '부업', '부업', '부업', '부업', '부업', '부업', '부업', '부업', '부업', '부업', '부업', '부업', '부업', '부업', '부업', '부업', '부업', '부업', '부업', '부업', '부업', '부업', '부업', '부업', '부업', '부업', '부업', '부업', '부업', '부업', '부업', '부업', '부업', '부업', '부업', '부업', '부업', '부업', '부업', '부업', '부업', '부업', '부업', '부업', '부업', '부업', '부업', '부업', '부업', '부업', '부업', '부업', '부업', '부업', '부업', '부업', '부업', '부업', '부업', '부업', '부업', '부업', '부업', '부업', '부업', '부업', '부업', '부업', '부업', '부업', '부업', '부업', '부업', '부업', '부업', '부업', '부업', '부업', '부업', '부업', '부업', '부업', '부업', '부업', '부업', '부업', '부업', '부업', '부업', '부업', '부업', '부업', '부업', '부업', '부업', '부업', '부업', '부업', '부업', '부업', '부업', '부업', '부업', '부업', '부업', '부업', '부업', '부업', '부업', '부업', '부업', '부업', '부업', '부업', '부업', '부업', '부업', '부업', '부업', '부업', '부업', '부업', '부업', '부업', '부업', '부업', '부업', '부업', '부업', '부업', '부업', '부업', '부업', '부업', '부업', '부업', '부업', '부업', '부업', '부업', '부업', '부업', '부업', '부업', '부업', '부업', '부업', '부업', '부업', '부업', '부업', '부업', '부업', '부업', '부업', '부업', '부업', '부업', '부업', '부업', '부업', '부업', '부업', '부업', '부업', '부업', '부업', '부업', '부업', '부업', '부업', '부업', '부업', '부업', '부업', '부업', '부업', '부업', '부업', '부업', '부업', '부업', '부업', '부업', '부업', '부업', '부업', '부업', '부업', '부업', '부업', '부업', '부업', '부업', '부업', '부업', '부업', '부업', '부업', '부업', '부업', '부업', '부업', '부업', '부업', '부업', '부업', '부업', '부업', '부업', '부업', '부업', '부업', '부업', '부업', '부업', '부업', '부업', '부업', '부업', '부업', '부업', '부업', '부업', '부업', '부업', '부업', '부업', '부업', '부업', '부업', '부업', '부업', '부업', '부업', '부업', '부업', '부업', '부업', '부업', '부업', '부업', '부업', '부업', '부업', '부업', '부업', '부업', '부업', '부업', '부업', '부업', '부업', '부업', '부업', '부업', '부업', '부업', '부업', '부업', '부업', '부업', '부업', '부업', '부업', '부업', '부업', '부업', '부업', '부업', '부업', '부업', '부업', '부업', '부업', '부업', '부업', '부업', '부업', '부업', '부업', '부업', '부업', '부업', '부업', '부업', '부업', '부업', '부업', '부업', '부업', '부업', '부업', '부업', '부업', '부업', '부업', '부업', '부업', '부업', '부업', '부업', '부업', '부업', '부업', '부업', '부업', '부업', '부업', '부업', '부업', '부업', '부업', '부업', '부업', '부업', '부업', '부업', '부업', '부업', '부업', '부업', '부업', '부업', '부업', '부업', '부업', '부업', '부업', '부업', '부업', '부업', '부업', '부업', '부업', '부업', '부업', '부업', '부업', '부업', '부업', '부업', '부업', '부업', '부업', '부업', '부업', '부업', '부업', '부업', '부업', '부업', '부업', '부업', '부업', '부업', '부업', '부업', '부업', '부업', '부업', '부업', '부업', '부업', '부업', '부업', '부업', '부업', '부업', '부업', '부업', '부업', '부업', '부업', '부업', '부업', '부업', '부업', '부업', '부업', '부업', '부업', '부업', '부업', '부업', '부업', '부업', '부업', '부업', '부업', '부업', '부업', '부업', '부업', '부업', '부업', '부업', '부업', '부업', '부업', '부업', '부업', '부업', '부업', '부업', '부업', '부업', '부업', '부업', '부업', '부업', '부업', '부업', '부업', '부업', '부업', '부업', '부업', '부업', '부업', '부업', '부업', '부업', '부업', '부업', '부업', '부업', '부업', '부업', '부업', '부업', '부업', '부업', '부업', '부업', '부업', '부업', '부업', '부업', '부업', '부업', '부업', '부업', '부업', '부업', '부업', '부업', '부업', '부업', '부업', '부업', '부업', '부업', '부업', '부업', '부업', '부업', '부업', '부업', '부업', '부업', '부업', '부업', '부업', '부업', '부업', '부업', '부업', '부업', '부업', '부업', '부업', '부업', '부업', '부업', '부업', '부업', '부업', '부업', '부업', '부업', '부업', '부업', '부업', '부업', '부업', '부업', '부업', '부업', '부업', '부업', '부업', '부업', '부업', '부업', '부업', '부업', '부업', '부업', '부업', '부업', '부업', '부업', '부업', '부업', '부업', '부업', '부업', '부업', '부업', '부업', '부업', '부업', '부업', '부업', '부업', '부업', '부업', '부업', '부업', '부업', '부업', '부업', '부업', '부업', '부업', '부업', '부업', '부업', '부업', '부업', '부업', '부업', '부업', '부업', '부업', '부업', '부업', '부업', '부업', '부업', '부업', '부업', '부업', '부업', '부업', '부업', '부업', '부업', '부업', '부업', '부업', '부업', '부업', '부업', '부업', '부업', '부업', '부업', '부업', '부업', '부업', '부업', '부업', '부업', '부업', '부업', '부업', '부업', '부업', '부업', '부업', '부업', '부업', '부업', '부업', '부업', '부업', '부업', '부업', '부업', '부업', '부업', '부업', '부업', '부업', '부업', '부업', '부업', '부업', '부업', '부업', '부업', '부업', '부업', '부업', '부업', '부업', '부업', '부업', '부업', '부업', '부업', '부업', '부업', '부업', '부업', '부업', '부업', '부업', '부업', '부업', '부업', '부업', '부업', '부업', '부업', '부업', '부업', '부업', '부업', '부업', '부업', '부업', '부업', '부업', '부업', '부업', '부업', '부업', '부업', '부업', '부업', '부업', '부업', '부업', '부업', '부업', '부업', '부업', '부업', '부업', '부업', '부업', '부업', '부업', '부업', '부업', '부업', '부업', '부업', '부업', '부업', '부업', '부업', '부업', '부업', '부업', '부업', '부업', '부업', '부업', '부업', '부업', '부업', '부업', '부업', '부업', '부업', '부업', '부업', '부업', '부업', '부업', '부업', '부업', '부업', '부업', '부업', '부업', '부업', '부업', '부업', '부업', '부업', '부업', '부업', '부업', '부업', '부업', '부업', '부업', '부업', '부업', '부업', '부업', '부업', '부업', '부업', '부업', '부업', '부업', '부업', '부업', '부업', '부업', '부업', '부업', '부업', '부업', '부업', '부업', '부업', '부업', '부업', '부업', '부업', '부업', '부업', '부업', '부업', '부업', '부업', '부업', '부업', '부업', '부업', '부업', '부업', '부업', '부업', '부업', '부업', '부업', '부업', '부업', '부업', '부업', '부업', '부업', '부업', '부업', '부업', '부업', '부업', '부업', '부업', '부업', '부업', '부업', '부업', '부업', '부업', '부업', '부업', '부업', '부업', '부업', '부업', '부업', '부업', '부업', '부업', '부업', '부업', '부업', '부업', '부업', '부업', '부업', '부업', '부업', '부업', '부업', '부업', '부업', '부업', '부업', '부업', '부업', '부업', '부업', '부업', '부업', '부업', '부업', '부업', '부업', '부업', '부업', '부업', '부업', '부업', '부업', '부업', '부업', '부업', '성공 마인드', '성공 마인드', '성공 마인드', '성공 마인드', '성공 마인드', '성공 마인드', '성공 마인드', '성공 마인드', '성공 마인드', '성공 마인드', '성공 마인드', '성공 마인드', '성공 마인드', '성공 마인드', '성공 마인드', '성공 마인드', '성공 마인드', '성공 마인드', '성공 마인드', '성공 마인드', '성공 마인드', '성공 마인드', '성공 마인드', '성공 마인드', '성공 마인드', '성공 마인드', '성공 마인드', '성공 마인드', '성공 마인드', '성공 마인드', '성공 마인드', '성공 마인드', '성공 마인드', '성공 마인드', '성공 마인드', '성공 마인드', '성공 마인드', '성공 마인드', '성공 마인드', '성공 마인드', '성공 마인드', '성공 마인드', '성공 마인드', '성공 마인드', '성공 마인드', '성공 마인드', '성공 마인드', '성공 마인드', '성공 마인드', '성공 마인드', '성공 마인드', '성공 마인드', '성공 마인드', '성공 마인드', '성공 마인드', '성공 마인드', '성공 마인드', '성공 마인드', '성공 마인드', '성공 마인드', '성공 마인드', '성공 마인드', '성공 마인드', '성공 마인드', '성공 마인드', '성공 마인드', '성공 마인드', '성공 마인드', '성공 마인드', '성공 마인드', '성공 마인드', '성공 마인드', '성공 마인드', '성공 마인드', '성공 마인드', '성공 마인드', '성공 마인드', '성공 마인드', '성공 마인드', '성공 마인드', '성공 마인드', '성공 마인드', '성공 마인드', '성공 마인드', '성공 마인드', '성공 마인드', '성공 마인드', '성공 마인드', '성공 마인드', '성공 마인드', '성공 마인드', '성공 마인드', '성공 마인드', '성공 마인드', '성공 마인드', '성공 마인드', '성공 마인드', '성공 마인드', '성공 마인드', '성공 마인드', '성공 마인드', '성공 마인드', '성공 마인드', '성공 마인드', '성공 마인드', '성공 마인드', '성공 마인드', '성공 마인드', '성공 마인드', '성공 마인드', '성공 마인드', '성공 마인드', '성공 마인드', '성공 마인드', '성공 마인드', '성공 마인드', '성공 마인드', '성공 마인드', '성공 마인드', '성공 마인드', '성공 마인드', '성공 마인드', '성공 마인드', '성공 마인드', '성공 마인드', '아동 교육', '아동 교육', '아동 교육', '아동 교육', '아동 교육', '아동 교육', '아동 교육', '아동 교육', '아동 교육', '아동 교육', '아동 교육', '아동 교육', '아동 교육', '아동 교육', '아동 교육', '아동 교육', '아동 교육', '아동 교육', '아동 교육', '아동 교육', '아동 교육', '아동 교육', '아동 교육', '아동 교육', '아동 교육', '아동 교육', '아동 교육', '아동 교육', '아동 교육', '아동 교육', '아동 교육', '아동 교육', '아동 교육', '아동 교육', '아동 교육', '아동 교육', '아동 교육', '아동 교육', '아동 교육', '아동 교육', '아동 교육', '아동 교육', '아동 교육', '아동 교육', '아동 교육', '아동 교육', '아동 교육', '아동 교육', '아동 교육', '아동 교육', '아동 교육', '아동 교육', '아동 교육', '아동 교육', '아동 교육', '아동 교육', '아동 교육', '아동 교육', '아동 교육', '아동 교육', '아동 교육', '아동 교육']\n"
     ]
    }
   ],
   "source": [
    "# 원래데이터('data')에서 'keywords'열만 뽑아서 'target'에 저장\n",
    "target = list(data[\"keyword\"])\n",
    "print(target)"
   ]
  },
  {
   "cell_type": "code",
   "execution_count": 65,
   "id": "starting-archives",
   "metadata": {},
   "outputs": [
    {
     "name": "stdout",
     "output_type": "stream",
     "text": [
      "[0, 0, 0, 0, 0, 0, 0, 0, 0, 0, 0, 1, 1, 1, 1, 1, 1, 1, 1, 1, 1, 1, 1, 1, 1, 1, 1, 1, 1, 1, 1, 1, 1, 1, 1, 1, 1, 1, 1, 1, 1, 1, 1, 1, 1, 1, 1, 1, 1, 1, 1, 1, 1, 1, 1, 1, 1, 1, 1, 1, 1, 1, 1, 1, 1, 1, 1, 1, 1, 1, 1, 1, 1, 1, 1, 1, 1, 1, 1, 1, 1, 1, 1, 1, 1, 1, 1, 1, 1, 1, 1, 1, 1, 1, 1, 1, 1, 1, 1, 1, 1, 1, 1, 1, 1, 1, 1, 1, 1, 1, 1, 1, 1, 1, 1, 1, 1, 1, 1, 1, 1, 1, 1, 1, 1, 1, 1, 1, 1, 1, 1, 1, 1, 1, 1, 1, 1, 1, 1, 1, 1, 1, 1, 1, 1, 1, 1, 1, 1, 1, 1, 1, 1, 1, 1, 1, 1, 1, 1, 1, 1, 1, 1, 1, 1, 1, 1, 1, 1, 1, 1, 1, 1, 1, 1, 1, 1, 1, 1, 1, 1, 1, 1, 1, 1, 1, 1, 1, 1, 1, 1, 1, 1, 1, 1, 1, 1, 1, 1, 1, 1, 1, 1, 1, 1, 1, 1, 1, 1, 1, 1, 1, 1, 1, 1, 1, 1, 1, 1, 1, 1, 2, 2, 2, 2, 2, 2, 2, 2, 2, 2, 2, 2, 2, 2, 2, 2, 2, 2, 2, 2, 2, 2, 2, 2, 2, 2, 2, 2, 2, 2, 2, 2, 2, 2, 2, 2, 2, 2, 2, 2, 2, 2, 2, 2, 2, 2, 2, 2, 2, 2, 2, 2, 2, 2, 2, 2, 2, 2, 2, 2, 2, 2, 2, 2, 2, 2, 2, 2, 2, 2, 2, 2, 2, 2, 2, 2, 2, 2, 2, 2, 2, 2, 2, 2, 2, 2, 2, 2, 2, 2, 2, 2, 2, 2, 2, 2, 2, 2, 2, 2, 2, 2, 2, 2, 2, 2, 2, 2, 2, 2, 2, 2, 2, 2, 2, 2, 2, 2, 2, 2, 2, 2, 2, 2, 2, 2, 2, 2, 2, 2, 2, 2, 2, 2, 2, 2, 2, 2, 2, 2, 2, 2, 2, 2, 2, 2, 2, 2, 2, 2, 2, 2, 2, 2, 2, 2, 2, 2, 2, 2, 2, 2, 2, 2, 2, 2, 2, 2, 2, 2, 2, 2, 2, 2, 2, 2, 2, 2, 2, 2, 2, 2, 2, 2, 2, 2, 2, 2, 2, 2, 2, 2, 2, 2, 2, 2, 2, 2, 2, 2, 2, 2, 2, 2, 2, 2, 2, 2, 2, 2, 2, 2, 2, 2, 2, 2, 2, 2, 2, 2, 2, 2, 2, 2, 2, 2, 2, 2, 2, 2, 2, 2, 2, 2, 2, 2, 2, 2, 2, 2, 2, 2, 2, 2, 2, 2, 2, 2, 2, 2, 2, 2, 2, 2, 2, 2, 2, 2, 2, 2, 2, 2, 2, 2, 3, 3, 3, 3, 3, 3, 3, 3, 3, 3, 3, 3, 3, 3, 3, 3, 3, 3, 3, 3, 3, 3, 3, 3, 3, 3, 3, 3, 3, 3, 3, 3, 3, 3, 3, 3, 3, 3, 3, 3, 3, 3, 3, 3, 3, 3, 3, 3, 3, 3, 3, 3, 3, 3, 3, 3, 3, 3, 3, 3, 3, 3, 3, 3, 3, 3, 3, 3, 3, 3, 3, 3, 3, 3, 3, 3, 3, 3, 3, 3, 3, 3, 3, 3, 3, 3, 3, 3, 3, 3, 3, 3, 3, 3, 3, 3, 3, 3, 3, 3, 3, 3, 3, 3, 3, 3, 3, 3, 3, 3, 3, 3, 3, 3, 3, 3, 3, 3, 3, 3, 3, 3, 3, 3, 3, 3, 3, 3, 3, 3, 3, 3, 3, 3, 3, 3, 3, 3, 3, 3, 3, 3, 3, 3, 3, 3, 3, 3, 3, 3, 3, 3, 3, 3, 3, 3, 3, 3, 3, 3, 3, 3, 3, 3, 3, 3, 3, 3, 3, 3, 3, 3, 3, 3, 3, 3, 3, 3, 3, 3, 3, 3, 3, 3, 3, 3, 3, 3, 3, 3, 3, 3, 3, 3, 3, 3, 3, 3, 3, 3, 3, 3, 3, 3, 3, 3, 3, 3, 3, 3, 3, 3, 3, 3, 3, 3, 3, 3, 3, 3, 3, 3, 3, 3, 3, 3, 3, 3, 3, 3, 3, 3, 3, 3, 3, 3, 3, 3, 3, 3, 3, 3, 3, 3, 3, 3, 3, 3, 3, 3, 3, 3, 3, 3, 3, 3, 3, 3, 3, 3, 3, 3, 3, 3, 3, 3, 3, 3, 3, 3, 3, 3, 3, 3, 3, 3, 3, 3, 3, 3, 3, 3, 3, 3, 3, 3, 3, 3, 3, 3, 3, 3, 3, 3, 3, 3, 3, 3, 3, 3, 3, 3, 3, 3, 3, 3, 3, 3, 3, 3, 3, 3, 3, 3, 3, 3, 3, 3, 3, 3, 3, 3, 3, 3, 3, 3, 3, 3, 3, 3, 3, 3, 3, 3, 3, 3, 3, 3, 3, 3, 3, 3, 3, 3, 3, 3, 3, 3, 3, 3, 3, 3, 3, 3, 3, 3, 3, 3, 3, 3, 3, 3, 3, 3, 3, 3, 3, 3, 3, 3, 3, 3, 3, 3, 3, 3, 3, 3, 3, 3, 3, 3, 3, 3, 3, 3, 3, 3, 3, 3, 3, 3, 3, 3, 3, 3, 3, 3, 3, 3, 3, 3, 3, 3, 3, 3, 3, 3, 3, 3, 3, 3, 3, 3, 3, 3, 3, 3, 3, 3, 3, 3, 3, 3, 3, 3, 3, 3, 3, 3, 3, 3, 3, 3, 3, 3, 3, 3, 3, 3, 3, 3, 3, 3, 3, 3, 3, 3, 3, 3, 3, 3, 3, 3, 3, 3, 3, 3, 3, 3, 3, 3, 3, 3, 3, 3, 3, 3, 3, 3, 3, 3, 3, 3, 3, 3, 3, 3, 3, 3, 3, 3, 3, 3, 3, 3, 3, 3, 3, 3, 3, 3, 3, 3, 3, 3, 3, 3, 3, 3, 3, 3, 3, 3, 3, 3, 3, 3, 3, 3, 3, 3, 3, 3, 3, 3, 3, 3, 3, 3, 3, 3, 3, 3, 3, 3, 3, 3, 3, 3, 3, 3, 3, 3, 3, 3, 3, 3, 3, 3, 3, 3, 3, 3, 3, 3, 3, 3, 3, 3, 3, 3, 3, 3, 3, 3, 3, 3, 3, 3, 3, 3, 3, 3, 3, 3, 3, 3, 3, 3, 3, 3, 3, 3, 3, 3, 3, 3, 3, 3, 3, 3, 3, 3, 3, 3, 3, 3, 3, 3, 3, 3, 3, 3, 3, 3, 3, 3, 3, 3, 3, 3, 3, 3, 3, 3, 3, 3, 3, 3, 3, 3, 3, 3, 3, 3, 3, 3, 3, 3, 3, 3, 3, 3, 3, 3, 3, 3, 3, 3, 3, 3, 3, 3, 3, 3, 3, 3, 3, 3, 3, 3, 3, 3, 3, 3, 3, 3, 3, 3, 3, 3, 3, 3, 3, 3, 3, 3, 3, 3, 3, 3, 3, 3, 3, 3, 3, 3, 3, 3, 3, 3, 3, 3, 3, 3, 3, 3, 3, 3, 3, 3, 3, 3, 3, 3, 3, 3, 3, 3, 3, 3, 3, 3, 3, 3, 3, 3, 3, 3, 3, 3, 3, 3, 3, 3, 3, 3, 3, 3, 3, 3, 3, 3, 3, 3, 3, 3, 3, 3, 3, 3, 3, 3, 3, 3, 3, 3, 3, 3, 3, 3, 3, 3, 3, 3, 3, 3, 3, 3, 3, 3, 3, 3, 3, 3, 3, 3, 3, 3, 3, 3, 3, 3, 3, 3, 3, 3, 3, 3, 3, 3, 3, 3, 3, 3, 3, 3, 3, 3, 3, 3, 3, 3, 3, 3, 3, 3, 3, 3, 3, 3, 3, 3, 3, 3, 3, 3, 3, 3, 3, 3, 3, 3, 3, 3, 3, 3, 3, 3, 3, 3, 3, 3, 3, 3, 3, 3, 3, 3, 3, 3, 3, 3, 3, 3, 3, 3, 3, 3, 3, 3, 3, 3, 3, 3, 3, 3, 3, 3, 3, 3, 3, 3, 3, 3, 3, 3, 3, 3, 3, 3, 3, 3, 3, 3, 3, 3, 3, 3, 3, 3, 3, 3, 3, 3, 3, 3, 3, 3, 3, 3, 3, 3, 3, 3, 3, 3, 3, 3, 3, 3, 3, 3, 3, 3, 3, 3, 3, 3, 3, 3, 3, 3, 3, 3, 3, 3, 3, 3, 3, 3, 3, 3, 3, 3, 3, 3, 3, 3, 3, 3, 3, 3, 3, 3, 3, 3, 3, 3, 3, 3, 3, 3, 3, 3, 3, 3, 3, 3, 3, 3, 3, 3, 3, 3, 3, 3, 3, 3, 4, 4, 4, 4, 4, 4, 4, 4, 4, 4, 4, 4, 4, 4, 4, 4, 4, 4, 4, 4, 4, 4, 4, 4, 4, 4, 4, 4, 4, 4, 4, 4, 4, 4, 4, 4, 4, 4, 4, 4, 4, 4, 4, 4, 4, 4, 4, 4, 4, 4, 4, 4, 4, 4, 4, 4, 4, 4, 4, 4, 4, 4, 4, 4, 4, 4, 4, 4, 4, 4, 4, 4, 4, 4, 4, 4, 4, 4, 4, 4, 4, 4, 4, 4, 4, 4, 4, 4, 4, 4, 4, 4, 4, 4, 4, 4, 4, 4, 4, 4, 4, 4, 4, 4, 4, 4, 4, 4, 4, 4, 4, 4, 4, 4, 4, 4, 4, 4, 4, 4, 4, 4, 4, 4, 4, 4, 4, 4, 4, 4, 4, 4, 4, 4, 4, 4, 4, 4, 4, 4, 4, 4, 4, 4, 4, 4, 4, 4, 4, 4, 4, 4, 4, 4, 4, 4, 4, 4, 4, 4, 4, 4, 4, 4, 4, 4, 4, 4, 4, 4, 4, 4, 4, 4, 4, 4, 4, 4, 4, 4, 4, 4, 4, 4, 4, 4, 4, 4, 4, 4, 4, 4, 4, 4, 4, 4, 4, 4, 4, 4, 4, 4, 4, 4, 4, 4, 4, 4, 4, 4, 4, 4, 4, 4, 4, 4, 4, 4, 4, 4, 4, 4, 4, 4, 4, 4, 4, 4, 4, 4, 4, 4, 4, 4, 4, 4, 4, 4, 4, 4, 4, 4, 4, 4, 4, 4, 4, 4, 4, 4, 4, 4, 4, 4, 4, 4, 4, 4, 4, 4, 4, 4, 4, 4, 4, 4, 4, 4, 4, 4, 4, 4, 4, 4, 4, 4, 4, 4, 4, 4, 4, 4, 4, 4, 4, 4, 4, 4, 4, 4, 4, 4, 4, 4, 4, 4, 4, 4, 4, 4, 4, 4, 4, 4, 4, 4, 4, 4, 4, 4, 4, 4, 4, 4, 4, 4, 4, 4, 4, 4, 4, 4, 4, 4, 4, 4, 4, 4, 4, 4, 4, 4, 4, 4, 4, 4, 4, 4, 4, 4, 4, 4, 4, 4, 4, 4, 4, 4, 4, 4, 4, 4, 4, 4, 4, 4, 4, 4, 4, 4, 4, 4, 4, 4, 4, 4, 4, 4, 4, 4, 4, 4, 4, 4, 4, 4, 4, 4, 4, 4, 4, 4, 4, 4, 4, 4, 4, 4, 4, 4, 4, 4, 4, 4, 4, 4, 4, 4, 4, 4, 4, 4, 4, 4, 4, 4, 4, 4, 4, 4, 4, 4, 4, 4, 4, 4, 4, 4, 4, 4, 4, 4, 4, 4, 4, 4, 4, 4, 4, 4, 4, 4, 4, 4, 4, 4, 4, 4, 4, 4, 4, 4, 4, 4, 4, 4, 4, 4, 4, 4, 4, 4, 4, 4, 4, 4, 4, 4, 4, 4, 4, 4, 4, 4, 4, 4, 4, 4, 4, 4, 4, 4, 4, 4, 4, 4, 4, 4, 4, 4, 4, 4, 4, 4, 4, 4, 4, 4, 4, 4, 4, 4, 4, 4, 4, 4, 4, 4, 4, 4, 4, 4, 4, 4, 4, 4, 4, 4, 4, 4, 4, 4, 4, 4, 4, 4, 4, 4, 4, 4, 4, 4, 4, 4, 4, 4, 4, 4, 4, 4, 4, 4, 4, 4, 4, 4, 4, 4, 4, 4, 4, 4, 4, 4, 4, 4, 4, 4, 4, 4, 4, 4, 4, 4, 4, 4, 4, 4, 4, 4, 4, 4, 4, 4, 4, 4, 4, 4, 4, 4, 4, 4, 4, 4, 4, 4, 4, 4, 4, 4, 4, 4, 4, 4, 4, 4, 4, 4, 4, 4, 4, 4, 4, 4, 4, 4, 4, 4, 4, 4, 4, 4, 4, 4, 4, 4, 4, 4, 4, 4, 4, 4, 4, 4, 4, 4, 4, 4, 4, 4, 4, 4, 4, 4, 4, 4, 4, 4, 4, 4, 4, 4, 4, 4, 4, 4, 4, 4, 4, 4, 4, 4, 4, 4, 4, 4, 4, 4, 4, 4, 4, 4, 4, 4, 4, 4, 4, 4, 4, 4, 4, 4, 4, 4, 4, 4, 4, 4, 4, 4, 4, 4, 4, 4, 4, 4, 4, 4, 4, 4, 4, 4, 4, 4, 4, 4, 4, 4, 4, 4, 4, 4, 4, 4, 4, 4, 4, 4, 4, 4, 4, 4, 4, 4, 4, 4, 4, 4, 4, 4, 4, 4, 4, 4, 4, 4, 4, 4, 4, 4, 4, 4, 4, 4, 4, 4, 4, 4, 4, 4, 4, 4, 4, 4, 4, 4, 4, 4, 4, 4, 4, 4, 4, 4, 4, 4, 4, 4, 4, 4, 4, 4, 4, 4, 4, 4, 4, 4, 4, 4, 4, 4, 4, 4, 4, 4, 4, 4, 4, 4, 4, 4, 4, 4, 4, 4, 4, 4, 4, 4, 4, 4, 4, 4, 4, 4, 4, 4, 4, 4, 4, 4, 4, 4, 4, 4, 4, 4, 4, 4, 4, 4, 4, 4, 4, 4, 4, 4, 4, 4, 4, 4, 4, 4, 4, 4, 4, 4, 4, 4, 4, 4, 4, 4, 4, 4, 4, 4, 4, 4, 4, 4, 4, 4, 4, 4, 4, 4, 4, 4, 4, 4, 4, 4, 4, 4, 4, 4, 4, 4, 4, 4, 4, 4, 4, 4, 4, 4, 4, 4, 4, 4, 4, 4, 4, 4, 4, 4, 4, 4, 4, 4, 4, 4, 4, 4, 4, 4, 4, 4, 4, 4, 4, 4, 4, 4, 4, 4, 4, 4, 4, 4, 4, 4, 4, 4, 4, 4, 4, 4, 4, 4, 4, 4, 4, 4, 4, 4, 4, 4, 4, 4, 4, 4, 4, 4, 4, 4, 4, 4, 4, 4, 4, 4, 4, 4, 4, 4, 4, 4, 4, 4, 4, 4, 4, 4, 4, 4, 4, 4, 4, 4, 4, 4, 4, 4, 4, 4, 4, 4, 4, 4, 4, 4, 4, 4, 4, 4, 4, 4, 4, 4, 4, 4, 4, 4, 4, 4, 4, 4, 5, 5, 5, 5, 5, 5, 5, 5, 5, 5, 5, 5, 5, 5, 5, 5, 5, 5, 5, 5, 5, 5, 5, 5, 5, 5, 5, 5, 5, 5, 5, 5, 5, 5, 5, 5, 5, 5, 5, 5, 5, 5, 5, 5, 5, 5, 5, 5, 5, 5, 5, 5, 5, 5, 5, 5, 5, 5, 5, 5, 5, 5, 5, 5, 5, 5, 5, 5, 5, 5, 5, 5, 5, 5, 5, 5, 5, 5, 5, 5, 5, 5, 5, 5, 5, 5, 5, 5, 5, 5, 5, 5, 5, 5, 5, 5, 5, 5, 5, 5, 5, 5, 5, 5, 5, 5, 5, 5, 5, 5, 5, 5, 5, 5, 5, 5, 5, 5, 5, 5, 5, 5, 5, 5, 5, 5, 5, 5, 5, 5, 5, 5, 5, 5, 5, 5, 5, 5, 5, 5, 5, 5, 5, 5, 5, 5, 5, 5, 5, 5, 5, 5, 5, 5, 5, 5, 5, 5, 5, 5, 5, 5, 5, 5, 5, 5, 5, 5, 5, 5, 5, 5, 5, 5, 5, 5, 5, 5, 5, 5, 5, 5, 5, 5, 5, 5, 5, 5, 5, 5, 5, 5, 5, 5, 5, 5, 5, 5, 5, 5, 5, 5, 5, 5, 5, 5, 5, 5, 5, 5, 5, 5, 5, 5, 5, 5, 5, 5, 5, 5, 5, 5, 5, 5, 5, 5, 5, 5, 5, 5, 5, 5, 5, 5, 5, 5, 5, 5, 5, 5, 5, 5, 5, 5, 5, 5, 5, 5, 5, 5, 5, 5, 5, 5, 5, 5, 5, 5, 5, 5, 5, 5, 5, 5, 5, 5, 5, 5, 5, 5, 5, 5, 5, 5, 5, 5, 5, 5, 5, 5, 5, 5, 5, 5, 5, 5, 5, 5, 5, 5, 5, 5, 5, 5, 5, 5, 5, 5, 5, 5, 5, 5, 5, 5, 5, 5, 5, 5, 5, 5, 5, 5, 5, 5, 5, 5, 5, 5, 5, 5, 5, 5, 5, 5, 5, 5, 5, 5, 5, 5, 5, 5, 5, 5, 5, 5, 5, 5, 5, 5, 5, 5, 5, 5, 5, 5, 5, 5, 5, 5, 5, 5, 5, 5, 5, 5, 5, 5, 5, 5, 5, 5, 5, 5, 5, 5, 5, 5, 5, 5, 5, 5, 5, 5, 5, 5, 5, 5, 5, 5, 5, 5, 5, 5, 5, 5, 5, 5, 5, 5, 5, 5, 5, 5, 5, 5, 5, 5, 5, 5, 5, 5, 5, 5, 5, 5, 5, 5, 5, 5, 5, 5, 5, 5, 5, 5, 5, 5, 5, 5, 5, 5, 5, 5, 5, 5, 5, 5, 5, 5, 5, 5, 5, 5, 5, 5, 5, 5, 5, 5, 5, 5, 5, 5, 5, 5, 5, 5, 5, 5, 5, 5, 5, 5, 5, 5, 5, 5, 5, 5, 5, 5, 5, 5, 5, 5, 5, 5, 5, 5, 5, 5, 5, 5, 5, 5, 5, 5, 5, 5, 5, 5, 5, 5, 5, 5, 5, 5, 5, 5, 5, 5, 5, 5, 5, 5, 5, 5, 5, 5, 5, 5, 5, 5, 5, 5, 5, 5, 5, 5, 5, 5, 5, 5, 5, 5, 5, 5, 5, 5, 5, 5, 5, 5, 5, 5, 5, 5, 5, 5, 5, 5, 5, 5, 5, 5, 5, 5, 5, 5, 5, 5, 5, 5, 5, 5, 5, 5, 5, 5, 5, 5, 5, 5, 5, 5, 5, 5, 5, 5, 5, 5, 5, 5, 5, 5, 5, 5, 5, 5, 5, 5, 5, 5, 5, 5, 5, 5, 5, 5, 5, 5, 5, 5, 5, 5, 5, 5, 5, 5, 5, 5, 5, 5, 5, 5, 5, 5, 5, 5, 5, 5, 5, 5, 5, 5, 5, 5, 5, 5, 5, 5, 5, 5, 5, 5, 5, 5, 5, 5, 5, 5, 5, 5, 5, 5, 5, 5, 6, 6, 6, 6, 6, 6, 6, 6, 6, 6, 6, 6, 6, 6, 6, 6, 6, 6, 6, 6, 6, 6, 6, 6, 6, 6, 6, 6, 6, 6, 6, 6, 6, 6, 6, 6, 6, 6, 6, 6, 6, 6, 6, 6, 6, 6, 6, 6, 6, 6, 6, 6, 6, 6, 6, 6, 6, 6, 6, 6, 6, 6, 6, 6, 6, 6, 6, 6, 6, 6, 6, 6, 6, 6, 6, 6, 6, 6, 6, 6, 6, 6, 6, 6, 6, 6, 6, 6, 6, 6, 6, 6, 6, 6, 6, 6, 6, 6, 6, 6, 6, 6, 6, 6, 6, 6, 6, 6, 6, 6, 6, 6, 6, 6, 6, 6, 6, 6, 6, 6, 6, 6, 6, 6, 6, 6, 6, 6, 6, 6, 6, 6, 6, 6, 6, 6, 6, 6, 6, 6, 6, 6, 6, 6, 6, 6, 6, 6, 6, 6, 6, 6, 6, 6, 6, 6, 6, 6, 6, 6, 6, 6, 6, 6, 6, 6, 6, 6, 6, 6, 6, 6, 6, 6, 6, 6, 6, 6, 6, 6, 6, 6, 6, 6, 6, 6, 6, 6, 6, 6, 6, 6, 6, 6, 6, 6, 6, 6, 6, 6, 6, 6, 6, 6, 6, 6, 6, 6, 6, 6, 6, 6, 6, 6, 6, 6, 6, 6, 6, 6, 6, 6, 6, 6, 6, 6, 6, 6, 6, 6, 6, 6, 6, 6, 6, 6, 6, 6, 6, 6, 6, 6, 6, 6, 6, 6, 6, 6, 6, 6, 6, 6, 6, 6, 6, 6, 6, 6, 6, 6, 6, 6, 6, 6, 6, 6, 6, 6, 6, 6, 6, 6, 6, 6, 6, 6, 6, 6, 6, 6, 6, 6, 6, 6, 6, 6, 6, 6, 6, 6, 6, 6, 6, 6, 6, 6, 6, 6, 6, 6, 6, 6, 6, 6, 6, 6, 6, 6, 6, 6, 6, 6, 6, 6, 6, 6, 6, 6, 6, 6, 6, 6, 6, 6, 6, 6, 6, 6, 6, 6, 6, 6, 6, 6, 6, 6, 6, 6, 6, 6, 6, 6, 6, 6, 6, 6, 6, 6, 6, 6, 6, 6, 6, 6, 6, 6, 6, 6, 6, 6, 6, 6, 6, 6, 6, 6, 6, 6, 6, 6, 6, 6, 6, 6, 6, 6, 6, 6, 6, 6, 6, 6, 6, 6, 6, 6, 6, 6, 6, 6, 6, 6, 6, 6, 6, 6, 6, 6, 6, 6, 6, 6, 6, 6, 6, 6, 6, 6, 6, 6, 6, 6, 6, 6, 6, 6, 6, 6, 6, 6, 6, 6, 6, 6, 6, 6, 6, 6, 6, 6, 6, 6, 6, 6, 6, 6, 6, 6, 6, 6, 6, 6, 6, 6, 6, 6, 6, 6, 6, 6, 6, 6, 6, 6, 6, 6, 6, 6, 6, 6, 6, 6, 6, 6, 6, 6, 6, 6, 6, 6, 6, 6, 6, 6, 6, 6, 6, 6, 6, 6, 6, 6, 6, 6, 6, 6, 6, 6, 6, 6, 6, 6, 6, 6, 6, 6, 6, 6, 6, 6, 6, 6, 6, 6, 6, 6, 6, 6, 6, 6, 6, 6, 6, 6, 6, 6, 6, 6, 6, 6, 6, 6, 6, 6, 6, 6, 6, 6, 6, 6, 6, 6, 6, 6, 6, 6, 6, 6, 6, 6, 6, 6, 6, 6, 6, 6, 6, 6, 6, 6, 6, 6, 6, 6, 6, 6, 6, 6, 6, 6, 6, 6, 6, 6, 6, 6, 6, 6, 6, 6, 6, 6, 6, 6, 6, 6, 6, 6, 6, 6, 6, 6, 6, 6, 6, 6, 6, 6, 6, 6, 6, 6, 6, 6, 6, 6, 6, 6, 6, 6, 6, 6, 6, 6, 6, 6, 6, 6, 6, 6, 6, 6, 6, 6, 6, 6, 6, 6, 6, 6, 6, 6, 6, 6, 6, 6, 6, 6, 6, 6, 6, 6, 6, 6, 6, 6, 6, 6, 6, 6, 6, 6, 6, 6, 6, 6, 6, 6, 6, 6, 6, 6, 6, 6, 6, 6, 6, 6, 6, 6, 6, 6, 6, 6, 6, 6, 6, 6, 6, 6, 6, 6, 6, 6, 6, 6, 6, 6, 6, 6, 6, 6, 6, 6, 6, 6, 6, 6, 6, 6, 6, 6, 6, 6, 6, 6, 6, 6, 6, 6, 6, 6, 6, 6, 6, 6, 6, 6, 6, 6, 6, 6, 6, 6, 6, 6, 6, 6, 6, 6, 6, 6, 6, 6, 6, 6, 6, 6, 6, 6, 6, 6, 6, 6, 6, 6, 6, 6, 6, 6, 6, 6, 6, 6, 6, 6, 6, 6, 6, 6, 6, 6, 6, 6, 6, 6, 6, 6, 6, 6, 6, 6, 6, 6, 6, 6, 6, 6, 6, 6, 6, 6, 6, 6, 6, 6, 6, 6, 6, 6, 6, 6, 6, 6, 6, 6, 6, 6, 6, 6, 6, 6, 6, 6, 6, 6, 6, 6, 6, 6, 6, 6, 6, 6, 6, 6, 6, 6, 6, 6, 6, 6, 6, 6, 6, 6, 6, 6, 6, 6, 6, 6, 6, 6, 6, 6, 6, 6, 6, 6, 6, 6, 6, 6, 6, 6, 6, 6, 6, 6, 6, 6, 6, 6, 6, 6, 6, 6, 6, 6, 6, 6, 6, 6, 6, 6, 6, 6, 6, 6, 6, 6, 6, 6, 6, 6, 6, 6, 6, 6, 6, 6, 6, 6, 6, 6, 6, 6, 6, 6, 6, 6, 6, 6, 6, 6, 6, 6, 6, 6, 6, 6, 6, 6, 6, 6, 6, 6, 6, 6, 6, 6, 6, 6, 6, 6, 6, 6, 6, 6, 7, 7, 7, 7, 7, 7, 7, 7, 7, 7, 7, 7, 7, 7, 7, 7, 7, 7, 7, 7, 7, 7, 7, 7, 7, 7, 7, 7, 7, 7, 7, 7, 7, 7, 7, 7, 7, 7, 7, 7, 7, 7, 7, 7, 7, 7, 7, 7, 7, 7, 7, 7, 7, 7, 7, 7, 7, 7, 7, 7, 7, 7, 7, 7, 7, 7, 7, 7, 7, 7, 7, 7, 7, 7, 7, 7, 7, 7, 7, 7, 7, 7, 7, 7, 7, 7, 7, 7, 7, 7, 7, 7, 7, 7, 7, 7, 7, 7, 7, 7, 7, 7, 7, 7, 7, 7, 7, 7, 7, 7, 7, 7, 7, 7, 7, 7, 7, 7, 7, 7, 7, 7, 7, 7, 7, 7, 7, 7, 7, 7, 7, 7, 7, 7, 7, 7, 7, 7, 7, 7, 7, 7, 7, 7, 7, 7, 7, 7, 7, 7, 7, 7, 7, 7, 7, 7, 7, 7, 7, 7, 7, 7, 7, 7, 7, 7, 7, 7, 7, 7, 7, 7, 7, 7, 7, 7, 7, 7, 7, 7, 7, 7, 7, 7, 7, 7, 7, 7, 7, 7, 7, 7, 7, 7, 7, 7, 7, 7, 7, 7, 7, 7, 7, 7, 7, 7, 7, 7, 7, 7, 7, 7, 7, 7, 7, 7, 7, 7, 7, 7, 7, 7, 7, 7, 7, 7, 7, 7, 7, 7, 7, 7, 7, 7, 7, 7, 7, 7, 7, 7, 7, 7, 7, 7, 7, 7, 7, 7, 7, 7, 7, 7, 7, 7, 7, 7, 7, 7, 7, 7, 7, 7, 7, 7, 7, 7, 7, 7, 7, 7, 7, 7, 7, 7, 7, 7, 7, 7, 7, 7, 7, 7, 7, 7, 7, 7, 7, 7, 7, 7, 7, 7, 7, 7, 7, 7, 7, 7, 7, 7, 7, 7, 7, 7, 7, 7, 7, 7, 7, 7, 7, 7, 7, 7, 7, 7, 7, 7, 7, 7, 7, 7, 7, 7, 7, 7, 7, 7, 7, 7, 7, 7, 7, 7, 7, 7, 7, 7, 7, 7, 7, 7, 7, 7, 7, 7, 7, 7, 7, 7, 7, 7, 7, 7, 7, 7, 7, 7, 7, 7, 7, 7, 7, 7, 7, 7, 7, 7, 7, 7, 7, 7, 7, 7, 7, 7, 7, 7, 7, 7, 7, 7, 7, 7, 7, 7, 7, 7, 7, 7, 7, 7, 7, 7, 7, 7, 7, 7, 7, 7, 7, 7, 7, 7, 7, 7, 7, 7, 7, 7, 7, 7, 7, 7, 7, 7, 7, 7, 7, 7, 7, 7, 7, 7, 7, 7, 7, 7, 7, 7, 7, 7, 7, 7, 7, 7, 7, 7, 7, 7, 7, 7, 7, 7, 7, 7, 7, 7, 7, 7, 7, 7, 7, 7, 7, 7, 7, 7, 7, 7, 7, 7, 7, 7, 7, 7, 7, 7, 7, 7, 7, 7, 7, 7, 7, 7, 7, 7, 7, 7, 7, 7, 7, 7, 7, 7, 7, 7, 7, 7, 7, 7, 7, 7, 7, 7, 7, 7, 7, 7, 7, 7, 7, 7, 7, 7, 7, 7, 7, 7, 7, 7, 7, 7, 7, 7, 7, 7, 7, 7, 7, 7, 7, 7, 7, 7, 7, 7, 7, 7, 7, 7, 7, 7, 7, 7, 7, 7, 7, 7, 7, 7, 7, 7, 7, 7, 7, 7, 7, 7, 7, 7, 7, 7, 7, 7, 7, 7, 7, 7, 7, 7, 7, 7, 7, 7, 7, 7, 7, 7, 7, 7, 7, 7, 7, 7, 7, 7, 7, 7, 7, 7, 7, 7, 7, 7, 7, 7, 7, 7, 7, 7, 7, 7, 7, 7, 7, 7, 7, 7, 7, 7, 7, 7, 7, 7, 7, 7, 7, 7, 7, 7, 7, 7, 7, 7, 7, 7, 7, 7, 7, 7, 7, 7, 7, 7, 7, 7, 7, 7, 7, 7, 7, 7, 7, 7, 7, 7, 7, 7, 7, 7, 7, 7, 7, 7, 7, 7, 7, 7, 7, 7, 7, 7, 7, 7, 7, 7, 7, 7, 7, 7, 7, 7, 7, 7, 7, 7, 7, 7, 7, 7, 7, 7, 7, 7, 7, 7, 7, 7, 7, 7, 7, 7, 7, 7, 7, 7, 7, 7, 7, 7, 7, 7, 7, 7, 7, 7, 7, 7, 7, 7, 7, 7, 7, 7, 7, 7, 7, 7, 7, 7, 7, 7, 7, 7, 7, 7, 7, 7, 7, 7, 7, 7, 7, 7, 7, 7, 7, 7, 7, 7, 7, 7, 7, 7, 7, 7, 7, 7, 7, 7, 7, 7, 7, 7, 7, 7, 7, 7, 7, 7, 7, 7, 7, 7, 7, 7, 7, 7, 7, 7, 7, 7, 7, 7, 7, 7, 7, 7, 7, 7, 7, 7, 7, 7, 7, 7, 7, 7, 7, 7, 7, 7, 7, 7, 7, 7, 7, 7, 7, 7, 7, 7, 7, 7, 7, 7, 7, 7, 7, 7, 7, 7, 7, 7, 7, 7, 7, 7, 7, 7, 7, 7, 7, 7, 7, 7, 7, 7, 7, 7, 7, 7, 7, 7, 7, 7, 7, 7, 7, 7, 7, 7, 7, 7, 7, 7, 7, 7, 7, 7, 7, 7, 7, 7, 7, 7, 7, 7, 7, 7, 7, 7, 7, 7, 7, 7, 7, 7, 7, 7, 7, 7, 7, 7, 7, 7, 7, 7, 7, 7, 7, 7, 7, 7, 7, 7, 7, 7, 7, 7, 7, 7, 7, 7, 7, 7, 7, 7, 7, 7, 7, 7, 7, 7, 7, 7, 7, 7, 7, 7, 7, 7, 7, 7, 7, 7, 7, 7, 7, 7, 7, 7, 7, 7, 7, 7, 7, 7, 7, 7, 7, 7, 7, 7, 7, 7, 7, 7, 7, 7, 7, 7, 7, 7, 7, 7, 7, 7, 7, 7, 7, 7, 7, 7, 7, 7, 7, 7, 8, 8, 8, 8, 8, 8, 8, 8, 8, 8, 8, 8, 8, 8, 8, 8, 8, 8, 8, 8, 8, 8, 8, 8, 8, 8, 8, 8, 8, 8, 8, 8, 8, 8, 8, 8, 8, 8, 8, 8, 8, 8, 8, 8, 8, 8, 8, 8, 8, 8, 8, 8, 8, 8, 8, 8, 8, 8, 8, 8, 8, 8, 8, 8, 8, 8, 8, 8, 8, 8, 8, 8, 8, 8, 8, 8, 8, 8, 8, 8, 8, 8, 8, 8, 8, 8, 8, 8, 8, 8, 8, 8, 8, 8, 8, 8, 8, 8, 8, 8, 8, 8, 8, 8, 8, 8, 8, 8, 8, 8, 8, 8, 8, 8, 8, 8, 8, 8, 8, 8, 8, 8, 8, 8, 8, 8, 8, 8, 8, 8, 8, 8, 8, 8, 8, 8, 8, 8, 8, 8, 8, 8, 8, 8, 8, 8, 8, 8, 8, 8, 8, 8, 8, 8, 8, 8, 8, 8, 8, 8, 8, 8, 8, 8, 8, 8, 8, 8, 8, 8, 8, 8, 8, 8, 8, 8, 8, 8, 8, 8, 8, 8, 8, 8, 8, 8, 8, 8, 8, 8, 8, 8, 8, 8, 8, 8, 8, 8, 8, 8, 8, 8, 8, 8, 8, 8, 8, 8, 8, 8, 8, 8, 8, 8, 8, 8, 8, 8, 8, 8, 8, 8, 8, 8, 8, 8, 8, 8, 8, 8, 8, 8, 8, 8, 8, 8, 8, 8, 8, 8, 8, 8, 8, 8, 8, 8, 8, 8, 8, 8, 8, 8, 8, 8, 8, 8, 8, 8, 8, 8, 8, 8, 8, 8, 8, 8, 8, 8, 8, 8, 8, 8, 8, 8, 8, 8, 8, 8, 8, 8, 8, 8, 8, 8, 8, 8, 8, 8, 8, 8, 8, 8, 8, 8, 8, 8, 8, 8, 8, 8, 8, 8, 8, 8, 8, 8, 8, 8, 8, 8, 8, 8, 8, 8, 8, 8, 8, 8, 8, 8, 8, 8, 8, 8, 8, 8, 8, 8, 8, 8, 8, 8, 8, 8, 8, 8, 8, 8, 8, 8, 8, 8, 8, 8, 8, 8, 8, 8, 8, 8, 8, 8, 8, 8, 8, 8, 8, 8, 8, 8, 8, 8, 8, 8, 8, 8, 8, 8, 8, 8, 8, 8, 8, 8, 8, 8, 8, 8, 8, 8, 8, 8, 8, 8, 8, 8, 8, 8, 8, 8, 8, 8, 8, 8, 8, 8, 8, 8, 8, 8, 8, 8, 8, 8, 8, 8, 8, 8, 8, 8, 8, 8, 8, 8, 8, 8, 8, 8, 8, 8, 8, 8, 8, 8, 8, 8, 8, 8, 8, 8, 8, 8, 8, 8, 8, 8, 8, 8, 8, 8, 8, 8, 8, 8, 8, 8, 8, 8, 8, 8, 8, 8, 8, 8, 8, 8, 8, 8, 8, 8, 8, 8, 8, 8, 8, 8, 8, 8, 8, 8, 8, 8, 8, 8, 8, 8, 8, 8, 8, 8, 8, 8, 8, 8, 8, 8, 8, 8, 8, 8, 8, 8, 8, 8, 8, 8, 8, 8, 8, 8, 8, 8, 8, 8, 8, 8, 8, 8, 8, 8, 8, 8, 8, 8, 8, 8, 8, 8, 8, 8, 8, 8, 8, 8, 8, 8, 8, 8, 8, 8, 8, 8, 8, 8, 8, 8, 8, 8, 8, 8, 8, 8, 8, 8, 8, 8, 8, 8, 8, 8, 8, 8, 8, 8, 8, 8, 8, 8, 8, 8, 8, 8, 8, 8, 8, 8, 8, 8, 8, 8, 8, 8, 8, 8, 8, 8, 8, 8, 8, 8, 8, 8, 8, 8, 8, 8, 8, 8, 8, 8, 8, 8, 8, 8, 8, 8, 8, 8, 8, 8, 8, 8, 8, 8, 8, 8, 8, 8, 8, 8, 8, 8, 8, 8, 8, 8, 8, 8, 8, 8, 8, 8, 8, 8, 8, 8, 8, 8, 8, 8, 8, 8, 8, 8, 8, 8, 8, 8, 8, 8, 8, 8, 8, 8, 8, 8, 8, 8, 8, 8, 8, 8, 8, 8, 8, 8, 8, 8, 8, 8, 8, 8, 8, 8, 8, 8, 8, 8, 8, 8, 8, 8, 8, 8, 8, 8, 8, 8, 8, 8, 8, 8, 8, 8, 8, 8, 8, 8, 8, 8, 8, 8, 8, 8, 8, 8, 8, 8, 8, 8, 8, 8, 8, 8, 8, 8, 8, 8, 8, 8, 8, 8, 8, 8, 8, 8, 8, 8, 8, 8, 8, 8, 8, 8, 8, 8, 8, 8, 8, 8, 8, 8, 8, 8, 8, 8, 8, 8, 8, 8, 8, 8, 8, 8, 8, 8, 8, 8, 8, 8, 8, 8, 8, 8, 8, 8, 8, 8, 8, 8, 8, 8, 8, 8, 8, 8, 8, 8, 8, 8, 8, 8, 8, 8, 8, 8, 8, 8, 8, 8, 8, 8, 8, 8, 8, 8, 8, 8, 8, 8, 8, 8, 8, 8, 8, 8, 8, 8, 8, 8, 8, 8, 8, 8, 8, 8, 8, 8, 8, 8, 8, 8, 8, 8, 8, 8, 8, 8, 8, 8, 8, 8, 8, 8, 8, 8, 8, 8, 8, 8, 8, 8, 8, 8, 8, 8, 8, 8, 8, 8, 8, 8, 8, 8, 8, 8, 8, 8, 8, 8, 8, 8, 8, 8, 8, 8, 8, 8, 8, 8, 8, 8, 8, 8, 8, 8, 8, 8, 8, 8, 8, 8, 8, 8, 8, 8, 8, 8, 8, 8, 8, 8, 8, 8, 8, 8, 8, 8, 8, 8, 8, 8, 8, 8, 8, 8, 8, 8, 8, 8, 8, 8, 8, 8, 8, 8, 8, 8, 8, 8, 8, 8, 8, 8, 8, 8, 8, 8, 8, 8, 8, 8, 8, 8, 8, 8, 8, 8, 8, 8, 8, 8, 8, 8, 8, 8, 8, 8, 8, 8, 8, 8, 8, 8, 8, 8, 8, 8, 8, 8, 8, 8, 8, 8, 8, 8, 8, 8, 8, 8, 8, 8, 8, 8, 8, 8, 8, 8, 8, 8, 9, 9, 9, 9, 9, 9, 9, 9, 9, 9, 9, 9, 9, 9, 9, 9, 9, 9, 9, 9, 9, 9, 9, 9, 9, 9, 9, 9, 9, 9, 9, 9, 9, 9, 9, 9, 9, 9, 9, 9, 9, 9, 9, 9, 9, 9, 9, 9, 9, 9, 9, 9, 9, 9, 9, 9, 9, 9, 9, 9, 9, 9, 9, 9, 9, 9, 9, 9, 9, 9, 9, 9, 9, 9, 9, 9, 9, 9, 9, 9, 9, 9, 9, 9, 9, 9, 9, 9, 9, 9, 9, 9, 9, 9, 9, 9, 9, 9, 9, 9, 9, 9, 9, 9, 9, 9, 9, 9, 9, 9, 9, 9, 9, 9, 9, 9, 9, 9, 9, 9, 9, 9, 9, 9, 9, 9, 9, 9, 9, 9, 9, 9, 9, 9, 9, 9, 9, 9, 9, 9, 9, 9, 9, 9, 9, 9, 9, 9, 9, 9, 9, 9, 9, 9, 9, 9, 9, 9, 9, 9, 9, 9, 9, 9, 9, 9, 9, 9, 9, 9, 9, 9, 9, 9, 9, 9, 9, 9, 9, 9, 9, 9, 9, 9, 9, 9, 9, 9, 9, 9, 9, 9, 9, 9, 9, 9, 9, 9, 9, 9, 9, 9, 9, 9, 9, 9, 9, 9, 9, 9, 9, 9, 9, 9, 9, 9, 9, 9, 9, 9, 9, 9, 9, 9, 9, 9, 9, 9, 9, 9, 9, 9, 9, 9, 9, 9, 9, 9, 9, 9, 9, 9, 9, 9, 9, 9, 9, 9, 9, 9, 9, 9, 9, 9, 9, 9, 9, 9, 9, 9, 9, 9, 9, 9, 9, 9, 9, 9, 9, 9, 9, 9, 9, 9, 9, 9, 9, 9, 9, 9, 9, 9, 9, 9, 9, 9, 9, 9, 9, 9, 9, 9, 9, 9, 9, 9, 9, 9, 9, 9, 9, 9, 9, 9, 9, 9, 9, 9, 9, 9, 9, 9, 9, 9, 9, 9, 9, 9, 9, 9, 9, 9, 9, 9, 9, 9, 9, 9, 9, 9, 9, 9, 9, 9, 9, 9, 9, 9, 9, 9, 9, 9, 9, 9, 9, 9, 9, 9, 9, 9, 9, 9, 9, 9, 9, 9, 9, 9, 9, 9, 9, 9, 9, 9, 9, 9, 9, 9, 9, 9, 9, 9, 9, 9, 9, 9, 9, 9, 9, 9, 9, 9, 9, 9, 9, 9, 9, 9, 9, 9, 9, 9, 9, 9, 9, 9, 9, 9, 9, 9, 9, 9, 9, 9, 9, 9, 9, 9, 9, 9, 9, 9, 9, 9, 9, 9, 9, 9, 9, 9, 9, 9, 9, 9, 9, 9, 9, 9, 9, 9, 9, 9, 9, 9, 9, 9, 9, 9, 9, 9, 9, 9, 9, 9, 9, 9, 9, 9, 9, 9, 9, 9, 9, 9, 9, 9, 9, 9, 9, 9, 9, 9, 9, 9, 9, 9, 9, 9, 9, 9, 9, 9, 9, 9, 9, 9, 9, 9, 9, 9, 9, 9, 9, 9, 9, 9, 9, 9, 9, 9, 9, 9, 9, 9, 9, 9, 9, 9, 9, 9, 9, 9, 9, 9, 9, 9, 9, 9, 9, 9, 9, 9, 9, 9, 9, 9, 9, 9, 9, 9, 9, 9, 9, 9, 9, 9, 9, 9, 9, 9, 9, 9, 9, 9, 9, 9, 9, 9, 9, 9, 9, 9, 9, 9, 9, 9, 9, 9, 9, 9, 9, 9, 9, 9, 9, 9, 9, 9, 9, 9, 9, 9, 9, 9, 9, 9, 9, 9, 9, 9, 9, 9, 9, 9, 9, 9, 9, 9, 9, 9, 9, 9, 9, 9, 9, 9, 9, 9, 9, 9, 9, 9, 9, 9, 9, 9, 9, 9, 9, 9, 9, 9, 9, 9, 9, 9, 9, 9, 9, 9, 9, 9, 9, 9, 9, 9, 9, 9, 9, 9, 9, 9, 9, 9, 9, 9, 9, 9, 9, 9, 9, 9, 9, 9, 9, 9, 9, 9, 9, 9, 9, 9, 9, 9, 9, 9, 9, 9, 9, 9, 9, 9, 9, 9, 9, 9, 9, 9, 9, 9, 9, 9, 9, 9, 9, 9, 9, 9, 9, 9, 9, 9, 9, 9, 9, 9, 9, 9, 9, 9, 9, 9, 9, 9, 9, 9, 9, 9, 9, 9, 9, 9, 9, 9, 9, 9, 9, 9, 9, 9, 9, 9, 9, 9, 9, 9, 9, 9, 9, 9, 9, 9, 9, 9, 9, 9, 9, 9, 9, 9, 9, 9, 9, 9, 9, 9, 9, 9, 9, 9, 9, 9, 9, 9, 9, 9, 9, 9, 9, 9, 9, 9, 9, 9, 9, 9, 9, 9, 9, 9, 9, 9, 9, 9, 9, 9, 9, 9, 9, 9, 9, 9, 9, 9, 9, 9, 9, 9, 9, 9, 9, 9, 9, 9, 9, 9, 9, 9, 9, 9, 9, 9, 9, 9, 9, 9, 9, 9, 9, 9, 9, 9, 9, 9, 9, 9, 9, 9, 9, 9, 9, 9, 9, 9, 9, 9, 9, 9, 9, 9, 9, 9, 9, 9, 9, 9, 9, 9, 9, 9, 9, 9, 9, 9, 9, 9, 9, 9, 9, 9, 9, 9, 9, 9, 9, 9, 9, 9, 9, 9, 9, 9, 9, 9, 9, 9, 9, 9, 9, 9, 9, 9, 9, 9, 9, 9, 9, 9, 9, 9, 9, 9, 9, 9, 9, 9, 9, 9, 9, 9, 9, 9, 9, 9, 9, 9, 9, 9, 9, 9, 9, 9, 9, 9, 9, 9, 9, 9, 9, 9, 9, 9, 9, 9, 9, 9, 9, 9, 9, 9, 9, 9, 9, 9, 9, 9, 9, 9, 9, 9, 9, 9, 9, 9, 9, 9, 9, 9, 9, 9, 9, 9, 9, 9, 9, 9, 9, 9, 9, 9, 9, 9, 9, 9, 9, 9, 9, 9, 9, 9, 9, 9, 9, 9, 9, 9, 9, 9, 9, 9, 9, 9, 9, 9, 9, 9, 9, 9, 9, 9, 9, 9, 9, 9, 9, 9, 9, 9, 9, 9, 9, 9, 9, 9, 9, 9, 9, 9, 9, 9, 9, 9, 9, 9, 9, 9, 9, 9, 9, 9, 10, 10, 10, 10, 10, 10, 10, 10, 10, 10, 10, 10, 10, 10, 10, 10, 10, 10, 10, 10, 10, 10, 10, 10, 10, 10, 10, 10, 10, 10, 10, 10, 10, 10, 10, 10, 10, 10, 10, 10, 10, 10, 10, 10, 10, 10, 10, 10, 10, 10, 10, 10, 10, 10, 10, 10, 10, 10, 10, 10, 10, 10, 10, 10, 10, 10, 10, 10, 10, 10, 10, 10, 10, 10, 10, 10, 10, 10, 10, 10, 10, 10, 10, 10, 10, 10, 10, 10, 10, 10, 10, 10, 10, 10, 10, 10, 10, 10, 10, 10, 10, 10, 10, 10, 10, 10, 10, 10, 10, 10, 10, 10, 10, 10, 10, 10, 10, 10, 10, 10, 10, 10, 10, 10, 10, 10, 10, 10, 10, 10, 10, 10, 10, 10, 10, 10, 10, 10, 10, 10, 10, 10, 10, 10, 10, 10, 10, 10, 10, 10, 10, 10, 10, 10, 10, 10, 10, 10, 10, 10, 10, 10, 10, 10, 10, 10, 10, 10, 10, 10, 10, 10, 10, 10, 10, 10, 10, 10, 10, 10, 10, 10, 10, 10, 10, 10, 10, 10, 10, 10, 10, 10, 10, 10, 10, 10, 10, 10, 10, 10, 10, 10, 10, 10, 10, 10, 10, 10, 10, 10, 10, 10, 10, 10, 10, 10, 10, 10, 10, 10, 10, 10, 10, 10, 10, 10, 10, 10, 10, 10, 10, 10, 10, 10, 10, 10, 10, 10, 10, 10, 10, 10, 10, 10, 10, 10, 10, 10, 10, 10, 10, 10, 10, 10, 10, 10, 10, 10, 10, 10, 10, 10, 10, 10, 10, 10, 10, 10, 10, 10, 10, 10, 10, 10, 10, 10, 10, 10, 10, 10, 10, 10, 10, 10, 10, 10, 10, 10, 10, 10, 10, 10, 10, 10, 10, 10, 10, 10, 10, 10, 10, 10, 10, 10, 10, 10, 10, 10, 10, 10, 10, 10, 10, 10, 10, 10, 10, 10, 10, 10, 10, 10, 10, 10, 10, 10, 10, 10, 10, 10, 10, 10, 10, 10, 10, 10, 10, 10, 10, 10, 10, 10, 10, 10, 10, 10, 10, 10, 10, 10, 10, 10, 10, 10, 10, 10, 10, 10, 10, 10, 10, 10, 10, 10, 10, 10, 10, 10, 10, 10, 10, 10, 10, 10, 10, 10, 10, 10, 10, 10, 10, 10, 10, 10, 10, 10, 10, 10, 10, 10, 10, 10, 10, 10, 10, 10, 10, 10, 10, 10, 10, 10, 10, 10, 10, 10, 10, 10, 10, 10, 10, 10, 10, 10, 10, 10, 10, 10, 10, 10, 10, 10, 10, 10, 10, 10, 10, 10, 10, 10, 10, 10, 10, 10, 10, 10, 10, 10, 10, 10, 10, 10, 10, 10, 10, 10, 10, 10, 10, 10, 10, 10, 10, 10, 10, 10, 10, 10, 10, 10, 10, 10, 10, 10, 10, 10, 10, 10, 10, 10, 10, 10, 10, 10, 10, 10, 10, 10, 10, 10, 10, 10, 10, 10, 10, 10, 10, 10, 10, 10, 10, 10, 10, 10, 10, 10, 10, 10, 10, 10, 10, 10, 10, 10, 10, 10, 10, 10, 10, 10, 10, 10, 10, 10, 10, 10, 10, 10, 10, 10, 10, 10, 10, 10, 10, 10, 10, 10, 10, 10, 10, 10, 10, 10, 10, 10, 10, 10, 10, 10, 10, 10, 10, 10, 10, 10, 10, 10, 10, 10, 10, 10, 10, 10, 10, 10, 10, 10, 10, 10, 10, 10, 10, 10, 10, 10, 10, 10, 10, 10, 10, 10, 10, 10, 10, 10, 10, 10, 10, 10, 10, 10, 10, 10, 10, 10, 10, 10, 10, 10, 10, 10, 10, 10, 10, 10, 10, 10, 10, 10, 10, 10, 10, 10, 10, 10, 10, 10, 10, 10, 10, 10, 10, 10, 10, 10, 10, 10, 10, 10, 10, 10, 10, 10, 10, 10, 10, 10, 10, 10, 10, 10, 10, 10, 10, 10, 10, 10, 10, 10, 10, 10, 10, 10, 10, 10, 10, 10, 10, 10, 10, 10, 10, 10, 10, 10, 10, 10, 10, 10, 10, 10, 10, 10, 10, 10, 10, 10, 10, 10, 10, 10, 10, 10, 10, 10, 10, 10, 10, 10, 10, 10, 10, 10, 10, 10, 10, 10, 10, 10, 10, 10, 10, 10, 10, 10, 10, 10, 10, 10, 10, 10, 10, 10, 10, 10, 10, 10, 10, 10, 10, 10, 10, 10, 10, 10, 10, 10, 10, 10, 10, 10, 10, 10, 10, 10, 10, 10, 10, 10, 10, 10, 10, 10, 10, 10, 10, 10, 10, 10, 10, 10, 10, 10, 10, 10, 10, 10, 10, 10, 10, 10, 10, 10, 10, 10, 10, 10, 10, 10, 10, 10, 10, 10, 10, 10, 10, 10, 10, 10, 10, 10, 10, 10, 10, 10, 10, 10, 10, 10, 10, 10, 10, 10, 10, 10, 10, 10, 10, 10, 10, 10, 10, 10, 10, 10, 10, 10, 10, 10, 10, 10, 10, 10, 10, 10, 10, 10, 10, 10, 10, 10, 10, 10, 10, 10, 10, 10, 10, 10, 10, 10, 10, 10, 10, 10, 10, 10, 10, 10, 10, 10, 10, 10, 10, 10, 10, 10, 10, 10, 10, 10, 10, 10, 10, 10, 10, 10, 10, 10, 10, 10, 10, 10, 10, 10, 10, 10, 10, 10, 10, 10, 10, 10, 10, 10, 10, 10, 10, 10, 10, 10, 10, 10, 10, 10, 10, 10, 10, 10, 10, 10, 10, 10, 10, 10, 10, 10, 10, 10, 10, 10, 10, 10, 10, 10, 10, 10, 10, 10, 10, 10, 10, 10, 10, 10, 10, 10, 10, 10, 10, 10, 10, 10, 10, 10, 10, 10, 10, 10, 10, 10, 10, 10, 10, 10, 10, 10, 10, 10, 10, 10, 10, 10, 10, 10, 10, 10, 10, 10, 10, 10, 10, 10, 10, 10, 10, 10, 10, 10, 11, 11, 11, 11, 11, 11, 11, 11, 11, 11, 11, 11, 11, 11, 11, 11, 11, 11, 11, 11, 11, 11, 11, 11, 11, 11, 11, 11, 11, 11, 11, 11, 11, 11, 11, 11, 11, 11, 11, 11, 11, 11, 11, 11, 11, 11, 11, 11, 11, 11, 11, 11, 11, 11, 11, 11, 11, 11, 11, 11, 11, 11, 11, 11, 11, 11, 11, 11, 11, 11, 11, 11, 11, 11, 11, 11, 11, 11, 11, 11, 11, 11, 11, 11, 11, 11, 11, 11, 11, 11, 11, 11, 11, 11, 11, 11, 11, 11, 11, 11, 11, 11, 11, 11, 11, 11, 11, 11, 11, 11, 11, 11, 11, 11, 11, 11, 11, 11, 11, 11, 11, 11, 11, 11, 11, 11, 11, 11, 11, 11, 11, 11, 11, 11, 11, 11, 11, 11, 11, 11, 11, 11, 11, 11, 11, 11, 11, 11, 11, 11, 11, 11, 11, 11, 11, 11, 11, 11, 11, 11, 11, 11, 11, 11, 11, 11, 11, 11, 11, 11, 11, 11, 11, 11, 11, 11, 11, 11, 11, 11, 11, 11, 11, 11, 11, 11, 11, 11, 11, 11, 11, 11, 11, 11, 11, 11, 11, 11, 11, 11, 11, 11, 11, 11, 11, 11, 11, 11, 11, 11, 11, 11, 11, 11, 11, 11, 11, 11, 11, 11, 11, 11, 11, 11, 11, 11, 11, 11, 11, 11, 11, 11, 11, 11, 11, 11, 11, 11, 11, 11, 11, 11, 11, 11, 11, 11, 11, 11, 11, 11, 11, 11, 11, 11, 11, 11, 11, 11, 11, 11, 11, 11, 11, 11, 11, 11, 11, 11, 11, 11, 11, 11, 11, 11, 11, 11, 11, 11, 11, 11, 11, 11, 11, 11, 11, 11, 11, 11, 11, 11, 11, 11, 11, 11, 11, 11, 11, 11, 11, 11, 11, 11, 11, 11, 11, 11, 11, 11, 11, 11, 11, 11, 11, 11, 11, 11, 11, 11, 11, 11, 11, 11, 11, 11, 11, 11, 11, 11, 11, 11, 11, 11, 11, 11, 11, 11, 11, 11, 11, 11, 11, 11, 11, 11, 11, 11, 11, 11, 11, 11, 11, 11, 11, 11, 11, 11, 11, 11, 11, 11, 11, 11, 11, 11, 11, 11, 11, 11, 11, 11, 11, 11, 11, 11, 11, 11, 11, 11, 11, 11, 11, 11, 11, 11, 11, 11, 11, 11, 11, 11, 11, 11, 11, 11, 11, 11, 11, 11, 11, 11, 11, 11, 11, 11, 11, 11, 11, 11, 11, 11, 11, 11, 11, 11, 11, 11, 11, 11, 11, 11, 11, 11, 11, 11, 11, 11, 11, 11, 11, 11, 11, 11, 11, 11, 11, 11, 11, 11, 11, 11, 11, 11, 11, 11, 11, 11, 11, 11, 11, 11, 11, 11, 11, 11, 11, 11, 11, 11, 11, 11, 11, 11, 11, 11, 11, 11, 11, 11, 11, 11, 11, 11, 11, 11, 11, 11, 11, 11, 11, 11, 11, 11, 11, 11, 11, 11, 11, 11, 11, 11, 11, 11, 11, 11, 11, 11, 11, 11, 11, 11, 11, 11, 11, 11, 11, 11, 11, 11, 11, 11, 11, 11, 11, 11, 11, 11, 11, 11, 11, 11, 11, 11, 11, 11, 11, 11, 11, 11, 11, 11, 11, 11, 11, 11, 11, 11, 11, 11, 11, 11, 11, 11, 11, 11, 11, 11, 11, 11, 11, 11, 11, 11, 11, 11, 11, 11, 11, 11, 11, 11, 11, 11, 11, 11, 11, 11, 11, 11, 11, 11, 11, 11, 11, 11, 11, 11, 11, 11, 11, 11, 11, 11, 11, 11, 11, 11, 11, 11, 11, 11, 11, 11, 11, 11, 11, 11, 11, 11, 11, 11, 11, 11, 11, 11, 11, 11, 11, 11, 11, 11, 11, 11, 11, 11, 11, 11, 11, 11, 11, 11, 11, 11, 11, 11, 11, 11, 11, 11, 11, 11, 11, 11, 11, 11, 11, 11, 11, 11, 11, 11, 11, 11, 11, 11, 11, 11, 11, 11, 11, 11, 11, 11, 11, 11, 11, 11, 11, 11, 11, 11, 11, 11, 11, 11, 11, 11, 11, 11, 11, 11, 11, 11, 11, 11, 11, 11, 11, 11, 11, 11, 11, 11, 11, 11, 11, 11, 11, 11, 11, 11, 11, 11, 11, 11, 11, 11, 11, 11, 11, 11, 11, 11, 11, 11, 11, 11, 11, 11, 11, 11, 11, 11, 11, 11, 11, 11, 11, 11, 11, 11, 11, 11, 11, 11, 11, 11, 11, 11, 11, 11, 11, 11, 11, 11, 11, 11, 11, 11, 11, 11, 11, 11, 11, 11, 11, 11, 11, 11, 11, 11, 11, 11, 11, 11, 11, 11, 11, 11, 11, 11, 11, 11, 11, 11, 11, 11, 11, 11, 11, 11, 11, 11, 11, 11, 11, 11, 11, 11, 11, 11, 11, 11, 11, 11, 11, 11, 11, 11, 11, 11, 11, 11, 11, 11, 11, 11, 11, 11, 11, 11, 11, 11, 11, 11, 11, 11, 11, 11, 11, 11, 11, 11, 11, 11, 11, 11, 11, 11, 11, 11, 11, 11, 11, 11, 11, 11, 11, 11, 11, 11, 11, 11, 11, 11, 11, 11, 11, 11, 11, 11, 11, 11, 11, 11, 11, 11, 11, 11, 11, 11, 11, 11, 11, 11, 11, 11, 11, 11, 11, 11, 11, 11, 11, 11, 11, 11, 11, 11, 11, 11, 11, 11, 11, 11, 11, 11, 11, 11, 11, 11, 11, 11, 11, 11, 11, 11, 11, 11, 11, 11, 11, 11, 11, 11, 11, 11, 11, 11, 11, 11, 11, 11, 11, 11, 11, 11, 11, 11, 11, 11, 11, 11, 11, 11, 11, 11, 11, 11, 11, 11, 11, 11, 11, 11, 11, 11, 11, 11, 11, 11, 11, 11, 11, 11, 11, 11, 11, 11, 11, 11, 11, 11, 11, 11, 11, 11, 11, 11, 11, 11, 11, 11, 11, 11, 11, 11, 11, 11, 11, 11, 11, 11, 11, 11, 11, 11, 11, 11, 11, 11, 12, 12, 12, 12, 12, 12, 12, 12, 12, 12, 12, 12, 12, 12, 12, 12, 12, 12, 12, 12, 12, 12, 12, 12, 12, 12, 12, 12, 12, 12, 12, 12, 12, 12, 12, 12, 12, 12, 12, 12, 12, 12, 12, 12, 12, 12, 12, 12, 12, 12, 12, 12, 12, 12, 12, 12, 12, 12, 12, 12, 12, 12, 12, 12, 12, 12, 12, 12, 12, 12, 12, 12, 12, 12, 12, 12, 12, 12, 12, 12, 12, 12, 12, 12, 12, 12, 12, 12, 12, 12, 12, 12, 12, 12, 12, 12, 12, 12, 12, 12, 12, 12, 12, 12, 12, 12, 12, 12, 12, 12, 12, 12, 12, 12, 12, 12, 12, 12, 12, 12, 12, 12, 12, 12, 12, 12, 12, 12, 12, 12, 12, 12, 12, 12, 12, 12, 12, 12, 12, 12, 12, 12, 12, 12, 12, 12, 12, 12, 12, 12, 12, 12, 12, 12, 12, 12, 12, 12, 12, 12, 12, 12, 12, 12, 12, 12, 12, 12, 12, 12, 12, 12, 12, 12, 12, 12, 12, 12, 12, 12, 12, 12, 12, 12, 12, 12, 12, 12, 12, 12, 12, 12, 12, 12, 12, 12, 12, 12, 12, 12, 12, 12, 12, 12, 12, 12, 12, 12, 12, 12, 12, 12, 12, 12, 12, 12, 12, 12, 12, 12, 12, 12, 12, 12, 12, 12, 12, 12, 12, 12, 12, 12, 12, 12, 12, 12, 12, 12, 12, 12, 12, 12, 12, 12, 12, 12, 12, 12, 12, 12, 12, 12, 12, 12, 12, 12, 12, 12, 12, 12, 12, 12, 12, 12, 12, 12, 12, 12, 12, 12, 12, 12, 12, 12, 12, 12, 12, 12, 12, 12, 12, 12, 12, 12, 12, 12, 12, 12, 12, 12, 12, 12, 12, 12, 12, 12, 12, 12, 12, 12, 12, 12, 12, 12, 12, 12, 12, 12, 12, 12, 12, 12, 12, 12, 12, 12, 12, 12, 12, 12, 12, 12, 12, 12, 12, 12, 12, 12, 12, 12, 12, 12, 12, 12, 12, 12, 12, 12, 12, 12, 12, 12, 12, 12, 12, 12, 12, 12, 12, 12, 12, 12, 12, 12, 12, 12, 12, 12, 12, 12, 12, 12, 12, 12, 12, 12, 12, 12, 12, 12, 12, 12, 12, 12, 12, 12, 12, 12, 12, 12, 12, 12, 12, 12, 12, 12, 12, 12, 12, 12, 12, 12, 12, 12, 12, 12, 12, 12, 12, 12, 12, 12, 12, 12, 12, 12, 12, 12, 12, 12, 12, 12, 12, 12, 12, 12, 12, 12, 12, 12, 12, 12, 12, 12, 12, 12, 12, 12, 12, 12, 12, 12, 12, 12, 12, 12, 12, 12, 12, 12, 12, 12, 12, 12, 12, 12, 12, 12, 12, 12, 12, 12, 12, 12, 12, 12, 12, 12, 12, 12, 12, 12, 12, 12, 12, 12, 12, 12, 12, 12, 12, 12, 12, 12, 12, 12, 12, 12, 12, 12, 12, 12, 12, 12, 12, 12, 12, 12, 12, 12, 12, 12, 12, 12, 12, 12, 12, 12, 12, 12, 12, 12, 12, 12, 12, 12, 12, 12, 12, 12, 12, 12, 12, 12, 12, 12, 12, 12, 12, 12, 12, 12, 12, 12, 12, 12, 12, 12, 12, 12, 12, 12, 12, 12, 12, 12, 12, 12, 12, 12, 12, 12, 12, 12, 12, 12, 12, 12, 12, 12, 12, 12, 12, 12, 12, 12, 12, 12, 12, 12, 12, 12, 12, 12, 12, 12, 12, 12, 12, 12, 12, 12, 12, 12, 12, 12, 12, 12, 12, 12, 12, 12, 12, 12, 12, 12, 12, 12, 12, 12, 12, 12, 12, 12, 12, 12, 12, 12, 12, 12, 12, 12, 12, 12, 12, 12, 12, 12, 12, 12, 12, 12, 12, 12, 12, 12, 12, 12, 12, 12, 12, 12, 12, 12, 12, 12, 12, 12, 12, 12, 12, 12, 12, 12, 12, 12, 12, 12, 12, 12, 12, 12, 12, 12, 12, 12, 12, 12, 12, 12, 12, 12, 12, 12, 12, 12, 12, 12, 12, 12, 12, 12, 12, 12, 12, 12, 12, 12, 12, 12, 12, 12, 12, 12, 12, 12, 12, 12, 12, 12, 12, 12, 12, 12, 12, 12, 12, 12, 12, 12, 12, 12, 12, 12, 12, 12, 12, 12, 12, 12, 12, 12, 12, 12, 12, 12, 12, 12, 12, 12, 12, 12, 12, 12, 12, 12, 12, 12, 12, 12, 12, 12, 12, 12, 12, 12, 12, 12, 12, 12, 12, 12, 12, 12, 12, 12, 12, 12, 12, 12, 12, 12, 12, 12, 12, 12, 12, 12, 12, 12, 12, 12, 12, 12, 12, 12, 12, 12, 12, 12, 12, 12, 12, 12, 12, 12, 12, 12, 12, 12, 12, 12, 12, 12, 12, 12, 12, 12, 12, 12, 12, 12, 12, 12, 12, 12, 12, 12, 12, 12, 12, 12, 12, 12, 12, 12, 12, 12, 12, 12, 12, 12, 12, 12, 12, 12, 12, 12, 12, 12, 12, 12, 12, 12, 12, 12, 12, 12, 12, 12, 12, 12, 12, 12, 12, 12, 12, 12, 12, 12, 12, 12, 12, 12, 12, 12, 12, 12, 12, 12, 12, 12, 12, 12, 12, 12, 12, 12, 12, 12, 12, 12, 12, 12, 12, 12, 12, 12, 12, 12, 12, 12, 12, 12, 12, 12, 12, 12, 12, 12, 12, 12, 12, 12, 12, 12, 12, 12, 12, 12, 12, 12, 12, 12, 12, 12, 12, 12, 12, 12, 12, 12, 12, 12, 12, 12, 12, 12, 12, 12, 12, 12, 12, 12, 12, 12, 12, 12, 12, 12, 12, 12, 12, 12, 12, 12, 12, 12, 12, 12, 12, 12, 12, 12, 12, 12, 12, 12, 12, 12, 12, 12, 12, 12, 12, 12, 12, 12, 12, 12, 12, 12, 12, 12, 12, 12, 12, 12, 12, 12, 12, 12, 12, 12, 12, 12, 12, 12, 12, 12, 12, 12, 12, 12, 12, 12, 12, 12, 12, 12, 12, 12, 12, 12, 12, 12, 12, 12, 12, 12, 12, 12, 12, 12, 12, 12, 12, 12, 12, 12, 12, 12, 12, 12, 12, 12, 12, 12, 12, 12, 12, 12, 12, 12, 12, 12, 12, 12, 12, 12, 13, 13, 13, 13, 13, 13, 13, 13, 13, 13, 13, 13, 13, 13, 13, 13, 13, 13, 13, 13, 13, 13, 13, 13, 13, 13, 13, 13, 13, 13, 13, 13, 13, 13, 13, 13, 13, 13, 13, 13, 13, 13, 13, 13, 13, 13, 13, 13, 13, 13, 13, 13, 13, 13, 13, 13, 13, 13, 13, 13, 13, 13, 13, 13, 13, 13, 13, 13, 13, 13, 13, 13, 13, 13, 13, 13, 13, 13, 13, 13, 13, 13, 13, 13, 13, 13, 13, 13, 13, 13, 13, 13, 13, 13, 13, 13, 13, 13, 13, 13, 13, 13, 13, 13, 13, 13, 13, 13, 13, 13, 13, 13, 13, 13, 13, 13, 13, 13, 13, 13, 13, 13, 13, 13, 13, 13, 13, 13, 13, 13, 13, 13, 13, 13, 13, 13, 13, 13, 13, 13, 13, 13, 13, 13, 13, 13, 13, 13, 13, 13, 13, 13, 13, 13, 13, 13, 13, 13, 13, 13, 13, 13, 13, 13, 13, 13, 13, 13, 13, 13, 13, 13, 13, 13, 13, 13, 13, 13, 13, 13, 13, 13, 13, 13, 13, 13, 13, 13, 13, 13, 13, 13, 13, 13, 13, 13, 13, 13, 13, 13, 13, 13, 13, 13, 13, 13, 13, 13, 13, 13, 13, 13, 13, 13, 13, 13, 13, 13, 13, 13, 13, 13, 13, 13, 13, 13, 13, 13, 13, 13, 13, 13, 13, 13, 13, 13, 13, 13, 13, 13, 13, 13, 13, 13, 13, 13, 13, 13, 13, 13, 13, 13, 13, 13, 13, 13, 13, 13, 13, 13, 13, 13, 13, 13, 13, 13, 13, 13, 13, 13, 13, 13, 13, 13, 13, 13, 13, 13, 13, 13, 13, 13, 13, 13, 13, 13, 13, 13, 13, 13, 13, 13, 13, 13, 13, 13, 13, 13, 13, 13, 13, 13, 13, 13, 13, 13, 13, 13, 13, 13, 13, 13, 13, 13, 13, 13, 13, 13, 13, 13, 13, 13, 13, 13, 13, 13, 13, 13, 13, 13, 13, 13, 13, 13, 13, 13, 13, 13, 13, 13, 13, 13, 13, 13, 13, 13, 13, 13, 13, 13, 13, 13, 13, 13, 13, 13, 13, 13, 13, 13, 13, 13, 13, 13, 13, 13, 13, 13, 13, 13, 13, 13, 13, 13, 13, 13, 13, 13, 13, 13, 13, 13, 13, 13, 13, 13, 13, 13, 13, 13, 13, 13, 13, 13, 13, 13, 13, 13, 13, 13, 13, 13, 13, 13, 13, 13, 13, 13, 13, 13, 13, 13, 13, 13, 13, 13, 13, 13, 13, 13, 13, 13, 13, 13, 13, 13, 13, 13, 13, 13, 13, 13, 13, 13, 13, 13, 13, 13, 13, 13, 13, 13, 13, 13, 13, 13, 13, 13, 13, 13, 13, 13, 13, 13, 13, 13, 13, 13, 13, 13, 13, 13, 13, 13, 13, 13, 13, 13, 13, 13, 13, 13, 13, 13, 13, 13, 13, 13, 13, 13, 13, 13, 13, 13, 13, 13, 13, 13, 13, 13, 13, 13, 13, 13, 13, 13, 13, 13, 13, 13, 13, 13, 13, 13, 13, 13, 13, 13, 13, 13, 13, 13, 13, 13, 13, 13, 13, 13, 13, 13, 13, 13, 13, 13, 13, 13, 13, 13, 13, 13, 13, 13, 13, 13, 13, 13, 13, 13, 13, 13, 13, 13, 13, 13, 13, 13, 13, 13, 13, 13, 13, 13, 13, 13, 13, 13, 13, 13, 13, 13, 13, 13, 13, 13, 13, 13, 13, 13, 13, 13, 13, 13, 13, 13, 13, 13, 13, 13, 13, 13, 13, 13, 13, 13, 13, 13, 13, 13, 13, 13, 13, 13, 13, 13, 13, 13, 13, 13, 13, 13, 13, 13, 13, 13, 13, 13, 13, 13, 13, 13, 13, 13, 13, 13, 13, 13, 13, 13, 13, 13, 13, 13, 13, 13, 13, 13, 13, 13, 13, 13, 13, 13, 13, 13, 13, 13, 13, 13, 13, 13, 13, 13, 13, 13, 13, 13, 13, 13, 13, 13, 13, 13, 13, 13, 13, 13, 13, 13, 13, 13, 13, 13, 13, 13, 13, 13, 13, 13, 13, 13, 13, 13, 13, 13, 13, 13, 13, 13, 13, 13, 13, 13, 13, 13, 13, 13, 13, 13, 13, 13, 13, 13, 13, 13, 13, 13, 13, 13, 13, 13, 13, 13, 13, 13, 13, 13, 13, 13, 13, 13, 13, 13, 13, 13, 13, 13, 13, 13, 13, 13, 13, 13, 13, 13, 13, 13, 13, 13, 13, 13, 13, 13, 13, 13, 13, 13, 13, 13, 13, 13, 13, 13, 13, 13, 13, 13, 13, 13, 13, 13, 13, 13, 13, 13, 13, 13, 13, 13, 13, 13, 13, 13, 13, 13, 13, 13, 13, 13, 13, 13, 13, 13, 13, 13, 13, 13, 13, 13, 13, 13, 13, 13, 13, 13, 13, 13, 13, 13, 13, 13, 13, 13, 13, 13, 13, 13, 13, 13, 13, 13, 13, 13, 13, 13, 13, 13, 13, 13, 13, 13, 13, 13, 13, 13, 13, 13, 13, 13, 13, 13, 13, 13, 13, 13, 13, 13, 13, 13, 13, 13, 13, 13, 13, 13, 13, 13, 13, 13, 13, 13, 13, 13, 13, 13, 13, 13, 13, 13, 13, 13, 13, 13, 13, 13, 13, 13, 13, 13, 13, 13, 13, 13, 13, 13, 13, 13, 13, 13, 13, 13, 13, 13, 13, 13, 13, 13, 13, 13, 13, 13, 13, 13, 13, 13, 13, 13, 13, 13, 13, 13, 13, 13, 13, 13, 13, 13, 13, 13, 13, 13, 13, 13, 13, 13, 13, 13, 13, 13, 13, 13, 13, 13, 13, 13, 13, 13, 13, 13, 13, 13, 13, 13, 13, 13, 13, 13, 13, 13, 13, 13, 14, 14, 14, 14, 14, 14, 14, 14, 14, 14, 14, 14, 14, 14, 14, 14, 14, 14, 14, 14, 14, 14, 14, 14, 14, 14, 14, 14, 14, 14, 14, 14, 14, 14, 14, 14, 14, 14, 14, 14, 14, 14, 14, 14, 14, 14, 14, 14, 14, 14, 14, 14, 14, 14, 14, 14, 14, 14, 14, 14, 14, 14, 14, 14, 14, 14, 14, 14, 14, 14, 14, 14, 14, 14, 14, 14, 14, 14, 14, 14, 14, 14, 14, 14, 14, 14, 14, 14, 14, 14, 14, 14, 14, 14, 14, 14, 14, 14, 14, 14, 14, 14, 14, 14, 14, 14, 14, 14, 14, 14, 14, 14, 14, 14, 14, 14, 14, 14, 14, 14, 14, 14, 14, 14, 14, 14, 14, 14, 14, 14, 14, 14, 14, 14, 14, 14, 14, 14, 14, 14, 14, 14, 14, 14, 14, 14, 14, 14, 14, 14, 14, 14, 14, 14, 14, 14, 14, 14, 14, 14, 14, 14, 14, 14, 14, 14, 14, 14, 14, 14, 14, 14, 14, 14, 14, 14, 14, 14, 14, 14, 14, 14, 14, 14, 14, 14, 14, 14, 14, 14, 14, 14, 14, 14, 14, 14, 14, 14, 14, 14, 14, 14, 14, 14, 14, 14, 14, 14, 14, 14, 14, 14, 14, 14, 14, 14, 14, 14, 14, 14, 14, 14, 14, 14, 14, 14, 14, 14, 14, 14, 14, 14, 14, 14, 14, 14, 14, 14, 14, 14, 14, 14, 14, 14, 14, 14, 14, 14, 14, 14, 14, 14, 14, 14, 14, 14, 14, 14, 14, 14, 14, 14, 14, 14, 14, 14, 14, 14, 14, 14, 14, 14, 14, 14, 14, 14, 14, 14, 14, 14, 14, 14, 14, 14, 14, 14, 14, 14, 14, 14, 14, 14, 14, 14, 14, 14, 14, 14, 14, 14, 14, 14, 14, 14, 14, 14, 14, 14, 14, 14, 14, 14, 14, 14, 14, 14, 14, 14, 14, 14, 14, 14, 14, 14, 14, 14, 14, 14, 14, 14, 14, 14, 14, 14, 14, 14, 14, 14, 14, 14, 14, 14, 14, 14, 14, 14, 14, 14, 14, 14, 14, 14, 14, 14, 14, 14, 14, 14, 14, 14, 14, 14, 14, 14, 14, 14, 14, 14, 14, 14, 14, 14, 14, 14, 14, 14, 14, 14, 14, 14, 14, 14, 14, 14, 14, 14, 14, 14, 14, 14, 14, 14, 14, 14, 14, 14, 14, 14, 14, 14, 14, 14, 14, 14, 14, 14, 14, 14, 14, 14, 14, 14, 14, 14, 14, 14, 14, 14, 14, 14, 14, 14, 14, 14, 14, 14, 14, 14, 14, 14, 14, 14, 14, 14, 14, 14, 14, 14, 14, 14, 14, 14, 14, 14, 14, 14, 14, 14, 14, 14, 14, 14, 14, 14, 14, 14, 14, 14, 14, 14, 14, 14, 14, 14, 14, 14, 14, 14, 14, 14, 14, 14, 14, 14, 14, 14, 14, 14, 14, 14, 14, 14, 14, 14, 14, 14, 14, 14, 14, 14, 14, 14, 14, 14, 14, 14, 14, 14, 14, 14, 14, 14, 14, 14, 14, 14, 14, 14, 14, 14, 14, 14, 14, 14, 14, 14, 14, 14, 14, 14, 14, 14, 14, 14, 14, 14, 14, 14, 14, 14, 14, 14, 14, 14, 14, 14, 14, 14, 14, 14, 14, 14, 14, 14, 14, 14, 14, 14, 14, 14, 14, 14, 14, 14, 14, 14, 14, 14, 14, 14, 14, 14, 14, 14, 14, 14, 14, 14, 14, 14, 14, 14, 14, 14, 14, 14, 14, 14, 14, 14, 14, 14, 14, 14, 14, 14, 14, 14, 14, 14, 14, 14, 14, 14, 14, 14, 14, 14, 14, 14, 14, 14, 14, 14, 14, 14, 14, 14, 14, 14, 14, 14, 14, 14, 14, 14, 14, 14, 14, 14, 14, 14, 14, 14, 14, 14, 14, 14, 14, 14, 14, 14, 14, 14, 14, 14, 14, 14, 14, 14, 14, 14, 14, 14, 14, 14, 14, 14, 14, 14, 14, 14, 14, 14, 14, 14, 14, 14, 14, 14, 14, 14, 14, 14, 14, 14, 14, 14, 14, 14, 14, 14, 14, 14, 14, 14, 14, 14, 14, 14, 14, 14, 14, 14, 14, 14, 14, 14, 14, 14, 14, 14, 14, 14, 14, 14, 14, 14, 14, 14, 14, 14, 14, 14, 14, 14, 14, 14, 14, 14, 14, 14, 14, 14, 14, 14, 14, 14, 14, 14, 14, 14, 14, 14, 14, 14, 14, 14, 14, 14, 14, 14, 14, 14, 14, 14, 14, 14, 14, 14, 14, 14, 14, 14, 14, 14, 14, 14, 14, 14, 14, 14, 14, 14, 14, 14, 14, 14, 14, 14, 14, 14, 14, 14, 14, 14, 14, 14, 14, 14, 14, 14, 14, 14, 14, 14, 14, 14, 14, 14, 14, 14, 14, 14, 14, 14, 14, 14, 14, 14, 14, 14, 14, 14, 14, 14, 14, 14, 14, 14, 14, 14, 14, 14, 14, 14, 14, 14, 14, 14, 14, 14, 14, 14, 14, 14, 14, 14, 14, 14, 14, 14, 14, 14, 14, 14, 14, 14, 14, 14, 14, 14, 14, 14, 14, 14, 14, 14, 14, 14, 14, 14, 14, 14, 14, 14, 14, 14, 14, 14, 14, 14, 14, 14, 14, 14, 14, 14, 14, 14, 14, 14, 14, 14, 14, 14, 14, 14, 14, 14, 14, 14, 14, 14, 14, 14, 14, 14, 14, 14, 14, 14, 14, 14, 14, 14, 14, 14, 14, 14, 14, 14, 14, 14, 14, 14, 14, 14, 14, 14, 14, 14, 14, 14, 14, 14, 14, 14, 14, 14, 14, 14, 14, 14, 14, 14, 14, 14, 14, 14, 14, 14, 14, 14, 14, 14, 14, 14, 14, 14, 14, 14, 14, 14, 14, 14, 14, 14, 14, 14, 14, 14, 14, 14, 14, 14, 14, 14, 14, 14, 14, 14, 14, 14, 14, 14, 14, 14, 14, 14, 14, 14, 14, 14, 14, 14, 14, 14, 14, 14, 15, 15, 15, 15, 15, 15, 15, 15, 15, 15, 15, 15, 15, 15, 15, 15, 15, 15, 15, 15, 15, 15, 15, 15, 15, 15, 15, 15, 15, 15, 15, 15, 15, 15, 15, 15, 15, 15, 15, 15, 15, 15, 15, 15, 15, 15, 15, 15, 15, 15, 15, 15, 15, 15, 15, 15, 15, 15, 15, 15, 15, 15, 15, 15, 15, 15, 15, 15, 15, 15, 15, 15, 15, 15, 15, 15, 15, 15, 15, 15, 15, 15, 15, 15, 15, 15, 15, 15, 15, 15, 15, 15, 15, 15, 15, 15, 15, 15, 15, 15, 15, 15, 15, 15, 15, 15, 15, 15, 15, 15, 15, 15, 15, 15, 15, 15, 15, 15, 15, 15, 15, 15, 15, 15, 15, 15, 15, 15, 15, 15, 15, 15, 15, 15, 15, 15, 15, 15, 15, 15, 15, 15, 15, 15, 15, 15, 15, 15, 15, 15, 15, 15, 15, 15, 15, 15, 15, 15, 15, 15, 15, 15, 15, 15, 15, 15, 15, 15, 15, 15, 15, 15, 15, 15, 15, 15, 15, 15, 15, 15, 15, 15, 15, 15, 15, 15, 15, 15, 15, 15, 15, 15, 15, 15, 15, 15, 15, 15, 15, 15, 15, 15, 15, 15, 15, 15, 15, 15, 15, 15, 15, 15, 15, 15, 15, 15, 15, 15, 15, 15, 15, 15, 15, 15, 15, 15, 15, 15, 15, 15, 15, 15, 15, 15, 15, 15, 15, 15, 15, 15, 15, 15, 15, 15, 15, 15, 15, 15, 15, 15, 15, 15, 15, 15, 15, 15, 15, 15, 15, 15, 15, 15, 15, 15, 15, 15, 15, 15, 15, 15, 15, 15, 15, 15, 15, 15, 15, 15, 15, 15, 15, 15, 15, 15, 15, 15, 15, 15, 15, 15, 15, 15, 15, 15, 15, 15, 15, 15, 15, 15, 15, 15, 15, 15, 15, 15, 15, 15, 15, 15, 15, 15, 15, 15, 15, 15, 15, 15, 15, 15, 15, 16, 16, 16, 16, 16, 16, 16, 16, 16, 16, 16, 16, 16, 16, 16, 16, 16, 16, 16, 16, 16, 16, 16, 16, 16, 16, 16, 16, 16, 16, 16, 16, 16, 16, 16, 16, 16, 16, 16, 16, 16, 16, 16, 16, 16, 16, 16, 16, 16, 16, 16, 16, 16, 16, 16, 16, 16, 16, 16, 16, 16, 16, 16, 16, 16, 16, 16, 16, 16, 16, 16, 16, 16, 16, 16, 16, 16, 16, 16, 16, 16, 16, 16, 16, 16, 16, 16, 16, 16, 16, 16, 16, 16, 16, 16, 16, 16, 16, 16, 16, 16, 16, 16, 16, 16, 16, 16, 16, 16, 16, 16, 16, 16, 16, 16, 16, 16, 16, 16, 16, 16, 16, 16, 16, 16, 16, 16, 16, 16, 16, 16, 16, 16, 16, 16, 16, 16, 16, 16, 16, 16, 16, 16, 16, 16, 16, 16, 16, 16, 16, 16, 16, 16, 16, 16, 16, 16, 16, 16, 16, 16, 16, 16, 16, 16, 16, 16, 16, 16, 16, 16, 16, 16, 16, 16, 16, 16, 16, 16, 16, 16, 16, 16, 16, 16, 16, 16, 16, 16, 16, 16, 16, 16, 16, 16, 16, 16, 16, 16, 16, 16, 16, 16, 16, 16, 16, 16, 16, 16, 16, 16, 16, 16, 16, 16, 16, 16, 16, 16, 16, 16, 16, 16, 16, 16, 16, 16, 16, 16, 16, 16, 16, 16, 16, 16, 16, 16, 16, 16, 16, 16, 16, 16, 16, 16, 16, 16, 16, 16, 16, 16, 16, 16, 16, 16, 16, 16, 16, 16, 16, 16, 16, 16, 16, 16, 16, 16, 16, 16, 16, 16, 16, 16, 16, 16, 16, 16, 16, 16, 16, 16, 16, 16, 16, 16, 16, 16, 16, 16, 16, 16, 16, 16, 16, 16, 16, 16, 16, 16, 16, 16, 16, 16, 16, 16, 16, 16, 16, 16, 16, 16, 16, 16, 16, 16, 16, 16, 16, 16, 16, 16, 16, 16, 16, 16, 16, 16, 16, 16, 16, 16, 16, 16, 16, 16, 16, 16, 16, 16, 16, 16, 16, 16, 16, 16, 16, 16, 16, 16, 16, 16, 16, 16, 16, 16, 16, 16, 16, 16, 16, 16, 16, 16, 16, 16, 16, 16, 16, 16, 16, 16, 16, 16, 16, 16, 16, 16, 16, 16, 16, 16, 16, 16, 16, 16, 16, 16, 16, 16, 16, 16, 16, 16, 16, 16, 16, 16, 16, 16, 16, 16, 16, 16, 16, 16, 16, 16, 16, 16, 16, 16, 16, 16, 16, 16, 16, 16, 16, 16, 16, 16, 16, 16, 16, 16, 16, 16, 16, 16, 16, 16, 16, 16, 16, 16, 16, 16, 16, 16, 16, 16, 16, 16, 16, 16, 16, 16, 16, 16, 16, 16, 16, 16, 16, 16, 16, 16, 16, 16, 16, 16, 16, 16, 16, 16, 16, 16, 16, 16, 16, 16, 16, 16, 16, 16, 16, 16, 16, 16, 16, 16, 16, 16, 16, 16, 16, 16, 16, 16, 16, 16, 16, 16, 16, 16, 16, 16, 16, 16, 16, 16, 16, 16, 16, 16, 16, 16, 16, 16, 16, 16, 16, 16, 16, 16, 16, 16, 16, 16, 16, 16, 16, 16, 16, 16, 16, 16, 16, 16, 16, 16, 16, 16, 16, 16, 16, 16, 16, 16, 16, 16, 16, 16, 17, 17, 17, 17, 17, 17, 17, 17, 17, 17, 17, 17, 17, 17, 17, 17, 17, 17, 17, 17, 17, 17, 17, 17, 17, 17, 17, 17, 17, 17, 17, 17, 17, 17, 17, 17, 17, 17, 17, 17, 17, 17, 17, 17, 17, 17, 17, 17, 17, 17, 17, 17, 17, 17, 17, 17, 17, 17, 17, 17, 17, 17, 17, 17, 17, 17, 17, 17, 17, 17, 17, 17, 17, 17, 17, 17, 17, 17, 17, 17, 17, 17, 17, 17, 17, 17, 17, 17, 17, 17, 17, 17, 17, 17, 17, 17, 17, 17, 17, 17, 17, 17, 17, 17, 17, 17, 17, 17, 17, 17, 17, 17, 17, 17, 17, 17, 17, 17, 17, 17, 17, 17, 17, 17, 17, 17, 17, 17, 17, 17, 17, 17, 17, 17, 17, 17, 17, 17, 17, 17, 17, 17, 17, 17, 17, 17, 17, 17, 17, 17, 17, 17, 17, 17, 17, 17, 17, 17, 17, 17, 17, 17, 17, 17, 17, 17, 17, 17, 17, 17, 17, 17, 17, 17, 17, 17, 17, 17, 17, 17, 17, 17, 17, 17, 17, 17, 17, 17, 17, 17, 17, 17, 17, 17, 17, 17, 17, 17, 17, 17, 17, 17, 17, 17, 17, 17, 17, 17, 17, 17, 17, 17, 17, 17, 17, 17, 17, 17, 17, 17, 17, 17, 17, 17, 17, 17, 17, 17, 17, 17, 17, 17, 17, 17, 17, 17, 17, 17, 17, 17, 17, 17, 17, 17, 17, 17, 17, 17, 17, 17, 17, 17, 17, 17, 17, 17, 17, 17, 17, 17, 17, 17, 17, 17, 17, 17, 17, 17, 17, 17, 17, 17, 17, 17, 17, 17, 17, 17, 17, 17, 17, 17, 17, 17, 17, 17, 17, 17, 17, 17, 17, 17, 17, 17, 17, 17, 17, 17, 17, 17, 17, 17, 17, 17, 17, 17, 17, 17, 17, 17, 17, 17, 17, 17, 17, 17, 17, 17, 17, 17, 17, 17, 17, 17, 17, 17, 17, 17, 17, 17, 17, 17, 17, 17, 17, 17, 17, 17, 17, 17, 17, 17, 17, 17, 17, 17, 17, 17, 17, 17, 17, 17, 17, 17, 17, 17, 17, 17, 17, 17, 17, 17, 17, 17, 17, 17, 17, 17, 17, 17, 17, 17, 17, 17, 17, 17, 17, 17, 17, 17, 17, 17, 17, 17, 17, 17, 17, 17, 17, 17, 17, 17, 17, 17, 17, 17, 17, 17, 17, 17, 17, 17, 17, 17, 17, 17, 17, 17, 17, 17, 17, 17, 17, 17, 17, 17, 17, 17, 17, 17, 17, 17, 17, 17, 17, 17, 17, 17, 17, 17, 17, 17, 17, 17, 17, 17, 17, 17, 17, 17, 17, 17, 17, 17, 17, 17, 17, 17, 17, 17, 17, 17, 17, 17, 17, 17, 17, 17, 17, 17, 17, 17, 17, 17, 17, 17, 17, 17, 17, 17, 17, 17, 17, 17, 17, 17, 17, 17, 17, 17, 17, 17, 17, 17, 17, 17, 17, 17, 17, 17, 17, 17, 17, 17, 17, 17, 17, 17, 17, 17, 17, 17, 17, 17, 17, 17, 17, 17, 17, 17, 17, 17, 17, 17, 17, 17, 17, 17, 17, 17, 17, 17, 17, 17, 17, 17, 17, 17, 17, 17, 17, 17, 17, 17, 17, 17, 17, 17, 17, 17, 17, 17, 17, 17, 17, 17, 17, 17, 17, 17, 17, 17, 17, 17, 17, 17, 17, 17, 17, 17, 17, 17, 17, 17, 17, 17, 17, 17, 17, 17, 17, 17, 17, 17, 17, 17, 17, 17, 17, 17, 17, 17, 17, 17, 17, 17, 17, 17, 17, 17, 17, 17, 17, 17, 17, 17, 17, 17, 17, 17, 17, 17, 17, 17, 17, 17, 17, 17, 17, 17, 17, 17, 17, 17, 17, 17, 17, 17, 17, 17, 17, 17, 17, 17, 17, 17, 17, 17, 17, 17, 17, 17, 17, 17, 17, 17, 17, 17, 17, 17, 17, 17, 17, 17, 17, 17, 17, 17, 17, 17, 17, 17, 17, 17, 17, 17, 17, 17, 17, 17, 17, 17, 17, 17, 17, 17, 17, 17, 17, 17, 17, 17, 17, 17, 17, 17, 17, 17, 17, 17, 17, 17, 17, 17, 17, 17, 17, 17, 17, 17, 17, 17, 17, 17, 17, 17, 17, 17, 17, 17, 17, 17, 17, 17, 17, 17, 17, 17, 17, 17, 17, 17, 17, 17, 17, 17, 17, 17, 17, 17, 17, 17, 17, 17, 17, 17, 17, 17, 17, 17, 17, 17, 17, 17, 17, 17, 17, 17, 17, 17, 17, 17, 17, 17, 17, 17, 17, 17, 17, 17, 17, 17, 17, 17, 17, 17, 17, 17, 17, 17, 17, 17, 17, 17, 17, 17, 17, 17, 17, 17, 17, 17, 17, 17, 17, 17, 17, 17, 17, 17, 17, 17, 17, 17, 17, 17, 17, 17, 17, 17, 17, 17, 17, 17, 17, 17, 17, 17, 17, 17, 17, 17, 17, 17, 17, 17, 17, 17, 17, 17, 17, 17, 17, 17, 17, 17, 17, 17, 17, 17, 17, 17, 17, 17, 17, 17, 17, 17, 17, 17, 17, 17, 17, 17, 17, 17, 17, 17, 17, 17, 17, 17, 17, 17, 17, 17, 17, 17, 17, 17, 17, 17, 17, 17, 17, 17, 17, 17, 17, 17, 17, 17, 17, 17, 17, 17, 17, 17, 17, 17, 17, 17, 17, 17, 17, 17, 17, 17, 17, 17, 17, 17, 17, 17, 17, 17, 17, 17, 17, 17, 17, 17, 17, 17, 17, 17, 17, 17, 17, 17, 17, 17, 17, 17, 17, 17, 17, 17, 17, 17, 17, 17, 17, 17, 17, 17, 17, 17, 17, 17, 17, 17, 17, 17, 17, 17, 17, 17, 17, 17, 17, 17, 17, 17, 17, 17, 17, 17, 17, 17, 17, 17, 17, 17, 17, 17, 17, 17, 17, 17, 17, 17, 17, 17, 17, 17, 17, 17, 17, 17, 17, 17, 17, 17, 17, 17, 17, 17, 17, 17, 17, 17, 17, 17, 17, 17, 17, 17, 17, 17, 17, 17, 17, 17, 17, 17, 17, 17, 17, 17, 17, 17, 17, 17, 17, 17, 17, 17, 17, 17, 17, 17, 17, 17, 17, 17, 17, 17, 17, 17, 18, 18, 18, 18, 18, 18, 18, 18, 18, 18, 18, 18, 18, 18, 18, 18, 18, 18, 18, 18, 18, 18, 18, 18, 18, 18, 18, 18, 18, 18, 18, 18, 18, 18, 18, 18, 18, 18, 18, 18, 18, 18, 18, 18, 18, 18, 18, 18, 18, 18, 18, 18, 18, 18, 18, 18, 18, 18, 18, 18, 18, 18, 18, 18, 18, 18, 18, 18, 18, 18, 18, 18, 18, 18, 18, 18, 18, 18, 18, 18, 18, 18, 18, 18, 18, 18, 18, 18, 18, 18, 18, 18, 18, 18, 18, 18, 18, 18, 18, 18, 18, 18, 18, 18, 18, 18, 18, 18, 18, 18, 18, 18, 18, 18, 18, 18, 18, 18, 18, 18, 18, 18, 18, 18, 18, 18, 18, 18, 18, 18, 18, 18, 18, 18, 18, 18, 18, 18, 18, 18, 18, 18, 18, 18, 18, 18, 18, 18, 18, 18, 18, 18, 18, 18, 18, 18, 18, 18, 18, 18, 18, 18, 18, 18, 18, 18, 18, 18, 18, 18, 18, 18, 18, 18, 18, 18, 18, 18, 18, 18, 18, 18, 18, 18, 18, 18, 18, 18, 18, 18, 18, 18, 18, 18, 18, 18, 18, 18, 18, 18, 18, 18, 18, 18, 18, 18, 18, 18, 18, 18, 18, 18, 18, 18, 18, 18, 18, 18, 18, 18, 18, 18, 18, 18, 18, 18, 18, 18, 18, 18, 18, 18, 18, 18, 18, 18, 18, 18, 18, 18, 18, 18, 18, 18, 18, 18, 18, 18, 18, 18, 18, 18, 18, 18, 18, 18, 18, 18, 18, 18, 18, 18, 18, 18, 18, 18, 18, 18, 18, 18, 18, 18, 18, 18, 18, 18, 18, 18, 18, 18, 18, 18, 18, 18, 18, 18, 18, 18, 18, 18, 18, 18, 18, 18, 18, 18, 18, 18, 18, 18, 18, 18, 18, 18, 18, 18, 18, 18, 18, 18, 18, 18, 18, 18, 18, 18, 18, 18, 18, 18, 18, 18, 18, 18, 18, 18, 18, 18, 18, 18, 18, 18, 18, 18, 18, 18, 18, 18, 18, 18, 18, 18, 18, 18, 18, 18, 18, 18, 18, 18, 18, 18, 18, 18, 18, 18, 18, 18, 18, 18, 18, 18, 18, 18, 18, 18, 18, 18, 18, 18, 18, 18, 18, 18, 18, 18, 18, 18, 18, 18, 18, 18, 18, 18, 18, 18, 18, 18, 18, 18, 18, 18, 18, 18, 18, 18, 18, 18, 18, 18, 18, 18, 18, 18, 18, 18, 18, 18, 18, 18, 18, 18, 18, 18, 18, 18, 18, 18, 18, 18, 18, 18, 18, 18, 18, 18, 18, 18, 18, 18, 18, 18, 18, 18, 18, 18, 18, 18, 18, 18, 18, 18, 18, 18, 18, 18, 18, 18, 18, 18, 18, 18, 18, 18, 18, 18, 18, 18, 18, 18, 18, 18, 18, 18, 18, 18, 18, 18, 18, 18, 18, 18, 18, 18, 18, 18, 18, 18, 18, 18, 18, 18, 18, 18, 18, 18, 18, 18, 18, 18, 18, 18, 18, 18, 18, 18, 18, 18, 18, 18, 18, 18, 18, 18, 18, 18, 18, 18, 18, 18, 18, 18, 18, 18, 18, 18, 18, 18, 18, 18, 18, 18, 18, 18, 18, 18, 18, 18, 18, 18, 18, 18, 18, 18, 18, 18, 18, 18, 18, 18, 18, 18, 18, 18, 18, 18, 18, 18, 18, 18, 18, 18, 18, 18, 18, 18, 18, 18, 18, 18, 18, 18, 18, 18, 18, 18, 18, 18, 18, 18, 18, 18, 18, 18, 18, 18, 18, 18, 18, 18, 18, 18, 18, 18, 18, 18, 18, 18, 18, 18, 18, 18, 18, 18, 18, 18, 18, 18, 18, 18, 18, 18, 18, 18, 18, 18, 18, 18, 18, 18, 18, 18, 18, 18, 18, 18, 18, 18, 18, 18, 18, 18, 18, 18, 18, 18, 18, 18, 18, 18, 18, 18, 18, 18, 18, 18, 18, 18, 18, 18, 18, 18, 18, 18, 18, 18, 18, 18, 18, 18, 18, 18, 18, 18, 18, 18, 18, 18, 18, 18, 18, 18, 18, 18, 18, 18, 18, 18, 18, 18, 18, 18, 18, 18, 18, 18, 18, 18, 18, 18, 18, 18, 18, 18, 18, 18, 18, 18, 18, 18, 18, 18, 18, 18, 18, 18, 18, 18, 18, 18, 18, 18, 18, 18, 18, 18, 18, 18, 18, 18, 18, 18, 18, 18, 18, 18, 18, 18, 18, 18, 18, 18, 18, 18, 18, 18, 18, 18, 18, 18, 18, 18, 18, 18, 18, 18, 18, 18, 18, 18, 18, 18, 18, 18, 18, 18, 18, 18, 18, 18, 18, 18, 18, 18, 18, 18, 18, 18, 18, 18, 18, 18, 18, 18, 18, 18, 18, 18, 18, 18, 18, 18, 18, 18, 18, 18, 18, 18, 18, 18, 18, 18, 18, 18, 18, 18, 18, 18, 18, 18, 18, 18, 18, 18, 18, 18, 18, 18, 18, 18, 18, 18, 18, 18, 18, 18, 18, 18, 18, 18, 18, 18, 18, 18, 18, 18, 18, 18, 18, 18, 18, 18, 18, 18, 18, 18, 18, 18, 18, 18, 18, 18, 18, 18, 18, 18, 18, 18, 18, 18, 18, 18, 18, 18, 18, 18, 18, 18, 18, 18, 18, 18, 18, 18, 18, 18, 18, 18, 18, 18, 18, 18, 18, 18, 18, 18, 18, 18, 18, 18, 18, 18, 18, 18, 18, 18, 18, 18, 18, 18, 18, 18, 18, 18, 18, 18, 18, 18, 18, 18, 18, 18, 18, 18, 18, 18, 18, 18, 18, 18, 18, 18, 18, 18, 18, 18, 18, 18, 18, 18, 18, 18, 18, 18, 18, 18, 18, 18, 18, 18, 18, 18, 18, 18, 18, 18, 18, 18, 18, 18, 18, 18, 18, 18, 18, 18, 18, 18, 18, 18, 18, 18, 18, 18, 18, 18, 18, 18, 18, 18, 18, 18, 18, 18, 18, 18, 18, 18, 18, 18, 18, 18, 18, 18, 18, 18, 18, 18, 18, 18, 18, 18, 18, 18, 18, 18, 18, 18, 18, 18, 18, 18, 18, 18, 18, 18, 18, 18, 18, 18, 18, 18, 18, 18, 18, 18, 18, 18, 18, 18, 18, 18, 18, 18, 18, 18, 18, 18, 18, 18, 18, 18, 18, 18, 18, 18, 18, 18, 18, 18, 18, 18, 18, 18, 18, 18, 18, 18, 18, 18, 19, 19, 19, 19, 19, 19, 19, 19, 19, 19, 19, 19, 19, 19, 19, 19, 19, 19, 19, 19, 19, 19, 19, 19, 19, 19, 19, 19, 19, 19, 19, 19, 19, 19, 19, 19, 19, 19, 19, 19, 19, 19, 19, 19, 19, 19, 19, 19, 19, 19, 19, 19, 19, 19, 19, 19, 19, 19, 19, 19, 19, 19, 19, 19, 19, 19, 19, 19, 19, 19, 19, 19, 19, 19, 19, 19, 19, 19, 19, 19, 19, 19, 19, 19, 19, 19, 19, 19, 19, 19, 19, 19, 19, 19, 19, 19, 19, 19, 19, 19, 19, 19, 19, 19, 19, 19, 19, 19, 19, 19, 19, 19, 19, 19, 19, 19, 19, 19, 19, 19, 19, 19, 19, 19, 19, 19, 19, 19, 19, 19, 19, 19, 19, 19, 19, 19, 19, 19, 19, 19, 19, 19, 19, 19, 19, 19, 19, 19, 19, 19, 19, 19, 19, 19, 19, 19, 19, 19, 19, 19, 19, 19, 19, 19, 19, 19, 19, 19, 19, 19, 19, 19, 19, 19, 19, 19, 19, 19, 19, 19, 19, 19, 19, 19, 19, 19, 19, 19, 19, 19, 19, 19, 19, 19, 19, 19, 19, 19, 19, 19, 19, 19, 19, 19, 19, 19, 19, 19, 19, 19, 19, 19, 19, 19, 19, 19, 19, 19, 19, 19, 19, 19, 19, 19, 19, 19, 19, 19, 19, 19, 19, 19, 19, 19, 19, 19, 19, 19, 19, 19, 19, 19, 19, 19, 19, 19, 19, 19, 19, 19, 19, 19, 19, 19, 19, 19, 19, 19, 19, 19, 19, 19, 19, 19, 19, 19, 19, 19, 19, 19, 19, 19, 19, 19, 19, 19, 19, 19, 19, 19, 19, 19, 19, 19, 19, 19, 19, 19, 19, 19, 19, 19, 19, 19, 19, 19, 19, 19, 19, 19, 19, 19, 19, 19, 19, 19, 19, 19, 19, 19, 19, 19, 19, 19, 19, 19, 19, 19, 19, 19, 19, 19, 19, 19, 19, 19, 19, 19, 19, 19, 19, 19, 19, 19, 19, 19, 19, 19, 19, 19, 19, 19, 19, 19, 19, 19, 19, 19, 19, 19, 19, 19, 19, 19, 19, 19, 19, 19, 19, 19, 19, 19, 19, 19, 19, 19, 19, 19, 19, 19, 19, 19, 19, 19, 19, 19, 19, 19, 19, 19, 19, 19, 19, 19, 19, 19, 19, 19, 19, 19, 19, 19, 19, 19, 19, 19, 19, 19, 19, 19, 19, 19, 19, 19, 19, 19, 19, 19, 19, 19, 19, 19, 19, 19, 19, 19, 19, 19, 19, 19, 19, 19, 19, 19, 19, 19, 19, 19, 19, 19, 19, 19, 19, 19, 19, 19, 19, 19, 19, 19, 19, 19, 19, 19, 19, 19, 19, 19, 19, 19, 19, 19, 19, 19, 19, 19, 19, 19, 19, 19, 19, 19, 19, 19, 19, 19, 19, 19, 19, 19, 19, 19, 19, 19, 19, 19, 19, 19, 19, 19, 19, 19, 19, 19, 19, 19, 19, 19, 19, 19, 19, 19, 19, 19, 19, 19, 19, 19, 19, 19, 19, 19, 19, 19, 19, 19, 19, 19, 19, 19, 19, 19, 19, 19, 19, 19, 19, 19, 19, 19, 19, 19, 19, 19, 19, 19, 19, 19, 19, 19, 19, 19, 19, 19, 19, 19, 19, 19, 19, 19, 19, 19, 19, 19, 19, 19, 19, 19, 19, 19, 19, 19, 19, 19, 19, 19, 19, 19, 19, 19, 19, 19, 19, 19, 19, 19, 19, 19, 19, 19, 19, 19, 19, 19, 19, 19, 19, 19, 19, 19, 19, 19, 19, 19, 19, 19, 19, 19, 19, 19, 19, 19, 19, 19, 19, 19, 19, 19, 19, 19, 19, 19, 19, 19, 19, 19, 19, 19, 19, 19, 19, 19, 19, 19, 19, 19, 19, 19, 19, 19, 19, 19, 19, 19, 19, 19, 19, 19, 19, 19, 19, 19, 19, 19, 19, 19, 19, 19, 19, 19, 19, 19, 19, 19, 19, 19, 19, 19, 19, 19, 19, 19, 19, 19, 19, 19, 19, 19, 19, 19, 19, 19, 19, 19, 19, 19, 19, 19, 19, 19, 19, 19, 19, 19, 19, 19, 19, 19, 19, 19, 19, 19, 19, 19, 19, 19, 19, 19, 19, 19, 19, 19, 19, 19, 19, 19, 19, 19, 19, 19, 19, 19, 19, 19, 19, 19, 19, 19, 19, 19, 19, 19, 19, 19, 19, 19, 19, 19, 19, 19, 19, 19, 19, 19, 19, 19, 19, 19, 19, 19, 19, 19, 19, 19, 19, 19, 19, 19, 19, 19, 19, 19, 19, 19, 19, 19, 19, 19, 19, 19, 19, 19, 19, 19, 19, 19, 19, 19, 19, 19, 19, 19, 19, 19, 19, 19, 19, 19, 19, 19, 19, 19, 19, 19, 19, 19, 19, 19, 19, 19, 19, 19, 19, 19, 19, 19, 19, 19, 19, 19, 19, 19, 19, 19, 19, 19, 19, 19, 19, 19, 19, 19, 19, 19, 19, 19, 19, 19, 19, 19, 19, 19, 19, 19, 19, 19, 19, 19, 19, 19, 19, 19, 19, 19, 19, 19, 19, 19, 19, 19, 19, 19, 19, 19, 19, 19, 19, 19, 19, 19, 19, 19, 19, 19, 19, 19, 19, 19, 19, 19, 19, 19, 19, 19, 19, 19, 19, 19, 19, 19, 19, 19, 19, 19, 19, 19, 19, 19, 19, 19, 19, 19, 19, 19, 19, 19, 19, 19, 19, 19, 19, 19, 19, 19, 19, 19, 19, 19, 19, 19, 19, 19, 19, 19, 19, 19, 19, 19, 19, 19, 19, 19, 19, 19, 19, 19, 19, 19, 19, 19, 19, 19, 19, 19, 19, 19, 19, 19, 19, 19, 19, 19, 19, 19, 19, 19, 19, 19, 19, 19, 19, 19, 19, 19, 19, 19, 19, 19, 19, 19, 19, 19, 19, 19, 19, 19, 19, 19, 19, 19, 19, 19, 19, 19, 19, 19, 19, 19, 19, 19, 19, 19, 19, 19, 19, 19, 19, 19, 19, 19, 20, 20, 20, 20, 20, 20, 20, 20, 20, 20, 20, 20, 20, 20, 20, 20, 20, 20, 20, 20, 20, 20, 20, 20, 20, 20, 20, 20, 20, 20, 20, 20, 20, 20, 20, 20, 20, 20, 20, 20, 20, 20, 20, 20, 20, 20, 20, 20, 20, 20, 20, 20, 20, 20, 20, 20, 20, 20, 20, 20, 20, 20, 20, 20, 20, 20, 20, 20, 20, 20, 20, 20, 20, 20, 20, 20, 20, 20, 20, 20, 20, 20, 20, 20, 20, 20, 20, 20, 20, 20, 20, 20, 20, 20, 20, 20, 20, 20, 20, 20, 20, 20, 20, 20, 20, 20, 20, 20, 20, 20, 20, 20, 20, 20, 20, 20, 20, 20, 20, 20, 20, 20, 20, 20, 20, 20, 20, 20, 20, 20, 20, 20, 20, 20, 20, 20, 20, 20, 20, 20, 20, 20, 20, 20, 20, 20, 20, 20, 20, 20, 20, 20, 20, 20, 20, 20, 20, 20, 20, 20, 20, 20, 20, 20, 20, 20, 20, 20, 20, 20, 20, 20, 20, 20, 20, 20, 20, 20, 20, 20, 20, 20, 20, 20, 20, 20, 20, 20, 20, 20, 20, 20, 20, 20, 20, 20, 20, 20, 20, 20, 20, 20, 20, 20, 20, 20, 20, 20, 20, 20, 20, 20, 20, 20, 20, 20, 20, 20, 20, 20, 20, 20, 20, 20, 20, 20, 20, 20, 20, 20, 20, 20, 20, 20, 20, 20, 20, 20, 20, 20, 20, 20, 20, 20, 20, 20, 20, 20, 20, 20, 20, 20, 20, 20, 20, 20, 20, 20, 20, 20, 20, 20, 20, 20, 20, 20, 20, 20, 20, 20, 20, 20, 20, 20, 20, 20, 20, 20, 20, 20, 20, 20, 20, 20, 20, 20, 20, 20, 20, 20, 20, 20, 20, 20, 20, 20, 20, 20, 20, 20, 20, 20, 20, 20, 20, 20, 20, 20, 20, 20, 20, 20, 20, 20, 20, 20, 20, 20, 20, 20, 20, 20, 20, 20, 20, 20, 20, 20, 20, 20, 20, 20, 20, 20, 20, 20, 20, 20, 20, 20, 20, 20, 20, 20, 20, 20, 20, 20, 20, 20, 20, 20, 20, 20, 20, 20, 20, 20, 20, 20, 20, 20, 20, 20, 20, 20, 20, 20, 20, 20, 20, 20, 20, 20, 20, 20, 20, 20, 20, 20, 20, 20, 20, 20, 20, 20, 20, 20, 20, 20, 20, 20, 20, 20, 20, 20, 20, 20, 20, 20, 20, 20, 20, 20, 20, 20, 20, 20, 20, 20, 20, 20, 20, 20, 20, 20, 20, 20, 20, 20, 20, 20, 20, 20, 20, 20, 20, 20, 20, 20, 20, 20, 20, 20, 20, 20, 20, 20, 20, 20, 20, 20, 20, 20, 20, 20, 20, 20, 20, 20, 20, 20, 20, 20, 20, 20, 20, 20, 20, 20, 20, 20, 20, 20, 20, 20, 20, 20, 20, 20, 20, 20, 20, 20, 20, 20, 20, 20, 20, 20, 20, 20, 20, 20, 20, 20, 20, 20, 20, 20, 20, 20, 20, 20, 20, 20, 20, 20, 20, 20, 20, 20, 20, 20, 20, 20, 20, 20, 20, 20, 20, 20, 20, 20, 20, 20, 20, 20, 20, 20, 20, 20, 20, 20, 20, 20, 20, 20, 20, 20, 20, 20, 20, 20, 20, 20, 20, 20, 20, 20, 20, 20, 20, 20, 20, 20, 20, 20, 20, 20, 20, 20, 20, 20, 20, 20, 20, 20, 20, 20, 20, 20, 20, 20, 20, 20, 20, 20, 20, 20, 20, 20, 20, 20, 20, 20, 20, 20, 20, 20, 20, 20, 20, 20, 20, 20, 20, 20, 20, 20, 20, 20, 20, 20, 20, 20, 20, 20, 20, 20, 20, 20, 20, 20, 20, 20, 20, 20, 20, 20, 20, 20, 20, 20, 20, 20, 20, 20, 20, 20, 20, 20, 20, 20, 20, 20, 20, 20, 20, 20, 20, 20, 20, 20, 20, 20, 20, 20, 20, 20, 20, 20, 20, 20, 20, 20, 20, 20, 20, 20, 20, 20, 20, 20, 20, 20, 20, 20, 20, 20, 20, 20, 20, 20, 20, 20, 20, 20, 20, 20, 20, 20, 20, 20, 20, 20, 20, 20, 20, 20, 20, 20, 20, 20, 20, 20, 20, 20, 20, 20, 20, 20, 20, 20, 20, 20, 20, 20, 20, 20, 20, 20, 20, 20, 20, 20, 20, 20, 20, 20, 20, 20, 20, 20, 20, 20, 20, 20, 20, 20, 20, 20, 20, 20, 20, 20, 20, 20, 20, 20, 20, 20, 20, 20, 20, 20, 20, 20, 20, 20, 20, 20, 20, 20, 20, 20, 20, 20, 20, 20, 20, 20, 20, 20, 20, 20, 20, 20, 20, 20, 20, 20, 20, 20, 20, 20, 20, 20, 20, 20, 20, 20, 20, 20, 20, 20, 20, 20, 20, 20, 20, 20, 20, 20, 20, 20, 20, 20, 20, 20, 20, 20, 20, 20, 20, 20, 20, 20, 20, 20, 20, 20, 20, 20, 20, 20, 20, 20, 20, 20, 20, 20, 20, 20, 20, 20, 20, 20, 20, 20, 20, 20, 20, 20, 20, 20, 20, 20, 20, 20, 20, 20, 20, 20, 20, 20, 20, 20, 20, 20, 20, 20, 20, 20, 20, 20, 20, 20, 20, 20, 20, 20, 20, 20, 20, 20, 20, 20, 20, 20, 20, 20, 20, 20, 20, 20, 20, 20, 20, 20, 20, 20, 20, 20, 20, 20, 20, 20, 20, 20, 20, 20, 20, 20, 20, 20, 20, 20, 20, 20, 20, 20, 20, 20, 20, 20, 20, 20, 20, 20, 20, 20, 20, 20, 20, 20, 20, 20, 20, 20, 20, 20, 20, 20, 20, 20, 20, 20, 20, 20, 20, 20, 20, 20, 20, 20, 20, 20, 20, 20, 21, 21, 21, 21, 21, 21, 21, 21, 21, 21, 21, 21, 21, 21, 21, 21, 21, 21, 21, 21, 21, 21, 21, 21, 21, 21, 21, 21, 21, 21, 21, 21, 21, 21, 21, 21, 21, 21, 21, 21, 21, 21, 21, 21, 21, 21, 21, 21, 21, 21, 21, 21, 21, 21, 21, 21, 21, 21, 21, 21, 21, 21, 21, 21, 21, 21, 21, 21, 21, 21, 21, 21, 21, 21, 21, 21, 21, 21, 21, 21, 21, 21, 21, 21, 21, 21, 21, 21, 21, 21, 21, 21, 21, 21, 21, 21, 21, 21, 21, 21, 21, 21, 21, 21, 21, 21, 21, 21, 21, 21, 21, 21, 21, 21, 21, 21, 21, 21, 21, 21, 21, 21, 21, 21, 21, 21, 21, 21, 21, 21, 21, 21, 21, 21, 21, 21, 21, 21, 21, 21, 21, 21, 21, 21, 21, 21, 21, 21, 21, 21, 21, 21, 21, 21, 21, 21, 21, 21, 21, 21, 21, 21, 21, 21, 21, 21, 21, 21, 21, 21, 21, 21, 21, 21, 21, 21, 21, 21, 21, 21, 21, 21, 21, 21, 21, 21, 21, 21, 21, 21, 21, 21, 21, 21, 21, 21, 21, 21, 21, 21, 21, 21, 21, 21, 21, 21, 21, 21, 21, 21, 21, 21, 21, 21, 21, 21, 21, 21, 21, 21, 21, 21, 21, 21, 21, 21, 21, 21, 21, 21, 21, 21, 21, 21, 21, 21, 21, 21, 21, 21, 21, 21, 21, 21, 21, 21, 21, 21, 21, 21, 21, 21, 21, 21, 21, 21, 21, 21, 21, 21, 21, 21, 21, 21, 21, 21, 21, 21, 21, 21, 21, 21, 21, 21, 21, 21, 21, 21, 21, 21, 21, 21, 21, 21, 21, 21, 21, 21, 21, 21, 21, 21, 21, 21, 21, 21, 21, 21, 21, 21, 21, 21, 21, 21, 21, 21, 21, 21, 21, 21, 21, 21, 21, 21, 21, 21, 21, 21, 21, 21, 21, 21, 21, 21, 21, 21, 21, 21, 21, 21, 21, 21, 21, 21, 21, 21, 21, 21, 21, 21, 21, 21, 21, 21, 21, 21, 21, 21, 21, 21, 21, 21, 21, 21, 21, 21, 21, 21, 21, 21, 21, 21, 21, 21, 21, 21, 21, 21, 21, 21, 21, 21, 21, 21, 21, 21, 21, 21, 21, 21, 21, 21, 21, 21, 21, 21, 21, 21, 21, 21, 21, 21, 21, 21, 21, 21, 21, 21, 21, 21, 21, 21, 21, 21, 21, 21, 21, 21, 21, 21, 21, 21, 21, 21, 21, 21, 21, 21, 21, 21, 21, 21, 21, 21, 21, 21, 21, 21, 21, 21, 21, 21, 21, 21, 21, 21, 21, 21, 21, 21, 21, 21, 21, 21, 21, 21, 21, 21, 21, 21, 21, 21, 21, 21, 21, 21, 21, 21, 21, 21, 21, 21, 21, 21, 21, 21, 21, 21, 21, 21, 21, 21, 21, 21, 21, 21, 21, 21, 21, 21, 21, 21, 21, 21, 21, 21, 21, 21, 21, 21, 21, 21, 21, 21, 21, 21, 21, 21, 21, 21, 21, 21, 21, 21, 21, 21, 21, 21, 21, 21, 21, 21, 21, 21, 21, 21, 21, 21, 21, 21, 21, 21, 21, 21, 21, 21, 21, 21, 21, 21, 21, 21, 21, 21, 21, 21, 21, 21, 21, 21, 21, 21, 21, 21, 21, 21, 21, 21, 21, 21, 21, 21, 21, 21, 21, 21, 21, 21, 21, 21, 21, 21, 21, 21, 21, 21, 21, 21, 21, 21, 21, 21, 21, 21, 21, 21, 21, 21, 21, 21, 21, 21, 21, 21, 21, 21, 21, 21, 21, 21, 21, 21, 21, 21, 21, 21, 21, 21, 21, 21, 21, 21, 21, 21, 21, 21, 21, 21, 21, 21, 21, 21, 21, 21, 21, 21, 21, 21, 21, 21, 21, 21, 21, 21, 21, 21, 21, 21, 21, 21, 21, 21, 21, 21, 21, 21, 21, 21, 21, 21, 21, 21, 21, 21, 21, 21, 21, 21, 21, 21, 21, 21, 21, 21, 21, 21, 21, 21, 21, 21, 21, 21, 21, 21, 21, 21, 21, 21, 21, 21, 21, 21, 21, 21, 21, 21, 21, 21, 21, 21, 21, 21, 21, 21, 21, 21, 21, 21, 21, 21, 21, 21, 21, 21, 21, 21, 21, 21, 21, 21, 21, 21, 21, 21, 21, 21, 21, 21, 21, 21, 21, 21, 21, 21, 21, 21, 21, 21, 21, 21, 21, 21, 21, 21, 21, 21, 21, 21, 21, 21, 21, 21, 21, 21, 21, 21, 21, 21, 21, 21, 21, 21, 21, 21, 21, 21, 21, 21, 21, 21, 21, 21, 21, 21, 21, 21, 21, 21, 21, 21, 21, 21, 21, 21, 21, 21, 21, 21, 21, 21, 21, 21, 21, 21, 21, 21, 21, 21, 21, 21, 21, 21, 21, 21, 21, 21, 21, 21, 21, 21, 21, 21, 21, 21, 21, 21, 21, 21, 21, 21, 21, 21, 21, 21, 21, 21, 21, 21, 21, 21, 21, 21, 21, 21, 21, 21, 21, 21, 21, 21, 21, 21, 21, 21, 21, 21, 21, 21, 21, 21, 21, 21, 21, 21, 21, 21, 21, 21, 21, 21, 21, 21, 21, 21, 21, 21, 21, 21, 21, 21, 21, 21, 21, 21, 21, 21, 21, 21, 21, 21, 21, 21, 21, 21, 21, 21, 21, 21, 21, 21, 21, 21, 21, 21, 21, 21, 21, 21, 21, 21, 21, 21, 21, 21, 21, 21, 21, 21, 21, 21, 21, 21, 21, 21, 21, 21, 21, 21, 21, 21, 21, 21, 21, 21, 21, 21, 21, 21, 21, 21, 21, 21, 21, 21, 21, 21, 21, 21, 21, 21, 21, 21, 21, 21, 21, 21, 21, 21, 21, 21, 21, 21, 21, 21, 21, 21, 21, 21, 21, 21, 21, 21, 21, 21, 21, 21, 21, 21, 21, 21, 21, 21, 21, 21, 21, 21, 21, 21, 21, 21, 21, 21, 21, 21, 21, 21, 21, 21, 21, 21, 21, 21, 21, 21, 21, 21, 21, 21, 21, 21, 21, 21, 21, 21, 21, 21, 21, 21, 21, 21, 21, 21, 21, 21, 21, 21, 21, 21, 21, 21, 21, 21, 21, 21, 21, 21, 21, 21, 21, 21, 21, 21, 21, 21, 21, 21, 21, 21, 21, 21, 21, 21, 21, 21, 21, 21, 21, 21, 21, 21, 22, 22, 22, 22, 22, 22, 22, 22, 22, 22, 22, 22, 22, 22, 22, 22, 22, 22, 22, 22, 22, 22, 22, 22, 22, 22, 22, 22, 22, 22, 22, 22, 22, 22, 22, 22, 22, 22, 22, 22, 22, 22, 22, 22, 22, 22, 22, 22, 22, 22, 22, 22, 22, 22, 22, 22, 22, 22, 22, 22, 22, 22, 22, 22, 22, 22, 22, 22, 22, 22, 22, 22, 22, 22, 22, 22, 22, 22, 22, 22, 22, 22, 22, 22, 22, 22, 22, 22, 22, 22, 22, 22, 22, 22, 22, 22, 22, 22, 22, 22, 22, 22, 22, 22, 22, 22, 22, 22, 22, 22, 22, 22, 22, 22, 22, 22, 22, 22, 22, 22, 22, 22, 22, 22, 22, 22, 22, 22, 22, 22, 22, 22, 22, 22, 22, 22, 22, 22, 22, 22, 22, 22, 22, 22, 22, 22, 22, 22, 22, 22, 22, 22, 22, 22, 22, 22, 22, 22, 22, 22, 22, 22, 22, 22, 22, 22, 22, 22, 22, 22, 22, 22, 22, 22, 22, 22, 22, 22, 22, 22, 22, 22, 22, 22, 22, 22, 22, 22, 22, 22, 22, 22, 22, 22, 22, 22, 22, 22, 22, 22, 22, 22, 22, 22, 22, 22, 22, 22, 22, 22, 22, 22, 22, 22, 22, 22, 22, 22, 22, 22, 22, 22, 22, 22, 22, 22, 22, 22, 22, 22, 22, 22, 22, 22, 22, 22, 22, 22, 22, 22, 22, 22, 22, 22, 22, 22, 22, 22, 22, 22, 22, 22, 22, 22, 22, 22, 22, 22, 22, 22, 22, 22, 22, 22, 22, 22, 22, 22, 22, 22, 22, 22, 22, 22, 22, 22, 22, 22, 22, 22, 22, 22, 22, 22, 22, 22, 22, 22, 22, 22, 22, 22, 22, 22, 22, 22, 22, 22, 22, 22, 22, 22, 22, 22, 22, 22, 22, 22, 22, 22, 22, 22, 22, 22, 22, 22, 22, 22, 22, 22, 22, 22, 22, 22, 22, 22, 22, 22, 22, 22, 22, 22, 22, 22, 22, 22, 22, 22, 22, 22, 22, 22, 22, 22, 22, 22, 22, 22, 22, 22, 22, 22, 22, 22, 22, 22, 22, 22, 22, 22, 22, 22, 22, 22, 22, 22, 22, 22, 22, 22, 22, 22, 22, 22, 22, 22, 22, 22, 22, 22, 22, 22, 22, 22, 22, 22, 22, 22, 22, 22, 22, 22, 22, 22, 22, 22, 22, 22, 22, 22, 22, 22, 22, 22, 22, 22, 22, 22, 22, 22, 22, 22, 22, 22, 22, 22, 22, 22, 22, 22, 22, 22, 22, 22, 22, 22, 22, 22, 22, 22, 22, 22, 22, 22, 22, 22, 22, 22, 22, 22, 22, 22, 22, 22, 22, 22, 22, 22, 22, 22, 22, 22, 22, 22, 22, 22, 22, 22, 22, 22, 22, 22, 22, 22, 22, 22, 22, 22, 22, 22, 22, 22, 22, 22, 22, 22, 22, 22, 22, 22, 22, 22, 22, 22, 22, 22, 22, 22, 22, 22, 22, 22, 22, 22, 22, 22, 22, 22, 22, 22, 22, 22, 22, 22, 22, 22, 22, 22, 22, 22, 22, 22, 22, 22, 22, 22, 22, 22, 22, 22, 22, 22, 22, 22, 22, 22, 22, 22, 22, 22, 22, 22, 22, 22, 22, 22, 22, 22, 22, 22, 22, 22, 22, 22, 22, 22, 22, 22, 22, 22, 22, 22, 22, 22, 22, 22, 22, 22, 22, 22, 22, 22, 22, 22, 22, 22, 22, 22, 22, 22, 22, 22, 22, 22, 22, 22, 22, 22, 22, 22, 22, 22, 22, 22, 22, 22, 22, 22, 22, 22, 22, 22, 22, 22, 22, 22, 22, 22, 22, 22, 22, 22, 22, 22, 22, 22, 22, 22, 22, 22, 22, 22, 22, 22, 22, 22, 22, 22, 22, 22, 22, 22, 22, 22, 22, 22, 22, 22, 22, 22, 22, 22, 22, 22, 22, 22, 22, 22, 22, 22, 22, 22, 22, 22, 22, 22, 22, 22, 22, 22, 22, 22, 22, 22, 22, 22, 22, 22, 22, 22, 22, 22, 22, 22, 22, 22, 22, 22, 22, 22, 22, 22, 22, 22, 22, 22, 22, 22, 22, 22, 22, 22, 22, 22, 22, 22, 22, 22, 22, 22, 22, 22, 22, 22, 22, 22, 22, 22, 22, 22, 22, 22, 22, 22, 22, 22, 22, 22, 22, 22, 22, 22, 22, 22, 22, 22, 22, 22, 22, 22, 22, 22, 22, 22, 22, 22, 22, 22, 22, 22, 22, 22, 22, 22, 22, 22, 22, 22, 22, 22, 22, 22, 22, 22, 22, 22, 22, 22, 22, 22, 22, 22, 22, 22, 22, 22, 22, 22, 22, 22, 22, 22, 22, 22, 22, 22, 22, 22, 22, 22, 22, 22, 22, 22, 22, 22, 22, 22, 22, 22, 22, 22, 22, 22, 22, 22, 22, 22, 22, 22, 22, 22, 22, 22, 22, 22, 22, 22, 22, 22, 22, 22, 22, 22, 22, 22, 22, 22, 22, 22, 22, 22, 22, 22, 22, 22, 22, 22, 22, 22, 22, 22, 22, 22, 22, 22, 22, 22, 22, 22, 22, 22, 22, 22, 22, 22, 22, 22, 22, 22, 22, 22, 22, 22, 22, 22, 22, 22, 22, 22, 22, 22, 22, 22, 22, 22, 22, 22, 22, 22, 22, 22, 22, 22, 22, 22, 22, 22, 22, 22, 23, 23, 23, 23, 23, 23, 23, 23, 23, 23, 23, 23, 23, 23, 23, 23, 23, 23, 23, 23, 23, 23, 23, 23, 23, 23, 23, 23, 23, 23, 23, 23, 23, 23, 23, 23, 23, 23, 23, 23, 23, 23, 23, 23, 23, 23, 23, 23, 23, 23, 23, 23, 23, 23, 23, 23, 23, 23, 23, 23, 23, 23, 23, 23, 23, 23, 23, 23, 23, 23, 23, 23, 23, 23, 23, 23, 23, 23, 23, 23, 23, 23, 23, 23, 23, 23, 23, 23, 23, 23, 23, 23, 23, 23, 23, 23, 23, 23, 23, 23, 23, 23, 23, 23, 23, 23, 23, 23, 23, 23, 23, 23, 23, 23, 23, 23, 23, 23, 23, 23, 23, 23, 23, 23, 23, 24, 24, 24, 24, 24, 24, 24, 24, 24, 24, 24, 24, 24, 24, 24, 24, 24, 24, 24, 24, 24, 24, 24, 24, 24, 24, 24, 24, 24, 24, 24, 24, 24, 24, 24, 24, 24, 24, 24, 24, 24, 24, 24, 24, 24, 24, 24, 24, 24, 24, 24, 24, 24, 24, 24, 24, 24, 24, 24, 24, 24, 24]\n"
     ]
    }
   ],
   "source": [
    "# 'target'값(문자열)을 순서대로 '0 ~ 24'와 같은 숫자형으로 변환\n",
    "\n",
    "num_target = []\n",
    "\n",
    "for i in target:\n",
    "    temp = i.replace('디지털 드로잉','0').replace('드로잉','1').replace('공예','2').replace('요리','3').replace('음료','4').replace('베이킹','5').replace('디저트','6').replace('음악','7').replace('운동','8').replace('라이프','9').replace('사진','10').replace('영상','11').replace('디자인','12').replace('개발','13').replace('데이터','14').replace('직무교육','15').replace('글쓰기','16').replace('언어','17').replace('외국어','18').replace('금융','19').replace('재테크','20').replace('창업','21').replace('부업','22').replace('성공 마인드','23').replace('아동 교육','24')\n",
    "    num_target.append(int(temp))\n",
    "    \n",
    "print(num_target)"
   ]
  },
  {
   "cell_type": "code",
   "execution_count": 82,
   "id": "imposed-google",
   "metadata": {},
   "outputs": [
    {
     "data": {
      "text/plain": [
       "18554"
      ]
     },
     "execution_count": 82,
     "metadata": {},
     "output_type": "execute_result"
    }
   ],
   "source": [
    "len(num_target)"
   ]
  },
  {
   "cell_type": "code",
   "execution_count": 66,
   "id": "liked-bridal",
   "metadata": {
    "scrolled": true
   },
   "outputs": [
    {
     "data": {
      "text/html": [
       "<div>\n",
       "<style scoped>\n",
       "    .dataframe tbody tr th:only-of-type {\n",
       "        vertical-align: middle;\n",
       "    }\n",
       "\n",
       "    .dataframe tbody tr th {\n",
       "        vertical-align: top;\n",
       "    }\n",
       "\n",
       "    .dataframe thead th {\n",
       "        text-align: right;\n",
       "    }\n",
       "</style>\n",
       "<table border=\"1\" class=\"dataframe\">\n",
       "  <thead>\n",
       "    <tr style=\"text-align: right;\">\n",
       "      <th></th>\n",
       "      <th>0</th>\n",
       "      <th>1</th>\n",
       "      <th>2</th>\n",
       "      <th>3</th>\n",
       "      <th>4</th>\n",
       "      <th>5</th>\n",
       "      <th>6</th>\n",
       "      <th>7</th>\n",
       "      <th>8</th>\n",
       "      <th>9</th>\n",
       "      <th>...</th>\n",
       "      <th>15</th>\n",
       "      <th>16</th>\n",
       "      <th>17</th>\n",
       "      <th>18</th>\n",
       "      <th>19</th>\n",
       "      <th>20</th>\n",
       "      <th>21</th>\n",
       "      <th>22</th>\n",
       "      <th>23</th>\n",
       "      <th>24</th>\n",
       "    </tr>\n",
       "  </thead>\n",
       "  <tbody>\n",
       "    <tr>\n",
       "      <th>0</th>\n",
       "      <td>0</td>\n",
       "      <td>1</td>\n",
       "      <td>0</td>\n",
       "      <td>0</td>\n",
       "      <td>0</td>\n",
       "      <td>0</td>\n",
       "      <td>0</td>\n",
       "      <td>3</td>\n",
       "      <td>0</td>\n",
       "      <td>0</td>\n",
       "      <td>...</td>\n",
       "      <td>1</td>\n",
       "      <td>1</td>\n",
       "      <td>0</td>\n",
       "      <td>0</td>\n",
       "      <td>1</td>\n",
       "      <td>0</td>\n",
       "      <td>1</td>\n",
       "      <td>1</td>\n",
       "      <td>2</td>\n",
       "      <td>0</td>\n",
       "    </tr>\n",
       "    <tr>\n",
       "      <th>1</th>\n",
       "      <td>18</td>\n",
       "      <td>7</td>\n",
       "      <td>2</td>\n",
       "      <td>1</td>\n",
       "      <td>62</td>\n",
       "      <td>3</td>\n",
       "      <td>10</td>\n",
       "      <td>14</td>\n",
       "      <td>3</td>\n",
       "      <td>7</td>\n",
       "      <td>...</td>\n",
       "      <td>5</td>\n",
       "      <td>3</td>\n",
       "      <td>0</td>\n",
       "      <td>0</td>\n",
       "      <td>8</td>\n",
       "      <td>2</td>\n",
       "      <td>22</td>\n",
       "      <td>12</td>\n",
       "      <td>8</td>\n",
       "      <td>1</td>\n",
       "    </tr>\n",
       "    <tr>\n",
       "      <th>2</th>\n",
       "      <td>47</td>\n",
       "      <td>8</td>\n",
       "      <td>7</td>\n",
       "      <td>5</td>\n",
       "      <td>16</td>\n",
       "      <td>14</td>\n",
       "      <td>13</td>\n",
       "      <td>19</td>\n",
       "      <td>4</td>\n",
       "      <td>9</td>\n",
       "      <td>...</td>\n",
       "      <td>4</td>\n",
       "      <td>8</td>\n",
       "      <td>1</td>\n",
       "      <td>1</td>\n",
       "      <td>6</td>\n",
       "      <td>3</td>\n",
       "      <td>28</td>\n",
       "      <td>23</td>\n",
       "      <td>12</td>\n",
       "      <td>0</td>\n",
       "    </tr>\n",
       "    <tr>\n",
       "      <th>3</th>\n",
       "      <td>158</td>\n",
       "      <td>10</td>\n",
       "      <td>6</td>\n",
       "      <td>7</td>\n",
       "      <td>28</td>\n",
       "      <td>41</td>\n",
       "      <td>25</td>\n",
       "      <td>19</td>\n",
       "      <td>3</td>\n",
       "      <td>14</td>\n",
       "      <td>...</td>\n",
       "      <td>12</td>\n",
       "      <td>32</td>\n",
       "      <td>4</td>\n",
       "      <td>5</td>\n",
       "      <td>23</td>\n",
       "      <td>8</td>\n",
       "      <td>342</td>\n",
       "      <td>55</td>\n",
       "      <td>52</td>\n",
       "      <td>1</td>\n",
       "    </tr>\n",
       "    <tr>\n",
       "      <th>4</th>\n",
       "      <td>140</td>\n",
       "      <td>9</td>\n",
       "      <td>11</td>\n",
       "      <td>13</td>\n",
       "      <td>80</td>\n",
       "      <td>54</td>\n",
       "      <td>15</td>\n",
       "      <td>19</td>\n",
       "      <td>8</td>\n",
       "      <td>38</td>\n",
       "      <td>...</td>\n",
       "      <td>14</td>\n",
       "      <td>104</td>\n",
       "      <td>6</td>\n",
       "      <td>10</td>\n",
       "      <td>47</td>\n",
       "      <td>15</td>\n",
       "      <td>67</td>\n",
       "      <td>87</td>\n",
       "      <td>83</td>\n",
       "      <td>9</td>\n",
       "    </tr>\n",
       "    <tr>\n",
       "      <th>5</th>\n",
       "      <td>67</td>\n",
       "      <td>5</td>\n",
       "      <td>8</td>\n",
       "      <td>4</td>\n",
       "      <td>17</td>\n",
       "      <td>29</td>\n",
       "      <td>10</td>\n",
       "      <td>25</td>\n",
       "      <td>5</td>\n",
       "      <td>11</td>\n",
       "      <td>...</td>\n",
       "      <td>13</td>\n",
       "      <td>18</td>\n",
       "      <td>0</td>\n",
       "      <td>4</td>\n",
       "      <td>17</td>\n",
       "      <td>0</td>\n",
       "      <td>281</td>\n",
       "      <td>20</td>\n",
       "      <td>31</td>\n",
       "      <td>1</td>\n",
       "    </tr>\n",
       "    <tr>\n",
       "      <th>6</th>\n",
       "      <td>99</td>\n",
       "      <td>10</td>\n",
       "      <td>10</td>\n",
       "      <td>18</td>\n",
       "      <td>27</td>\n",
       "      <td>19</td>\n",
       "      <td>24</td>\n",
       "      <td>18</td>\n",
       "      <td>7</td>\n",
       "      <td>12</td>\n",
       "      <td>...</td>\n",
       "      <td>10</td>\n",
       "      <td>29</td>\n",
       "      <td>0</td>\n",
       "      <td>6</td>\n",
       "      <td>21</td>\n",
       "      <td>16</td>\n",
       "      <td>352</td>\n",
       "      <td>107</td>\n",
       "      <td>56</td>\n",
       "      <td>0</td>\n",
       "    </tr>\n",
       "    <tr>\n",
       "      <th>7</th>\n",
       "      <td>198</td>\n",
       "      <td>7</td>\n",
       "      <td>14</td>\n",
       "      <td>9</td>\n",
       "      <td>57</td>\n",
       "      <td>52</td>\n",
       "      <td>38</td>\n",
       "      <td>18</td>\n",
       "      <td>8</td>\n",
       "      <td>46</td>\n",
       "      <td>...</td>\n",
       "      <td>4</td>\n",
       "      <td>40</td>\n",
       "      <td>3</td>\n",
       "      <td>5</td>\n",
       "      <td>58</td>\n",
       "      <td>6</td>\n",
       "      <td>23</td>\n",
       "      <td>208</td>\n",
       "      <td>44</td>\n",
       "      <td>10</td>\n",
       "    </tr>\n",
       "    <tr>\n",
       "      <th>8</th>\n",
       "      <td>84</td>\n",
       "      <td>4</td>\n",
       "      <td>7</td>\n",
       "      <td>5</td>\n",
       "      <td>34</td>\n",
       "      <td>613</td>\n",
       "      <td>17</td>\n",
       "      <td>13</td>\n",
       "      <td>10</td>\n",
       "      <td>15</td>\n",
       "      <td>...</td>\n",
       "      <td>13</td>\n",
       "      <td>14</td>\n",
       "      <td>4</td>\n",
       "      <td>3</td>\n",
       "      <td>20</td>\n",
       "      <td>3</td>\n",
       "      <td>19</td>\n",
       "      <td>19</td>\n",
       "      <td>17</td>\n",
       "      <td>6</td>\n",
       "    </tr>\n",
       "    <tr>\n",
       "      <th>9</th>\n",
       "      <td>240</td>\n",
       "      <td>15</td>\n",
       "      <td>48</td>\n",
       "      <td>36</td>\n",
       "      <td>68</td>\n",
       "      <td>54</td>\n",
       "      <td>42</td>\n",
       "      <td>31</td>\n",
       "      <td>13</td>\n",
       "      <td>36</td>\n",
       "      <td>...</td>\n",
       "      <td>13</td>\n",
       "      <td>38</td>\n",
       "      <td>3</td>\n",
       "      <td>21</td>\n",
       "      <td>33</td>\n",
       "      <td>32</td>\n",
       "      <td>52</td>\n",
       "      <td>44</td>\n",
       "      <td>51</td>\n",
       "      <td>4</td>\n",
       "    </tr>\n",
       "    <tr>\n",
       "      <th>10</th>\n",
       "      <td>201</td>\n",
       "      <td>10</td>\n",
       "      <td>9</td>\n",
       "      <td>2</td>\n",
       "      <td>28</td>\n",
       "      <td>58</td>\n",
       "      <td>16</td>\n",
       "      <td>20</td>\n",
       "      <td>4</td>\n",
       "      <td>13</td>\n",
       "      <td>...</td>\n",
       "      <td>8</td>\n",
       "      <td>16</td>\n",
       "      <td>1</td>\n",
       "      <td>16</td>\n",
       "      <td>20</td>\n",
       "      <td>9</td>\n",
       "      <td>38</td>\n",
       "      <td>18</td>\n",
       "      <td>8</td>\n",
       "      <td>4</td>\n",
       "    </tr>\n",
       "    <tr>\n",
       "      <th>11</th>\n",
       "      <td>209</td>\n",
       "      <td>28</td>\n",
       "      <td>22</td>\n",
       "      <td>23</td>\n",
       "      <td>104</td>\n",
       "      <td>46</td>\n",
       "      <td>49</td>\n",
       "      <td>33</td>\n",
       "      <td>14</td>\n",
       "      <td>33</td>\n",
       "      <td>...</td>\n",
       "      <td>13</td>\n",
       "      <td>40</td>\n",
       "      <td>5</td>\n",
       "      <td>14</td>\n",
       "      <td>45</td>\n",
       "      <td>15</td>\n",
       "      <td>39</td>\n",
       "      <td>30</td>\n",
       "      <td>27</td>\n",
       "      <td>31</td>\n",
       "    </tr>\n",
       "    <tr>\n",
       "      <th>12</th>\n",
       "      <td>156</td>\n",
       "      <td>12</td>\n",
       "      <td>43</td>\n",
       "      <td>25</td>\n",
       "      <td>123</td>\n",
       "      <td>20</td>\n",
       "      <td>18</td>\n",
       "      <td>26</td>\n",
       "      <td>5</td>\n",
       "      <td>26</td>\n",
       "      <td>...</td>\n",
       "      <td>22</td>\n",
       "      <td>46</td>\n",
       "      <td>3</td>\n",
       "      <td>17</td>\n",
       "      <td>33</td>\n",
       "      <td>97</td>\n",
       "      <td>24</td>\n",
       "      <td>74</td>\n",
       "      <td>51</td>\n",
       "      <td>9</td>\n",
       "    </tr>\n",
       "    <tr>\n",
       "      <th>13</th>\n",
       "      <td>109</td>\n",
       "      <td>6</td>\n",
       "      <td>53</td>\n",
       "      <td>23</td>\n",
       "      <td>53</td>\n",
       "      <td>17</td>\n",
       "      <td>23</td>\n",
       "      <td>23</td>\n",
       "      <td>44</td>\n",
       "      <td>36</td>\n",
       "      <td>...</td>\n",
       "      <td>30</td>\n",
       "      <td>22</td>\n",
       "      <td>7</td>\n",
       "      <td>7</td>\n",
       "      <td>19</td>\n",
       "      <td>272</td>\n",
       "      <td>9</td>\n",
       "      <td>30</td>\n",
       "      <td>28</td>\n",
       "      <td>9</td>\n",
       "    </tr>\n",
       "    <tr>\n",
       "      <th>14</th>\n",
       "      <td>112</td>\n",
       "      <td>7</td>\n",
       "      <td>32</td>\n",
       "      <td>23</td>\n",
       "      <td>68</td>\n",
       "      <td>7</td>\n",
       "      <td>21</td>\n",
       "      <td>27</td>\n",
       "      <td>46</td>\n",
       "      <td>47</td>\n",
       "      <td>...</td>\n",
       "      <td>38</td>\n",
       "      <td>21</td>\n",
       "      <td>329</td>\n",
       "      <td>8</td>\n",
       "      <td>24</td>\n",
       "      <td>30</td>\n",
       "      <td>7</td>\n",
       "      <td>37</td>\n",
       "      <td>15</td>\n",
       "      <td>1</td>\n",
       "    </tr>\n",
       "    <tr>\n",
       "      <th>15</th>\n",
       "      <td>38</td>\n",
       "      <td>0</td>\n",
       "      <td>35</td>\n",
       "      <td>1</td>\n",
       "      <td>18</td>\n",
       "      <td>0</td>\n",
       "      <td>2</td>\n",
       "      <td>17</td>\n",
       "      <td>12</td>\n",
       "      <td>14</td>\n",
       "      <td>...</td>\n",
       "      <td>10</td>\n",
       "      <td>9</td>\n",
       "      <td>2</td>\n",
       "      <td>1</td>\n",
       "      <td>1</td>\n",
       "      <td>105</td>\n",
       "      <td>0</td>\n",
       "      <td>4</td>\n",
       "      <td>5</td>\n",
       "      <td>0</td>\n",
       "    </tr>\n",
       "    <tr>\n",
       "      <th>16</th>\n",
       "      <td>68</td>\n",
       "      <td>90</td>\n",
       "      <td>25</td>\n",
       "      <td>4</td>\n",
       "      <td>37</td>\n",
       "      <td>6</td>\n",
       "      <td>15</td>\n",
       "      <td>13</td>\n",
       "      <td>10</td>\n",
       "      <td>11</td>\n",
       "      <td>...</td>\n",
       "      <td>12</td>\n",
       "      <td>10</td>\n",
       "      <td>1</td>\n",
       "      <td>3</td>\n",
       "      <td>11</td>\n",
       "      <td>7</td>\n",
       "      <td>2</td>\n",
       "      <td>16</td>\n",
       "      <td>18</td>\n",
       "      <td>0</td>\n",
       "    </tr>\n",
       "    <tr>\n",
       "      <th>17</th>\n",
       "      <td>164</td>\n",
       "      <td>15</td>\n",
       "      <td>14</td>\n",
       "      <td>3</td>\n",
       "      <td>29</td>\n",
       "      <td>9</td>\n",
       "      <td>31</td>\n",
       "      <td>32</td>\n",
       "      <td>79</td>\n",
       "      <td>25</td>\n",
       "      <td>...</td>\n",
       "      <td>27</td>\n",
       "      <td>34</td>\n",
       "      <td>12</td>\n",
       "      <td>9</td>\n",
       "      <td>37</td>\n",
       "      <td>14</td>\n",
       "      <td>14</td>\n",
       "      <td>32</td>\n",
       "      <td>30</td>\n",
       "      <td>301</td>\n",
       "    </tr>\n",
       "    <tr>\n",
       "      <th>18</th>\n",
       "      <td>79</td>\n",
       "      <td>10</td>\n",
       "      <td>33</td>\n",
       "      <td>6</td>\n",
       "      <td>23</td>\n",
       "      <td>30</td>\n",
       "      <td>31</td>\n",
       "      <td>28</td>\n",
       "      <td>193</td>\n",
       "      <td>26</td>\n",
       "      <td>...</td>\n",
       "      <td>26</td>\n",
       "      <td>22</td>\n",
       "      <td>0</td>\n",
       "      <td>1</td>\n",
       "      <td>31</td>\n",
       "      <td>29</td>\n",
       "      <td>7</td>\n",
       "      <td>18</td>\n",
       "      <td>53</td>\n",
       "      <td>283</td>\n",
       "    </tr>\n",
       "    <tr>\n",
       "      <th>19</th>\n",
       "      <td>102</td>\n",
       "      <td>5</td>\n",
       "      <td>53</td>\n",
       "      <td>59</td>\n",
       "      <td>24</td>\n",
       "      <td>16</td>\n",
       "      <td>8</td>\n",
       "      <td>20</td>\n",
       "      <td>31</td>\n",
       "      <td>29</td>\n",
       "      <td>...</td>\n",
       "      <td>23</td>\n",
       "      <td>13</td>\n",
       "      <td>3</td>\n",
       "      <td>388</td>\n",
       "      <td>8</td>\n",
       "      <td>39</td>\n",
       "      <td>9</td>\n",
       "      <td>18</td>\n",
       "      <td>13</td>\n",
       "      <td>2</td>\n",
       "    </tr>\n",
       "    <tr>\n",
       "      <th>20</th>\n",
       "      <td>70</td>\n",
       "      <td>15</td>\n",
       "      <td>68</td>\n",
       "      <td>444</td>\n",
       "      <td>22</td>\n",
       "      <td>4</td>\n",
       "      <td>15</td>\n",
       "      <td>22</td>\n",
       "      <td>67</td>\n",
       "      <td>12</td>\n",
       "      <td>...</td>\n",
       "      <td>55</td>\n",
       "      <td>4</td>\n",
       "      <td>1</td>\n",
       "      <td>7</td>\n",
       "      <td>17</td>\n",
       "      <td>4</td>\n",
       "      <td>4</td>\n",
       "      <td>33</td>\n",
       "      <td>25</td>\n",
       "      <td>2</td>\n",
       "    </tr>\n",
       "    <tr>\n",
       "      <th>21</th>\n",
       "      <td>148</td>\n",
       "      <td>13</td>\n",
       "      <td>46</td>\n",
       "      <td>36</td>\n",
       "      <td>121</td>\n",
       "      <td>10</td>\n",
       "      <td>49</td>\n",
       "      <td>54</td>\n",
       "      <td>16</td>\n",
       "      <td>52</td>\n",
       "      <td>...</td>\n",
       "      <td>51</td>\n",
       "      <td>16</td>\n",
       "      <td>5</td>\n",
       "      <td>15</td>\n",
       "      <td>20</td>\n",
       "      <td>34</td>\n",
       "      <td>24</td>\n",
       "      <td>28</td>\n",
       "      <td>33</td>\n",
       "      <td>4</td>\n",
       "    </tr>\n",
       "    <tr>\n",
       "      <th>22</th>\n",
       "      <td>107</td>\n",
       "      <td>3</td>\n",
       "      <td>17</td>\n",
       "      <td>109</td>\n",
       "      <td>60</td>\n",
       "      <td>20</td>\n",
       "      <td>21</td>\n",
       "      <td>41</td>\n",
       "      <td>20</td>\n",
       "      <td>60</td>\n",
       "      <td>...</td>\n",
       "      <td>55</td>\n",
       "      <td>23</td>\n",
       "      <td>2</td>\n",
       "      <td>12</td>\n",
       "      <td>17</td>\n",
       "      <td>20</td>\n",
       "      <td>14</td>\n",
       "      <td>57</td>\n",
       "      <td>94</td>\n",
       "      <td>6</td>\n",
       "    </tr>\n",
       "    <tr>\n",
       "      <th>23</th>\n",
       "      <td>24</td>\n",
       "      <td>0</td>\n",
       "      <td>11</td>\n",
       "      <td>26</td>\n",
       "      <td>5</td>\n",
       "      <td>3</td>\n",
       "      <td>9</td>\n",
       "      <td>7</td>\n",
       "      <td>4</td>\n",
       "      <td>3</td>\n",
       "      <td>...</td>\n",
       "      <td>2</td>\n",
       "      <td>1</td>\n",
       "      <td>0</td>\n",
       "      <td>1</td>\n",
       "      <td>2</td>\n",
       "      <td>1</td>\n",
       "      <td>0</td>\n",
       "      <td>0</td>\n",
       "      <td>4</td>\n",
       "      <td>1</td>\n",
       "    </tr>\n",
       "    <tr>\n",
       "      <th>24</th>\n",
       "      <td>11</td>\n",
       "      <td>1</td>\n",
       "      <td>10</td>\n",
       "      <td>1</td>\n",
       "      <td>3</td>\n",
       "      <td>0</td>\n",
       "      <td>0</td>\n",
       "      <td>3</td>\n",
       "      <td>0</td>\n",
       "      <td>1</td>\n",
       "      <td>...</td>\n",
       "      <td>2</td>\n",
       "      <td>5</td>\n",
       "      <td>0</td>\n",
       "      <td>0</td>\n",
       "      <td>0</td>\n",
       "      <td>8</td>\n",
       "      <td>0</td>\n",
       "      <td>0</td>\n",
       "      <td>3</td>\n",
       "      <td>1</td>\n",
       "    </tr>\n",
       "  </tbody>\n",
       "</table>\n",
       "<p>25 rows × 25 columns</p>\n",
       "</div>"
      ],
      "text/plain": [
       "     0   1   2    3    4    5   6   7    8   9   ...  15   16   17   18  19  \\\n",
       "0     0   1   0    0    0    0   0   3    0   0  ...   1    1    0    0   1   \n",
       "1    18   7   2    1   62    3  10  14    3   7  ...   5    3    0    0   8   \n",
       "2    47   8   7    5   16   14  13  19    4   9  ...   4    8    1    1   6   \n",
       "3   158  10   6    7   28   41  25  19    3  14  ...  12   32    4    5  23   \n",
       "4   140   9  11   13   80   54  15  19    8  38  ...  14  104    6   10  47   \n",
       "5    67   5   8    4   17   29  10  25    5  11  ...  13   18    0    4  17   \n",
       "6    99  10  10   18   27   19  24  18    7  12  ...  10   29    0    6  21   \n",
       "7   198   7  14    9   57   52  38  18    8  46  ...   4   40    3    5  58   \n",
       "8    84   4   7    5   34  613  17  13   10  15  ...  13   14    4    3  20   \n",
       "9   240  15  48   36   68   54  42  31   13  36  ...  13   38    3   21  33   \n",
       "10  201  10   9    2   28   58  16  20    4  13  ...   8   16    1   16  20   \n",
       "11  209  28  22   23  104   46  49  33   14  33  ...  13   40    5   14  45   \n",
       "12  156  12  43   25  123   20  18  26    5  26  ...  22   46    3   17  33   \n",
       "13  109   6  53   23   53   17  23  23   44  36  ...  30   22    7    7  19   \n",
       "14  112   7  32   23   68    7  21  27   46  47  ...  38   21  329    8  24   \n",
       "15   38   0  35    1   18    0   2  17   12  14  ...  10    9    2    1   1   \n",
       "16   68  90  25    4   37    6  15  13   10  11  ...  12   10    1    3  11   \n",
       "17  164  15  14    3   29    9  31  32   79  25  ...  27   34   12    9  37   \n",
       "18   79  10  33    6   23   30  31  28  193  26  ...  26   22    0    1  31   \n",
       "19  102   5  53   59   24   16   8  20   31  29  ...  23   13    3  388   8   \n",
       "20   70  15  68  444   22    4  15  22   67  12  ...  55    4    1    7  17   \n",
       "21  148  13  46   36  121   10  49  54   16  52  ...  51   16    5   15  20   \n",
       "22  107   3  17  109   60   20  21  41   20  60  ...  55   23    2   12  17   \n",
       "23   24   0  11   26    5    3   9   7    4   3  ...   2    1    0    1   2   \n",
       "24   11   1  10    1    3    0   0   3    0   1  ...   2    5    0    0   0   \n",
       "\n",
       "     20   21   22  23   24  \n",
       "0     0    1    1   2    0  \n",
       "1     2   22   12   8    1  \n",
       "2     3   28   23  12    0  \n",
       "3     8  342   55  52    1  \n",
       "4    15   67   87  83    9  \n",
       "5     0  281   20  31    1  \n",
       "6    16  352  107  56    0  \n",
       "7     6   23  208  44   10  \n",
       "8     3   19   19  17    6  \n",
       "9    32   52   44  51    4  \n",
       "10    9   38   18   8    4  \n",
       "11   15   39   30  27   31  \n",
       "12   97   24   74  51    9  \n",
       "13  272    9   30  28    9  \n",
       "14   30    7   37  15    1  \n",
       "15  105    0    4   5    0  \n",
       "16    7    2   16  18    0  \n",
       "17   14   14   32  30  301  \n",
       "18   29    7   18  53  283  \n",
       "19   39    9   18  13    2  \n",
       "20    4    4   33  25    2  \n",
       "21   34   24   28  33    4  \n",
       "22   20   14   57  94    6  \n",
       "23    1    0    0   4    1  \n",
       "24    8    0    0   3    1  \n",
       "\n",
       "[25 rows x 25 columns]"
      ]
     },
     "execution_count": 66,
     "metadata": {},
     "output_type": "execute_result"
    }
   ],
   "source": [
    "from sklearn.metrics import confusion_matrix\n",
    "\n",
    "#가로: 예측 클러스터 / 세로: 실제 클래스\n",
    "pd.DataFrame(confusion_matrix(num_target, pred_labels))"
   ]
  },
  {
   "cell_type": "code",
   "execution_count": 73,
   "id": "filled-simpson",
   "metadata": {},
   "outputs": [
    {
     "data": {
      "text/plain": [
       "array([[  0,   1,   0,   0,   0,   0,   0,   3,   0,   0],\n",
       "       [ 18,   7,   2,   1,  62,   3,  10,  14,   3,   7],\n",
       "       [ 47,   8,   7,   5,  16,  14,  13,  19,   4,   9],\n",
       "       [158,  10,   6,   7,  28,  41,  25,  19,   3,  14],\n",
       "       [140,   9,  11,  13,  80,  54,  15,  19,   8,  38],\n",
       "       [ 67,   5,   8,   4,  17,  29,  10,  25,   5,  11],\n",
       "       [ 99,  10,  10,  18,  27,  19,  24,  18,   7,  12],\n",
       "       [198,   7,  14,   9,  57,  52,  38,  18,   8,  46],\n",
       "       [ 84,   4,   7,   5,  34, 613,  17,  13,  10,  15],\n",
       "       [240,  15,  48,  36,  68,  54,  42,  31,  13,  36],\n",
       "       [201,  10,   9,   2,  28,  58,  16,  20,   4,  13],\n",
       "       [209,  28,  22,  23, 104,  46,  49,  33,  14,  33],\n",
       "       [156,  12,  43,  25, 123,  20,  18,  26,   5,  26],\n",
       "       [109,   6,  53,  23,  53,  17,  23,  23,  44,  36],\n",
       "       [112,   7,  32,  23,  68,   7,  21,  27,  46,  47],\n",
       "       [ 38,   0,  35,   1,  18,   0,   2,  17,  12,  14],\n",
       "       [ 68,  90,  25,   4,  37,   6,  15,  13,  10,  11],\n",
       "       [164,  15,  14,   3,  29,   9,  31,  32,  79,  25],\n",
       "       [ 79,  10,  33,   6,  23,  30,  31,  28, 193,  26],\n",
       "       [102,   5,  53,  59,  24,  16,   8,  20,  31,  29],\n",
       "       [ 70,  15,  68, 444,  22,   4,  15,  22,  67,  12],\n",
       "       [148,  13,  46,  36, 121,  10,  49,  54,  16,  52],\n",
       "       [107,   3,  17, 109,  60,  20,  21,  41,  20,  60],\n",
       "       [ 24,   0,  11,  26,   5,   3,   9,   7,   4,   3],\n",
       "       [ 11,   1,  10,   1,   3,   0,   0,   3,   0,   1]])"
      ]
     },
     "execution_count": 73,
     "metadata": {},
     "output_type": "execute_result"
    }
   ],
   "source": [
    "cmatrix = confusion_matrix(num_target, pred_labels)\n",
    "\n",
    "#10번째열 까지만 출력\n",
    "cmatrix[:,:10]"
   ]
  },
  {
   "cell_type": "code",
   "execution_count": 78,
   "id": "wanted-scale",
   "metadata": {},
   "outputs": [
    {
     "name": "stdout",
     "output_type": "stream",
     "text": [
      "[9, 16, 20, 20, 12, 8, 11, 21, 18, 22, 16, 21, 10, 4, 21, 20, 4, 14, 19, 7, 13, 6, 7, 22, 17]\n"
     ]
    }
   ],
   "source": [
    "# 25개\n",
    "labels_25 = list(cmatrix.argmax(axis=0))\n",
    "print(labels_25)"
   ]
  },
  {
   "cell_type": "code",
   "execution_count": 80,
   "id": "injured-france",
   "metadata": {},
   "outputs": [
    {
     "name": "stdout",
     "output_type": "stream",
     "text": [
      "[  0  18  47 158 140  67  99 198  84 240 201 209 156 109 112  38  68 164\n",
      "  79 102  70 148 107  24  11]\n",
      "label: 9\n",
      "value: 240\n",
      "[ 1  7  8 10  9  5 10  7  4 15 10 28 12  6  7  0 90 15 10  5 15 13  3  0\n",
      "  1]\n",
      "label: 16\n",
      "value: 90\n",
      "[ 0  2  7  6 11  8 10 14  7 48  9 22 43 53 32 35 25 14 33 53 68 46 17 11\n",
      " 10]\n",
      "label: 20\n",
      "value: 68\n",
      "[  0   1   5   7  13   4  18   9   5  36   2  23  25  23  23   1   4   3\n",
      "   6  59 444  36 109  26   1]\n",
      "label: 20\n",
      "value: 444\n",
      "[  0  62  16  28  80  17  27  57  34  68  28 104 123  53  68  18  37  29\n",
      "  23  24  22 121  60   5   3]\n",
      "label: 12\n",
      "value: 123\n",
      "[  0   3  14  41  54  29  19  52 613  54  58  46  20  17   7   0   6   9\n",
      "  30  16   4  10  20   3   0]\n",
      "label: 8\n",
      "value: 613\n",
      "[ 0 10 13 25 15 10 24 38 17 42 16 49 18 23 21  2 15 31 31  8 15 49 21  9\n",
      "  0]\n",
      "label: 11\n",
      "value: 49\n",
      "[ 3 14 19 19 19 25 18 18 13 31 20 33 26 23 27 17 13 32 28 20 22 54 41  7\n",
      "  3]\n",
      "label: 21\n",
      "value: 54\n",
      "[  0   3   4   3   8   5   7   8  10  13   4  14   5  44  46  12  10  79\n",
      " 193  31  67  16  20   4   0]\n",
      "label: 18\n",
      "value: 193\n",
      "[ 0  7  9 14 38 11 12 46 15 36 13 33 26 36 47 14 11 25 26 29 12 52 60  3\n",
      "  1]\n",
      "label: 22\n",
      "value: 60\n",
      "[  0   3   5   9  28   6  10  12   2  17   6  16  14   7   8   3 133   8\n",
      "   3  10   4  16  12   2   1]\n",
      "label: 16\n",
      "value: 133\n",
      "[  0   1  14  22  23  11  18  17   7  34  16  35  38  25  11   7   8  20\n",
      "  28  35  12 139  32   7   1]\n",
      "label: 21\n",
      "value: 139\n",
      "[  0  10   6  13  19  17  19  14  16   6 401  32  31   6  14   0   9   8\n",
      "   2   8   3   4   7   1   0]\n",
      "label: 10\n",
      "value: 401\n",
      "[ 0  6  6 39 64 26 16 55 20 32 26 43 41 32 23 17 16 55 43 32 11 34 20  6\n",
      " 11]\n",
      "label: 4\n",
      "value: 64\n",
      "[ 0  2  5  2  7  2  6  4  5 27  2 24 56 40 14 20 18  8 25 22  9 62 41  5\n",
      "  0]\n",
      "label: 21\n",
      "value: 62\n",
      "[ 1  5  4 12 14 13 10  4 13 13  8 13 22 30 38 10 12 27 26 23 55 51 55  2\n",
      "  2]\n",
      "label: 20\n",
      "value: 55\n",
      "[  1   3   8  32 104  18  29  40  14  38  16  40  46  22  21   9  10  34\n",
      "  22  13   4  16  23   1   5]\n",
      "label: 4\n",
      "value: 104\n",
      "[  0   0   1   4   6   0   0   3   4   3   1   5   3   7 329   2   1  12\n",
      "   0   3   1   5   2   0   0]\n",
      "label: 14\n",
      "value: 329\n",
      "[  0   0   1   5  10   4   6   5   3  21  16  14  17   7   8   1   3   9\n",
      "   1 388   7  15  12   1   0]\n",
      "label: 19\n",
      "value: 388\n",
      "[ 1  8  6 23 47 17 21 58 20 33 20 45 33 19 24  1 11 37 31  8 17 20 17  2\n",
      "  0]\n",
      "label: 7\n",
      "value: 58\n",
      "[  0   2   3   8  15   0  16   6   3  32   9  15  97 272  30 105   7  14\n",
      "  29  39   4  34  20   1   8]\n",
      "label: 13\n",
      "value: 272\n",
      "[  1  22  28 342  67 281 352  23  19  52  38  39  24   9   7   0   2  14\n",
      "   7   9   4  24  14   0   0]\n",
      "label: 6\n",
      "value: 352\n",
      "[  1  12  23  55  87  20 107 208  19  44  18  30  74  30  37   4  16  32\n",
      "  18  18  33  28  57   0   0]\n",
      "label: 7\n",
      "value: 208\n",
      "[ 2  8 12 52 83 31 56 44 17 51  8 27 51 28 15  5 18 30 53 13 25 33 94  4\n",
      "  3]\n",
      "label: 22\n",
      "value: 94\n",
      "[  0   1   0   1   9   1   0  10   6   4   4  31   9   9   1   0   0 301\n",
      " 283   2   2   4   6   1   1]\n",
      "label: 17\n",
      "value: 301\n"
     ]
    },
    {
     "ename": "IndexError",
     "evalue": "list index out of range",
     "output_type": "error",
     "traceback": [
      "\u001b[0;31m---------------------------------------------------------------------------\u001b[0m",
      "\u001b[0;31mIndexError\u001b[0m                                Traceback (most recent call last)",
      "\u001b[0;32m<ipython-input-80-653b498d453f>\u001b[0m in \u001b[0;36m<module>\u001b[0;34m\u001b[0m\n\u001b[1;32m      8\u001b[0m     \u001b[0mprint\u001b[0m\u001b[0;34m(\u001b[0m\u001b[0;34m'value:'\u001b[0m\u001b[0;34m,\u001b[0m \u001b[0mc\u001b[0m\u001b[0;34m[\u001b[0m\u001b[0mlabels_25\u001b[0m\u001b[0;34m[\u001b[0m\u001b[0mi\u001b[0m\u001b[0;34m]\u001b[0m\u001b[0;34m]\u001b[0m\u001b[0;34m)\u001b[0m\u001b[0;34m\u001b[0m\u001b[0;34m\u001b[0m\u001b[0m\n\u001b[1;32m      9\u001b[0m     \u001b[0mi\u001b[0m \u001b[0;34m+=\u001b[0m \u001b[0;36m1\u001b[0m\u001b[0;34m\u001b[0m\u001b[0;34m\u001b[0m\u001b[0m\n\u001b[0;32m---> 10\u001b[0;31m     \u001b[0msum_result\u001b[0m \u001b[0;34m+=\u001b[0m \u001b[0mc\u001b[0m\u001b[0;34m[\u001b[0m\u001b[0mlabels_25\u001b[0m\u001b[0;34m[\u001b[0m\u001b[0mi\u001b[0m\u001b[0;34m]\u001b[0m\u001b[0;34m]\u001b[0m\u001b[0;34m\u001b[0m\u001b[0;34m\u001b[0m\u001b[0m\n\u001b[0m\u001b[1;32m     11\u001b[0m \u001b[0;34m\u001b[0m\u001b[0m\n",
      "\u001b[0;31mIndexError\u001b[0m: list index out of range"
     ]
    }
   ],
   "source": [
    "#labels_25로 매칭했을 때, 전체 클러스터링 정확도 계산 과정(성능확인 위해서)\n",
    "\n",
    "i = 0\n",
    "sum_result = 0\n",
    "for c in cmatrix.transpose():\n",
    "    print(c)\n",
    "    print('label:', labels_25[i])\n",
    "    print('value:', c[labels_25[i]])\n",
    "    i += 1\n",
    "    sum_result += c[labels_25[i]]\n",
    "    "
   ]
  },
  {
   "cell_type": "code",
   "execution_count": 81,
   "id": "particular-officer",
   "metadata": {},
   "outputs": [
    {
     "name": "stdout",
     "output_type": "stream",
     "text": [
      "646\n"
     ]
    }
   ],
   "source": [
    "# 맞은데이터 개수\n",
    "\n",
    "print(sum_result)"
   ]
  },
  {
   "cell_type": "code",
   "execution_count": 83,
   "id": "polish-outside",
   "metadata": {},
   "outputs": [
    {
     "data": {
      "text/plain": [
       "0.034817290072221625"
      ]
     },
     "execution_count": 83,
     "metadata": {},
     "output_type": "execute_result"
    }
   ],
   "source": [
    "# 맞은 비율\n",
    "\n",
    "sum_result/len(num_target)"
   ]
  }
 ],
 "metadata": {
  "kernelspec": {
   "display_name": "Python 3",
   "language": "python",
   "name": "python3"
  },
  "language_info": {
   "codemirror_mode": {
    "name": "ipython",
    "version": 3
   },
   "file_extension": ".py",
   "mimetype": "text/x-python",
   "name": "python",
   "nbconvert_exporter": "python",
   "pygments_lexer": "ipython3",
   "version": "3.9.2"
  }
 },
 "nbformat": 4,
 "nbformat_minor": 5
}
