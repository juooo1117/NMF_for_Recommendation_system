{
 "cells": [
  {
   "cell_type": "code",
   "execution_count": 1,
   "id": "dominican-interview",
   "metadata": {},
   "outputs": [],
   "source": [
    "from selenium import webdriver\n",
    "import time \n",
    "import pandas as pd \n",
    "\n",
    "import re\n",
    "from bs4 import BeautifulSoup"
   ]
  },
  {
   "cell_type": "code",
   "execution_count": 2,
   "id": "loose-grammar",
   "metadata": {
    "scrolled": true
   },
   "outputs": [
    {
     "name": "stderr",
     "output_type": "stream",
     "text": [
      "<ipython-input-2-4a8c5fa8fbd9>:1: DeprecationWarning: executable_path has been deprecated, please pass in a Service object\n",
      "  driver = webdriver.Chrome('/Users/parkjuhyeon/chromedriver')\n"
     ]
    }
   ],
   "source": [
    "driver = webdriver.Chrome('/Users/parkjuhyeon/chromedriver')\n",
    "driver.get(\"https://www.instagram.com/accounts/login/\")"
   ]
  },
  {
   "cell_type": "code",
   "execution_count": 3,
   "id": "complete-potential",
   "metadata": {},
   "outputs": [
    {
     "name": "stderr",
     "output_type": "stream",
     "text": [
      "<ipython-input-3-4d490b206e08>:6: DeprecationWarning: find_element_by_* commands are deprecated. Please use find_element() instead\n",
      "  _id = driver.find_element_by_name('username')  #페이지에서 'username'이라는 곳을 찾아옴\n",
      "<ipython-input-3-4d490b206e08>:10: DeprecationWarning: find_element_by_* commands are deprecated. Please use find_element() instead\n",
      "  _password = driver.find_element_by_name('password')  #페이지에서 'password'라는 곳을 찾아옴\n",
      "<ipython-input-3-4d490b206e08>:14: DeprecationWarning: find_element_by_* commands are deprecated. Please use find_element() instead\n",
      "  login_button = driver.find_element_by_css_selector('.sqdOP.L3NKy.y3zKF').click()  # 로그인 버튼 누르기\n"
     ]
    }
   ],
   "source": [
    "#입력된 아이디와 비밀번호 입력\n",
    "\n",
    "instagram_id = '' #로그인할 아이디\n",
    "instagram_pw = ''  #로그인할 비밀번호\n",
    "\n",
    "_id = driver.find_element_by_name('username')  #페이지에서 'username'이라는 곳을 찾아옴\n",
    "_id.send_keys(instagram_id)\n",
    "time.sleep(2)\n",
    "\n",
    "_password = driver.find_element_by_name('password')  #페이지에서 'password'라는 곳을 찾아옴\n",
    "_password.send_keys(instagram_pw)\n",
    "time.sleep(2)\n",
    "\n",
    "login_button = driver.find_element_by_css_selector('.sqdOP.L3NKy.y3zKF').click()  # 로그인 버튼 누르기\n",
    "time.sleep(3) "
   ]
  },
  {
   "cell_type": "code",
   "execution_count": 4,
   "id": "veterinary-greeting",
   "metadata": {},
   "outputs": [],
   "source": [
    "#원하는 키워드를 검색하고, 해당 태그를 검색해서 페이지 출력\n",
    "\n",
    "_keyword = '취미'  #검색할 키워드 입력\n",
    "driver.get('https://www.instagram.com/explore/tags/' + _keyword + '/')"
   ]
  },
  {
   "cell_type": "code",
   "execution_count": 5,
   "id": "suspected-madison",
   "metadata": {
    "scrolled": true
   },
   "outputs": [
    {
     "name": "stderr",
     "output_type": "stream",
     "text": [
      "<ipython-input-5-7d6af0b44f96>:9: DeprecationWarning: find_element_by_* commands are deprecated. Please use find_element() instead\n",
      "  first_post = driver.find_element_by_css_selector('div.v1Nh3.kIKUG._bz0w')\n"
     ]
    }
   ],
   "source": [
    "#데이터를 저장할 Dictionary 생성하고, 검색결과 중 처음 게시물 열기\n",
    "insta_dict = {'id':[],\n",
    "              'date': [],\n",
    "              'like': [],\n",
    "              'text': [],\n",
    "              'hashtag':[]}\n",
    "\n",
    "\n",
    "first_post = driver.find_element_by_css_selector('div.v1Nh3.kIKUG._bz0w')\n",
    "first_post.click()\n",
    "time.sleep(5)"
   ]
  },
  {
   "cell_type": "code",
   "execution_count": 6,
   "id": "revised-arthritis",
   "metadata": {
    "scrolled": true
   },
   "outputs": [
    {
     "name": "stderr",
     "output_type": "stream",
     "text": [
      "<ipython-input-6-2957fde2a8eb>:6: DeprecationWarning: find_element_by_* commands are deprecated. Please use find_element() instead\n",
      "  if driver.find_element_by_css_selector('body > div._2dDPU.QPGbb.CkGkG > div.EfHg9 > div > div > div.l8mY4.feth3 > button'):\n",
      "<ipython-input-6-2957fde2a8eb>:13: DeprecationWarning: find_element_by_* commands are deprecated. Please use find_element() instead\n",
      "  info_id = driver.find_element_by_css_selector('h2._6lAjh').text\n",
      "<ipython-input-6-2957fde2a8eb>:21: DeprecationWarning: find_element_by_* commands are deprecated. Please use find_element() instead\n",
      "  time_raw = driver.find_element_by_css_selector('time.FH9sR.Nzb55')\n",
      "<ipython-input-6-2957fde2a8eb>:28: DeprecationWarning: find_element_by_* commands are deprecated. Please use find_element() instead\n",
      "  driver.find_element_by_css_selector('body > div._2dDPU.QPGbb.CkGkG > div._32yJO > div > article > div > div.HP0qD > div > div > div.eo2As > section.EDfFK.ygqzn > div > div > a > span')\n",
      "<ipython-input-6-2957fde2a8eb>:29: DeprecationWarning: find_element_by_* commands are deprecated. Please use find_element() instead\n",
      "  like = driver.find_element_by_css_selector('body > div._2dDPU.QPGbb.CkGkG > div._32yJO > div > article > div > div.HP0qD > div > div > div.eo2As > section.EDfFK.ygqzn > div > div > a > span').text\n",
      "<ipython-input-6-2957fde2a8eb>:36: DeprecationWarning: find_element_by_* commands are deprecated. Please use find_element() instead\n",
      "  raw_info = driver.find_element_by_css_selector('div.C4VMK').text.split()\n",
      "<ipython-input-6-2957fde2a8eb>:53: DeprecationWarning: find_elements_by_* commands are deprecated. Please use find_elements() instead\n",
      "  raw_tags = driver.find_elements_by_css_selector('a.xil3i')\n",
      "<ipython-input-6-2957fde2a8eb>:68: DeprecationWarning: find_element_by_* commands are deprecated. Please use find_element() instead\n",
      "  driver.find_element_by_css_selector('body > div._2dDPU.QPGbb.CkGkG > div.EfHg9 > div > div > div.l8mY4.feth3 > button').click()\n"
     ]
    },
    {
     "name": "stdout",
     "output_type": "stream",
     "text": [
      "0번째 수집 중\t0.025358915328979492\n"
     ]
    },
    {
     "name": "stderr",
     "output_type": "stream",
     "text": [
      "<ipython-input-6-2957fde2a8eb>:76: DeprecationWarning: find_element_by_* commands are deprecated. Please use find_element() instead\n",
      "  driver.find_element_by_css_selector('body > div._2dDPU.QPGbb.CkGkG > div.EfHg9 > div > div > div.l8mY4.feth3 > button').click()\n"
     ]
    },
    {
     "ename": "NoSuchWindowException",
     "evalue": "Message: no such window: window was already closed\n  (Session info: chrome=96.0.4664.55)\nStacktrace:\n0   chromedriver                        0x000000010e0fdff9 __gxx_personality_v0 + 584201\n1   chromedriver                        0x000000010e089403 __gxx_personality_v0 + 106003\n2   chromedriver                        0x000000010dc45e38 chromedriver + 171576\n3   chromedriver                        0x000000010dc35a95 chromedriver + 105109\n4   chromedriver                        0x000000010dc36f42 chromedriver + 110402\n5   chromedriver                        0x000000010dc2fc22 chromedriver + 80930\n6   chromedriver                        0x000000010dc472c3 chromedriver + 176835\n7   chromedriver                        0x000000010dcaac7c chromedriver + 584828\n8   chromedriver                        0x000000010dc98d63 chromedriver + 511331\n9   chromedriver                        0x000000010dc6e82e chromedriver + 337966\n10  chromedriver                        0x000000010dc6fb65 chromedriver + 342885\n11  chromedriver                        0x000000010e0b9f1b __gxx_personality_v0 + 305451\n12  chromedriver                        0x000000010e0d0e23 __gxx_personality_v0 + 399411\n13  chromedriver                        0x000000010e0d68df __gxx_personality_v0 + 422639\n14  chromedriver                        0x000000010e0d217a __gxx_personality_v0 + 404362\n15  chromedriver                        0x000000010e0ae541 __gxx_personality_v0 + 257873\n16  chromedriver                        0x000000010e0edf28 __gxx_personality_v0 + 518456\n17  chromedriver                        0x000000010e0ee0b1 __gxx_personality_v0 + 518849\n18  chromedriver                        0x000000010e105498 __gxx_personality_v0 + 614056\n19  libsystem_pthread.dylib             0x00007fffacecd93b _pthread_body + 180\n20  libsystem_pthread.dylib             0x00007fffacecd887 _pthread_body + 0\n21  libsystem_pthread.dylib             0x00007fffacecd08d thread_start + 13\n",
     "output_type": "error",
     "traceback": [
      "\u001b[0;31m---------------------------------------------------------------------------\u001b[0m",
      "\u001b[0;31mNoSuchWindowException\u001b[0m                     Traceback (most recent call last)",
      "\u001b[0;32m<ipython-input-6-2957fde2a8eb>\u001b[0m in \u001b[0;36m<module>\u001b[0;34m\u001b[0m\n\u001b[1;32m      5\u001b[0m     \u001b[0;32mtry\u001b[0m\u001b[0;34m:\u001b[0m\u001b[0;34m\u001b[0m\u001b[0;34m\u001b[0m\u001b[0m\n\u001b[0;32m----> 6\u001b[0;31m         \u001b[0;32mif\u001b[0m \u001b[0mdriver\u001b[0m\u001b[0;34m.\u001b[0m\u001b[0mfind_element_by_css_selector\u001b[0m\u001b[0;34m(\u001b[0m\u001b[0;34m'body > div._2dDPU.QPGbb.CkGkG > div.EfHg9 > div > div > div.l8mY4.feth3 > button'\u001b[0m\u001b[0;34m)\u001b[0m\u001b[0;34m:\u001b[0m\u001b[0;34m\u001b[0m\u001b[0;34m\u001b[0m\u001b[0m\n\u001b[0m\u001b[1;32m      7\u001b[0m             \u001b[0;32mif\u001b[0m \u001b[0mseq\u001b[0m \u001b[0;34m%\u001b[0m \u001b[0;36m20\u001b[0m \u001b[0;34m==\u001b[0m \u001b[0;36m0\u001b[0m\u001b[0;34m:\u001b[0m\u001b[0;34m\u001b[0m\u001b[0;34m\u001b[0m\u001b[0m\n",
      "\u001b[0;32m/Library/Frameworks/Python.framework/Versions/3.9/lib/python3.9/site-packages/selenium/webdriver/remote/webdriver.py\u001b[0m in \u001b[0;36mfind_element_by_css_selector\u001b[0;34m(self, css_selector)\u001b[0m\n\u001b[1;32m    801\u001b[0m         )\n\u001b[0;32m--> 802\u001b[0;31m         \u001b[0;32mreturn\u001b[0m \u001b[0mself\u001b[0m\u001b[0;34m.\u001b[0m\u001b[0mfind_element\u001b[0m\u001b[0;34m(\u001b[0m\u001b[0mby\u001b[0m\u001b[0;34m=\u001b[0m\u001b[0mBy\u001b[0m\u001b[0;34m.\u001b[0m\u001b[0mCSS_SELECTOR\u001b[0m\u001b[0;34m,\u001b[0m \u001b[0mvalue\u001b[0m\u001b[0;34m=\u001b[0m\u001b[0mcss_selector\u001b[0m\u001b[0;34m)\u001b[0m\u001b[0;34m\u001b[0m\u001b[0;34m\u001b[0m\u001b[0m\n\u001b[0m\u001b[1;32m    803\u001b[0m \u001b[0;34m\u001b[0m\u001b[0m\n",
      "\u001b[0;32m/Library/Frameworks/Python.framework/Versions/3.9/lib/python3.9/site-packages/selenium/webdriver/remote/webdriver.py\u001b[0m in \u001b[0;36mfind_element\u001b[0;34m(self, by, value)\u001b[0m\n\u001b[1;32m   1237\u001b[0m \u001b[0;34m\u001b[0m\u001b[0m\n\u001b[0;32m-> 1238\u001b[0;31m         return self.execute(Command.FIND_ELEMENT, {\n\u001b[0m\u001b[1;32m   1239\u001b[0m             \u001b[0;34m'using'\u001b[0m\u001b[0;34m:\u001b[0m \u001b[0mby\u001b[0m\u001b[0;34m,\u001b[0m\u001b[0;34m\u001b[0m\u001b[0;34m\u001b[0m\u001b[0m\n",
      "\u001b[0;32m/Library/Frameworks/Python.framework/Versions/3.9/lib/python3.9/site-packages/selenium/webdriver/remote/webdriver.py\u001b[0m in \u001b[0;36mexecute\u001b[0;34m(self, driver_command, params)\u001b[0m\n\u001b[1;32m    417\u001b[0m         \u001b[0;32mif\u001b[0m \u001b[0mresponse\u001b[0m\u001b[0;34m:\u001b[0m\u001b[0;34m\u001b[0m\u001b[0;34m\u001b[0m\u001b[0m\n\u001b[0;32m--> 418\u001b[0;31m             \u001b[0mself\u001b[0m\u001b[0;34m.\u001b[0m\u001b[0merror_handler\u001b[0m\u001b[0;34m.\u001b[0m\u001b[0mcheck_response\u001b[0m\u001b[0;34m(\u001b[0m\u001b[0mresponse\u001b[0m\u001b[0;34m)\u001b[0m\u001b[0;34m\u001b[0m\u001b[0;34m\u001b[0m\u001b[0m\n\u001b[0m\u001b[1;32m    419\u001b[0m             response['value'] = self._unwrap_value(\n",
      "\u001b[0;32m/Library/Frameworks/Python.framework/Versions/3.9/lib/python3.9/site-packages/selenium/webdriver/remote/errorhandler.py\u001b[0m in \u001b[0;36mcheck_response\u001b[0;34m(self, response)\u001b[0m\n\u001b[1;32m    242\u001b[0m             \u001b[0;32mraise\u001b[0m \u001b[0mexception_class\u001b[0m\u001b[0;34m(\u001b[0m\u001b[0mmessage\u001b[0m\u001b[0;34m,\u001b[0m \u001b[0mscreen\u001b[0m\u001b[0;34m,\u001b[0m \u001b[0mstacktrace\u001b[0m\u001b[0;34m,\u001b[0m \u001b[0malert_text\u001b[0m\u001b[0;34m)\u001b[0m  \u001b[0;31m# type: ignore[call-arg]  # mypy is not smart enough here\u001b[0m\u001b[0;34m\u001b[0m\u001b[0;34m\u001b[0m\u001b[0m\n\u001b[0;32m--> 243\u001b[0;31m         \u001b[0;32mraise\u001b[0m \u001b[0mexception_class\u001b[0m\u001b[0;34m(\u001b[0m\u001b[0mmessage\u001b[0m\u001b[0;34m,\u001b[0m \u001b[0mscreen\u001b[0m\u001b[0;34m,\u001b[0m \u001b[0mstacktrace\u001b[0m\u001b[0;34m)\u001b[0m\u001b[0;34m\u001b[0m\u001b[0;34m\u001b[0m\u001b[0m\n\u001b[0m\u001b[1;32m    244\u001b[0m \u001b[0;34m\u001b[0m\u001b[0m\n",
      "\u001b[0;31mNoSuchWindowException\u001b[0m: Message: no such window: window was already closed\n  (Session info: chrome=96.0.4664.55)\nStacktrace:\n0   chromedriver                        0x000000010e0fdff9 __gxx_personality_v0 + 584201\n1   chromedriver                        0x000000010e089403 __gxx_personality_v0 + 106003\n2   chromedriver                        0x000000010dc45e38 chromedriver + 171576\n3   chromedriver                        0x000000010dc35a95 chromedriver + 105109\n4   chromedriver                        0x000000010dc36f42 chromedriver + 110402\n5   chromedriver                        0x000000010dc2fc22 chromedriver + 80930\n6   chromedriver                        0x000000010dc472c3 chromedriver + 176835\n7   chromedriver                        0x000000010dcaac7c chromedriver + 584828\n8   chromedriver                        0x000000010dc98d63 chromedriver + 511331\n9   chromedriver                        0x000000010dc6e82e chromedriver + 337966\n10  chromedriver                        0x000000010dc6fb65 chromedriver + 342885\n11  chromedriver                        0x000000010e0b9f1b __gxx_personality_v0 + 305451\n12  chromedriver                        0x000000010e0d0e23 __gxx_personality_v0 + 399411\n13  chromedriver                        0x000000010e0d68df __gxx_personality_v0 + 422639\n14  chromedriver                        0x000000010e0d217a __gxx_personality_v0 + 404362\n15  chromedriver                        0x000000010e0ae541 __gxx_personality_v0 + 257873\n16  chromedriver                        0x000000010e0edf28 __gxx_personality_v0 + 518456\n17  chromedriver                        0x000000010e0ee0b1 __gxx_personality_v0 + 518849\n18  chromedriver                        0x000000010e105498 __gxx_personality_v0 + 614056\n19  libsystem_pthread.dylib             0x00007fffacecd93b _pthread_body + 180\n20  libsystem_pthread.dylib             0x00007fffacecd887 _pthread_body + 0\n21  libsystem_pthread.dylib             0x00007fffacecd08d thread_start + 13\n",
      "\nDuring handling of the above exception, another exception occurred:\n",
      "\u001b[0;31mNoSuchWindowException\u001b[0m                     Traceback (most recent call last)",
      "\u001b[0;32m<ipython-input-6-2957fde2a8eb>\u001b[0m in \u001b[0;36m<module>\u001b[0;34m\u001b[0m\n\u001b[1;32m     74\u001b[0m \u001b[0;34m\u001b[0m\u001b[0m\n\u001b[1;32m     75\u001b[0m     \u001b[0;32mexcept\u001b[0m\u001b[0;34m:\u001b[0m\u001b[0;34m\u001b[0m\u001b[0;34m\u001b[0m\u001b[0m\n\u001b[0;32m---> 76\u001b[0;31m         \u001b[0mdriver\u001b[0m\u001b[0;34m.\u001b[0m\u001b[0mfind_element_by_css_selector\u001b[0m\u001b[0;34m(\u001b[0m\u001b[0;34m'body > div._2dDPU.QPGbb.CkGkG > div.EfHg9 > div > div > div.l8mY4.feth3 > button'\u001b[0m\u001b[0;34m)\u001b[0m\u001b[0;34m.\u001b[0m\u001b[0mclick\u001b[0m\u001b[0;34m(\u001b[0m\u001b[0;34m)\u001b[0m\u001b[0;34m\u001b[0m\u001b[0;34m\u001b[0m\u001b[0m\n\u001b[0m\u001b[1;32m     77\u001b[0m         \u001b[0mtime\u001b[0m\u001b[0;34m.\u001b[0m\u001b[0msleep\u001b[0m\u001b[0;34m(\u001b[0m\u001b[0;36m3.6\u001b[0m\u001b[0;34m)\u001b[0m\u001b[0;34m\u001b[0m\u001b[0;34m\u001b[0m\u001b[0m\n",
      "\u001b[0;32m/Library/Frameworks/Python.framework/Versions/3.9/lib/python3.9/site-packages/selenium/webdriver/remote/webdriver.py\u001b[0m in \u001b[0;36mfind_element_by_css_selector\u001b[0;34m(self, css_selector)\u001b[0m\n\u001b[1;32m    800\u001b[0m             \u001b[0mstacklevel\u001b[0m\u001b[0;34m=\u001b[0m\u001b[0;36m2\u001b[0m\u001b[0;34m,\u001b[0m\u001b[0;34m\u001b[0m\u001b[0;34m\u001b[0m\u001b[0m\n\u001b[1;32m    801\u001b[0m         )\n\u001b[0;32m--> 802\u001b[0;31m         \u001b[0;32mreturn\u001b[0m \u001b[0mself\u001b[0m\u001b[0;34m.\u001b[0m\u001b[0mfind_element\u001b[0m\u001b[0;34m(\u001b[0m\u001b[0mby\u001b[0m\u001b[0;34m=\u001b[0m\u001b[0mBy\u001b[0m\u001b[0;34m.\u001b[0m\u001b[0mCSS_SELECTOR\u001b[0m\u001b[0;34m,\u001b[0m \u001b[0mvalue\u001b[0m\u001b[0;34m=\u001b[0m\u001b[0mcss_selector\u001b[0m\u001b[0;34m)\u001b[0m\u001b[0;34m\u001b[0m\u001b[0;34m\u001b[0m\u001b[0m\n\u001b[0m\u001b[1;32m    803\u001b[0m \u001b[0;34m\u001b[0m\u001b[0m\n\u001b[1;32m    804\u001b[0m     \u001b[0;32mdef\u001b[0m \u001b[0mfind_elements_by_css_selector\u001b[0m\u001b[0;34m(\u001b[0m\u001b[0mself\u001b[0m\u001b[0;34m,\u001b[0m \u001b[0mcss_selector\u001b[0m\u001b[0;34m)\u001b[0m \u001b[0;34m->\u001b[0m \u001b[0mWebElement\u001b[0m\u001b[0;34m:\u001b[0m\u001b[0;34m\u001b[0m\u001b[0;34m\u001b[0m\u001b[0m\n",
      "\u001b[0;32m/Library/Frameworks/Python.framework/Versions/3.9/lib/python3.9/site-packages/selenium/webdriver/remote/webdriver.py\u001b[0m in \u001b[0;36mfind_element\u001b[0;34m(self, by, value)\u001b[0m\n\u001b[1;32m   1236\u001b[0m             \u001b[0mvalue\u001b[0m \u001b[0;34m=\u001b[0m \u001b[0;34m'[name=\"%s\"]'\u001b[0m \u001b[0;34m%\u001b[0m \u001b[0mvalue\u001b[0m\u001b[0;34m\u001b[0m\u001b[0;34m\u001b[0m\u001b[0m\n\u001b[1;32m   1237\u001b[0m \u001b[0;34m\u001b[0m\u001b[0m\n\u001b[0;32m-> 1238\u001b[0;31m         return self.execute(Command.FIND_ELEMENT, {\n\u001b[0m\u001b[1;32m   1239\u001b[0m             \u001b[0;34m'using'\u001b[0m\u001b[0;34m:\u001b[0m \u001b[0mby\u001b[0m\u001b[0;34m,\u001b[0m\u001b[0;34m\u001b[0m\u001b[0;34m\u001b[0m\u001b[0m\n\u001b[1;32m   1240\u001b[0m             'value': value})['value']\n",
      "\u001b[0;32m/Library/Frameworks/Python.framework/Versions/3.9/lib/python3.9/site-packages/selenium/webdriver/remote/webdriver.py\u001b[0m in \u001b[0;36mexecute\u001b[0;34m(self, driver_command, params)\u001b[0m\n\u001b[1;32m    416\u001b[0m         \u001b[0mresponse\u001b[0m \u001b[0;34m=\u001b[0m \u001b[0mself\u001b[0m\u001b[0;34m.\u001b[0m\u001b[0mcommand_executor\u001b[0m\u001b[0;34m.\u001b[0m\u001b[0mexecute\u001b[0m\u001b[0;34m(\u001b[0m\u001b[0mdriver_command\u001b[0m\u001b[0;34m,\u001b[0m \u001b[0mparams\u001b[0m\u001b[0;34m)\u001b[0m\u001b[0;34m\u001b[0m\u001b[0;34m\u001b[0m\u001b[0m\n\u001b[1;32m    417\u001b[0m         \u001b[0;32mif\u001b[0m \u001b[0mresponse\u001b[0m\u001b[0;34m:\u001b[0m\u001b[0;34m\u001b[0m\u001b[0;34m\u001b[0m\u001b[0m\n\u001b[0;32m--> 418\u001b[0;31m             \u001b[0mself\u001b[0m\u001b[0;34m.\u001b[0m\u001b[0merror_handler\u001b[0m\u001b[0;34m.\u001b[0m\u001b[0mcheck_response\u001b[0m\u001b[0;34m(\u001b[0m\u001b[0mresponse\u001b[0m\u001b[0;34m)\u001b[0m\u001b[0;34m\u001b[0m\u001b[0;34m\u001b[0m\u001b[0m\n\u001b[0m\u001b[1;32m    419\u001b[0m             response['value'] = self._unwrap_value(\n\u001b[1;32m    420\u001b[0m                 response.get('value', None))\n",
      "\u001b[0;32m/Library/Frameworks/Python.framework/Versions/3.9/lib/python3.9/site-packages/selenium/webdriver/remote/errorhandler.py\u001b[0m in \u001b[0;36mcheck_response\u001b[0;34m(self, response)\u001b[0m\n\u001b[1;32m    241\u001b[0m                 \u001b[0malert_text\u001b[0m \u001b[0;34m=\u001b[0m \u001b[0mvalue\u001b[0m\u001b[0;34m[\u001b[0m\u001b[0;34m'alert'\u001b[0m\u001b[0;34m]\u001b[0m\u001b[0;34m.\u001b[0m\u001b[0mget\u001b[0m\u001b[0;34m(\u001b[0m\u001b[0;34m'text'\u001b[0m\u001b[0;34m)\u001b[0m\u001b[0;34m\u001b[0m\u001b[0;34m\u001b[0m\u001b[0m\n\u001b[1;32m    242\u001b[0m             \u001b[0;32mraise\u001b[0m \u001b[0mexception_class\u001b[0m\u001b[0;34m(\u001b[0m\u001b[0mmessage\u001b[0m\u001b[0;34m,\u001b[0m \u001b[0mscreen\u001b[0m\u001b[0;34m,\u001b[0m \u001b[0mstacktrace\u001b[0m\u001b[0;34m,\u001b[0m \u001b[0malert_text\u001b[0m\u001b[0;34m)\u001b[0m  \u001b[0;31m# type: ignore[call-arg]  # mypy is not smart enough here\u001b[0m\u001b[0;34m\u001b[0m\u001b[0;34m\u001b[0m\u001b[0m\n\u001b[0;32m--> 243\u001b[0;31m         \u001b[0;32mraise\u001b[0m \u001b[0mexception_class\u001b[0m\u001b[0;34m(\u001b[0m\u001b[0mmessage\u001b[0m\u001b[0;34m,\u001b[0m \u001b[0mscreen\u001b[0m\u001b[0;34m,\u001b[0m \u001b[0mstacktrace\u001b[0m\u001b[0;34m)\u001b[0m\u001b[0;34m\u001b[0m\u001b[0;34m\u001b[0m\u001b[0m\n\u001b[0m\u001b[1;32m    244\u001b[0m \u001b[0;34m\u001b[0m\u001b[0m\n\u001b[1;32m    245\u001b[0m     \u001b[0;32mdef\u001b[0m \u001b[0m_value_or_default\u001b[0m\u001b[0;34m(\u001b[0m\u001b[0mself\u001b[0m\u001b[0;34m,\u001b[0m \u001b[0mobj\u001b[0m\u001b[0;34m:\u001b[0m \u001b[0mMapping\u001b[0m\u001b[0;34m[\u001b[0m\u001b[0m_KT\u001b[0m\u001b[0;34m,\u001b[0m \u001b[0m_VT\u001b[0m\u001b[0;34m]\u001b[0m\u001b[0;34m,\u001b[0m \u001b[0mkey\u001b[0m\u001b[0;34m:\u001b[0m \u001b[0m_KT\u001b[0m\u001b[0;34m,\u001b[0m \u001b[0mdefault\u001b[0m\u001b[0;34m:\u001b[0m \u001b[0m_VT\u001b[0m\u001b[0;34m)\u001b[0m \u001b[0;34m->\u001b[0m \u001b[0m_VT\u001b[0m\u001b[0;34m:\u001b[0m\u001b[0;34m\u001b[0m\u001b[0;34m\u001b[0m\u001b[0m\n",
      "\u001b[0;31mNoSuchWindowException\u001b[0m: Message: no such window: window was already closed\n  (Session info: chrome=96.0.4664.55)\nStacktrace:\n0   chromedriver                        0x000000010e0fdff9 __gxx_personality_v0 + 584201\n1   chromedriver                        0x000000010e089403 __gxx_personality_v0 + 106003\n2   chromedriver                        0x000000010dc45e38 chromedriver + 171576\n3   chromedriver                        0x000000010dc35a95 chromedriver + 105109\n4   chromedriver                        0x000000010dc36f42 chromedriver + 110402\n5   chromedriver                        0x000000010dc2fc22 chromedriver + 80930\n6   chromedriver                        0x000000010dc472c3 chromedriver + 176835\n7   chromedriver                        0x000000010dcaac7c chromedriver + 584828\n8   chromedriver                        0x000000010dc98d63 chromedriver + 511331\n9   chromedriver                        0x000000010dc6e82e chromedriver + 337966\n10  chromedriver                        0x000000010dc6fb65 chromedriver + 342885\n11  chromedriver                        0x000000010e0b9f1b __gxx_personality_v0 + 305451\n12  chromedriver                        0x000000010e0d0e23 __gxx_personality_v0 + 399411\n13  chromedriver                        0x000000010e0d68df __gxx_personality_v0 + 422639\n14  chromedriver                        0x000000010e0d217a __gxx_personality_v0 + 404362\n15  chromedriver                        0x000000010e0ae541 __gxx_personality_v0 + 257873\n16  chromedriver                        0x000000010e0edf28 __gxx_personality_v0 + 518456\n17  chromedriver                        0x000000010e0ee0b1 __gxx_personality_v0 + 518849\n18  chromedriver                        0x000000010e105498 __gxx_personality_v0 + 614056\n19  libsystem_pthread.dylib             0x00007fffacecd93b _pthread_body + 180\n20  libsystem_pthread.dylib             0x00007fffacecd887 _pthread_body + 0\n21  libsystem_pthread.dylib             0x00007fffacecd08d thread_start + 13\n"
     ]
    }
   ],
   "source": [
    "seq = 0\n",
    "start = time.time()\n",
    " \n",
    "while True:\n",
    "    try:\n",
    "        if driver.find_element_by_css_selector('body > div._2dDPU.QPGbb.CkGkG > div.EfHg9 > div > div > div.l8mY4.feth3 > button'):\n",
    "            if seq % 20 == 0:\n",
    "                print('{}번째 수집 중'.format(seq), time.time() - start, sep = '\\t')\n",
    " \n",
    " \n",
    "            ## id 정보 수집\n",
    "            try:\n",
    "                info_id = driver.find_element_by_css_selector('h2._6lAjh').text\n",
    "                insta_dict['id'].append(info_id)\n",
    "            except:\n",
    "                info_id = driver.find_element_by_css_selector('div.C4VMK').text.split()[0]\n",
    "                insta_dict['id'].append(info_id)\n",
    " \n",
    " \n",
    "            ## 시간정보 수집 \n",
    "            time_raw = driver.find_element_by_css_selector('time.FH9sR.Nzb55')\n",
    "            time_info = pd.to_datetime(time_raw.get_attribute('datetime')).normalize()\n",
    "            insta_dict['date'].append(time_info)\n",
    " \n",
    "\n",
    "            ## like 정보 수집\n",
    "            try:\n",
    "                driver.find_element_by_css_selector('body > div._2dDPU.QPGbb.CkGkG > div._32yJO > div > article > div > div.HP0qD > div > div > div.eo2As > section.EDfFK.ygqzn > div > div > a > span')\n",
    "                like = driver.find_element_by_css_selector('body > div._2dDPU.QPGbb.CkGkG > div._32yJO > div > article > div > div.HP0qD > div > div > div.eo2As > section.EDfFK.ygqzn > div > div > a > span').text\n",
    "                insta_dict['like'].append(like)\n",
    "            except:\n",
    "                insta_dict['like'].append('영상')\n",
    " \n",
    " \n",
    "            ##text 정보수집\n",
    "            raw_info = driver.find_element_by_css_selector('div.C4VMK').text.split()\n",
    "            text = []\n",
    "            for i in range(len(raw_info)):\n",
    "                ## 첫번째 text는 아이디니까 제외 \n",
    "                if i == 0:\n",
    "                    pass\n",
    "                ## 두번째부터 시작 \n",
    "                else:\n",
    "                    if '#' in raw_info[i]:\n",
    "                        pass\n",
    "                    else:\n",
    "                        text.append(raw_info[i])\n",
    "            clean_text = ' '.join(text)\n",
    "            insta_dict['text'].append(clean_text)\n",
    " \n",
    "\n",
    "            ##hashtag 수집\n",
    "            raw_tags = driver.find_elements_by_css_selector('a.xil3i')\n",
    "            hash_tag = []\n",
    "            for i in range(len(raw_tags)):\n",
    "                if raw_tags[i].text == '':\n",
    "                    pass\n",
    "                else:\n",
    "                    hash_tag.append(raw_tags[i].text)\n",
    " \n",
    "            insta_dict['hashtag'].append(hash_tag)\n",
    " \n",
    "            seq += 1\n",
    " \n",
    "            if seq == 1000:\n",
    "                break\n",
    " \n",
    "            driver.find_element_by_css_selector('body > div._2dDPU.QPGbb.CkGkG > div.EfHg9 > div > div > div.l8mY4.feth3 > button').click()\n",
    "            time.sleep(3.7)\n",
    "            \n",
    " \n",
    "        else:\n",
    "            break\n",
    "            \n",
    "    except:\n",
    "        driver.find_element_by_css_selector('body > div._2dDPU.QPGbb.CkGkG > div.EfHg9 > div > div > div.l8mY4.feth3 > button').click()\n",
    "        time.sleep(3.6)"
   ]
  },
  {
   "cell_type": "code",
   "execution_count": 7,
   "id": "endangered-behavior",
   "metadata": {},
   "outputs": [],
   "source": [
    "test = pd.DataFrame.from_dict(insta_dict)"
   ]
  },
  {
   "cell_type": "code",
   "execution_count": 13,
   "id": "mathematical-sheffield",
   "metadata": {
    "scrolled": false
   },
   "outputs": [
    {
     "data": {
      "text/html": [
       "<div>\n",
       "<style scoped>\n",
       "    .dataframe tbody tr th:only-of-type {\n",
       "        vertical-align: middle;\n",
       "    }\n",
       "\n",
       "    .dataframe tbody tr th {\n",
       "        vertical-align: top;\n",
       "    }\n",
       "\n",
       "    .dataframe thead th {\n",
       "        text-align: right;\n",
       "    }\n",
       "</style>\n",
       "<table border=\"1\" class=\"dataframe\">\n",
       "  <thead>\n",
       "    <tr style=\"text-align: right;\">\n",
       "      <th></th>\n",
       "      <th>id</th>\n",
       "      <th>date</th>\n",
       "      <th>like</th>\n",
       "      <th>text</th>\n",
       "      <th>hashtag</th>\n",
       "    </tr>\n",
       "  </thead>\n",
       "  <tbody>\n",
       "    <tr>\n",
       "      <th>0</th>\n",
       "      <td>sy__seok</td>\n",
       "      <td>2021-11-24 00:00:00+00:00</td>\n",
       "      <td>391</td>\n",
       "      <td>. ⛰100 + 우두산 리뷰 . 📸 insta by. @sy__seok . 👩‍👩‍...</td>\n",
       "      <td>[#영석한_백패킹_, #영석한_]</td>\n",
       "    </tr>\n",
       "    <tr>\n",
       "      <th>1</th>\n",
       "      <td>sungsi__</td>\n",
       "      <td>2021-11-24 00:00:00+00:00</td>\n",
       "      <td>357</td>\n",
       "      <td>- 북한산 백운대 피드 마무리💫 백운대 쪽 넓은 바위 평지가 있어 편안하게 쉴수 있...</td>\n",
       "      <td>[]</td>\n",
       "    </tr>\n",
       "    <tr>\n",
       "      <th>2</th>\n",
       "      <td>lee.hyun.choul</td>\n",
       "      <td>2021-11-23 00:00:00+00:00</td>\n",
       "      <td>439</td>\n",
       "      <td>눈온다며?😡 11시간</td>\n",
       "      <td>[#구라청, #술만퍼먹, #수요팅, #제천, #단양, #구담봉, #월악산, #춥다,...</td>\n",
       "    </tr>\n",
       "    <tr>\n",
       "      <th>3</th>\n",
       "      <td>at_francfranc</td>\n",
       "      <td>2021-11-24 00:00:00+00:00</td>\n",
       "      <td>277</td>\n",
       "      <td>날씨가 많이 추워졌어요. 올해는 기후변동이 예고없이 들쑥날쑥이라 감기안걸리게 단단히...</td>\n",
       "      <td>[#핸드메이드, #퀼트패키지, #프랑프랑아뜰리에, #퀼트샵, #리본자수, #실크리본...</td>\n",
       "    </tr>\n",
       "    <tr>\n",
       "      <th>4</th>\n",
       "      <td>_juuunyy</td>\n",
       "      <td>2021-11-23 00:00:00+00:00</td>\n",
       "      <td>205</td>\n",
       "      <td>오늘도 너만 보고 왔어 탈거 전 숙제 완료+저번에 못 찍은 빨강이 두개 🟣x1 🔴x...</td>\n",
       "      <td>[#더클라임홍대, #클라이밍, #볼더링, #운동, #취미, #더클라임, #lv보라,...</td>\n",
       "    </tr>\n",
       "    <tr>\n",
       "      <th>...</th>\n",
       "      <td>...</td>\n",
       "      <td>...</td>\n",
       "      <td>...</td>\n",
       "      <td>...</td>\n",
       "      <td>...</td>\n",
       "    </tr>\n",
       "    <tr>\n",
       "      <th>640</th>\n",
       "      <td>spoorin_g</td>\n",
       "      <td>2021-11-24 00:00:00+00:00</td>\n",
       "      <td>30</td>\n",
       "      <td>포근끼리 2시간</td>\n",
       "      <td>[#그림, #일러스트, #그림스타그램, #드로잉, #낙서, #일상, #일러스트그램,...</td>\n",
       "    </tr>\n",
       "    <tr>\n",
       "      <th>641</th>\n",
       "      <td>songhawoodcraft_official</td>\n",
       "      <td>2021-11-24 00:00:00+00:00</td>\n",
       "      <td>2</td>\n",
       "      <td>캄포 도마재 입고. 수많은 샌딩과 노력을 통해 멋진 트레이로 거듭날듯... 2시간</td>\n",
       "      <td>[#목공방, #캄포, #도마, #트레이, #황동손잡이, #샌딩, #목공예체험활동, ...</td>\n",
       "    </tr>\n",
       "    <tr>\n",
       "      <th>642</th>\n",
       "      <td>lab_jl</td>\n",
       "      <td>2021-11-24 00:00:00+00:00</td>\n",
       "      <td>41</td>\n",
       "      <td>_ 처음부터 다 잘되면 재미가 있을까요? 저도 처음 프리다이빙을 배웠을 땐 압력평형...</td>\n",
       "      <td>[#프리다이빙, #프리다이빙강사, #프리다이빙강습, #프리다이브랩, #운동하는남자,...</td>\n",
       "    </tr>\n",
       "    <tr>\n",
       "      <th>643</th>\n",
       "      <td>yh_3553.1</td>\n",
       "      <td>2021-11-24 00:00:00+00:00</td>\n",
       "      <td>7</td>\n",
       "      <td>승천보 다리를 걷다가 조명사이로 전해져 오는 빛. 2시간</td>\n",
       "      <td>[#승촌보, #승촌보캠핑장, #나주승촌보, #광산구, #광주근교, #오토캠핑장, #...</td>\n",
       "    </tr>\n",
       "    <tr>\n",
       "      <th>644</th>\n",
       "      <td>myselfdrawing__</td>\n",
       "      <td>2021-11-24 00:00:00+00:00</td>\n",
       "      <td>16</td>\n",
       "      <td>_ Even if others leave you, I will not leave, ...</td>\n",
       "      <td>[#글, #그림, #loveispower, #drawing, #art, #그림, #...</td>\n",
       "    </tr>\n",
       "  </tbody>\n",
       "</table>\n",
       "<p>645 rows × 5 columns</p>\n",
       "</div>"
      ],
      "text/plain": [
       "                           id                      date like  \\\n",
       "0                    sy__seok 2021-11-24 00:00:00+00:00  391   \n",
       "1                    sungsi__ 2021-11-24 00:00:00+00:00  357   \n",
       "2              lee.hyun.choul 2021-11-23 00:00:00+00:00  439   \n",
       "3               at_francfranc 2021-11-24 00:00:00+00:00  277   \n",
       "4                    _juuunyy 2021-11-23 00:00:00+00:00  205   \n",
       "..                        ...                       ...  ...   \n",
       "640                 spoorin_g 2021-11-24 00:00:00+00:00   30   \n",
       "641  songhawoodcraft_official 2021-11-24 00:00:00+00:00    2   \n",
       "642                    lab_jl 2021-11-24 00:00:00+00:00   41   \n",
       "643                 yh_3553.1 2021-11-24 00:00:00+00:00    7   \n",
       "644           myselfdrawing__ 2021-11-24 00:00:00+00:00   16   \n",
       "\n",
       "                                                  text  \\\n",
       "0    . ⛰100 + 우두산 리뷰 . 📸 insta by. @sy__seok . 👩‍👩‍...   \n",
       "1    - 북한산 백운대 피드 마무리💫 백운대 쪽 넓은 바위 평지가 있어 편안하게 쉴수 있...   \n",
       "2                                          눈온다며?😡 11시간   \n",
       "3    날씨가 많이 추워졌어요. 올해는 기후변동이 예고없이 들쑥날쑥이라 감기안걸리게 단단히...   \n",
       "4    오늘도 너만 보고 왔어 탈거 전 숙제 완료+저번에 못 찍은 빨강이 두개 🟣x1 🔴x...   \n",
       "..                                                 ...   \n",
       "640                                           포근끼리 2시간   \n",
       "641      캄포 도마재 입고. 수많은 샌딩과 노력을 통해 멋진 트레이로 거듭날듯... 2시간   \n",
       "642  _ 처음부터 다 잘되면 재미가 있을까요? 저도 처음 프리다이빙을 배웠을 땐 압력평형...   \n",
       "643                    승천보 다리를 걷다가 조명사이로 전해져 오는 빛. 2시간   \n",
       "644  _ Even if others leave you, I will not leave, ...   \n",
       "\n",
       "                                               hashtag  \n",
       "0                                   [#영석한_백패킹_, #영석한_]  \n",
       "1                                                   []  \n",
       "2    [#구라청, #술만퍼먹, #수요팅, #제천, #단양, #구담봉, #월악산, #춥다,...  \n",
       "3    [#핸드메이드, #퀼트패키지, #프랑프랑아뜰리에, #퀼트샵, #리본자수, #실크리본...  \n",
       "4    [#더클라임홍대, #클라이밍, #볼더링, #운동, #취미, #더클라임, #lv보라,...  \n",
       "..                                                 ...  \n",
       "640  [#그림, #일러스트, #그림스타그램, #드로잉, #낙서, #일상, #일러스트그램,...  \n",
       "641  [#목공방, #캄포, #도마, #트레이, #황동손잡이, #샌딩, #목공예체험활동, ...  \n",
       "642  [#프리다이빙, #프리다이빙강사, #프리다이빙강습, #프리다이브랩, #운동하는남자,...  \n",
       "643  [#승촌보, #승촌보캠핑장, #나주승촌보, #광산구, #광주근교, #오토캠핑장, #...  \n",
       "644  [#글, #그림, #loveispower, #drawing, #art, #그림, #...  \n",
       "\n",
       "[645 rows x 5 columns]"
      ]
     },
     "execution_count": 13,
     "metadata": {},
     "output_type": "execute_result"
    }
   ],
   "source": [
    "test.head(645)"
   ]
  },
  {
   "cell_type": "code",
   "execution_count": 7,
   "id": "continent-drove",
   "metadata": {},
   "outputs": [
    {
     "ename": "NameError",
     "evalue": "name 'test' is not defined",
     "output_type": "error",
     "traceback": [
      "\u001b[0;31m---------------------------------------------------------------------------\u001b[0m",
      "\u001b[0;31mNameError\u001b[0m                                 Traceback (most recent call last)",
      "\u001b[0;32m<ipython-input-7-2c348f42a65e>\u001b[0m in \u001b[0;36m<module>\u001b[0;34m\u001b[0m\n\u001b[0;32m----> 1\u001b[0;31m \u001b[0mtest\u001b[0m\u001b[0;34m.\u001b[0m\u001b[0mhashtag\u001b[0m\u001b[0;34m\u001b[0m\u001b[0;34m\u001b[0m\u001b[0m\n\u001b[0m",
      "\u001b[0;31mNameError\u001b[0m: name 'test' is not defined"
     ]
    }
   ],
   "source": [
    "test.hashtag"
   ]
  },
  {
   "cell_type": "code",
   "execution_count": null,
   "id": "prepared-sessions",
   "metadata": {},
   "outputs": [],
   "source": [
    "##### 여기 밑에는 아님"
   ]
  },
  {
   "cell_type": "code",
   "execution_count": null,
   "id": "selected-hawaiian",
   "metadata": {},
   "outputs": [],
   "source": [
    "def get_content(driver):\n",
    "\n",
    "    # 현재글 html 정보 가져오기\n",
    "    html = driver.page_source\n",
    "    soup = BeautifulSoup(html, 'lxml')\n",
    "\n",
    "\n",
    "    # 본문 내용 가져오기 / 본문이 없을때는 예외 처리\n",
    "    try:\n",
    "        content = soup.select('div.C4VMK > span')[0].text\n",
    "    except:\n",
    "        content = ''\n",
    "\n",
    "\n",
    "    # 해쉬 태그\n",
    "    tags = re.findall(r'#[^\\s#,\\\\]+', content)  \n",
    "\n",
    "    \n",
    "    #  작성일자 정보\n",
    "    date = soup.select('time._1o9PC.Nzb55')[0]['datetime'][:10]\n",
    "\n",
    "    \n",
    "    #  좋아요 수\n",
    "    try:\n",
    "        like = soup.select('div.Nm9Fw > button')[0].text[4:-1]   \n",
    "    except:\n",
    "        like = 0\n",
    "     \n",
    "    \n",
    "    # 위치정보\n",
    "    try: \n",
    "        place = soup.select('div.M30cS')[0].text\n",
    "    except:\n",
    "        place = ''\n",
    "        \n",
    "        \n",
    "    # 저장하기\n",
    "    data = [content, date, like, place, tags]\n",
    "    return data\n",
    "\n",
    "get_content(driver)"
   ]
  },
  {
   "cell_type": "code",
   "execution_count": null,
   "id": "pursuant-gallery",
   "metadata": {},
   "outputs": [],
   "source": [
    "def next_page(driver):\n",
    "    next_page = driver.find_element_by_css_selector('body > div._2dDPU.QPGbb.CkGkG > div.EfHg9 > div > div > div > button')\n",
    "    next_page.click()\n",
    "    time.sleep(3)\n",
    "    \n",
    "next_page(driver)"
   ]
  },
  {
   "cell_type": "code",
   "execution_count": null,
   "id": "strategic-routine",
   "metadata": {},
   "outputs": [],
   "source": [
    "# 판다스화\n",
    "result_df = pd.DataFrame.from_dict(dict, 'index')\n",
    "result_df\n",
    "\n",
    "# 엑셀 저장\n",
    "result_df.to_excel(\"naver_blog_content.xlsx\", encoding='utf-8-sig')"
   ]
  }
 ],
 "metadata": {
  "kernelspec": {
   "display_name": "Python 3",
   "language": "python",
   "name": "python3"
  },
  "language_info": {
   "codemirror_mode": {
    "name": "ipython",
    "version": 3
   },
   "file_extension": ".py",
   "mimetype": "text/x-python",
   "name": "python",
   "nbconvert_exporter": "python",
   "pygments_lexer": "ipython3",
   "version": "3.9.2"
  }
 },
 "nbformat": 4,
 "nbformat_minor": 5
}
